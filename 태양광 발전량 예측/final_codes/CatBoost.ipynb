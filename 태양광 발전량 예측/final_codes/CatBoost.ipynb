{
  "nbformat": 4,
  "nbformat_minor": 0,
  "metadata": {
    "colab": {
      "name": "DACON(태양광)_CatBoost.ipynb",
      "provenance": []
    },
    "kernelspec": {
      "display_name": "Python 3",
      "name": "python3"
    }
  },
  "cells": [
    {
      "cell_type": "markdown",
      "metadata": {
        "id": "zwwpf_IkYMjI"
      },
      "source": [
        "# 1. Data & Library"
      ]
    },
    {
      "cell_type": "code",
      "metadata": {
        "id": "yMN0qM2Gibio",
        "colab": {
          "base_uri": "https://localhost:8080/"
        },
        "outputId": "5f834747-7e1b-45f3-fe09-a608d540d659"
      },
      "source": [
        "!pip install bayesian-optimization\r\n",
        "!pip install catboost\r\n",
        "\r\n",
        "# 연산\r\n",
        "import numpy as np\r\n",
        "import pandas as pd\r\n",
        "\r\n",
        "# 기타\r\n",
        "import random\r\n",
        "import os\r\n",
        "import glob\r\n",
        "import warnings\r\n",
        "warnings.filterwarnings(\"ignore\")\r\n",
        "\r\n",
        "# 계층적 샘플링\r\n",
        "from sklearn.preprocessing import LabelEncoder\r\n",
        "from sklearn.utils.multiclass import type_of_target\r\n",
        "from sklearn.model_selection import StratifiedKFold\r\n",
        "\r\n",
        "# 모델링\r\n",
        "from bayes_opt import BayesianOptimization\r\n",
        "from catboost import CatBoostRegressor"
      ],
      "execution_count": null,
      "outputs": [
        {
          "output_type": "stream",
          "text": [
            "Collecting bayesian-optimization\n",
            "  Downloading https://files.pythonhosted.org/packages/bb/7a/fd8059a3881d3ab37ac8f72f56b73937a14e8bb14a9733e68cc8b17dbe3c/bayesian-optimization-1.2.0.tar.gz\n",
            "Requirement already satisfied: numpy>=1.9.0 in /usr/local/lib/python3.7/dist-packages (from bayesian-optimization) (1.19.5)\n",
            "Requirement already satisfied: scipy>=0.14.0 in /usr/local/lib/python3.7/dist-packages (from bayesian-optimization) (1.4.1)\n",
            "Requirement already satisfied: scikit-learn>=0.18.0 in /usr/local/lib/python3.7/dist-packages (from bayesian-optimization) (0.22.2.post1)\n",
            "Requirement already satisfied: joblib>=0.11 in /usr/local/lib/python3.7/dist-packages (from scikit-learn>=0.18.0->bayesian-optimization) (1.0.1)\n",
            "Building wheels for collected packages: bayesian-optimization\n",
            "  Building wheel for bayesian-optimization (setup.py) ... \u001b[?25l\u001b[?25hdone\n",
            "  Created wheel for bayesian-optimization: filename=bayesian_optimization-1.2.0-cp37-none-any.whl size=11687 sha256=e9df75649ab474a444214c834a9c76f5644f94db79dc842557177debae44935e\n",
            "  Stored in directory: /root/.cache/pip/wheels/5a/56/ae/e0e3c1fc1954dc3ec712e2df547235ed072b448094d8f94aec\n",
            "Successfully built bayesian-optimization\n",
            "Installing collected packages: bayesian-optimization\n",
            "Successfully installed bayesian-optimization-1.2.0\n",
            "Collecting catboost\n",
            "\u001b[?25l  Downloading https://files.pythonhosted.org/packages/96/3b/bb419654adcf7efff42ed8a3f84e50c8f236424b7ed1cc8ccd290852e003/catboost-0.24.4-cp37-none-manylinux1_x86_64.whl (65.7MB)\n",
            "\u001b[K     |████████████████████████████████| 65.7MB 58kB/s \n",
            "\u001b[?25hRequirement already satisfied: matplotlib in /usr/local/lib/python3.7/dist-packages (from catboost) (3.2.2)\n",
            "Requirement already satisfied: six in /usr/local/lib/python3.7/dist-packages (from catboost) (1.15.0)\n",
            "Requirement already satisfied: plotly in /usr/local/lib/python3.7/dist-packages (from catboost) (4.4.1)\n",
            "Requirement already satisfied: numpy>=1.16.0 in /usr/local/lib/python3.7/dist-packages (from catboost) (1.19.5)\n",
            "Requirement already satisfied: scipy in /usr/local/lib/python3.7/dist-packages (from catboost) (1.4.1)\n",
            "Requirement already satisfied: graphviz in /usr/local/lib/python3.7/dist-packages (from catboost) (0.10.1)\n",
            "Requirement already satisfied: pandas>=0.24.0 in /usr/local/lib/python3.7/dist-packages (from catboost) (1.1.5)\n",
            "Requirement already satisfied: kiwisolver>=1.0.1 in /usr/local/lib/python3.7/dist-packages (from matplotlib->catboost) (1.3.1)\n",
            "Requirement already satisfied: cycler>=0.10 in /usr/local/lib/python3.7/dist-packages (from matplotlib->catboost) (0.10.0)\n",
            "Requirement already satisfied: pyparsing!=2.0.4,!=2.1.2,!=2.1.6,>=2.0.1 in /usr/local/lib/python3.7/dist-packages (from matplotlib->catboost) (2.4.7)\n",
            "Requirement already satisfied: python-dateutil>=2.1 in /usr/local/lib/python3.7/dist-packages (from matplotlib->catboost) (2.8.1)\n",
            "Requirement already satisfied: retrying>=1.3.3 in /usr/local/lib/python3.7/dist-packages (from plotly->catboost) (1.3.3)\n",
            "Requirement already satisfied: pytz>=2017.2 in /usr/local/lib/python3.7/dist-packages (from pandas>=0.24.0->catboost) (2018.9)\n",
            "Installing collected packages: catboost\n",
            "Successfully installed catboost-0.24.4\n"
          ],
          "name": "stdout"
        }
      ]
    },
    {
      "cell_type": "code",
      "metadata": {
        "colab": {
          "base_uri": "https://localhost:8080/"
        },
        "id": "i-Q1558xYWw3",
        "outputId": "21bc149d-bc91-40fa-9917-2d784df592af"
      },
      "source": [
        "train_df = pd.read_csv('/content/drive/MyDrive/DACON/태양광/재구조화/train_재구조화')\r\n",
        "test_df = pd.read_csv('/content/drive/MyDrive/DACON/태양광/재구조화/test_재구조화')\r\n",
        "print(f'train shape: {train_df.shape} \\ntest shape:  {test_df.shape}')"
      ],
      "execution_count": null,
      "outputs": [
        {
          "output_type": "stream",
          "text": [
            "train shape: (52176, 192) \n",
            "test shape:  (3888, 190)\n"
          ],
          "name": "stdout"
        }
      ]
    },
    {
      "cell_type": "markdown",
      "metadata": {
        "id": "IXAZzi6EYexn"
      },
      "source": [
        "# 2. Stratified Sampling \r\n",
        "\r\n",
        "* submission 제출 시에는 TARGET 1,2에 대해서 모두 계층적 샘플링을 진행\r\n",
        "* 중복되는 부분을 제외하기 위해 편의상 TARGET 1에 대해서만 코드가 존재"
      ]
    },
    {
      "cell_type": "markdown",
      "metadata": {
        "id": "vj0XA1lFb8Rl"
      },
      "source": [
        "## TARGET 1"
      ]
    },
    {
      "cell_type": "code",
      "metadata": {
        "colab": {
          "base_uri": "https://localhost:8080/"
        },
        "id": "eMnEh0HnUSLQ",
        "outputId": "bea12adb-fce9-4d8c-d460-96a91f07c887"
      },
      "source": [
        "# TARGET을 기준으로 계층적 샘플링을 하기 위해\r\n",
        "def target_scaler(x):\r\n",
        "  for i in range(200):\r\n",
        "    if (x>i) & (x<=i+1):\r\n",
        "      return i\r\n",
        "    elif x==0:\r\n",
        "      return 0\r\n",
        "\r\n",
        "train_df['TARGET_day7_cata']=train_df['TARGET_day7'].apply(target_scaler)\r\n",
        "# train_df['TARGET_day7_cata'].unique()\r\n",
        "# array([ 0,  7, 15, 23, 30, 36, 41, 45, 48, 49, 47, 43, 39, 33, 26, 19, 10,\r\n",
        "#        3,  8, 12, 17, 20, 28, 29, 44, 11,  4, 16, 25, 37, 38,  1,  5,  6,\r\n",
        "#       14, 40, 32,  9,  2, 27, 22, 35, 34, 18, 13, 24, 31, 50, 51, 46, 21,\r\n",
        "#       52, 42, 53, 55, 56, 54, 57, 59, 58, 60, 61, 62, 64, 63, 67, 68, 66,\r\n",
        "#       65, 69, 71, 70, 72, 75, 76, 74, 77, 78, 73, 80, 79, 82, 83, 81, 85,\r\n",
        "#       86, 84, 90, 91, 88, 89, 87, 92, 93, 94, 95, 96, 97, 98, 99])\r\n",
        "\r\n",
        "label_encoder = LabelEncoder()\r\n",
        "train_df.TARGET_day7_cata = label_encoder.fit_transform(train_df.TARGET_day7_cata)\r\n",
        "print(type_of_target(train_df.TARGET_day7_cata)) # type 확인\r\n",
        "\r\n",
        "# 연도별 앙상블을 위해 3년 데이터를 3분할\r\n",
        "train_df1=train_df.iloc[:48*365,:]\r\n",
        "train_df2=train_df.iloc[48*365:365*48*2,:]\r\n",
        "train_df3=train_df.iloc[365*48*2:,:]\r\n",
        "\r\n",
        "stf=StratifiedKFold(n_splits=5, shuffle=False, random_state=42)\r\n",
        "\r\n",
        "#마지막 fold를 사용, 사실 모든 fold를 활용해야 하지만 Bayesian Optimization과 LightGBM으로 qunatile loss를 metric으로 kFold를 구현하지 못해서 마지막 fold만 이용\r\n",
        "for train_index1,valid_index1 in stf.split(train_df1, train_df1.TARGET_day7_cata):\r\n",
        "  print(train_index1, valid_index1)\r\n",
        "\r\n",
        "for train_index2,valid_index2 in stf.split(train_df2, train_df2.TARGET_day7_cata):\r\n",
        "  print(train_index2, valid_index2)\r\n",
        "\r\n",
        "for train_index3,valid_index3 in stf.split(train_df3, train_df3.TARGET_day7_cata):\r\n",
        "  print(train_index3, valid_index3)"
      ],
      "execution_count": null,
      "outputs": [
        {
          "output_type": "stream",
          "text": [
            "multiclass\n",
            "[ 1997  2084  2089 ... 17517 17518 17519] [   0    1    2 ... 7077 7514 7558]\n",
            "[    0     1     2 ... 17517 17518 17519] [1997 2084 2089 ... 8707 8769 9055]\n",
            "[    0     1     2 ... 17517 17518 17519] [ 5402  5403  5680 ... 12353 12366 12416]\n",
            "[    0     1     2 ... 17517 17518 17519] [ 7272  7752  7798 ... 15719 15766 15910]\n",
            "[    0     1     2 ... 15719 15766 15910] [ 7800  7801  7945 ... 17517 17518 17519]\n",
            "[ 2235  2322  2465 ... 17517 17518 17519] [   0    1    2 ... 6887 6933 6981]\n",
            "[    0     1     2 ... 17517 17518 17519] [2235 2322 2465 ... 8844 8892 8940]\n",
            "[    0     1     2 ... 17517 17518 17519] [ 4493  4877  5068 ... 12687 12943 12983]\n",
            "[    0     1     2 ... 17517 17518 17519] [ 7422  7607  7656 ... 15957 16006 16153]\n",
            "[    0     1     2 ... 15957 16006 16153] [ 7608  7609  7657 ... 17517 17518 17519]\n",
            "[ 1611  1612  1702 ... 17133 17134 17135] [   0    1    2 ... 6411 6552 7367]\n",
            "[    0     1     2 ... 17133 17134 17135] [1611 1612 1702 ... 8817 8867 9036]\n",
            "[    0     1     2 ... 17133 17134 17135] [ 4825  4969  5156 ... 12065 12271 12319]\n",
            "[    0     1     2 ... 17133 17134 17135] [ 6213  6408  6744 ... 15426 15484 15522]\n",
            "[    0     1     2 ... 15426 15484 15522] [ 7512  7800  7896 ... 17133 17134 17135]\n"
          ],
          "name": "stdout"
        }
      ]
    },
    {
      "cell_type": "code",
      "metadata": {
        "colab": {
          "base_uri": "https://localhost:8080/"
        },
        "id": "JvHRdPgmc7xh",
        "outputId": "932e9a0f-59ca-442c-d8a8-1152d81332df"
      },
      "source": [
        "train_df2 = train_df2.reset_index(drop=True)\r\n",
        "train_df3 = train_df3.reset_index(drop=True)\r\n",
        "\r\n",
        "del train_df1['TARGET_day7_cata']\r\n",
        "del train_df2['TARGET_day7_cata']\r\n",
        "del train_df3['TARGET_day7_cata']\r\n",
        "\r\n",
        "X_train_1 = train_df1[train_df1.index.isin(train_index1)].drop(columns=['TARGET_day7','TARGET_day8'])\r\n",
        "Y_train_1 = train_df1[train_df1.index.isin(train_index1)]['TARGET_day7']\r\n",
        "X_valid_1 = train_df1[train_df1.index.isin(valid_index1)].drop(columns=['TARGET_day7','TARGET_day8'])\r\n",
        "Y_valid_1 = train_df1[train_df1.index.isin(valid_index1)]['TARGET_day7']\r\n",
        "\r\n",
        "X_train_2 = train_df2[train_df2.index.isin(train_index2)].drop(columns=['TARGET_day7','TARGET_day8'])\r\n",
        "Y_train_2 = train_df2[train_df2.index.isin(train_index2)]['TARGET_day7']\r\n",
        "X_valid_2 = train_df2[train_df2.index.isin(valid_index2)].drop(columns=['TARGET_day7','TARGET_day8'])\r\n",
        "Y_valid_2 = train_df2[train_df2.index.isin(valid_index2)]['TARGET_day7']\r\n",
        "\r\n",
        "X_train_3 = train_df3[train_df3.index.isin(train_index3)].drop(columns=['TARGET_day7','TARGET_day8'])\r\n",
        "Y_train_3 = train_df3[train_df3.index.isin(train_index3)]['TARGET_day7']\r\n",
        "X_valid_3 = train_df3[train_df3.index.isin(valid_index3)].drop(columns=['TARGET_day7','TARGET_day8'])\r\n",
        "Y_valid_3 = train_df3[train_df3.index.isin(valid_index3)]['TARGET_day7']\r\n",
        "\r\n",
        "print(X_train_1.shape, Y_train_1.shape, X_valid_1.shape, Y_valid_1.shape)\r\n",
        "print(X_train_2.shape, Y_train_2.shape, X_valid_2.shape, Y_valid_2.shape)\r\n",
        "print(X_train_3.shape, Y_train_3.shape, X_valid_3.shape, Y_valid_3.shape)"
      ],
      "execution_count": null,
      "outputs": [
        {
          "output_type": "stream",
          "text": [
            "(14016, 190) (14016,) (3504, 190) (3504,)\n",
            "(14016, 190) (14016,) (3504, 190) (3504,)\n",
            "(13709, 190) (13709,) (3427, 190) (3427,)\n"
          ],
          "name": "stdout"
        }
      ]
    },
    {
      "cell_type": "markdown",
      "metadata": {
        "id": "mpENsj4McQ4R"
      },
      "source": [
        "# 3. Bayesian Optimization & CatBoost\r\n",
        "\r\n",
        "* 제출 시에는 TARGET 1의 3년치 + TARGET 2의 3년치에 대해 모두 Bayesian Optimization & LightGBM 진행\r\n",
        "* 중복을 제외하기 위해 TARGET 1의 첫 연도 데이터에 대해서만 코드 존재"
      ]
    },
    {
      "cell_type": "markdown",
      "metadata": {
        "id": "8ecxR5D8dR9l"
      },
      "source": [
        "## TARGET 1"
      ]
    },
    {
      "cell_type": "markdown",
      "metadata": {
        "id": "B8wms7fldTbw"
      },
      "source": [
        "#### year 1"
      ]
    },
    {
      "cell_type": "code",
      "metadata": {
        "colab": {
          "base_uri": "https://localhost:8080/"
        },
        "id": "hjYnTqrwgANK",
        "outputId": "bfa66900-ab75-476f-ea41-32d8cca0006a"
      },
      "source": [
        "quantiles = [0.1, 0.2, 0.3, 0.4, 0.5 ,0.6, 0.7, 0.8, 0.9]\r\n",
        "\r\n",
        "for q in quantiles:\r\n",
        "  def catboost_quantile_loss(X_train, y_train, X_valid, y_valid, loss_function='Quantile:alpha={}'.format(q),\r\n",
        "                  iterations=500, learning_rate=0.05, depth=10, random_seed = 42,bagging_temperature = 0.2,\r\n",
        "                  od_type='Iter', metric_period = 50, od_wait=20,min_data_in_leaf=32\r\n",
        "                  ):\r\n",
        "    \r\n",
        "    \r\n",
        "    catmodel = CatBoostRegressor( \r\n",
        "    loss_function= loss_function,\r\n",
        "    iterations=iterations,\r\n",
        "    learning_rate=learning_rate,\r\n",
        "    depth=depth,\r\n",
        "    random_seed=random_seed,\r\n",
        "    bagging_temperature= bagging_temperature,\r\n",
        "    od_type=od_type,\r\n",
        "    metric_period=metric_period,\r\n",
        "    min_data_in_leaf = min_data_in_leaf,        \r\n",
        "    od_wait= 20,\r\n",
        "    verbose = 100\r\n",
        "    )\r\n",
        "\r\n",
        "    catmodel.fit(X_train,\r\n",
        "                 y_train,\r\n",
        "                 eval_set=(X_valid,y_valid),\r\n",
        "                 plot=False\r\n",
        "            )\r\n",
        "\r\n",
        "    predict = catmodel.predict(X_valid)\r\n",
        "    \r\n",
        "    best_quantile_loss_train = catmodel.best_score_['learn']['Quantile:alpha={}'.format(q)]\r\n",
        "    best_quantile_loss_valid = catmodel.best_score_['validation']['Quantile:alpha={}'.format(q)]\r\n",
        "        \r\n",
        "        \r\n",
        "    print('train_quantile_loss : {:.4f}, test_quantile_loss : {:.4f}'.format(best_quantile_loss_train, best_quantile_loss_valid))\r\n",
        "    \r\n",
        "    return - best_quantile_loss_valid\r\n",
        "\r\n",
        "  def optimize_catboost(X_train,y_train,X_valid,y_valid, param_probe=None) :\r\n",
        "    '''\r\n",
        "    return the optimizer  and output the best hyperparameters found\r\n",
        "    param_probe : dict of hyperparameters in order to guide the optimization\r\n",
        "    '''\r\n",
        "    def catboost_wrapper(learning_rate, depth, \r\n",
        "                         min_data_in_leaf, bagging_temperature,\r\n",
        "                         loss_function = 'Quantile:alpha={}'.format(q), \r\n",
        "                         random_seed = 42,  iterations = 500) :\r\n",
        "        '''\r\n",
        "        wrapper for the function to optimize\r\n",
        "        '''\r\n",
        "        \r\n",
        "        return catboost_quantile_loss(X_train=X_train, y_train=y_train ,\r\n",
        "                             X_valid=X_valid ,y_valid=y_valid, \r\n",
        "                             iterations = int(iterations),\r\n",
        "                             random_seed = random_seed, \r\n",
        "                             learning_rate=learning_rate, \r\n",
        "                             depth=int(depth),\r\n",
        "                             min_data_in_leaf= int(min_data_in_leaf),\r\n",
        "                             bagging_temperature = bagging_temperature\r\n",
        "              )\r\n",
        "    \r\n",
        "    optimizer = BayesianOptimization(\r\n",
        "        f = catboost_wrapper,\r\n",
        "        pbounds= {\r\n",
        "            \"learning_rate\" : (0.01,0.50),\r\n",
        "            \"depth\" : (2,10),\r\n",
        "            \"min_data_in_leaf\" : (1,10),\r\n",
        "            \"bagging_temperature\" : (0,100),       \r\n",
        "        },\r\n",
        "        random_state = 42,\r\n",
        "        verbose = 50,\r\n",
        "    )\r\n",
        "    if param_probe != None :\r\n",
        "        optimizer.probe(\r\n",
        "        params= param_probe,\r\n",
        "        lazy=True,\r\n",
        "        )\r\n",
        "    \r\n",
        "    optimizer.maximize(n_iter=5,\r\n",
        "                      init_points=5)\r\n",
        "    \r\n",
        "    print(\"Final result:\", optimizer.max)\r\n",
        "    return optimizer\r\n",
        "\r\n",
        "  print('-- Optimizing Quantile_{} Parameters --'.format(q))\r\n",
        "  optimizer_cat = optimize_catboost(X_train=X_train_1, y_train=Y_train_1, \r\n",
        "                                  X_valid=X_valid_1, y_valid=Y_valid_1)\r\n",
        "  \r\n",
        "  params = optimizer_cat.max['params']\r\n",
        "  params['depth'] = int(params['depth'])\r\n",
        "  params['min_data_in_leaf'] = int(params['min_data_in_leaf'])\r\n",
        "  \r\n",
        "  cb_model = CatBoostRegressor(iterations=500,\r\n",
        "                               random_seed = 42,\r\n",
        "                             od_type='Iter',\r\n",
        "                             metric_period = 50,\r\n",
        "                             od_wait=20,\r\n",
        "                             loss_function='Quantile:alpha={0}'.format(q),\r\n",
        "                             **params\r\n",
        "                             )\r\n",
        "  \r\n",
        "  print('---- Predict',q,'----')\r\n",
        "  cb_model.fit(X_train_1, Y_train_1,\r\n",
        "             eval_set=(X_valid_1, Y_valid_1),\r\n",
        "             use_best_model=True,\r\n",
        "             verbose=100)\r\n",
        "  \r\n",
        "  pred_test_cat = cb_model.predict(test_df)\r\n",
        "  pred_test_cat = pd.DataFrame(pred_test_cat)\r\n",
        "  # pred_test_cat.to_csv('/content/drive/MyDrive/DACON/태양광/quantiles/catboost/year1/1_cat_quantile_{}.csv'.format(q), index=False)"
      ],
      "execution_count": null,
      "outputs": [
        {
          "output_type": "stream",
          "text": [
            "-- Optimizing Quantile_0.1 Parameters --\n",
            "|   iter    |  target   | baggin... |   depth   | learni... | min_da... |\n",
            "-------------------------------------------------------------------------\n"
          ],
          "name": "stdout"
        },
        {
          "output_type": "stream",
          "text": [
            "Warning: Overfitting detector is active, thus evaluation metric is calculated on every iteration. 'metric_period' is ignored for evaluation metric.\n"
          ],
          "name": "stderr"
        },
        {
          "output_type": "stream",
          "text": [
            "0:\tlearn: 1.6029067\ttest: 1.6260920\tbest: 1.6260920 (0)\ttotal: 255ms\tremaining: 2m 7s\n",
            "Stopped by overfitting detector  (20 iterations wait)\n",
            "\n",
            "bestTest = 1.361225134\n",
            "bestIteration = 16\n",
            "\n",
            "Shrink model to first 17 iterations.\n",
            "train_quantile_loss : 1.6029, test_quantile_loss : 1.3612\n",
            "| \u001b[0m 1       \u001b[0m | \u001b[0m-1.361   \u001b[0m | \u001b[0m 37.45   \u001b[0m | \u001b[0m 9.606   \u001b[0m | \u001b[0m 0.3687  \u001b[0m | \u001b[0m 6.388   \u001b[0m |\n"
          ],
          "name": "stdout"
        },
        {
          "output_type": "stream",
          "text": [
            "Warning: Overfitting detector is active, thus evaluation metric is calculated on every iteration. 'metric_period' is ignored for evaluation metric.\n"
          ],
          "name": "stderr"
        },
        {
          "output_type": "stream",
          "text": [
            "0:\tlearn: 1.7173248\ttest: 1.7202323\tbest: 1.7202323 (0)\ttotal: 23.7ms\tremaining: 11.8s\n",
            "100:\tlearn: 1.3700803\ttest: 1.3354760\tbest: 1.3354760 (100)\ttotal: 1.55s\tremaining: 6.13s\n",
            "200:\tlearn: 1.3283586\ttest: 1.3015825\tbest: 1.3010456 (192)\ttotal: 2.99s\tremaining: 4.44s\n",
            "Stopped by overfitting detector  (20 iterations wait)\n",
            "\n",
            "bestTest = 1.300514416\n",
            "bestIteration = 204\n",
            "\n",
            "Shrink model to first 205 iterations.\n",
            "train_quantile_loss : 1.3284, test_quantile_loss : 1.3005\n",
            "| \u001b[95m 2       \u001b[0m | \u001b[95m-1.301   \u001b[0m | \u001b[95m 15.6    \u001b[0m | \u001b[95m 3.248   \u001b[0m | \u001b[95m 0.03846 \u001b[0m | \u001b[95m 8.796   \u001b[0m |\n"
          ],
          "name": "stdout"
        },
        {
          "output_type": "stream",
          "text": [
            "Warning: Overfitting detector is active, thus evaluation metric is calculated on every iteration. 'metric_period' is ignored for evaluation metric.\n"
          ],
          "name": "stderr"
        },
        {
          "output_type": "stream",
          "text": [
            "0:\tlearn: 1.7202991\ttest: 1.7222003\tbest: 1.7222003 (0)\ttotal: 73.3ms\tremaining: 36.6s\n",
            "100:\tlearn: 1.3454507\ttest: 1.3584870\tbest: 1.3584870 (100)\ttotal: 5.87s\tremaining: 23.2s\n",
            "200:\tlearn: 1.2469259\ttest: 1.2937330\tbest: 1.2927079 (193)\ttotal: 11.4s\tremaining: 17s\n",
            "300:\tlearn: 1.1812260\ttest: 1.2835170\tbest: 1.2830474 (291)\ttotal: 16.9s\tremaining: 11.2s\n",
            "Stopped by overfitting detector  (20 iterations wait)\n",
            "\n",
            "bestTest = 1.280918142\n",
            "bestIteration = 313\n",
            "\n",
            "Shrink model to first 314 iterations.\n",
            "train_quantile_loss : 1.1812, test_quantile_loss : 1.2809\n",
            "| \u001b[95m 3       \u001b[0m | \u001b[95m-1.281   \u001b[0m | \u001b[95m 60.11   \u001b[0m | \u001b[95m 7.665   \u001b[0m | \u001b[95m 0.02009 \u001b[0m | \u001b[95m 9.729   \u001b[0m |\n"
          ],
          "name": "stdout"
        },
        {
          "output_type": "stream",
          "text": [
            "Warning: Overfitting detector is active, thus evaluation metric is calculated on every iteration. 'metric_period' is ignored for evaluation metric.\n"
          ],
          "name": "stderr"
        },
        {
          "output_type": "stream",
          "text": [
            "0:\tlearn: 1.7014574\ttest: 1.7073318\tbest: 1.7073318 (0)\ttotal: 20.8ms\tremaining: 10.4s\n",
            "100:\tlearn: 1.3111976\ttest: 1.2899045\tbest: 1.2899045 (100)\ttotal: 1.52s\tremaining: 6.02s\n",
            "Stopped by overfitting detector  (20 iterations wait)\n",
            "\n",
            "bestTest = 1.282053641\n",
            "bestIteration = 124\n",
            "\n",
            "Shrink model to first 125 iterations.\n",
            "train_quantile_loss : 1.3112, test_quantile_loss : 1.2821\n",
            "| \u001b[0m 4       \u001b[0m | \u001b[0m-1.282   \u001b[0m | \u001b[0m 83.24   \u001b[0m | \u001b[0m 3.699   \u001b[0m | \u001b[0m 0.09909 \u001b[0m | \u001b[0m 2.651   \u001b[0m |\n"
          ],
          "name": "stdout"
        },
        {
          "output_type": "stream",
          "text": [
            "Warning: Overfitting detector is active, thus evaluation metric is calculated on every iteration. 'metric_period' is ignored for evaluation metric.\n"
          ],
          "name": "stderr"
        },
        {
          "output_type": "stream",
          "text": [
            "0:\tlearn: 1.6538952\ttest: 1.6599914\tbest: 1.6599914 (0)\ttotal: 48.6ms\tremaining: 24.3s\n",
            "Stopped by overfitting detector  (20 iterations wait)\n",
            "\n",
            "bestTest = 1.280417618\n",
            "bestIteration = 33\n",
            "\n",
            "Shrink model to first 34 iterations.\n",
            "train_quantile_loss : 1.1447, test_quantile_loss : 1.2804\n",
            "| \u001b[95m 5       \u001b[0m | \u001b[95m-1.28    \u001b[0m | \u001b[95m 30.42   \u001b[0m | \u001b[95m 6.198   \u001b[0m | \u001b[95m 0.2217  \u001b[0m | \u001b[95m 3.621   \u001b[0m |\n"
          ],
          "name": "stdout"
        },
        {
          "output_type": "stream",
          "text": [
            "Warning: Overfitting detector is active, thus evaluation metric is calculated on every iteration. 'metric_period' is ignored for evaluation metric.\n"
          ],
          "name": "stderr"
        },
        {
          "output_type": "stream",
          "text": [
            "0:\tlearn: 1.6751428\ttest: 1.6715481\tbest: 1.6715481 (0)\ttotal: 13.6ms\tremaining: 6.77s\n",
            "Stopped by overfitting detector  (20 iterations wait)\n",
            "\n",
            "bestTest = 1.298170579\n",
            "bestIteration = 33\n",
            "\n",
            "Shrink model to first 34 iterations.\n",
            "train_quantile_loss : 1.3292, test_quantile_loss : 1.2982\n",
            "| \u001b[0m 6       \u001b[0m | \u001b[0m-1.298   \u001b[0m | \u001b[0m 0.9197  \u001b[0m | \u001b[0m 2.812   \u001b[0m | \u001b[0m 0.3351  \u001b[0m | \u001b[0m 1.046   \u001b[0m |\n"
          ],
          "name": "stdout"
        },
        {
          "output_type": "stream",
          "text": [
            "Warning: Overfitting detector is active, thus evaluation metric is calculated on every iteration. 'metric_period' is ignored for evaluation metric.\n"
          ],
          "name": "stderr"
        },
        {
          "output_type": "stream",
          "text": [
            "0:\tlearn: 1.7257776\ttest: 1.7266464\tbest: 1.7266464 (0)\ttotal: 13.2ms\tremaining: 6.56s\n",
            "100:\tlearn: 1.4955328\ttest: 1.4883737\tbest: 1.4883737 (100)\ttotal: 1.2s\tremaining: 4.75s\n",
            "200:\tlearn: 1.4167323\ttest: 1.3971991\tbest: 1.3971991 (200)\ttotal: 2.32s\tremaining: 3.45s\n",
            "300:\tlearn: 1.3879347\ttest: 1.3568331\tbest: 1.3568331 (300)\ttotal: 3.35s\tremaining: 2.21s\n",
            "400:\tlearn: 1.3699697\ttest: 1.3314136\tbest: 1.3314136 (400)\ttotal: 4.36s\tremaining: 1.07s\n",
            "499:\tlearn: 1.3612797\ttest: 1.3203129\tbest: 1.3192631 (493)\ttotal: 5.36s\tremaining: 0us\n",
            "\n",
            "bestTest = 1.319263107\n",
            "bestIteration = 493\n",
            "\n",
            "Shrink model to first 494 iterations.\n",
            "train_quantile_loss : 1.3613, test_quantile_loss : 1.3193\n",
            "| \u001b[0m 7       \u001b[0m | \u001b[0m-1.319   \u001b[0m | \u001b[0m 100.0   \u001b[0m | \u001b[0m 2.0     \u001b[0m | \u001b[0m 0.01    \u001b[0m | \u001b[0m 10.0    \u001b[0m |\n"
          ],
          "name": "stdout"
        },
        {
          "output_type": "stream",
          "text": [
            "Warning: Overfitting detector is active, thus evaluation metric is calculated on every iteration. 'metric_period' is ignored for evaluation metric.\n"
          ],
          "name": "stderr"
        },
        {
          "output_type": "stream",
          "text": [
            "0:\tlearn: 1.6880902\ttest: 1.6862073\tbest: 1.6862073 (0)\ttotal: 13.2ms\tremaining: 6.59s\n",
            "Stopped by overfitting detector  (20 iterations wait)\n",
            "\n",
            "bestTest = 1.302250388\n",
            "bestIteration = 52\n",
            "\n",
            "Shrink model to first 53 iterations.\n",
            "train_quantile_loss : 1.3255, test_quantile_loss : 1.3023\n",
            "| \u001b[0m 8       \u001b[0m | \u001b[0m-1.302   \u001b[0m | \u001b[0m 0.4478  \u001b[0m | \u001b[0m 2.323   \u001b[0m | \u001b[0m 0.2386  \u001b[0m | \u001b[0m 4.169   \u001b[0m |\n"
          ],
          "name": "stdout"
        },
        {
          "output_type": "stream",
          "text": [
            "Warning: Overfitting detector is active, thus evaluation metric is calculated on every iteration. 'metric_period' is ignored for evaluation metric.\n"
          ],
          "name": "stderr"
        },
        {
          "output_type": "stream",
          "text": [
            "0:\tlearn: 1.6572703\ttest: 1.6507804\tbest: 1.6507804 (0)\ttotal: 13.1ms\tremaining: 6.55s\n",
            "Stopped by overfitting detector  (20 iterations wait)\n",
            "\n",
            "bestTest = 1.297961222\n",
            "bestIteration = 59\n",
            "\n",
            "Shrink model to first 60 iterations.\n",
            "train_quantile_loss : 1.3379, test_quantile_loss : 1.2980\n",
            "| \u001b[0m 9       \u001b[0m | \u001b[0m-1.298   \u001b[0m | \u001b[0m 52.04   \u001b[0m | \u001b[0m 2.0     \u001b[0m | \u001b[0m 0.5     \u001b[0m | \u001b[0m 1.0     \u001b[0m |\n"
          ],
          "name": "stdout"
        },
        {
          "output_type": "stream",
          "text": [
            "Warning: Overfitting detector is active, thus evaluation metric is calculated on every iteration. 'metric_period' is ignored for evaluation metric.\n"
          ],
          "name": "stderr"
        },
        {
          "output_type": "stream",
          "text": [
            "0:\tlearn: 1.7235227\ttest: 1.7248717\tbest: 1.7248717 (0)\ttotal: 317ms\tremaining: 2m 38s\n",
            "100:\tlearn: 1.4278804\ttest: 1.4441272\tbest: 1.4441272 (100)\ttotal: 27.6s\tremaining: 1m 49s\n",
            "200:\tlearn: 1.2801371\ttest: 1.3495260\tbest: 1.3495260 (200)\ttotal: 57.6s\tremaining: 1m 25s\n",
            "300:\tlearn: 1.1520622\ttest: 1.3202348\tbest: 1.3164605 (289)\ttotal: 1m 25s\tremaining: 56.2s\n",
            "Stopped by overfitting detector  (20 iterations wait)\n",
            "\n",
            "bestTest = 1.316460548\n",
            "bestIteration = 289\n",
            "\n",
            "Shrink model to first 290 iterations.\n",
            "train_quantile_loss : 1.1521, test_quantile_loss : 1.3165\n",
            "| \u001b[0m 10      \u001b[0m | \u001b[0m-1.316   \u001b[0m | \u001b[0m 100.0   \u001b[0m | \u001b[0m 10.0    \u001b[0m | \u001b[0m 0.01    \u001b[0m | \u001b[0m 1.0     \u001b[0m |\n",
            "=========================================================================\n",
            "Final result: {'target': -1.280417618086237, 'params': {'bagging_temperature': 30.42422429595377, 'depth': 6.198051453057903, 'learning_rate': 0.22165305913463673, 'min_data_in_leaf': 3.6210622617823773}}\n",
            "---- Predict 0.1 ----\n"
          ],
          "name": "stdout"
        },
        {
          "output_type": "stream",
          "text": [
            "Warning: Overfitting detector is active, thus evaluation metric is calculated on every iteration. 'metric_period' is ignored for evaluation metric.\n"
          ],
          "name": "stderr"
        },
        {
          "output_type": "stream",
          "text": [
            "0:\tlearn: 1.6538952\ttest: 1.6599914\tbest: 1.6599914 (0)\ttotal: 41.3ms\tremaining: 20.6s\n",
            "Stopped by overfitting detector  (20 iterations wait)\n",
            "\n",
            "bestTest = 1.280417618\n",
            "bestIteration = 33\n",
            "\n",
            "Shrink model to first 34 iterations.\n",
            "-- Optimizing Quantile_0.2 Parameters --\n",
            "|   iter    |  target   | baggin... |   depth   | learni... | min_da... |\n",
            "-------------------------------------------------------------------------\n"
          ],
          "name": "stdout"
        },
        {
          "output_type": "stream",
          "text": [
            "Warning: Overfitting detector is active, thus evaluation metric is calculated on every iteration. 'metric_period' is ignored for evaluation metric.\n"
          ],
          "name": "stderr"
        },
        {
          "output_type": "stream",
          "text": [
            "0:\tlearn: 3.0280290\ttest: 3.0746912\tbest: 3.0746912 (0)\ttotal: 170ms\tremaining: 1m 24s\n",
            "Stopped by overfitting detector  (20 iterations wait)\n",
            "\n",
            "bestTest = 2.123786929\n",
            "bestIteration = 16\n",
            "\n",
            "Shrink model to first 17 iterations.\n",
            "train_quantile_loss : 3.0280, test_quantile_loss : 2.1238\n",
            "| \u001b[0m 1       \u001b[0m | \u001b[0m-2.124   \u001b[0m | \u001b[0m 37.45   \u001b[0m | \u001b[0m 9.606   \u001b[0m | \u001b[0m 0.3687  \u001b[0m | \u001b[0m 6.388   \u001b[0m |\n"
          ],
          "name": "stdout"
        },
        {
          "output_type": "stream",
          "text": [
            "Warning: Overfitting detector is active, thus evaluation metric is calculated on every iteration. 'metric_period' is ignored for evaluation metric.\n"
          ],
          "name": "stderr"
        },
        {
          "output_type": "stream",
          "text": [
            "0:\tlearn: 3.4131194\ttest: 3.4212600\tbest: 3.4212600 (0)\ttotal: 22ms\tremaining: 11s\n",
            "100:\tlearn: 2.2485977\ttest: 2.0965352\tbest: 2.0965352 (99)\ttotal: 1.57s\tremaining: 6.2s\n",
            "200:\tlearn: 2.1528393\ttest: 2.0345954\tbest: 2.0345602 (199)\ttotal: 2.95s\tremaining: 4.38s\n",
            "300:\tlearn: 2.0711257\ttest: 2.0116890\tbest: 2.0103367 (283)\ttotal: 4.32s\tremaining: 2.86s\n",
            "Stopped by overfitting detector  (20 iterations wait)\n",
            "\n",
            "bestTest = 2.010336723\n",
            "bestIteration = 283\n",
            "\n",
            "Shrink model to first 284 iterations.\n",
            "train_quantile_loss : 2.0711, test_quantile_loss : 2.0103\n",
            "| \u001b[95m 2       \u001b[0m | \u001b[95m-2.01    \u001b[0m | \u001b[95m 15.6    \u001b[0m | \u001b[95m 3.248   \u001b[0m | \u001b[95m 0.03846 \u001b[0m | \u001b[95m 8.796   \u001b[0m |\n"
          ],
          "name": "stdout"
        },
        {
          "output_type": "stream",
          "text": [
            "Warning: Overfitting detector is active, thus evaluation metric is calculated on every iteration. 'metric_period' is ignored for evaluation metric.\n"
          ],
          "name": "stderr"
        },
        {
          "output_type": "stream",
          "text": [
            "0:\tlearn: 3.4286869\ttest: 3.4333192\tbest: 3.4333192 (0)\ttotal: 59.2ms\tremaining: 29.5s\n",
            "100:\tlearn: 2.2677172\ttest: 2.2514144\tbest: 2.2514144 (100)\ttotal: 5.9s\tremaining: 23.3s\n",
            "200:\tlearn: 2.0023514\ttest: 2.0519784\tbest: 2.0512057 (197)\ttotal: 11.5s\tremaining: 17.1s\n",
            "300:\tlearn: 1.8490399\ttest: 2.0129624\tbest: 2.0115446 (298)\ttotal: 17s\tremaining: 11.3s\n",
            "400:\tlearn: 1.7376946\ttest: 1.9889497\tbest: 1.9889497 (400)\ttotal: 22.4s\tremaining: 5.53s\n",
            "Stopped by overfitting detector  (20 iterations wait)\n",
            "\n",
            "bestTest = 1.983006772\n",
            "bestIteration = 417\n",
            "\n",
            "Shrink model to first 418 iterations.\n",
            "train_quantile_loss : 1.7377, test_quantile_loss : 1.9830\n",
            "| \u001b[95m 3       \u001b[0m | \u001b[95m-1.983   \u001b[0m | \u001b[95m 60.11   \u001b[0m | \u001b[95m 7.665   \u001b[0m | \u001b[95m 0.02009 \u001b[0m | \u001b[95m 9.729   \u001b[0m |\n"
          ],
          "name": "stdout"
        },
        {
          "output_type": "stream",
          "text": [
            "Warning: Overfitting detector is active, thus evaluation metric is calculated on every iteration. 'metric_period' is ignored for evaluation metric.\n"
          ],
          "name": "stderr"
        },
        {
          "output_type": "stream",
          "text": [
            "0:\tlearn: 3.3495124\ttest: 3.3658779\tbest: 3.3658779 (0)\ttotal: 22.3ms\tremaining: 11.1s\n",
            "100:\tlearn: 2.1434147\ttest: 2.0168890\tbest: 2.0142005 (97)\ttotal: 1.51s\tremaining: 5.97s\n",
            "Stopped by overfitting detector  (20 iterations wait)\n",
            "\n",
            "bestTest = 1.997891957\n",
            "bestIteration = 147\n",
            "\n",
            "Shrink model to first 148 iterations.\n",
            "train_quantile_loss : 2.0738, test_quantile_loss : 1.9979\n",
            "| \u001b[0m 4       \u001b[0m | \u001b[0m-1.998   \u001b[0m | \u001b[0m 83.24   \u001b[0m | \u001b[0m 3.699   \u001b[0m | \u001b[0m 0.09909 \u001b[0m | \u001b[0m 2.651   \u001b[0m |\n"
          ],
          "name": "stdout"
        },
        {
          "output_type": "stream",
          "text": [
            "Warning: Overfitting detector is active, thus evaluation metric is calculated on every iteration. 'metric_period' is ignored for evaluation metric.\n"
          ],
          "name": "stderr"
        },
        {
          "output_type": "stream",
          "text": [
            "0:\tlearn: 3.1878075\ttest: 3.2036900\tbest: 3.2036900 (0)\ttotal: 44.2ms\tremaining: 22s\n",
            "Stopped by overfitting detector  (20 iterations wait)\n",
            "\n",
            "bestTest = 2.019696607\n",
            "bestIteration = 52\n",
            "\n",
            "Shrink model to first 53 iterations.\n",
            "train_quantile_loss : 1.9399, test_quantile_loss : 2.0197\n",
            "| \u001b[0m 5       \u001b[0m | \u001b[0m-2.02    \u001b[0m | \u001b[0m 30.42   \u001b[0m | \u001b[0m 6.198   \u001b[0m | \u001b[0m 0.2217  \u001b[0m | \u001b[0m 3.621   \u001b[0m |\n"
          ],
          "name": "stdout"
        },
        {
          "output_type": "stream",
          "text": [
            "Warning: Overfitting detector is active, thus evaluation metric is calculated on every iteration. 'metric_period' is ignored for evaluation metric.\n"
          ],
          "name": "stderr"
        },
        {
          "output_type": "stream",
          "text": [
            "0:\tlearn: 3.3759069\ttest: 3.3822264\tbest: 3.3822264 (0)\ttotal: 34.4ms\tremaining: 17.2s\n",
            "100:\tlearn: 2.0534334\ttest: 2.0278546\tbest: 2.0278546 (100)\ttotal: 2.69s\tremaining: 10.6s\n",
            "Stopped by overfitting detector  (20 iterations wait)\n",
            "\n",
            "bestTest = 2.020842553\n",
            "bestIteration = 129\n",
            "\n",
            "Shrink model to first 130 iterations.\n",
            "train_quantile_loss : 2.0534, test_quantile_loss : 2.0208\n",
            "| \u001b[0m 6       \u001b[0m | \u001b[0m-2.021   \u001b[0m | \u001b[0m 0.3384  \u001b[0m | \u001b[0m 5.214   \u001b[0m | \u001b[0m 0.06181 \u001b[0m | \u001b[0m 1.219   \u001b[0m |\n"
          ],
          "name": "stdout"
        },
        {
          "output_type": "stream",
          "text": [
            "Warning: Overfitting detector is active, thus evaluation metric is calculated on every iteration. 'metric_period' is ignored for evaluation metric.\n"
          ],
          "name": "stderr"
        },
        {
          "output_type": "stream",
          "text": [
            "0:\tlearn: 3.4463324\ttest: 3.4481047\tbest: 3.4481047 (0)\ttotal: 13.2ms\tremaining: 6.61s\n",
            "100:\tlearn: 2.7042690\ttest: 2.6751406\tbest: 2.6751406 (100)\ttotal: 1.31s\tremaining: 5.16s\n",
            "200:\tlearn: 2.4320836\ttest: 2.3456029\tbest: 2.3456029 (200)\ttotal: 2.53s\tremaining: 3.76s\n",
            "300:\tlearn: 2.3360879\ttest: 2.1912202\tbest: 2.1912202 (300)\ttotal: 3.7s\tremaining: 2.45s\n",
            "400:\tlearn: 2.2946804\ttest: 2.1119457\tbest: 2.1119457 (400)\ttotal: 4.84s\tremaining: 1.2s\n",
            "499:\tlearn: 2.2777383\ttest: 2.0812556\tbest: 2.0812556 (499)\ttotal: 5.91s\tremaining: 0us\n",
            "\n",
            "bestTest = 2.081255556\n",
            "bestIteration = 499\n",
            "\n",
            "train_quantile_loss : 2.2777, test_quantile_loss : 2.0813\n",
            "| \u001b[0m 7       \u001b[0m | \u001b[0m-2.081   \u001b[0m | \u001b[0m 100.0   \u001b[0m | \u001b[0m 2.0     \u001b[0m | \u001b[0m 0.01    \u001b[0m | \u001b[0m 10.0    \u001b[0m |\n"
          ],
          "name": "stdout"
        },
        {
          "output_type": "stream",
          "text": [
            "Warning: Overfitting detector is active, thus evaluation metric is calculated on every iteration. 'metric_period' is ignored for evaluation metric.\n"
          ],
          "name": "stderr"
        },
        {
          "output_type": "stream",
          "text": [
            "0:\tlearn: 3.2710517\ttest: 3.2651294\tbest: 3.2651294 (0)\ttotal: 13.6ms\tremaining: 6.8s\n",
            "Stopped by overfitting detector  (20 iterations wait)\n",
            "\n",
            "bestTest = 2.03450538\n",
            "bestIteration = 40\n",
            "\n",
            "Shrink model to first 41 iterations.\n",
            "train_quantile_loss : 2.2251, test_quantile_loss : 2.0345\n",
            "| \u001b[0m 8       \u001b[0m | \u001b[0m-2.035   \u001b[0m | \u001b[0m 0.4478  \u001b[0m | \u001b[0m 2.323   \u001b[0m | \u001b[0m 0.2386  \u001b[0m | \u001b[0m 4.169   \u001b[0m |\n"
          ],
          "name": "stdout"
        },
        {
          "output_type": "stream",
          "text": [
            "Warning: Overfitting detector is active, thus evaluation metric is calculated on every iteration. 'metric_period' is ignored for evaluation metric.\n"
          ],
          "name": "stderr"
        },
        {
          "output_type": "stream",
          "text": [
            "0:\tlearn: 3.2786789\ttest: 3.2956744\tbest: 3.2956744 (0)\ttotal: 169ms\tremaining: 1m 24s\n",
            "Stopped by overfitting detector  (20 iterations wait)\n",
            "\n",
            "bestTest = 2.058925669\n",
            "bestIteration = 37\n",
            "\n",
            "Shrink model to first 38 iterations.\n",
            "train_quantile_loss : 1.5679, test_quantile_loss : 2.0589\n",
            "| \u001b[0m 9       \u001b[0m | \u001b[0m-2.059   \u001b[0m | \u001b[0m 60.24   \u001b[0m | \u001b[0m 9.558   \u001b[0m | \u001b[0m 0.1371  \u001b[0m | \u001b[0m 7.147   \u001b[0m |\n"
          ],
          "name": "stdout"
        },
        {
          "output_type": "stream",
          "text": [
            "Warning: Overfitting detector is active, thus evaluation metric is calculated on every iteration. 'metric_period' is ignored for evaluation metric.\n"
          ],
          "name": "stderr"
        },
        {
          "output_type": "stream",
          "text": [
            "0:\tlearn: 3.4463324\ttest: 3.4481047\tbest: 3.4481047 (0)\ttotal: 13.2ms\tremaining: 6.61s\n",
            "100:\tlearn: 2.7042690\ttest: 2.6751406\tbest: 2.6751406 (100)\ttotal: 1.3s\tremaining: 5.14s\n",
            "200:\tlearn: 2.4320836\ttest: 2.3456029\tbest: 2.3456029 (200)\ttotal: 2.57s\tremaining: 3.82s\n",
            "300:\tlearn: 2.3360879\ttest: 2.1912202\tbest: 2.1912202 (300)\ttotal: 3.74s\tremaining: 2.48s\n",
            "400:\tlearn: 2.2946804\ttest: 2.1119457\tbest: 2.1119457 (400)\ttotal: 4.92s\tremaining: 1.22s\n",
            "499:\tlearn: 2.2777383\ttest: 2.0812556\tbest: 2.0812556 (499)\ttotal: 5.99s\tremaining: 0us\n",
            "\n",
            "bestTest = 2.081255556\n",
            "bestIteration = 499\n",
            "\n",
            "train_quantile_loss : 2.2777, test_quantile_loss : 2.0813\n",
            "| \u001b[0m 10      \u001b[0m | \u001b[0m-2.081   \u001b[0m | \u001b[0m 57.19   \u001b[0m | \u001b[0m 2.0     \u001b[0m | \u001b[0m 0.01    \u001b[0m | \u001b[0m 1.0     \u001b[0m |\n",
            "=========================================================================\n",
            "Final result: {'target': -1.9830067716285134, 'params': {'bagging_temperature': 60.11150117432088, 'depth': 7.664580622368364, 'learning_rate': 0.020086402204943198, 'min_data_in_leaf': 9.72918866945795}}\n",
            "---- Predict 0.2 ----\n"
          ],
          "name": "stdout"
        },
        {
          "output_type": "stream",
          "text": [
            "Warning: Overfitting detector is active, thus evaluation metric is calculated on every iteration. 'metric_period' is ignored for evaluation metric.\n"
          ],
          "name": "stderr"
        },
        {
          "output_type": "stream",
          "text": [
            "0:\tlearn: 3.4286869\ttest: 3.4333192\tbest: 3.4333192 (0)\ttotal: 63.4ms\tremaining: 31.6s\n",
            "100:\tlearn: 2.2677172\ttest: 2.2514144\tbest: 2.2514144 (100)\ttotal: 5.88s\tremaining: 23.2s\n",
            "200:\tlearn: 2.0023514\ttest: 2.0519784\tbest: 2.0512057 (197)\ttotal: 11.4s\tremaining: 17s\n",
            "300:\tlearn: 1.8490399\ttest: 2.0129624\tbest: 2.0115446 (298)\ttotal: 17s\tremaining: 11.2s\n",
            "400:\tlearn: 1.7376946\ttest: 1.9889497\tbest: 1.9889497 (400)\ttotal: 22.4s\tremaining: 5.54s\n",
            "Stopped by overfitting detector  (20 iterations wait)\n",
            "\n",
            "bestTest = 1.983006772\n",
            "bestIteration = 417\n",
            "\n",
            "Shrink model to first 418 iterations.\n",
            "-- Optimizing Quantile_0.3 Parameters --\n",
            "|   iter    |  target   | baggin... |   depth   | learni... | min_da... |\n",
            "-------------------------------------------------------------------------\n"
          ],
          "name": "stdout"
        },
        {
          "output_type": "stream",
          "text": [
            "Warning: Overfitting detector is active, thus evaluation metric is calculated on every iteration. 'metric_period' is ignored for evaluation metric.\n"
          ],
          "name": "stderr"
        },
        {
          "output_type": "stream",
          "text": [
            "0:\tlearn: 4.2673757\ttest: 4.3493922\tbest: 4.3493922 (0)\ttotal: 167ms\tremaining: 1m 23s\n",
            "Stopped by overfitting detector  (20 iterations wait)\n",
            "\n",
            "bestTest = 2.49117137\n",
            "bestIteration = 15\n",
            "\n",
            "Shrink model to first 16 iterations.\n",
            "train_quantile_loss : 4.2674, test_quantile_loss : 2.4912\n",
            "| \u001b[0m 1       \u001b[0m | \u001b[0m-2.491   \u001b[0m | \u001b[0m 37.45   \u001b[0m | \u001b[0m 9.606   \u001b[0m | \u001b[0m 0.3687  \u001b[0m | \u001b[0m 6.388   \u001b[0m |\n"
          ],
          "name": "stdout"
        },
        {
          "output_type": "stream",
          "text": [
            "Warning: Overfitting detector is active, thus evaluation metric is calculated on every iteration. 'metric_period' is ignored for evaluation metric.\n"
          ],
          "name": "stderr"
        },
        {
          "output_type": "stream",
          "text": [
            "0:\tlearn: 5.0864402\ttest: 5.1010408\tbest: 5.1010408 (0)\ttotal: 22.6ms\tremaining: 11.3s\n",
            "100:\tlearn: 2.7845655\ttest: 2.4670720\tbest: 2.4670720 (100)\ttotal: 1.58s\tremaining: 6.24s\n",
            "200:\tlearn: 2.6494001\ttest: 2.3405948\tbest: 2.3405948 (200)\ttotal: 2.98s\tremaining: 4.44s\n",
            "Stopped by overfitting detector  (20 iterations wait)\n",
            "\n",
            "bestTest = 2.33523515\n",
            "bestIteration = 219\n",
            "\n",
            "Shrink model to first 220 iterations.\n",
            "train_quantile_loss : 2.6494, test_quantile_loss : 2.3352\n",
            "| \u001b[95m 2       \u001b[0m | \u001b[95m-2.335   \u001b[0m | \u001b[95m 15.6    \u001b[0m | \u001b[95m 3.248   \u001b[0m | \u001b[95m 0.03846 \u001b[0m | \u001b[95m 8.796   \u001b[0m |\n"
          ],
          "name": "stdout"
        },
        {
          "output_type": "stream",
          "text": [
            "Warning: Overfitting detector is active, thus evaluation metric is calculated on every iteration. 'metric_period' is ignored for evaluation metric.\n"
          ],
          "name": "stderr"
        },
        {
          "output_type": "stream",
          "text": [
            "0:\tlearn: 5.1242558\ttest: 5.1324435\tbest: 5.1324435 (0)\ttotal: 59.9ms\tremaining: 29.9s\n",
            "100:\tlearn: 2.8479283\ttest: 2.7319090\tbest: 2.7319090 (100)\ttotal: 5.94s\tremaining: 23.5s\n",
            "200:\tlearn: 2.4326921\ttest: 2.3679115\tbest: 2.3679075 (199)\ttotal: 11.6s\tremaining: 17.3s\n",
            "300:\tlearn: 2.2241541\ttest: 2.2892221\tbest: 2.2883817 (299)\ttotal: 17.1s\tremaining: 11.3s\n",
            "400:\tlearn: 2.0969767\ttest: 2.2678217\tbest: 2.2677351 (398)\ttotal: 22.5s\tremaining: 5.56s\n",
            "Stopped by overfitting detector  (20 iterations wait)\n",
            "\n",
            "bestTest = 2.260211379\n",
            "bestIteration = 444\n",
            "\n",
            "Shrink model to first 445 iterations.\n",
            "train_quantile_loss : 2.0269, test_quantile_loss : 2.2602\n",
            "| \u001b[95m 3       \u001b[0m | \u001b[95m-2.26    \u001b[0m | \u001b[95m 60.11   \u001b[0m | \u001b[95m 7.665   \u001b[0m | \u001b[95m 0.02009 \u001b[0m | \u001b[95m 9.729   \u001b[0m |\n"
          ],
          "name": "stdout"
        },
        {
          "output_type": "stream",
          "text": [
            "Warning: Overfitting detector is active, thus evaluation metric is calculated on every iteration. 'metric_period' is ignored for evaluation metric.\n"
          ],
          "name": "stderr"
        },
        {
          "output_type": "stream",
          "text": [
            "0:\tlearn: 4.9416872\ttest: 4.9714398\tbest: 4.9714398 (0)\ttotal: 25.2ms\tremaining: 12.6s\n",
            "100:\tlearn: 2.6092681\ttest: 2.3735583\tbest: 2.3669259 (96)\ttotal: 1.49s\tremaining: 5.88s\n",
            "Stopped by overfitting detector  (20 iterations wait)\n",
            "\n",
            "bestTest = 2.366925913\n",
            "bestIteration = 96\n",
            "\n",
            "Shrink model to first 97 iterations.\n",
            "train_quantile_loss : 2.6093, test_quantile_loss : 2.3669\n",
            "| \u001b[0m 4       \u001b[0m | \u001b[0m-2.367   \u001b[0m | \u001b[0m 83.24   \u001b[0m | \u001b[0m 3.699   \u001b[0m | \u001b[0m 0.09909 \u001b[0m | \u001b[0m 2.651   \u001b[0m |\n"
          ],
          "name": "stdout"
        },
        {
          "output_type": "stream",
          "text": [
            "Warning: Overfitting detector is active, thus evaluation metric is calculated on every iteration. 'metric_period' is ignored for evaluation metric.\n"
          ],
          "name": "stderr"
        },
        {
          "output_type": "stream",
          "text": [
            "0:\tlearn: 4.5918025\ttest: 4.6203360\tbest: 4.6203360 (0)\ttotal: 47ms\tremaining: 23.5s\n",
            "Stopped by overfitting detector  (20 iterations wait)\n",
            "\n",
            "bestTest = 2.3884478\n",
            "bestIteration = 38\n",
            "\n",
            "Shrink model to first 39 iterations.\n",
            "train_quantile_loss : 2.1302, test_quantile_loss : 2.3884\n",
            "| \u001b[0m 5       \u001b[0m | \u001b[0m-2.388   \u001b[0m | \u001b[0m 30.42   \u001b[0m | \u001b[0m 6.198   \u001b[0m | \u001b[0m 0.2217  \u001b[0m | \u001b[0m 3.621   \u001b[0m |\n"
          ],
          "name": "stdout"
        },
        {
          "output_type": "stream",
          "text": [
            "Warning: Overfitting detector is active, thus evaluation metric is calculated on every iteration. 'metric_period' is ignored for evaluation metric.\n"
          ],
          "name": "stderr"
        },
        {
          "output_type": "stream",
          "text": [
            "0:\tlearn: 4.5656310\ttest: 4.6166012\tbest: 4.6166012 (0)\ttotal: 158ms\tremaining: 1m 18s\n",
            "100:\tlearn: 1.1656296\ttest: 2.4888121\tbest: 2.4820129 (84)\ttotal: 16.2s\tremaining: 1m 4s\n",
            "Stopped by overfitting detector  (20 iterations wait)\n",
            "\n",
            "bestTest = 2.482012871\n",
            "bestIteration = 84\n",
            "\n",
            "Shrink model to first 85 iterations.\n",
            "train_quantile_loss : 1.1656, test_quantile_loss : 2.4820\n",
            "| \u001b[0m 6       \u001b[0m | \u001b[0m-2.482   \u001b[0m | \u001b[0m 0.1362  \u001b[0m | \u001b[0m 9.513   \u001b[0m | \u001b[0m 0.2328  \u001b[0m | \u001b[0m 1.919   \u001b[0m |\n"
          ],
          "name": "stdout"
        },
        {
          "output_type": "stream",
          "text": [
            "Warning: Overfitting detector is active, thus evaluation metric is calculated on every iteration. 'metric_period' is ignored for evaluation metric.\n"
          ],
          "name": "stderr"
        },
        {
          "output_type": "stream",
          "text": [
            "0:\tlearn: 5.1531730\ttest: 5.1580232\tbest: 5.1580232 (0)\ttotal: 276ms\tremaining: 2m 17s\n",
            "100:\tlearn: 3.3035222\ttest: 3.3046294\tbest: 3.3046294 (100)\ttotal: 27.7s\tremaining: 1m 49s\n",
            "200:\tlearn: 2.6381048\ttest: 2.7426629\tbest: 2.7426629 (200)\ttotal: 55.2s\tremaining: 1m 22s\n",
            "300:\tlearn: 2.2636077\ttest: 2.4895645\tbest: 2.4895645 (300)\ttotal: 1m 22s\tremaining: 54.6s\n",
            "400:\tlearn: 2.0000911\ttest: 2.3762869\tbest: 2.3762869 (400)\ttotal: 1m 49s\tremaining: 27.1s\n",
            "499:\tlearn: 1.8082242\ttest: 2.3129720\tbest: 2.3129720 (499)\ttotal: 2m 16s\tremaining: 0us\n",
            "\n",
            "bestTest = 2.312972048\n",
            "bestIteration = 499\n",
            "\n",
            "train_quantile_loss : 1.8082, test_quantile_loss : 2.3130\n",
            "| \u001b[0m 7       \u001b[0m | \u001b[0m-2.313   \u001b[0m | \u001b[0m 100.0   \u001b[0m | \u001b[0m 10.0    \u001b[0m | \u001b[0m 0.01    \u001b[0m | \u001b[0m 10.0    \u001b[0m |\n"
          ],
          "name": "stdout"
        },
        {
          "output_type": "stream",
          "text": [
            "Warning: Overfitting detector is active, thus evaluation metric is calculated on every iteration. 'metric_period' is ignored for evaluation metric.\n"
          ],
          "name": "stderr"
        },
        {
          "output_type": "stream",
          "text": [
            "0:\tlearn: 4.9798720\ttest: 4.9909712\tbest: 4.9909712 (0)\ttotal: 39.4ms\tremaining: 19.6s\n",
            "Stopped by overfitting detector  (20 iterations wait)\n",
            "\n",
            "bestTest = 2.348148573\n",
            "bestIteration = 75\n",
            "\n",
            "Shrink model to first 76 iterations.\n",
            "train_quantile_loss : 2.6073, test_quantile_loss : 2.3481\n",
            "| \u001b[0m 8       \u001b[0m | \u001b[0m-2.348   \u001b[0m | \u001b[0m 57.79   \u001b[0m | \u001b[0m 6.268   \u001b[0m | \u001b[0m 0.07095 \u001b[0m | \u001b[0m 9.749   \u001b[0m |\n"
          ],
          "name": "stdout"
        },
        {
          "output_type": "stream",
          "text": [
            "Warning: Overfitting detector is active, thus evaluation metric is calculated on every iteration. 'metric_period' is ignored for evaluation metric.\n"
          ],
          "name": "stderr"
        },
        {
          "output_type": "stream",
          "text": [
            "0:\tlearn: 3.9863524\ttest: 4.1034969\tbest: 4.1034969 (0)\ttotal: 279ms\tremaining: 2m 19s\n",
            "Stopped by overfitting detector  (20 iterations wait)\n",
            "\n",
            "bestTest = 2.641640328\n",
            "bestIteration = 16\n",
            "\n",
            "Shrink model to first 17 iterations.\n",
            "train_quantile_loss : 3.9864, test_quantile_loss : 2.6416\n",
            "| \u001b[0m 9       \u001b[0m | \u001b[0m-2.642   \u001b[0m | \u001b[0m 66.53   \u001b[0m | \u001b[0m 10.0    \u001b[0m | \u001b[0m 0.5     \u001b[0m | \u001b[0m 1.0     \u001b[0m |\n"
          ],
          "name": "stdout"
        },
        {
          "output_type": "stream",
          "text": [
            "Warning: Overfitting detector is active, thus evaluation metric is calculated on every iteration. 'metric_period' is ignored for evaluation metric.\n"
          ],
          "name": "stderr"
        },
        {
          "output_type": "stream",
          "text": [
            "0:\tlearn: 3.9863524\ttest: 4.1034969\tbest: 4.1034969 (0)\ttotal: 283ms\tremaining: 2m 21s\n",
            "Stopped by overfitting detector  (20 iterations wait)\n",
            "\n",
            "bestTest = 2.641640328\n",
            "bestIteration = 16\n",
            "\n",
            "Shrink model to first 17 iterations.\n",
            "train_quantile_loss : 3.9864, test_quantile_loss : 2.6416\n",
            "| \u001b[0m 10      \u001b[0m | \u001b[0m-2.642   \u001b[0m | \u001b[0m 80.22   \u001b[0m | \u001b[0m 10.0    \u001b[0m | \u001b[0m 0.5     \u001b[0m | \u001b[0m 10.0    \u001b[0m |\n",
            "=========================================================================\n",
            "Final result: {'target': -2.2602113794354604, 'params': {'bagging_temperature': 60.11150117432088, 'depth': 7.664580622368364, 'learning_rate': 0.020086402204943198, 'min_data_in_leaf': 9.72918866945795}}\n",
            "---- Predict 0.3 ----\n"
          ],
          "name": "stdout"
        },
        {
          "output_type": "stream",
          "text": [
            "Warning: Overfitting detector is active, thus evaluation metric is calculated on every iteration. 'metric_period' is ignored for evaluation metric.\n"
          ],
          "name": "stderr"
        },
        {
          "output_type": "stream",
          "text": [
            "0:\tlearn: 5.1242558\ttest: 5.1324435\tbest: 5.1324435 (0)\ttotal: 63ms\tremaining: 31.4s\n",
            "100:\tlearn: 2.8479283\ttest: 2.7319090\tbest: 2.7319090 (100)\ttotal: 5.85s\tremaining: 23.1s\n",
            "200:\tlearn: 2.4326921\ttest: 2.3679115\tbest: 2.3679075 (199)\ttotal: 11.5s\tremaining: 17.1s\n",
            "300:\tlearn: 2.2241541\ttest: 2.2892221\tbest: 2.2883817 (299)\ttotal: 17s\tremaining: 11.2s\n",
            "400:\tlearn: 2.0969767\ttest: 2.2678217\tbest: 2.2677351 (398)\ttotal: 22.4s\tremaining: 5.53s\n",
            "Stopped by overfitting detector  (20 iterations wait)\n",
            "\n",
            "bestTest = 2.260211379\n",
            "bestIteration = 444\n",
            "\n",
            "Shrink model to first 445 iterations.\n",
            "-- Optimizing Quantile_0.4 Parameters --\n",
            "|   iter    |  target   | baggin... |   depth   | learni... | min_da... |\n",
            "-------------------------------------------------------------------------\n"
          ],
          "name": "stdout"
        },
        {
          "output_type": "stream",
          "text": [
            "Warning: Overfitting detector is active, thus evaluation metric is calculated on every iteration. 'metric_period' is ignored for evaluation metric.\n"
          ],
          "name": "stderr"
        },
        {
          "output_type": "stream",
          "text": [
            "0:\tlearn: 5.3357567\ttest: 5.4580235\tbest: 5.4580235 (0)\ttotal: 173ms\tremaining: 1m 26s\n",
            "Stopped by overfitting detector  (20 iterations wait)\n",
            "\n",
            "bestTest = 2.675331128\n",
            "bestIteration = 13\n",
            "\n",
            "Shrink model to first 14 iterations.\n",
            "train_quantile_loss : 5.3358, test_quantile_loss : 2.6753\n",
            "| \u001b[0m 1       \u001b[0m | \u001b[0m-2.675   \u001b[0m | \u001b[0m 37.45   \u001b[0m | \u001b[0m 9.606   \u001b[0m | \u001b[0m 0.3687  \u001b[0m | \u001b[0m 6.388   \u001b[0m |\n"
          ],
          "name": "stdout"
        },
        {
          "output_type": "stream",
          "text": [
            "Warning: Overfitting detector is active, thus evaluation metric is calculated on every iteration. 'metric_period' is ignored for evaluation metric.\n"
          ],
          "name": "stderr"
        },
        {
          "output_type": "stream",
          "text": [
            "0:\tlearn: 6.7287254\ttest: 6.7506670\tbest: 6.7506670 (0)\ttotal: 18.4ms\tremaining: 9.19s\n",
            "100:\tlearn: 3.0177789\ttest: 2.5053053\tbest: 2.5053053 (100)\ttotal: 1.52s\tremaining: 6s\n",
            "Stopped by overfitting detector  (20 iterations wait)\n",
            "\n",
            "bestTest = 2.386529326\n",
            "bestIteration = 175\n",
            "\n",
            "Shrink model to first 176 iterations.\n",
            "train_quantile_loss : 2.9174, test_quantile_loss : 2.3865\n",
            "| \u001b[95m 2       \u001b[0m | \u001b[95m-2.387   \u001b[0m | \u001b[95m 15.6    \u001b[0m | \u001b[95m 3.248   \u001b[0m | \u001b[95m 0.03846 \u001b[0m | \u001b[95m 8.796   \u001b[0m |\n"
          ],
          "name": "stdout"
        },
        {
          "output_type": "stream",
          "text": [
            "Warning: Overfitting detector is active, thus evaluation metric is calculated on every iteration. 'metric_period' is ignored for evaluation metric.\n"
          ],
          "name": "stderr"
        },
        {
          "output_type": "stream",
          "text": [
            "0:\tlearn: 6.8084673\ttest: 6.8212030\tbest: 6.8212030 (0)\ttotal: 63.8ms\tremaining: 31.8s\n",
            "100:\tlearn: 3.1654775\ttest: 2.9015469\tbest: 2.9015469 (100)\ttotal: 5.9s\tremaining: 23.3s\n",
            "200:\tlearn: 2.6614376\ttest: 2.4255014\tbest: 2.4255014 (200)\ttotal: 11.5s\tremaining: 17.2s\n",
            "300:\tlearn: 2.4297948\ttest: 2.3740038\tbest: 2.3709369 (280)\ttotal: 17s\tremaining: 11.2s\n",
            "Stopped by overfitting detector  (20 iterations wait)\n",
            "\n",
            "bestTest = 2.370936931\n",
            "bestIteration = 280\n",
            "\n",
            "Shrink model to first 281 iterations.\n",
            "train_quantile_loss : 2.4298, test_quantile_loss : 2.3709\n",
            "| \u001b[95m 3       \u001b[0m | \u001b[95m-2.371   \u001b[0m | \u001b[95m 60.11   \u001b[0m | \u001b[95m 7.665   \u001b[0m | \u001b[95m 0.02009 \u001b[0m | \u001b[95m 9.729   \u001b[0m |\n"
          ],
          "name": "stdout"
        },
        {
          "output_type": "stream",
          "text": [
            "Warning: Overfitting detector is active, thus evaluation metric is calculated on every iteration. 'metric_period' is ignored for evaluation metric.\n"
          ],
          "name": "stderr"
        },
        {
          "output_type": "stream",
          "text": [
            "0:\tlearn: 6.4580805\ttest: 6.5036829\tbest: 6.5036829 (0)\ttotal: 23ms\tremaining: 11.5s\n",
            "100:\tlearn: 2.8226641\ttest: 2.3485747\tbest: 2.3452241 (96)\ttotal: 1.57s\tremaining: 6.19s\n",
            "Stopped by overfitting detector  (20 iterations wait)\n",
            "\n",
            "bestTest = 2.345224122\n",
            "bestIteration = 96\n",
            "\n",
            "Shrink model to first 97 iterations.\n",
            "train_quantile_loss : 2.8227, test_quantile_loss : 2.3452\n",
            "| \u001b[95m 4       \u001b[0m | \u001b[95m-2.345   \u001b[0m | \u001b[95m 83.24   \u001b[0m | \u001b[95m 3.699   \u001b[0m | \u001b[95m 0.09909 \u001b[0m | \u001b[95m 2.651   \u001b[0m |\n"
          ],
          "name": "stdout"
        },
        {
          "output_type": "stream",
          "text": [
            "Warning: Overfitting detector is active, thus evaluation metric is calculated on every iteration. 'metric_period' is ignored for evaluation metric.\n"
          ],
          "name": "stderr"
        },
        {
          "output_type": "stream",
          "text": [
            "0:\tlearn: 5.8836625\ttest: 5.9310147\tbest: 5.9310147 (0)\ttotal: 51.6ms\tremaining: 25.8s\n",
            "Stopped by overfitting detector  (20 iterations wait)\n",
            "\n",
            "bestTest = 2.405795284\n",
            "bestIteration = 57\n",
            "\n",
            "Shrink model to first 58 iterations.\n",
            "train_quantile_loss : 2.4738, test_quantile_loss : 2.4058\n",
            "| \u001b[0m 5       \u001b[0m | \u001b[0m-2.406   \u001b[0m | \u001b[0m 30.42   \u001b[0m | \u001b[0m 6.198   \u001b[0m | \u001b[0m 0.2217  \u001b[0m | \u001b[0m 3.621   \u001b[0m |\n"
          ],
          "name": "stdout"
        },
        {
          "output_type": "stream",
          "text": [
            "Warning: Overfitting detector is active, thus evaluation metric is calculated on every iteration. 'metric_period' is ignored for evaluation metric.\n"
          ],
          "name": "stderr"
        },
        {
          "output_type": "stream",
          "text": [
            "0:\tlearn: 6.8590069\ttest: 6.8654375\tbest: 6.8654375 (0)\ttotal: 293ms\tremaining: 2m 26s\n",
            "100:\tlearn: 3.8684127\ttest: 3.8661249\tbest: 3.8661249 (100)\ttotal: 27.5s\tremaining: 1m 48s\n",
            "200:\tlearn: 2.9375928\ttest: 2.9758906\tbest: 2.9758906 (200)\ttotal: 55.3s\tremaining: 1m 22s\n",
            "300:\tlearn: 2.4683187\ttest: 2.6398823\tbest: 2.6398823 (300)\ttotal: 1m 23s\tremaining: 54.9s\n",
            "400:\tlearn: 2.1744654\ttest: 2.4936127\tbest: 2.4936127 (400)\ttotal: 1m 50s\tremaining: 27.4s\n",
            "499:\tlearn: 1.9554078\ttest: 2.4234720\tbest: 2.4234720 (499)\ttotal: 2m 18s\tremaining: 0us\n",
            "\n",
            "bestTest = 2.423472026\n",
            "bestIteration = 499\n",
            "\n",
            "train_quantile_loss : 1.9554, test_quantile_loss : 2.4235\n",
            "| \u001b[0m 6       \u001b[0m | \u001b[0m-2.423   \u001b[0m | \u001b[0m 0.0     \u001b[0m | \u001b[0m 10.0    \u001b[0m | \u001b[0m 0.01    \u001b[0m | \u001b[0m 1.0     \u001b[0m |\n"
          ],
          "name": "stdout"
        },
        {
          "output_type": "stream",
          "text": [
            "Warning: Overfitting detector is active, thus evaluation metric is calculated on every iteration. 'metric_period' is ignored for evaluation metric.\n"
          ],
          "name": "stderr"
        },
        {
          "output_type": "stream",
          "text": [
            "0:\tlearn: 4.8731680\ttest: 5.0141589\tbest: 5.0141589 (0)\ttotal: 285ms\tremaining: 2m 22s\n",
            "Stopped by overfitting detector  (20 iterations wait)\n",
            "\n",
            "bestTest = 2.814185487\n",
            "bestIteration = 21\n",
            "\n",
            "Shrink model to first 22 iterations.\n",
            "train_quantile_loss : 4.8732, test_quantile_loss : 2.8142\n",
            "| \u001b[0m 7       \u001b[0m | \u001b[0m-2.814   \u001b[0m | \u001b[0m 100.0   \u001b[0m | \u001b[0m 10.0    \u001b[0m | \u001b[0m 0.5     \u001b[0m | \u001b[0m 10.0    \u001b[0m |\n"
          ],
          "name": "stdout"
        },
        {
          "output_type": "stream",
          "text": [
            "Warning: Overfitting detector is active, thus evaluation metric is calculated on every iteration. 'metric_period' is ignored for evaluation metric.\n"
          ],
          "name": "stderr"
        },
        {
          "output_type": "stream",
          "text": [
            "0:\tlearn: 6.0267184\ttest: 6.0180467\tbest: 6.0180467 (0)\ttotal: 13.7ms\tremaining: 6.82s\n",
            "Stopped by overfitting detector  (20 iterations wait)\n",
            "\n",
            "bestTest = 2.392047999\n",
            "bestIteration = 50\n",
            "\n",
            "Shrink model to first 51 iterations.\n",
            "train_quantile_loss : 2.9439, test_quantile_loss : 2.3920\n",
            "| \u001b[0m 8       \u001b[0m | \u001b[0m-2.392   \u001b[0m | \u001b[0m 0.4478  \u001b[0m | \u001b[0m 2.323   \u001b[0m | \u001b[0m 0.2386  \u001b[0m | \u001b[0m 4.169   \u001b[0m |\n"
          ],
          "name": "stdout"
        },
        {
          "output_type": "stream",
          "text": [
            "Warning: Overfitting detector is active, thus evaluation metric is calculated on every iteration. 'metric_period' is ignored for evaluation metric.\n"
          ],
          "name": "stderr"
        },
        {
          "output_type": "stream",
          "text": [
            "0:\tlearn: 4.9422876\ttest: 5.0971368\tbest: 5.0971368 (0)\ttotal: 59.6ms\tremaining: 29.7s\n",
            "Stopped by overfitting detector  (20 iterations wait)\n",
            "\n",
            "bestTest = 2.631704107\n",
            "bestIteration = 23\n",
            "\n",
            "Shrink model to first 24 iterations.\n",
            "train_quantile_loss : 4.9423, test_quantile_loss : 2.6317\n",
            "| \u001b[0m 9       \u001b[0m | \u001b[0m-2.632   \u001b[0m | \u001b[0m 97.08   \u001b[0m | \u001b[0m 7.677   \u001b[0m | \u001b[0m 0.497   \u001b[0m | \u001b[0m 4.365   \u001b[0m |\n"
          ],
          "name": "stdout"
        },
        {
          "output_type": "stream",
          "text": [
            "Warning: Overfitting detector is active, thus evaluation metric is calculated on every iteration. 'metric_period' is ignored for evaluation metric.\n"
          ],
          "name": "stderr"
        },
        {
          "output_type": "stream",
          "text": [
            "0:\tlearn: 5.9285339\ttest: 6.0134565\tbest: 6.0134565 (0)\ttotal: 25.5ms\tremaining: 12.7s\n",
            "Stopped by overfitting detector  (20 iterations wait)\n",
            "\n",
            "bestTest = 2.498340472\n",
            "bestIteration = 18\n",
            "\n",
            "Shrink model to first 19 iterations.\n",
            "train_quantile_loss : 5.9285, test_quantile_loss : 2.4983\n",
            "| \u001b[0m 10      \u001b[0m | \u001b[0m-2.498   \u001b[0m | \u001b[0m 82.19   \u001b[0m | \u001b[0m 4.836   \u001b[0m | \u001b[0m 0.2353  \u001b[0m | \u001b[0m 4.694   \u001b[0m |\n",
            "=========================================================================\n",
            "Final result: {'target': -2.3452241219718606, 'params': {'bagging_temperature': 83.24426408004217, 'depth': 3.6987128854262092, 'learning_rate': 0.0990942339314793, 'min_data_in_leaf': 2.650640588680904}}\n",
            "---- Predict 0.4 ----\n"
          ],
          "name": "stdout"
        },
        {
          "output_type": "stream",
          "text": [
            "Warning: Overfitting detector is active, thus evaluation metric is calculated on every iteration. 'metric_period' is ignored for evaluation metric.\n"
          ],
          "name": "stderr"
        },
        {
          "output_type": "stream",
          "text": [
            "0:\tlearn: 6.4580805\ttest: 6.5036829\tbest: 6.5036829 (0)\ttotal: 22.5ms\tremaining: 11.2s\n",
            "100:\tlearn: 2.8226641\ttest: 2.3485747\tbest: 2.3452241 (96)\ttotal: 1.57s\tremaining: 6.22s\n",
            "Stopped by overfitting detector  (20 iterations wait)\n",
            "\n",
            "bestTest = 2.345224122\n",
            "bestIteration = 96\n",
            "\n",
            "Shrink model to first 97 iterations.\n",
            "-- Optimizing Quantile_0.5 Parameters --\n",
            "|   iter    |  target   | baggin... |   depth   | learni... | min_da... |\n",
            "-------------------------------------------------------------------------\n"
          ],
          "name": "stdout"
        },
        {
          "output_type": "stream",
          "text": [
            "Warning: Overfitting detector is active, thus evaluation metric is calculated on every iteration. 'metric_period' is ignored for evaluation metric.\n"
          ],
          "name": "stderr"
        },
        {
          "output_type": "stream",
          "text": [
            "0:\tlearn: 6.1918190\ttest: 6.3524003\tbest: 6.3524003 (0)\ttotal: 165ms\tremaining: 1m 22s\n",
            "Stopped by overfitting detector  (20 iterations wait)\n",
            "\n",
            "bestTest = 2.565992176\n",
            "bestIteration = 28\n",
            "\n",
            "Shrink model to first 29 iterations.\n",
            "train_quantile_loss : 6.1918, test_quantile_loss : 2.5660\n",
            "| \u001b[0m 1       \u001b[0m | \u001b[0m-2.566   \u001b[0m | \u001b[0m 37.45   \u001b[0m | \u001b[0m 9.606   \u001b[0m | \u001b[0m 0.3687  \u001b[0m | \u001b[0m 6.388   \u001b[0m |\n"
          ],
          "name": "stdout"
        },
        {
          "output_type": "stream",
          "text": [
            "Warning: Overfitting detector is active, thus evaluation metric is calculated on every iteration. 'metric_period' is ignored for evaluation metric.\n"
          ],
          "name": "stderr"
        },
        {
          "output_type": "stream",
          "text": [
            "0:\tlearn: 8.3409691\ttest: 8.3677437\tbest: 8.3677437 (0)\ttotal: 22.5ms\tremaining: 11.2s\n",
            "100:\tlearn: 3.0164390\ttest: 2.3387045\tbest: 2.3387045 (100)\ttotal: 1.65s\tremaining: 6.5s\n",
            "200:\tlearn: 2.8670780\ttest: 2.1761055\tbest: 2.1740318 (181)\ttotal: 3.17s\tremaining: 4.71s\n",
            "Stopped by overfitting detector  (20 iterations wait)\n",
            "\n",
            "bestTest = 2.174031813\n",
            "bestIteration = 181\n",
            "\n",
            "Shrink model to first 182 iterations.\n",
            "train_quantile_loss : 2.8671, test_quantile_loss : 2.1740\n",
            "| \u001b[95m 2       \u001b[0m | \u001b[95m-2.174   \u001b[0m | \u001b[95m 15.6    \u001b[0m | \u001b[95m 3.248   \u001b[0m | \u001b[95m 0.03846 \u001b[0m | \u001b[95m 8.796   \u001b[0m |\n"
          ],
          "name": "stdout"
        },
        {
          "output_type": "stream",
          "text": [
            "Warning: Overfitting detector is active, thus evaluation metric is calculated on every iteration. 'metric_period' is ignored for evaluation metric.\n"
          ],
          "name": "stderr"
        },
        {
          "output_type": "stream",
          "text": [
            "0:\tlearn: 8.4776939\ttest: 8.4933045\tbest: 8.4933045 (0)\ttotal: 58.9ms\tremaining: 29.4s\n",
            "100:\tlearn: 3.2237438\ttest: 2.9125290\tbest: 2.9125290 (100)\ttotal: 5.87s\tremaining: 23.2s\n",
            "200:\tlearn: 2.6629398\ttest: 2.3718544\tbest: 2.3684369 (198)\ttotal: 11.4s\tremaining: 17s\n",
            "Stopped by overfitting detector  (20 iterations wait)\n",
            "\n",
            "bestTest = 2.328558399\n",
            "bestIteration = 252\n",
            "\n",
            "Shrink model to first 253 iterations.\n",
            "train_quantile_loss : 2.5272, test_quantile_loss : 2.3286\n",
            "| \u001b[0m 3       \u001b[0m | \u001b[0m-2.329   \u001b[0m | \u001b[0m 60.11   \u001b[0m | \u001b[0m 7.665   \u001b[0m | \u001b[0m 0.02009 \u001b[0m | \u001b[0m 9.729   \u001b[0m |\n"
          ],
          "name": "stdout"
        },
        {
          "output_type": "stream",
          "text": [
            "Warning: Overfitting detector is active, thus evaluation metric is calculated on every iteration. 'metric_period' is ignored for evaluation metric.\n"
          ],
          "name": "stderr"
        },
        {
          "output_type": "stream",
          "text": [
            "0:\tlearn: 7.9021952\ttest: 7.9589608\tbest: 7.9589608 (0)\ttotal: 17.9ms\tremaining: 8.93s\n",
            "100:\tlearn: 2.8216923\ttest: 2.2000362\tbest: 2.1996716 (97)\ttotal: 1.47s\tremaining: 5.79s\n",
            "Stopped by overfitting detector  (20 iterations wait)\n",
            "\n",
            "bestTest = 2.199671557\n",
            "bestIteration = 97\n",
            "\n",
            "Shrink model to first 98 iterations.\n",
            "train_quantile_loss : 2.8217, test_quantile_loss : 2.1997\n",
            "| \u001b[0m 4       \u001b[0m | \u001b[0m-2.2     \u001b[0m | \u001b[0m 83.24   \u001b[0m | \u001b[0m 3.699   \u001b[0m | \u001b[0m 0.09909 \u001b[0m | \u001b[0m 2.651   \u001b[0m |\n"
          ],
          "name": "stdout"
        },
        {
          "output_type": "stream",
          "text": [
            "Warning: Overfitting detector is active, thus evaluation metric is calculated on every iteration. 'metric_period' is ignored for evaluation metric.\n"
          ],
          "name": "stderr"
        },
        {
          "output_type": "stream",
          "text": [
            "0:\tlearn: 7.0449937\ttest: 7.1101035\tbest: 7.1101035 (0)\ttotal: 48.9ms\tremaining: 24.4s\n",
            "Stopped by overfitting detector  (20 iterations wait)\n",
            "\n",
            "bestTest = 2.471719116\n",
            "bestIteration = 47\n",
            "\n",
            "Shrink model to first 48 iterations.\n",
            "train_quantile_loss : 2.4054, test_quantile_loss : 2.4717\n",
            "| \u001b[0m 5       \u001b[0m | \u001b[0m-2.472   \u001b[0m | \u001b[0m 30.42   \u001b[0m | \u001b[0m 6.198   \u001b[0m | \u001b[0m 0.2217  \u001b[0m | \u001b[0m 3.621   \u001b[0m |\n"
          ],
          "name": "stdout"
        },
        {
          "output_type": "stream",
          "text": [
            "Warning: Overfitting detector is active, thus evaluation metric is calculated on every iteration. 'metric_period' is ignored for evaluation metric.\n"
          ],
          "name": "stderr"
        },
        {
          "output_type": "stream",
          "text": [
            "0:\tlearn: 6.9708603\ttest: 7.0823162\tbest: 7.0823162 (0)\ttotal: 161ms\tremaining: 1m 20s\n",
            "Stopped by overfitting detector  (20 iterations wait)\n",
            "\n",
            "bestTest = 2.565991105\n",
            "bestIteration = 49\n",
            "\n",
            "Shrink model to first 50 iterations.\n",
            "train_quantile_loss : 1.7099, test_quantile_loss : 2.5660\n",
            "| \u001b[0m 6       \u001b[0m | \u001b[0m-2.566   \u001b[0m | \u001b[0m 0.1362  \u001b[0m | \u001b[0m 9.513   \u001b[0m | \u001b[0m 0.2328  \u001b[0m | \u001b[0m 1.919   \u001b[0m |\n"
          ],
          "name": "stdout"
        },
        {
          "output_type": "stream",
          "text": [
            "Warning: Overfitting detector is active, thus evaluation metric is calculated on every iteration. 'metric_period' is ignored for evaluation metric.\n"
          ],
          "name": "stderr"
        },
        {
          "output_type": "stream",
          "text": [
            "0:\tlearn: 8.5594072\ttest: 8.5673264\tbest: 8.5673264 (0)\ttotal: 274ms\tremaining: 2m 16s\n",
            "100:\tlearn: 4.2077300\ttest: 4.1657511\tbest: 4.1657511 (100)\ttotal: 27.7s\tremaining: 1m 49s\n",
            "200:\tlearn: 3.0254704\ttest: 2.9666589\tbest: 2.9666589 (200)\ttotal: 55.1s\tremaining: 1m 22s\n",
            "300:\tlearn: 2.5090620\ttest: 2.5609097\tbest: 2.5609097 (300)\ttotal: 1m 22s\tremaining: 54.6s\n",
            "400:\tlearn: 2.2119468\ttest: 2.4028771\tbest: 2.4028771 (400)\ttotal: 1m 49s\tremaining: 27.2s\n",
            "499:\tlearn: 1.9927251\ttest: 2.3515216\tbest: 2.3509721 (496)\ttotal: 2m 17s\tremaining: 0us\n",
            "\n",
            "bestTest = 2.350972053\n",
            "bestIteration = 496\n",
            "\n",
            "Shrink model to first 497 iterations.\n",
            "train_quantile_loss : 1.9927, test_quantile_loss : 2.3510\n",
            "| \u001b[0m 7       \u001b[0m | \u001b[0m-2.351   \u001b[0m | \u001b[0m 100.0   \u001b[0m | \u001b[0m 10.0    \u001b[0m | \u001b[0m 0.01    \u001b[0m | \u001b[0m 10.0    \u001b[0m |\n"
          ],
          "name": "stdout"
        },
        {
          "output_type": "stream",
          "text": [
            "Warning: Overfitting detector is active, thus evaluation metric is calculated on every iteration. 'metric_period' is ignored for evaluation metric.\n"
          ],
          "name": "stderr"
        },
        {
          "output_type": "stream",
          "text": [
            "0:\tlearn: 7.1869365\ttest: 7.2481925\tbest: 7.2481925 (0)\ttotal: 34.4ms\tremaining: 17.2s\n",
            "Stopped by overfitting detector  (20 iterations wait)\n",
            "\n",
            "bestTest = 2.392256345\n",
            "bestIteration = 73\n",
            "\n",
            "Shrink model to first 74 iterations.\n",
            "train_quantile_loss : 2.7294, test_quantile_loss : 2.3923\n",
            "| \u001b[0m 8       \u001b[0m | \u001b[0m-2.392   \u001b[0m | \u001b[0m 15.79   \u001b[0m | \u001b[0m 5.464   \u001b[0m | \u001b[0m 0.1997  \u001b[0m | \u001b[0m 8.025   \u001b[0m |\n"
          ],
          "name": "stdout"
        },
        {
          "output_type": "stream",
          "text": [
            "Warning: Overfitting detector is active, thus evaluation metric is calculated on every iteration. 'metric_period' is ignored for evaluation metric.\n"
          ],
          "name": "stderr"
        },
        {
          "output_type": "stream",
          "text": [
            "0:\tlearn: 8.5624216\ttest: 8.5668975\tbest: 8.5668975 (0)\ttotal: 14.1ms\tremaining: 7.02s\n",
            "100:\tlearn: 4.5883945\ttest: 4.4660701\tbest: 4.4660701 (100)\ttotal: 1.27s\tremaining: 5.01s\n",
            "200:\tlearn: 3.5340573\ttest: 3.1739762\tbest: 3.1739762 (200)\ttotal: 2.44s\tremaining: 3.63s\n",
            "300:\tlearn: 3.1875221\ttest: 2.6223892\tbest: 2.6223892 (300)\ttotal: 3.56s\tremaining: 2.35s\n",
            "400:\tlearn: 3.0508700\ttest: 2.3449274\tbest: 2.3449274 (400)\ttotal: 4.63s\tremaining: 1.14s\n",
            "499:\tlearn: 2.9961163\ttest: 2.2186369\tbest: 2.2186369 (499)\ttotal: 5.67s\tremaining: 0us\n",
            "\n",
            "bestTest = 2.218636901\n",
            "bestIteration = 499\n",
            "\n",
            "train_quantile_loss : 2.9961, test_quantile_loss : 2.2186\n",
            "| \u001b[0m 9       \u001b[0m | \u001b[0m-2.219   \u001b[0m | \u001b[0m 53.17   \u001b[0m | \u001b[0m 2.0     \u001b[0m | \u001b[0m 0.01    \u001b[0m | \u001b[0m 1.0     \u001b[0m |\n"
          ],
          "name": "stdout"
        },
        {
          "output_type": "stream",
          "text": [
            "Warning: Overfitting detector is active, thus evaluation metric is calculated on every iteration. 'metric_period' is ignored for evaluation metric.\n"
          ],
          "name": "stderr"
        },
        {
          "output_type": "stream",
          "text": [
            "0:\tlearn: 8.5624216\ttest: 8.5668975\tbest: 8.5668975 (0)\ttotal: 13.4ms\tremaining: 6.7s\n",
            "100:\tlearn: 4.5883945\ttest: 4.4660701\tbest: 4.4660701 (100)\ttotal: 1.27s\tremaining: 5.02s\n",
            "200:\tlearn: 3.5340573\ttest: 3.1739762\tbest: 3.1739762 (200)\ttotal: 2.41s\tremaining: 3.58s\n",
            "300:\tlearn: 3.1875221\ttest: 2.6223892\tbest: 2.6223892 (300)\ttotal: 3.5s\tremaining: 2.31s\n",
            "400:\tlearn: 3.0508700\ttest: 2.3449274\tbest: 2.3449274 (400)\ttotal: 4.56s\tremaining: 1.13s\n",
            "499:\tlearn: 2.9961163\ttest: 2.2186369\tbest: 2.2186369 (499)\ttotal: 5.58s\tremaining: 0us\n",
            "\n",
            "bestTest = 2.218636901\n",
            "bestIteration = 499\n",
            "\n",
            "train_quantile_loss : 2.9961, test_quantile_loss : 2.2186\n",
            "| \u001b[0m 10      \u001b[0m | \u001b[0m-2.219   \u001b[0m | \u001b[0m 0.0     \u001b[0m | \u001b[0m 2.0     \u001b[0m | \u001b[0m 0.01    \u001b[0m | \u001b[0m 10.0    \u001b[0m |\n",
            "=========================================================================\n",
            "Final result: {'target': -2.174031812773461, 'params': {'bagging_temperature': 15.601864044243651, 'depth': 3.247956162689621, 'learning_rate': 0.03846096996241773, 'min_data_in_leaf': 8.795585311974417}}\n",
            "---- Predict 0.5 ----\n"
          ],
          "name": "stdout"
        },
        {
          "output_type": "stream",
          "text": [
            "Warning: Overfitting detector is active, thus evaluation metric is calculated on every iteration. 'metric_period' is ignored for evaluation metric.\n"
          ],
          "name": "stderr"
        },
        {
          "output_type": "stream",
          "text": [
            "0:\tlearn: 8.3409691\ttest: 8.3677437\tbest: 8.3677437 (0)\ttotal: 23.4ms\tremaining: 11.7s\n",
            "100:\tlearn: 3.0164390\ttest: 2.3387045\tbest: 2.3387045 (100)\ttotal: 1.67s\tremaining: 6.59s\n",
            "200:\tlearn: 2.8670780\ttest: 2.1761055\tbest: 2.1740318 (181)\ttotal: 3.19s\tremaining: 4.75s\n",
            "Stopped by overfitting detector  (20 iterations wait)\n",
            "\n",
            "bestTest = 2.174031813\n",
            "bestIteration = 181\n",
            "\n",
            "Shrink model to first 182 iterations.\n",
            "-- Optimizing Quantile_0.6 Parameters --\n",
            "|   iter    |  target   | baggin... |   depth   | learni... | min_da... |\n",
            "-------------------------------------------------------------------------\n"
          ],
          "name": "stdout"
        },
        {
          "output_type": "stream",
          "text": [
            "Warning: Overfitting detector is active, thus evaluation metric is calculated on every iteration. 'metric_period' is ignored for evaluation metric.\n"
          ],
          "name": "stderr"
        },
        {
          "output_type": "stream",
          "text": [
            "0:\tlearn: 6.6728103\ttest: 6.9862035\tbest: 6.9862035 (0)\ttotal: 343ms\tremaining: 2m 50s\n",
            "Stopped by overfitting detector  (20 iterations wait)\n",
            "\n",
            "bestTest = 2.102230768\n",
            "bestIteration = 17\n",
            "\n",
            "Shrink model to first 18 iterations.\n",
            "train_quantile_loss : 6.6728, test_quantile_loss : 2.1022\n",
            "| \u001b[0m 1       \u001b[0m | \u001b[0m-2.102   \u001b[0m | \u001b[0m 37.45   \u001b[0m | \u001b[0m 9.606   \u001b[0m | \u001b[0m 0.3687  \u001b[0m | \u001b[0m 6.388   \u001b[0m |\n",
            "0:\tlearn: 9.6443708\ttest: 9.6543311\tbest: 9.6543311 (0)\ttotal: 19ms\tremaining: 9.46s\n"
          ],
          "name": "stdout"
        },
        {
          "output_type": "stream",
          "text": [
            "Warning: Overfitting detector is active, thus evaluation metric is calculated on every iteration. 'metric_period' is ignored for evaluation metric.\n"
          ],
          "name": "stderr"
        },
        {
          "output_type": "stream",
          "text": [
            "100:\tlearn: 2.9150641\ttest: 2.2861826\tbest: 2.2861826 (100)\ttotal: 1.79s\tremaining: 7.07s\n",
            "200:\tlearn: 2.7694106\ttest: 2.0375213\tbest: 2.0375213 (200)\ttotal: 3.46s\tremaining: 5.16s\n",
            "300:\tlearn: 2.7124542\ttest: 1.9449549\tbest: 1.9449549 (300)\ttotal: 5.01s\tremaining: 3.31s\n",
            "400:\tlearn: 2.6389713\ttest: 1.8919512\tbest: 1.8914362 (397)\ttotal: 6.58s\tremaining: 1.62s\n",
            "Stopped by overfitting detector  (20 iterations wait)\n",
            "\n",
            "bestTest = 1.885051522\n",
            "bestIteration = 421\n",
            "\n",
            "Shrink model to first 422 iterations.\n",
            "train_quantile_loss : 2.6390, test_quantile_loss : 1.8851\n",
            "| \u001b[95m 2       \u001b[0m | \u001b[95m-1.885   \u001b[0m | \u001b[95m 15.6    \u001b[0m | \u001b[95m 3.248   \u001b[0m | \u001b[95m 0.03846 \u001b[0m | \u001b[95m 8.796   \u001b[0m |\n"
          ],
          "name": "stdout"
        },
        {
          "output_type": "stream",
          "text": [
            "Warning: Overfitting detector is active, thus evaluation metric is calculated on every iteration. 'metric_period' is ignored for evaluation metric.\n"
          ],
          "name": "stderr"
        },
        {
          "output_type": "stream",
          "text": [
            "0:\tlearn: 9.8156966\ttest: 9.8360937\tbest: 9.8360937 (0)\ttotal: 65.9ms\tremaining: 32.9s\n",
            "100:\tlearn: 3.2723192\ttest: 2.8767592\tbest: 2.8767592 (100)\ttotal: 6.04s\tremaining: 23.9s\n",
            "200:\tlearn: 2.7021078\ttest: 2.0883022\tbest: 2.0883022 (200)\ttotal: 11.6s\tremaining: 17.3s\n",
            "300:\tlearn: 2.5833712\ttest: 1.9124749\tbest: 1.9124749 (300)\ttotal: 17.2s\tremaining: 11.4s\n",
            "400:\tlearn: 2.5191036\ttest: 1.8643899\tbest: 1.8636135 (384)\ttotal: 22.7s\tremaining: 5.62s\n",
            "499:\tlearn: 2.4630639\ttest: 1.8444517\tbest: 1.8444517 (499)\ttotal: 28.3s\tremaining: 0us\n",
            "\n",
            "bestTest = 1.844451711\n",
            "bestIteration = 499\n",
            "\n",
            "train_quantile_loss : 2.4631, test_quantile_loss : 1.8445\n",
            "| \u001b[95m 3       \u001b[0m | \u001b[95m-1.844   \u001b[0m | \u001b[95m 60.11   \u001b[0m | \u001b[95m 7.665   \u001b[0m | \u001b[95m 0.02009 \u001b[0m | \u001b[95m 9.729   \u001b[0m |\n"
          ],
          "name": "stdout"
        },
        {
          "output_type": "stream",
          "text": [
            "Warning: Overfitting detector is active, thus evaluation metric is calculated on every iteration. 'metric_period' is ignored for evaluation metric.\n"
          ],
          "name": "stderr"
        },
        {
          "output_type": "stream",
          "text": [
            "0:\tlearn: 9.0723620\ttest: 9.0840721\tbest: 9.0840721 (0)\ttotal: 35.9ms\tremaining: 17.9s\n",
            "100:\tlearn: 2.7546238\ttest: 2.0197138\tbest: 2.0188112 (99)\ttotal: 1.7s\tremaining: 6.72s\n",
            "200:\tlearn: 2.5677821\ttest: 1.9356049\tbest: 1.9348584 (181)\ttotal: 3.22s\tremaining: 4.79s\n",
            "Stopped by overfitting detector  (20 iterations wait)\n",
            "\n",
            "bestTest = 1.920463187\n",
            "bestIteration = 225\n",
            "\n",
            "Shrink model to first 226 iterations.\n",
            "train_quantile_loss : 2.5678, test_quantile_loss : 1.9205\n",
            "| \u001b[0m 4       \u001b[0m | \u001b[0m-1.92    \u001b[0m | \u001b[0m 83.24   \u001b[0m | \u001b[0m 3.699   \u001b[0m | \u001b[0m 0.09909 \u001b[0m | \u001b[0m 2.651   \u001b[0m |\n"
          ],
          "name": "stdout"
        },
        {
          "output_type": "stream",
          "text": [
            "Warning: Overfitting detector is active, thus evaluation metric is calculated on every iteration. 'metric_period' is ignored for evaluation metric.\n"
          ],
          "name": "stderr"
        },
        {
          "output_type": "stream",
          "text": [
            "0:\tlearn: 7.9319328\ttest: 7.9187920\tbest: 7.9187920 (0)\ttotal: 47.3ms\tremaining: 23.6s\n",
            "Stopped by overfitting detector  (20 iterations wait)\n",
            "\n",
            "bestTest = 2.007894719\n",
            "bestIteration = 58\n",
            "\n",
            "Shrink model to first 59 iterations.\n",
            "train_quantile_loss : 2.5747, test_quantile_loss : 2.0079\n",
            "| \u001b[0m 5       \u001b[0m | \u001b[0m-2.008   \u001b[0m | \u001b[0m 30.42   \u001b[0m | \u001b[0m 6.198   \u001b[0m | \u001b[0m 0.2217  \u001b[0m | \u001b[0m 3.621   \u001b[0m |\n"
          ],
          "name": "stdout"
        },
        {
          "output_type": "stream",
          "text": [
            "Warning: Overfitting detector is active, thus evaluation metric is calculated on every iteration. 'metric_period' is ignored for evaluation metric.\n"
          ],
          "name": "stderr"
        },
        {
          "output_type": "stream",
          "text": [
            "0:\tlearn: 7.7912398\ttest: 8.0330172\tbest: 8.0330172 (0)\ttotal: 168ms\tremaining: 1m 23s\n",
            "Stopped by overfitting detector  (20 iterations wait)\n",
            "\n",
            "bestTest = 1.986834092\n",
            "bestIteration = 39\n",
            "\n",
            "Shrink model to first 40 iterations.\n",
            "train_quantile_loss : 2.2774, test_quantile_loss : 1.9868\n",
            "| \u001b[0m 6       \u001b[0m | \u001b[0m-1.987   \u001b[0m | \u001b[0m 0.1362  \u001b[0m | \u001b[0m 9.513   \u001b[0m | \u001b[0m 0.2328  \u001b[0m | \u001b[0m 1.919   \u001b[0m |\n"
          ],
          "name": "stdout"
        },
        {
          "output_type": "stream",
          "text": [
            "Warning: Overfitting detector is active, thus evaluation metric is calculated on every iteration. 'metric_period' is ignored for evaluation metric.\n"
          ],
          "name": "stderr"
        },
        {
          "output_type": "stream",
          "text": [
            "0:\tlearn: 9.9173584\ttest: 9.9366803\tbest: 9.9366803 (0)\ttotal: 282ms\tremaining: 2m 20s\n",
            "100:\tlearn: 4.5624191\ttest: 4.4746557\tbest: 4.4746557 (100)\ttotal: 27.5s\tremaining: 1m 48s\n",
            "200:\tlearn: 3.1355478\ttest: 2.8458613\tbest: 2.8458613 (200)\ttotal: 54.9s\tremaining: 1m 21s\n",
            "300:\tlearn: 2.6619622\ttest: 2.2712860\tbest: 2.2712860 (300)\ttotal: 1m 22s\tremaining: 54.4s\n",
            "400:\tlearn: 2.4726029\ttest: 2.0547570\tbest: 2.0547570 (400)\ttotal: 1m 48s\tremaining: 26.8s\n",
            "499:\tlearn: 2.3595323\ttest: 1.9684936\tbest: 1.9684936 (499)\ttotal: 2m 14s\tremaining: 0us\n",
            "\n",
            "bestTest = 1.968493579\n",
            "bestIteration = 499\n",
            "\n",
            "train_quantile_loss : 2.3595, test_quantile_loss : 1.9685\n",
            "| \u001b[0m 7       \u001b[0m | \u001b[0m-1.968   \u001b[0m | \u001b[0m 100.0   \u001b[0m | \u001b[0m 10.0    \u001b[0m | \u001b[0m 0.01    \u001b[0m | \u001b[0m 10.0    \u001b[0m |\n"
          ],
          "name": "stdout"
        },
        {
          "output_type": "stream",
          "text": [
            "Warning: Overfitting detector is active, thus evaluation metric is calculated on every iteration. 'metric_period' is ignored for evaluation metric.\n"
          ],
          "name": "stderr"
        },
        {
          "output_type": "stream",
          "text": [
            "0:\tlearn: 9.3143786\ttest: 9.3129463\tbest: 9.3129463 (0)\ttotal: 40.7ms\tremaining: 20.3s\n",
            "100:\tlearn: 2.6427783\ttest: 1.9152882\tbest: 1.9152882 (100)\ttotal: 3.94s\tremaining: 15.6s\n",
            "Stopped by overfitting detector  (20 iterations wait)\n",
            "\n",
            "bestTest = 1.853123453\n",
            "bestIteration = 167\n",
            "\n",
            "Shrink model to first 168 iterations.\n",
            "train_quantile_loss : 2.5664, test_quantile_loss : 1.8531\n",
            "| \u001b[0m 8       \u001b[0m | \u001b[0m-1.853   \u001b[0m | \u001b[0m 57.78   \u001b[0m | \u001b[0m 6.263   \u001b[0m | \u001b[0m 0.07124 \u001b[0m | \u001b[0m 9.749   \u001b[0m |\n"
          ],
          "name": "stdout"
        },
        {
          "output_type": "stream",
          "text": [
            "Warning: Overfitting detector is active, thus evaluation metric is calculated on every iteration. 'metric_period' is ignored for evaluation metric.\n"
          ],
          "name": "stderr"
        },
        {
          "output_type": "stream",
          "text": [
            "0:\tlearn: 6.1039210\ttest: 6.0859279\tbest: 6.0859279 (0)\ttotal: 14.1ms\tremaining: 7.02s\n",
            "Stopped by overfitting detector  (20 iterations wait)\n",
            "\n",
            "bestTest = 2.209830376\n",
            "bestIteration = 42\n",
            "\n",
            "Shrink model to first 43 iterations.\n",
            "train_quantile_loss : 2.8263, test_quantile_loss : 2.2098\n",
            "| \u001b[0m 9       \u001b[0m | \u001b[0m-2.21    \u001b[0m | \u001b[0m 76.24   \u001b[0m | \u001b[0m 2.0     \u001b[0m | \u001b[0m 0.5     \u001b[0m | \u001b[0m 10.0    \u001b[0m |\n"
          ],
          "name": "stdout"
        },
        {
          "output_type": "stream",
          "text": [
            "Warning: Overfitting detector is active, thus evaluation metric is calculated on every iteration. 'metric_period' is ignored for evaluation metric.\n"
          ],
          "name": "stderr"
        },
        {
          "output_type": "stream",
          "text": [
            "0:\tlearn: 5.6944461\ttest: 6.0463126\tbest: 6.0463126 (0)\ttotal: 286ms\tremaining: 2m 22s\n",
            "Stopped by overfitting detector  (20 iterations wait)\n",
            "\n",
            "bestTest = 2.323864595\n",
            "bestIteration = 14\n",
            "\n",
            "Shrink model to first 15 iterations.\n",
            "train_quantile_loss : 5.6944, test_quantile_loss : 2.3239\n",
            "| \u001b[0m 10      \u001b[0m | \u001b[0m-2.324   \u001b[0m | \u001b[0m 60.79   \u001b[0m | \u001b[0m 10.0    \u001b[0m | \u001b[0m 0.5     \u001b[0m | \u001b[0m 1.0     \u001b[0m |\n",
            "=========================================================================\n",
            "Final result: {'target': -1.844451711159999, 'params': {'bagging_temperature': 60.11150117432088, 'depth': 7.664580622368364, 'learning_rate': 0.020086402204943198, 'min_data_in_leaf': 9.72918866945795}}\n",
            "---- Predict 0.6 ----\n"
          ],
          "name": "stdout"
        },
        {
          "output_type": "stream",
          "text": [
            "Warning: Overfitting detector is active, thus evaluation metric is calculated on every iteration. 'metric_period' is ignored for evaluation metric.\n"
          ],
          "name": "stderr"
        },
        {
          "output_type": "stream",
          "text": [
            "0:\tlearn: 9.8156966\ttest: 9.8360937\tbest: 9.8360937 (0)\ttotal: 68.1ms\tremaining: 34s\n",
            "100:\tlearn: 3.2723192\ttest: 2.8767592\tbest: 2.8767592 (100)\ttotal: 5.95s\tremaining: 23.5s\n",
            "200:\tlearn: 2.7021078\ttest: 2.0883022\tbest: 2.0883022 (200)\ttotal: 11.5s\tremaining: 17.1s\n",
            "300:\tlearn: 2.5833712\ttest: 1.9124749\tbest: 1.9124749 (300)\ttotal: 17.1s\tremaining: 11.3s\n",
            "400:\tlearn: 2.5191036\ttest: 1.8643899\tbest: 1.8636135 (384)\ttotal: 22.6s\tremaining: 5.58s\n",
            "499:\tlearn: 2.4630639\ttest: 1.8444517\tbest: 1.8444517 (499)\ttotal: 28.2s\tremaining: 0us\n",
            "\n",
            "bestTest = 1.844451711\n",
            "bestIteration = 499\n",
            "\n",
            "-- Optimizing Quantile_0.7 Parameters --\n",
            "|   iter    |  target   | baggin... |   depth   | learni... | min_da... |\n",
            "-------------------------------------------------------------------------\n"
          ],
          "name": "stdout"
        },
        {
          "output_type": "stream",
          "text": [
            "Warning: Overfitting detector is active, thus evaluation metric is calculated on every iteration. 'metric_period' is ignored for evaluation metric.\n"
          ],
          "name": "stderr"
        },
        {
          "output_type": "stream",
          "text": [
            "0:\tlearn: 6.7453948\ttest: 6.9850452\tbest: 6.9850452 (0)\ttotal: 187ms\tremaining: 1m 33s\n",
            "Stopped by overfitting detector  (20 iterations wait)\n",
            "\n",
            "bestTest = 1.748182246\n",
            "bestIteration = 12\n",
            "\n",
            "Shrink model to first 13 iterations.\n",
            "train_quantile_loss : 6.7454, test_quantile_loss : 1.7482\n",
            "| \u001b[0m 1       \u001b[0m | \u001b[0m-1.748   \u001b[0m | \u001b[0m 37.45   \u001b[0m | \u001b[0m 9.606   \u001b[0m | \u001b[0m 0.3687  \u001b[0m | \u001b[0m 6.388   \u001b[0m |\n"
          ],
          "name": "stdout"
        },
        {
          "output_type": "stream",
          "text": [
            "Warning: Overfitting detector is active, thus evaluation metric is calculated on every iteration. 'metric_period' is ignored for evaluation metric.\n"
          ],
          "name": "stderr"
        },
        {
          "output_type": "stream",
          "text": [
            "0:\tlearn: 9.8847421\ttest: 9.9106613\tbest: 9.9106613 (0)\ttotal: 31.1ms\tremaining: 15.5s\n",
            "100:\tlearn: 2.4640850\ttest: 1.8865834\tbest: 1.8865834 (100)\ttotal: 1.73s\tremaining: 6.85s\n",
            "200:\tlearn: 2.3200303\ttest: 1.7070003\tbest: 1.7070003 (200)\ttotal: 3.4s\tremaining: 5.06s\n",
            "300:\tlearn: 2.2687417\ttest: 1.6410705\tbest: 1.6410705 (300)\ttotal: 5.03s\tremaining: 3.32s\n",
            "400:\tlearn: 2.2065967\ttest: 1.5980282\tbest: 1.5975144 (399)\ttotal: 6.59s\tremaining: 1.63s\n",
            "Stopped by overfitting detector  (20 iterations wait)\n",
            "\n",
            "bestTest = 1.582542457\n",
            "bestIteration = 443\n",
            "\n",
            "Shrink model to first 444 iterations.\n",
            "train_quantile_loss : 2.1744, test_quantile_loss : 1.5825\n",
            "| \u001b[95m 2       \u001b[0m | \u001b[95m-1.583   \u001b[0m | \u001b[95m 15.6    \u001b[0m | \u001b[95m 3.248   \u001b[0m | \u001b[95m 0.03846 \u001b[0m | \u001b[95m 8.796   \u001b[0m |\n"
          ],
          "name": "stdout"
        },
        {
          "output_type": "stream",
          "text": [
            "Warning: Overfitting detector is active, thus evaluation metric is calculated on every iteration. 'metric_period' is ignored for evaluation metric.\n"
          ],
          "name": "stderr"
        },
        {
          "output_type": "stream",
          "text": [
            "0:\tlearn: 10.0688508\ttest: 10.0927283\tbest: 10.0927283 (0)\ttotal: 69ms\tremaining: 34.4s\n",
            "100:\tlearn: 2.9163774\ttest: 2.4731653\tbest: 2.4731653 (100)\ttotal: 6.01s\tremaining: 23.7s\n",
            "200:\tlearn: 2.2443342\ttest: 1.6844898\tbest: 1.6844898 (200)\ttotal: 11.7s\tremaining: 17.4s\n",
            "300:\tlearn: 2.1189182\ttest: 1.5593091\tbest: 1.5593091 (300)\ttotal: 17.4s\tremaining: 11.5s\n",
            "400:\tlearn: 2.0677722\ttest: 1.5113495\tbest: 1.5102546 (399)\ttotal: 22.9s\tremaining: 5.66s\n",
            "499:\tlearn: 2.0115249\ttest: 1.4870433\tbest: 1.4867269 (498)\ttotal: 28.4s\tremaining: 0us\n",
            "\n",
            "bestTest = 1.48672686\n",
            "bestIteration = 498\n",
            "\n",
            "Shrink model to first 499 iterations.\n",
            "train_quantile_loss : 2.0115, test_quantile_loss : 1.4867\n",
            "| \u001b[95m 3       \u001b[0m | \u001b[95m-1.487   \u001b[0m | \u001b[95m 60.11   \u001b[0m | \u001b[95m 7.665   \u001b[0m | \u001b[95m 0.02009 \u001b[0m | \u001b[95m 9.729   \u001b[0m |\n"
          ],
          "name": "stdout"
        },
        {
          "output_type": "stream",
          "text": [
            "Warning: Overfitting detector is active, thus evaluation metric is calculated on every iteration. 'metric_period' is ignored for evaluation metric.\n"
          ],
          "name": "stderr"
        },
        {
          "output_type": "stream",
          "text": [
            "0:\tlearn: 9.2815251\ttest: 9.3271325\tbest: 9.3271325 (0)\ttotal: 23.7ms\tremaining: 11.8s\n",
            "100:\tlearn: 2.3386073\ttest: 1.7297628\tbest: 1.7296319 (99)\ttotal: 1.65s\tremaining: 6.53s\n",
            "Stopped by overfitting detector  (20 iterations wait)\n",
            "\n",
            "bestTest = 1.62144288\n",
            "bestIteration = 172\n",
            "\n",
            "Shrink model to first 173 iterations.\n",
            "train_quantile_loss : 2.2496, test_quantile_loss : 1.6214\n",
            "| \u001b[0m 4       \u001b[0m | \u001b[0m-1.621   \u001b[0m | \u001b[0m 83.24   \u001b[0m | \u001b[0m 3.699   \u001b[0m | \u001b[0m 0.09909 \u001b[0m | \u001b[0m 2.651   \u001b[0m |\n"
          ],
          "name": "stdout"
        },
        {
          "output_type": "stream",
          "text": [
            "Warning: Overfitting detector is active, thus evaluation metric is calculated on every iteration. 'metric_period' is ignored for evaluation metric.\n"
          ],
          "name": "stderr"
        },
        {
          "output_type": "stream",
          "text": [
            "0:\tlearn: 8.0884741\ttest: 8.0957026\tbest: 8.0957026 (0)\ttotal: 56.8ms\tremaining: 28.4s\n",
            "Stopped by overfitting detector  (20 iterations wait)\n",
            "\n",
            "bestTest = 1.652872942\n",
            "bestIteration = 46\n",
            "\n",
            "Shrink model to first 47 iterations.\n",
            "train_quantile_loss : 2.1363, test_quantile_loss : 1.6529\n",
            "| \u001b[0m 5       \u001b[0m | \u001b[0m-1.653   \u001b[0m | \u001b[0m 30.42   \u001b[0m | \u001b[0m 6.198   \u001b[0m | \u001b[0m 0.2217  \u001b[0m | \u001b[0m 3.621   \u001b[0m |\n"
          ],
          "name": "stdout"
        },
        {
          "output_type": "stream",
          "text": [
            "Warning: Overfitting detector is active, thus evaluation metric is calculated on every iteration. 'metric_period' is ignored for evaluation metric.\n"
          ],
          "name": "stderr"
        },
        {
          "output_type": "stream",
          "text": [
            "0:\tlearn: 7.9509694\ttest: 8.1534130\tbest: 8.1534130 (0)\ttotal: 184ms\tremaining: 1m 31s\n",
            "Stopped by overfitting detector  (20 iterations wait)\n",
            "\n",
            "bestTest = 1.663494651\n",
            "bestIteration = 38\n",
            "\n",
            "Shrink model to first 39 iterations.\n",
            "train_quantile_loss : 1.8005, test_quantile_loss : 1.6635\n",
            "| \u001b[0m 6       \u001b[0m | \u001b[0m-1.663   \u001b[0m | \u001b[0m 0.1362  \u001b[0m | \u001b[0m 9.513   \u001b[0m | \u001b[0m 0.2328  \u001b[0m | \u001b[0m 1.919   \u001b[0m |\n"
          ],
          "name": "stdout"
        },
        {
          "output_type": "stream",
          "text": [
            "Warning: Overfitting detector is active, thus evaluation metric is calculated on every iteration. 'metric_period' is ignored for evaluation metric.\n"
          ],
          "name": "stderr"
        },
        {
          "output_type": "stream",
          "text": [
            "0:\tlearn: 10.1703625\ttest: 10.1925904\tbest: 10.1925904 (0)\ttotal: 292ms\tremaining: 2m 25s\n",
            "100:\tlearn: 4.4266128\ttest: 4.3767219\tbest: 4.3767219 (100)\ttotal: 28.4s\tremaining: 1m 52s\n",
            "200:\tlearn: 2.7825616\ttest: 2.4894322\tbest: 2.4894322 (200)\ttotal: 56.5s\tremaining: 1m 24s\n",
            "300:\tlearn: 2.2305680\ttest: 1.8924740\tbest: 1.8924740 (300)\ttotal: 1m 24s\tremaining: 55.7s\n",
            "400:\tlearn: 2.0134189\ttest: 1.6783199\tbest: 1.6783199 (400)\ttotal: 1m 51s\tremaining: 27.6s\n",
            "499:\tlearn: 1.9039967\ttest: 1.6023206\tbest: 1.6006074 (494)\ttotal: 2m 18s\tremaining: 0us\n",
            "\n",
            "bestTest = 1.600607391\n",
            "bestIteration = 494\n",
            "\n",
            "Shrink model to first 495 iterations.\n",
            "train_quantile_loss : 1.9040, test_quantile_loss : 1.6006\n",
            "| \u001b[0m 7       \u001b[0m | \u001b[0m-1.601   \u001b[0m | \u001b[0m 100.0   \u001b[0m | \u001b[0m 10.0    \u001b[0m | \u001b[0m 0.01    \u001b[0m | \u001b[0m 10.0    \u001b[0m |\n"
          ],
          "name": "stdout"
        },
        {
          "output_type": "stream",
          "text": [
            "Warning: Overfitting detector is active, thus evaluation metric is calculated on every iteration. 'metric_period' is ignored for evaluation metric.\n"
          ],
          "name": "stderr"
        },
        {
          "output_type": "stream",
          "text": [
            "0:\tlearn: 9.5656100\ttest: 9.5825107\tbest: 9.5825107 (0)\ttotal: 41.7ms\tremaining: 20.8s\n",
            "100:\tlearn: 2.1751095\ttest: 1.5692290\tbest: 1.5692290 (100)\ttotal: 3.9s\tremaining: 15.4s\n",
            "200:\tlearn: 1.9647125\ttest: 1.4783538\tbest: 1.4783538 (200)\ttotal: 7.57s\tremaining: 11.3s\n",
            "Stopped by overfitting detector  (20 iterations wait)\n",
            "\n",
            "bestTest = 1.471671701\n",
            "bestIteration = 211\n",
            "\n",
            "Shrink model to first 212 iterations.\n",
            "train_quantile_loss : 1.9647, test_quantile_loss : 1.4717\n",
            "| \u001b[95m 8       \u001b[0m | \u001b[95m-1.472   \u001b[0m | \u001b[95m 57.87   \u001b[0m | \u001b[95m 6.315   \u001b[0m | \u001b[95m 0.06923 \u001b[0m | \u001b[95m 9.748   \u001b[0m |\n"
          ],
          "name": "stdout"
        },
        {
          "output_type": "stream",
          "text": [
            "Warning: Overfitting detector is active, thus evaluation metric is calculated on every iteration. 'metric_period' is ignored for evaluation metric.\n"
          ],
          "name": "stderr"
        },
        {
          "output_type": "stream",
          "text": [
            "0:\tlearn: 6.0404223\ttest: 5.8959149\tbest: 5.8959149 (0)\ttotal: 14ms\tremaining: 6.97s\n",
            "Stopped by overfitting detector  (20 iterations wait)\n",
            "\n",
            "bestTest = 1.786816658\n",
            "bestIteration = 41\n",
            "\n",
            "Shrink model to first 42 iterations.\n",
            "train_quantile_loss : 2.3992, test_quantile_loss : 1.7868\n",
            "| \u001b[0m 9       \u001b[0m | \u001b[0m-1.787   \u001b[0m | \u001b[0m 73.82   \u001b[0m | \u001b[0m 2.0     \u001b[0m | \u001b[0m 0.5     \u001b[0m | \u001b[0m 10.0    \u001b[0m |\n"
          ],
          "name": "stdout"
        },
        {
          "output_type": "stream",
          "text": [
            "Warning: Overfitting detector is active, thus evaluation metric is calculated on every iteration. 'metric_period' is ignored for evaluation metric.\n"
          ],
          "name": "stderr"
        },
        {
          "output_type": "stream",
          "text": [
            "0:\tlearn: 10.1771394\ttest: 10.1853993\tbest: 10.1853993 (0)\ttotal: 13.8ms\tremaining: 6.91s\n",
            "100:\tlearn: 4.7858948\ttest: 4.5253396\tbest: 4.5253396 (100)\ttotal: 1.36s\tremaining: 5.38s\n",
            "200:\tlearn: 3.2545252\ttest: 2.7566046\tbest: 2.7566046 (200)\ttotal: 2.71s\tremaining: 4.03s\n",
            "300:\tlearn: 2.7517473\ttest: 2.1661455\tbest: 2.1661455 (300)\ttotal: 4.05s\tremaining: 2.68s\n",
            "400:\tlearn: 2.5600686\ttest: 1.9499486\tbest: 1.9499486 (400)\ttotal: 5.32s\tremaining: 1.31s\n",
            "499:\tlearn: 2.4822698\ttest: 1.8638759\tbest: 1.8638759 (499)\ttotal: 6.54s\tremaining: 0us\n",
            "\n",
            "bestTest = 1.863875873\n",
            "bestIteration = 499\n",
            "\n",
            "train_quantile_loss : 2.4823, test_quantile_loss : 1.8639\n",
            "| \u001b[0m 10      \u001b[0m | \u001b[0m-1.864   \u001b[0m | \u001b[0m 56.54   \u001b[0m | \u001b[0m 2.0     \u001b[0m | \u001b[0m 0.01    \u001b[0m | \u001b[0m 1.0     \u001b[0m |\n",
            "=========================================================================\n",
            "Final result: {'target': -1.4716717007085678, 'params': {'bagging_temperature': 57.870051992205916, 'depth': 6.315105994702476, 'learning_rate': 0.06923039148663679, 'min_data_in_leaf': 9.748107343068378}}\n",
            "---- Predict 0.7 ----\n"
          ],
          "name": "stdout"
        },
        {
          "output_type": "stream",
          "text": [
            "Warning: Overfitting detector is active, thus evaluation metric is calculated on every iteration. 'metric_period' is ignored for evaluation metric.\n"
          ],
          "name": "stderr"
        },
        {
          "output_type": "stream",
          "text": [
            "0:\tlearn: 9.5656100\ttest: 9.5825107\tbest: 9.5825107 (0)\ttotal: 45.9ms\tremaining: 22.9s\n",
            "100:\tlearn: 2.1751095\ttest: 1.5692290\tbest: 1.5692290 (100)\ttotal: 3.87s\tremaining: 15.3s\n",
            "200:\tlearn: 1.9647125\ttest: 1.4783538\tbest: 1.4783538 (200)\ttotal: 7.6s\tremaining: 11.3s\n",
            "Stopped by overfitting detector  (20 iterations wait)\n",
            "\n",
            "bestTest = 1.471671701\n",
            "bestIteration = 211\n",
            "\n",
            "Shrink model to first 212 iterations.\n",
            "-- Optimizing Quantile_0.8 Parameters --\n",
            "|   iter    |  target   | baggin... |   depth   | learni... | min_da... |\n",
            "-------------------------------------------------------------------------\n"
          ],
          "name": "stdout"
        },
        {
          "output_type": "stream",
          "text": [
            "Warning: Overfitting detector is active, thus evaluation metric is calculated on every iteration. 'metric_period' is ignored for evaluation metric.\n"
          ],
          "name": "stderr"
        },
        {
          "output_type": "stream",
          "text": [
            "0:\tlearn: 5.8710384\ttest: 5.8501376\tbest: 5.8501376 (0)\ttotal: 173ms\tremaining: 1m 26s\n",
            "Stopped by overfitting detector  (20 iterations wait)\n",
            "\n",
            "bestTest = 1.444353357\n",
            "bestIteration = 17\n",
            "\n",
            "Shrink model to first 18 iterations.\n",
            "train_quantile_loss : 5.8710, test_quantile_loss : 1.4444\n",
            "| \u001b[0m 1       \u001b[0m | \u001b[0m-1.444   \u001b[0m | \u001b[0m 37.45   \u001b[0m | \u001b[0m 9.606   \u001b[0m | \u001b[0m 0.3687  \u001b[0m | \u001b[0m 6.388   \u001b[0m |\n",
            "0:\tlearn: 8.6290181\ttest: 8.6183966\tbest: 8.6183966 (0)\ttotal: 14ms\tremaining: 6.98s\n"
          ],
          "name": "stdout"
        },
        {
          "output_type": "stream",
          "text": [
            "Warning: Overfitting detector is active, thus evaluation metric is calculated on every iteration. 'metric_period' is ignored for evaluation metric.\n"
          ],
          "name": "stderr"
        },
        {
          "output_type": "stream",
          "text": [
            "100:\tlearn: 1.8651930\ttest: 1.3672649\tbest: 1.3672649 (100)\ttotal: 1.68s\tremaining: 6.64s\n",
            "200:\tlearn: 1.7259830\ttest: 1.2327739\tbest: 1.2327739 (200)\ttotal: 3.2s\tremaining: 4.76s\n",
            "300:\tlearn: 1.6750722\ttest: 1.1841881\tbest: 1.1841881 (300)\ttotal: 4.69s\tremaining: 3.1s\n",
            "400:\tlearn: 1.6225774\ttest: 1.1520500\tbest: 1.1517049 (398)\ttotal: 6.17s\tremaining: 1.52s\n",
            "499:\tlearn: 1.5720830\ttest: 1.1234299\tbest: 1.1218626 (495)\ttotal: 7.58s\tremaining: 0us\n",
            "\n",
            "bestTest = 1.121862568\n",
            "bestIteration = 495\n",
            "\n",
            "Shrink model to first 496 iterations.\n",
            "train_quantile_loss : 1.5721, test_quantile_loss : 1.1219\n",
            "| \u001b[95m 2       \u001b[0m | \u001b[95m-1.122   \u001b[0m | \u001b[95m 15.6    \u001b[0m | \u001b[95m 3.248   \u001b[0m | \u001b[95m 0.03846 \u001b[0m | \u001b[95m 8.796   \u001b[0m |\n"
          ],
          "name": "stdout"
        },
        {
          "output_type": "stream",
          "text": [
            "Warning: Overfitting detector is active, thus evaluation metric is calculated on every iteration. 'metric_period' is ignored for evaluation metric.\n"
          ],
          "name": "stderr"
        },
        {
          "output_type": "stream",
          "text": [
            "0:\tlearn: 8.7715093\ttest: 8.7730739\tbest: 8.7730739 (0)\ttotal: 72.6ms\tremaining: 36.2s\n",
            "100:\tlearn: 2.3048074\ttest: 1.9112609\tbest: 1.9112609 (100)\ttotal: 5.72s\tremaining: 22.6s\n",
            "200:\tlearn: 1.6490516\ttest: 1.2139111\tbest: 1.2139111 (200)\ttotal: 11.3s\tremaining: 16.8s\n",
            "300:\tlearn: 1.5327307\ttest: 1.0805424\tbest: 1.0805424 (300)\ttotal: 16.8s\tremaining: 11.1s\n",
            "400:\tlearn: 1.4884119\ttest: 1.0417781\tbest: 1.0417781 (400)\ttotal: 22.4s\tremaining: 5.52s\n",
            "499:\tlearn: 1.4480114\ttest: 1.0201336\tbest: 1.0201335 (498)\ttotal: 27.9s\tremaining: 0us\n",
            "\n",
            "bestTest = 1.020133488\n",
            "bestIteration = 498\n",
            "\n",
            "Shrink model to first 499 iterations.\n",
            "train_quantile_loss : 1.4480, test_quantile_loss : 1.0201\n",
            "| \u001b[95m 3       \u001b[0m | \u001b[95m-1.02    \u001b[0m | \u001b[95m 60.11   \u001b[0m | \u001b[95m 7.665   \u001b[0m | \u001b[95m 0.02009 \u001b[0m | \u001b[95m 9.729   \u001b[0m |\n"
          ],
          "name": "stdout"
        },
        {
          "output_type": "stream",
          "text": [
            "Warning: Overfitting detector is active, thus evaluation metric is calculated on every iteration. 'metric_period' is ignored for evaluation metric.\n"
          ],
          "name": "stderr"
        },
        {
          "output_type": "stream",
          "text": [
            "0:\tlearn: 8.1351206\ttest: 8.0946614\tbest: 8.0946614 (0)\ttotal: 23ms\tremaining: 11.5s\n",
            "100:\tlearn: 1.7264126\ttest: 1.2415292\tbest: 1.2415292 (100)\ttotal: 1.62s\tremaining: 6.4s\n",
            "200:\tlearn: 1.5872142\ttest: 1.1501388\tbest: 1.1494733 (198)\ttotal: 3.08s\tremaining: 4.59s\n",
            "300:\tlearn: 1.5267724\ttest: 1.1114858\tbest: 1.1114858 (299)\ttotal: 4.48s\tremaining: 2.96s\n",
            "Stopped by overfitting detector  (20 iterations wait)\n",
            "\n",
            "bestTest = 1.095571469\n",
            "bestIteration = 346\n",
            "\n",
            "Shrink model to first 347 iterations.\n",
            "train_quantile_loss : 1.5089, test_quantile_loss : 1.0956\n",
            "| \u001b[0m 4       \u001b[0m | \u001b[0m-1.096   \u001b[0m | \u001b[0m 83.24   \u001b[0m | \u001b[0m 3.699   \u001b[0m | \u001b[0m 0.09909 \u001b[0m | \u001b[0m 2.651   \u001b[0m |\n"
          ],
          "name": "stdout"
        },
        {
          "output_type": "stream",
          "text": [
            "Warning: Overfitting detector is active, thus evaluation metric is calculated on every iteration. 'metric_period' is ignored for evaluation metric.\n"
          ],
          "name": "stderr"
        },
        {
          "output_type": "stream",
          "text": [
            "0:\tlearn: 7.1042944\ttest: 7.0477638\tbest: 7.0477638 (0)\ttotal: 45.6ms\tremaining: 22.7s\n",
            "100:\tlearn: 1.3956856\ttest: 1.2914937\tbest: 1.2646807 (91)\ttotal: 3.84s\tremaining: 15.2s\n",
            "Stopped by overfitting detector  (20 iterations wait)\n",
            "\n",
            "bestTest = 1.26468067\n",
            "bestIteration = 91\n",
            "\n",
            "Shrink model to first 92 iterations.\n",
            "train_quantile_loss : 1.3957, test_quantile_loss : 1.2647\n",
            "| \u001b[0m 5       \u001b[0m | \u001b[0m-1.265   \u001b[0m | \u001b[0m 30.42   \u001b[0m | \u001b[0m 6.198   \u001b[0m | \u001b[0m 0.2217  \u001b[0m | \u001b[0m 3.621   \u001b[0m |\n"
          ],
          "name": "stdout"
        },
        {
          "output_type": "stream",
          "text": [
            "Warning: Overfitting detector is active, thus evaluation metric is calculated on every iteration. 'metric_period' is ignored for evaluation metric.\n"
          ],
          "name": "stderr"
        },
        {
          "output_type": "stream",
          "text": [
            "0:\tlearn: 6.9212193\ttest: 6.9485645\tbest: 6.9485645 (0)\ttotal: 166ms\tremaining: 1m 22s\n",
            "Stopped by overfitting detector  (20 iterations wait)\n",
            "\n",
            "bestTest = 1.265595055\n",
            "bestIteration = 34\n",
            "\n",
            "Shrink model to first 35 iterations.\n",
            "train_quantile_loss : 1.3494, test_quantile_loss : 1.2656\n",
            "| \u001b[0m 6       \u001b[0m | \u001b[0m-1.266   \u001b[0m | \u001b[0m 0.1362  \u001b[0m | \u001b[0m 9.513   \u001b[0m | \u001b[0m 0.2328  \u001b[0m | \u001b[0m 1.919   \u001b[0m |\n"
          ],
          "name": "stdout"
        },
        {
          "output_type": "stream",
          "text": [
            "Warning: Overfitting detector is active, thus evaluation metric is calculated on every iteration. 'metric_period' is ignored for evaluation metric.\n"
          ],
          "name": "stderr"
        },
        {
          "output_type": "stream",
          "text": [
            "0:\tlearn: 8.8608455\ttest: 8.8755168\tbest: 8.8755168 (0)\ttotal: 294ms\tremaining: 2m 26s\n",
            "100:\tlearn: 3.7443364\ttest: 3.7089670\tbest: 3.7089670 (100)\ttotal: 27.9s\tremaining: 1m 50s\n",
            "200:\tlearn: 2.1792350\ttest: 2.0809602\tbest: 2.0809602 (200)\ttotal: 55.3s\tremaining: 1m 22s\n",
            "300:\tlearn: 1.6443674\ttest: 1.5124789\tbest: 1.5124789 (300)\ttotal: 1m 22s\tremaining: 54.7s\n",
            "400:\tlearn: 1.4372567\ttest: 1.3078690\tbest: 1.3078690 (400)\ttotal: 1m 50s\tremaining: 27.2s\n",
            "499:\tlearn: 1.3386674\ttest: 1.2364769\tbest: 1.2364769 (499)\ttotal: 2m 17s\tremaining: 0us\n",
            "\n",
            "bestTest = 1.236476862\n",
            "bestIteration = 499\n",
            "\n",
            "train_quantile_loss : 1.3387, test_quantile_loss : 1.2365\n",
            "| \u001b[0m 7       \u001b[0m | \u001b[0m-1.236   \u001b[0m | \u001b[0m 100.0   \u001b[0m | \u001b[0m 10.0    \u001b[0m | \u001b[0m 0.01    \u001b[0m | \u001b[0m 10.0    \u001b[0m |\n"
          ],
          "name": "stdout"
        },
        {
          "output_type": "stream",
          "text": [
            "Warning: Overfitting detector is active, thus evaluation metric is calculated on every iteration. 'metric_period' is ignored for evaluation metric.\n"
          ],
          "name": "stderr"
        },
        {
          "output_type": "stream",
          "text": [
            "0:\tlearn: 8.3833943\ttest: 8.3736101\tbest: 8.3736101 (0)\ttotal: 39.7ms\tremaining: 19.8s\n",
            "100:\tlearn: 1.6010940\ttest: 1.1185253\tbest: 1.1185253 (100)\ttotal: 3.87s\tremaining: 15.3s\n",
            "Stopped by overfitting detector  (20 iterations wait)\n",
            "\n",
            "bestTest = 1.071166729\n",
            "bestIteration = 159\n",
            "\n",
            "Shrink model to first 160 iterations.\n",
            "train_quantile_loss : 1.5468, test_quantile_loss : 1.0712\n",
            "| \u001b[0m 8       \u001b[0m | \u001b[0m-1.071   \u001b[0m | \u001b[0m 58.04   \u001b[0m | \u001b[0m 6.417   \u001b[0m | \u001b[0m 0.06551 \u001b[0m | \u001b[0m 9.747   \u001b[0m |\n"
          ],
          "name": "stdout"
        },
        {
          "output_type": "stream",
          "text": [
            "Warning: Overfitting detector is active, thus evaluation metric is calculated on every iteration. 'metric_period' is ignored for evaluation metric.\n"
          ],
          "name": "stderr"
        },
        {
          "output_type": "stream",
          "text": [
            "0:\tlearn: 8.8608455\ttest: 8.8755168\tbest: 8.8755168 (0)\ttotal: 299ms\tremaining: 2m 29s\n",
            "100:\tlearn: 3.7443364\ttest: 3.7089670\tbest: 3.7089670 (100)\ttotal: 27.9s\tremaining: 1m 50s\n",
            "200:\tlearn: 2.1792350\ttest: 2.0809602\tbest: 2.0809602 (200)\ttotal: 55s\tremaining: 1m 21s\n",
            "300:\tlearn: 1.6443674\ttest: 1.5124789\tbest: 1.5124789 (300)\ttotal: 1m 22s\tremaining: 54.3s\n",
            "400:\tlearn: 1.4372567\ttest: 1.3078690\tbest: 1.3078690 (400)\ttotal: 1m 49s\tremaining: 27s\n",
            "499:\tlearn: 1.3386674\ttest: 1.2364769\tbest: 1.2364769 (499)\ttotal: 2m 15s\tremaining: 0us\n",
            "\n",
            "bestTest = 1.236476862\n",
            "bestIteration = 499\n",
            "\n",
            "train_quantile_loss : 1.3387, test_quantile_loss : 1.2365\n",
            "| \u001b[0m 9       \u001b[0m | \u001b[0m-1.236   \u001b[0m | \u001b[0m 66.68   \u001b[0m | \u001b[0m 10.0    \u001b[0m | \u001b[0m 0.01    \u001b[0m | \u001b[0m 1.0     \u001b[0m |\n"
          ],
          "name": "stdout"
        },
        {
          "output_type": "stream",
          "text": [
            "Warning: Overfitting detector is active, thus evaluation metric is calculated on every iteration. 'metric_period' is ignored for evaluation metric.\n"
          ],
          "name": "stderr"
        },
        {
          "output_type": "stream",
          "text": [
            "0:\tlearn: 5.6392350\ttest: 5.4279536\tbest: 5.4279536 (0)\ttotal: 9.92ms\tremaining: 4.95s\n",
            "Stopped by overfitting detector  (20 iterations wait)\n",
            "\n",
            "bestTest = 1.365343206\n",
            "bestIteration = 62\n",
            "\n",
            "Shrink model to first 63 iterations.\n",
            "train_quantile_loss : 1.8413, test_quantile_loss : 1.3653\n",
            "| \u001b[0m 10      \u001b[0m | \u001b[0m-1.365   \u001b[0m | \u001b[0m 74.96   \u001b[0m | \u001b[0m 2.0     \u001b[0m | \u001b[0m 0.5     \u001b[0m | \u001b[0m 10.0    \u001b[0m |\n",
            "=========================================================================\n",
            "Final result: {'target': -1.0201334882076332, 'params': {'bagging_temperature': 60.11150117432088, 'depth': 7.664580622368364, 'learning_rate': 0.020086402204943198, 'min_data_in_leaf': 9.72918866945795}}\n",
            "---- Predict 0.8 ----\n"
          ],
          "name": "stdout"
        },
        {
          "output_type": "stream",
          "text": [
            "Warning: Overfitting detector is active, thus evaluation metric is calculated on every iteration. 'metric_period' is ignored for evaluation metric.\n"
          ],
          "name": "stderr"
        },
        {
          "output_type": "stream",
          "text": [
            "0:\tlearn: 8.7715093\ttest: 8.7730739\tbest: 8.7730739 (0)\ttotal: 62.4ms\tremaining: 31.1s\n",
            "100:\tlearn: 2.3048074\ttest: 1.9112609\tbest: 1.9112609 (100)\ttotal: 5.69s\tremaining: 22.5s\n",
            "200:\tlearn: 1.6490516\ttest: 1.2139111\tbest: 1.2139111 (200)\ttotal: 11.2s\tremaining: 16.7s\n",
            "300:\tlearn: 1.5327307\ttest: 1.0805424\tbest: 1.0805424 (300)\ttotal: 16.8s\tremaining: 11.1s\n",
            "400:\tlearn: 1.4884119\ttest: 1.0417781\tbest: 1.0417781 (400)\ttotal: 22.3s\tremaining: 5.51s\n",
            "499:\tlearn: 1.4480114\ttest: 1.0201336\tbest: 1.0201335 (498)\ttotal: 27.8s\tremaining: 0us\n",
            "\n",
            "bestTest = 1.020133488\n",
            "bestIteration = 498\n",
            "\n",
            "Shrink model to first 499 iterations.\n",
            "-- Optimizing Quantile_0.9 Parameters --\n",
            "|   iter    |  target   | baggin... |   depth   | learni... | min_da... |\n",
            "-------------------------------------------------------------------------\n"
          ],
          "name": "stdout"
        },
        {
          "output_type": "stream",
          "text": [
            "Warning: Overfitting detector is active, thus evaluation metric is calculated on every iteration. 'metric_period' is ignored for evaluation metric.\n"
          ],
          "name": "stderr"
        },
        {
          "output_type": "stream",
          "text": [
            "0:\tlearn: 4.1715150\ttest: 4.0522332\tbest: 4.0522332 (0)\ttotal: 168ms\tremaining: 1m 23s\n",
            "Stopped by overfitting detector  (20 iterations wait)\n",
            "\n",
            "bestTest = 0.9099034945\n",
            "bestIteration = 11\n",
            "\n",
            "Shrink model to first 12 iterations.\n",
            "train_quantile_loss : 4.1715, test_quantile_loss : 0.9099\n",
            "| \u001b[0m 1       \u001b[0m | \u001b[0m-0.9099  \u001b[0m | \u001b[0m 37.45   \u001b[0m | \u001b[0m 9.606   \u001b[0m | \u001b[0m 0.3687  \u001b[0m | \u001b[0m 6.388   \u001b[0m |\n",
            "0:\tlearn: 5.6448030\ttest: 5.6235076\tbest: 5.6235076 (0)\ttotal: 12.9ms\tremaining: 6.45s\n"
          ],
          "name": "stdout"
        },
        {
          "output_type": "stream",
          "text": [
            "Warning: Overfitting detector is active, thus evaluation metric is calculated on every iteration. 'metric_period' is ignored for evaluation metric.\n"
          ],
          "name": "stderr"
        },
        {
          "output_type": "stream",
          "text": [
            "100:\tlearn: 1.1023478\ttest: 0.8201480\tbest: 0.8201480 (100)\ttotal: 1.49s\tremaining: 5.9s\n",
            "200:\tlearn: 0.9474073\ttest: 0.6683391\tbest: 0.6683391 (200)\ttotal: 3.02s\tremaining: 4.5s\n",
            "300:\tlearn: 0.9171378\ttest: 0.6431833\tbest: 0.6431833 (300)\ttotal: 4.53s\tremaining: 2.99s\n",
            "Stopped by overfitting detector  (20 iterations wait)\n",
            "\n",
            "bestTest = 0.6387876007\n",
            "bestIteration = 352\n",
            "\n",
            "Shrink model to first 353 iterations.\n",
            "train_quantile_loss : 0.9092, test_quantile_loss : 0.6388\n",
            "| \u001b[95m 2       \u001b[0m | \u001b[95m-0.6388  \u001b[0m | \u001b[95m 15.6    \u001b[0m | \u001b[95m 3.248   \u001b[0m | \u001b[95m 0.03846 \u001b[0m | \u001b[95m 8.796   \u001b[0m |\n"
          ],
          "name": "stdout"
        },
        {
          "output_type": "stream",
          "text": [
            "Warning: Overfitting detector is active, thus evaluation metric is calculated on every iteration. 'metric_period' is ignored for evaluation metric.\n"
          ],
          "name": "stderr"
        },
        {
          "output_type": "stream",
          "text": [
            "0:\tlearn: 5.6808026\ttest: 5.6752996\tbest: 5.6752996 (0)\ttotal: 64.9ms\tremaining: 32.4s\n",
            "100:\tlearn: 1.5542670\ttest: 1.3209739\tbest: 1.3209739 (100)\ttotal: 5.46s\tremaining: 21.6s\n",
            "200:\tlearn: 0.9727243\ttest: 0.7658020\tbest: 0.7658020 (200)\ttotal: 10.9s\tremaining: 16.3s\n",
            "300:\tlearn: 0.8723774\ttest: 0.6741789\tbest: 0.6741789 (300)\ttotal: 16.4s\tremaining: 10.9s\n",
            "400:\tlearn: 0.8218481\ttest: 0.6417428\tbest: 0.6417300 (398)\ttotal: 22.1s\tremaining: 5.46s\n",
            "499:\tlearn: 0.7909929\ttest: 0.6320319\tbest: 0.6319556 (498)\ttotal: 27.8s\tremaining: 0us\n",
            "\n",
            "bestTest = 0.6319555989\n",
            "bestIteration = 498\n",
            "\n",
            "Shrink model to first 499 iterations.\n",
            "train_quantile_loss : 0.7910, test_quantile_loss : 0.6320\n",
            "| \u001b[95m 3       \u001b[0m | \u001b[95m-0.632   \u001b[0m | \u001b[95m 60.11   \u001b[0m | \u001b[95m 7.665   \u001b[0m | \u001b[95m 0.02009 \u001b[0m | \u001b[95m 9.729   \u001b[0m |\n"
          ],
          "name": "stdout"
        },
        {
          "output_type": "stream",
          "text": [
            "Warning: Overfitting detector is active, thus evaluation metric is calculated on every iteration. 'metric_period' is ignored for evaluation metric.\n"
          ],
          "name": "stderr"
        },
        {
          "output_type": "stream",
          "text": [
            "0:\tlearn: 5.4486654\ttest: 5.3898142\tbest: 5.3898142 (0)\ttotal: 20.6ms\tremaining: 10.3s\n",
            "100:\tlearn: 0.9609636\ttest: 0.6830409\tbest: 0.6828365 (99)\ttotal: 1.54s\tremaining: 6.1s\n",
            "200:\tlearn: 0.8988993\ttest: 0.6509203\tbest: 0.6508846 (194)\ttotal: 2.99s\tremaining: 4.45s\n",
            "Stopped by overfitting detector  (20 iterations wait)\n",
            "\n",
            "bestTest = 0.6508846279\n",
            "bestIteration = 194\n",
            "\n",
            "Shrink model to first 195 iterations.\n",
            "train_quantile_loss : 0.8989, test_quantile_loss : 0.6509\n",
            "| \u001b[0m 4       \u001b[0m | \u001b[0m-0.6509  \u001b[0m | \u001b[0m 83.24   \u001b[0m | \u001b[0m 3.699   \u001b[0m | \u001b[0m 0.09909 \u001b[0m | \u001b[0m 2.651   \u001b[0m |\n",
            "0:\tlearn: 4.8171182\ttest: 4.7084695\tbest: 4.7084695 (0)\ttotal: 35.8ms\tremaining: 17.9s\n"
          ],
          "name": "stdout"
        },
        {
          "output_type": "stream",
          "text": [
            "Warning: Overfitting detector is active, thus evaluation metric is calculated on every iteration. 'metric_period' is ignored for evaluation metric.\n"
          ],
          "name": "stderr"
        },
        {
          "output_type": "stream",
          "text": [
            "Stopped by overfitting detector  (20 iterations wait)\n",
            "\n",
            "bestTest = 0.7552168761\n",
            "bestIteration = 31\n",
            "\n",
            "Shrink model to first 32 iterations.\n",
            "train_quantile_loss : 0.9301, test_quantile_loss : 0.7552\n",
            "| \u001b[0m 5       \u001b[0m | \u001b[0m-0.7552  \u001b[0m | \u001b[0m 30.42   \u001b[0m | \u001b[0m 6.198   \u001b[0m | \u001b[0m 0.2217  \u001b[0m | \u001b[0m 3.621   \u001b[0m |\n"
          ],
          "name": "stdout"
        },
        {
          "output_type": "stream",
          "text": [
            "Warning: Overfitting detector is active, thus evaluation metric is calculated on every iteration. 'metric_period' is ignored for evaluation metric.\n"
          ],
          "name": "stderr"
        },
        {
          "output_type": "stream",
          "text": [
            "0:\tlearn: 4.7119403\ttest: 4.6497638\tbest: 4.6497638 (0)\ttotal: 161ms\tremaining: 1m 20s\n",
            "Stopped by overfitting detector  (20 iterations wait)\n",
            "\n",
            "bestTest = 0.8708402172\n",
            "bestIteration = 25\n",
            "\n",
            "Shrink model to first 26 iterations.\n",
            "train_quantile_loss : 4.7119, test_quantile_loss : 0.8708\n",
            "| \u001b[0m 6       \u001b[0m | \u001b[0m-0.8708  \u001b[0m | \u001b[0m 0.1362  \u001b[0m | \u001b[0m 9.513   \u001b[0m | \u001b[0m 0.2328  \u001b[0m | \u001b[0m 1.919   \u001b[0m |\n"
          ],
          "name": "stdout"
        },
        {
          "output_type": "stream",
          "text": [
            "Warning: Overfitting detector is active, thus evaluation metric is calculated on every iteration. 'metric_period' is ignored for evaluation metric.\n"
          ],
          "name": "stderr"
        },
        {
          "output_type": "stream",
          "text": [
            "0:\tlearn: 5.7241677\ttest: 5.7256162\tbest: 5.7256162 (0)\ttotal: 279ms\tremaining: 2m 19s\n",
            "100:\tlearn: 2.5610606\ttest: 2.7079222\tbest: 2.7079222 (100)\ttotal: 27.6s\tremaining: 1m 48s\n",
            "200:\tlearn: 1.4319377\ttest: 1.5891401\tbest: 1.5891401 (200)\ttotal: 55s\tremaining: 1m 21s\n",
            "300:\tlearn: 1.0061438\ttest: 1.1828175\tbest: 1.1828175 (300)\ttotal: 1m 22s\tremaining: 54.5s\n",
            "400:\tlearn: 0.8345418\ttest: 1.0361795\tbest: 1.0361795 (400)\ttotal: 1m 50s\tremaining: 27.2s\n",
            "499:\tlearn: 0.7595938\ttest: 0.9887862\tbest: 0.9887862 (499)\ttotal: 2m 17s\tremaining: 0us\n",
            "\n",
            "bestTest = 0.9887861795\n",
            "bestIteration = 499\n",
            "\n",
            "train_quantile_loss : 0.7596, test_quantile_loss : 0.9888\n",
            "| \u001b[0m 7       \u001b[0m | \u001b[0m-0.9888  \u001b[0m | \u001b[0m 100.0   \u001b[0m | \u001b[0m 10.0    \u001b[0m | \u001b[0m 0.01    \u001b[0m | \u001b[0m 10.0    \u001b[0m |\n"
          ],
          "name": "stdout"
        },
        {
          "output_type": "stream",
          "text": [
            "Warning: Overfitting detector is active, thus evaluation metric is calculated on every iteration. 'metric_period' is ignored for evaluation metric.\n"
          ],
          "name": "stderr"
        },
        {
          "output_type": "stream",
          "text": [
            "0:\tlearn: 5.1232093\ttest: 4.9868620\tbest: 4.9868620 (0)\ttotal: 9.37ms\tremaining: 4.68s\n",
            "100:\tlearn: 1.0261614\ttest: 0.7382248\tbest: 0.7362209 (82)\ttotal: 1.13s\tremaining: 4.48s\n",
            "Stopped by overfitting detector  (20 iterations wait)\n",
            "\n",
            "bestTest = 0.7362208751\n",
            "bestIteration = 82\n",
            "\n",
            "Shrink model to first 83 iterations.\n",
            "train_quantile_loss : 1.0262, test_quantile_loss : 0.7362\n",
            "| \u001b[0m 8       \u001b[0m | \u001b[0m-0.7362  \u001b[0m | \u001b[0m 0.4478  \u001b[0m | \u001b[0m 2.323   \u001b[0m | \u001b[0m 0.2386  \u001b[0m | \u001b[0m 4.169   \u001b[0m |\n"
          ],
          "name": "stdout"
        },
        {
          "output_type": "stream",
          "text": [
            "Warning: Overfitting detector is active, thus evaluation metric is calculated on every iteration. 'metric_period' is ignored for evaluation metric.\n"
          ],
          "name": "stderr"
        },
        {
          "output_type": "stream",
          "text": [
            "0:\tlearn: 3.8300634\ttest: 3.5446222\tbest: 3.5446222 (0)\ttotal: 52.3ms\tremaining: 26.1s\n",
            "Stopped by overfitting detector  (20 iterations wait)\n",
            "\n",
            "bestTest = 0.8110161558\n",
            "bestIteration = 19\n",
            "\n",
            "Shrink model to first 20 iterations.\n",
            "train_quantile_loss : 3.8301, test_quantile_loss : 0.8110\n",
            "| \u001b[0m 9       \u001b[0m | \u001b[0m-0.811   \u001b[0m | \u001b[0m 97.08   \u001b[0m | \u001b[0m 7.677   \u001b[0m | \u001b[0m 0.497   \u001b[0m | \u001b[0m 4.365   \u001b[0m |\n"
          ],
          "name": "stdout"
        },
        {
          "output_type": "stream",
          "text": [
            "Warning: Overfitting detector is active, thus evaluation metric is calculated on every iteration. 'metric_period' is ignored for evaluation metric.\n"
          ],
          "name": "stderr"
        },
        {
          "output_type": "stream",
          "text": [
            "0:\tlearn: 3.7915666\ttest: 3.6378635\tbest: 3.6378635 (0)\ttotal: 163ms\tremaining: 1m 21s\n",
            "Stopped by overfitting detector  (20 iterations wait)\n",
            "\n",
            "bestTest = 0.8575067168\n",
            "bestIteration = 9\n",
            "\n",
            "Shrink model to first 10 iterations.\n",
            "train_quantile_loss : 3.7916, test_quantile_loss : 0.8575\n",
            "| \u001b[0m 10      \u001b[0m | \u001b[0m-0.8575  \u001b[0m | \u001b[0m 60.07   \u001b[0m | \u001b[0m 9.011   \u001b[0m | \u001b[0m 0.478   \u001b[0m | \u001b[0m 7.585   \u001b[0m |\n",
            "=========================================================================\n",
            "Final result: {'target': -0.631955598856875, 'params': {'bagging_temperature': 60.11150117432088, 'depth': 7.664580622368364, 'learning_rate': 0.020086402204943198, 'min_data_in_leaf': 9.72918866945795}}\n",
            "---- Predict 0.9 ----\n"
          ],
          "name": "stdout"
        },
        {
          "output_type": "stream",
          "text": [
            "Warning: Overfitting detector is active, thus evaluation metric is calculated on every iteration. 'metric_period' is ignored for evaluation metric.\n"
          ],
          "name": "stderr"
        },
        {
          "output_type": "stream",
          "text": [
            "0:\tlearn: 5.6808026\ttest: 5.6752996\tbest: 5.6752996 (0)\ttotal: 63.5ms\tremaining: 31.7s\n",
            "100:\tlearn: 1.5542670\ttest: 1.3209739\tbest: 1.3209739 (100)\ttotal: 5.49s\tremaining: 21.7s\n",
            "200:\tlearn: 0.9727243\ttest: 0.7658020\tbest: 0.7658020 (200)\ttotal: 11s\tremaining: 16.4s\n",
            "300:\tlearn: 0.8723774\ttest: 0.6741789\tbest: 0.6741789 (300)\ttotal: 16.5s\tremaining: 10.9s\n",
            "400:\tlearn: 0.8218481\ttest: 0.6417428\tbest: 0.6417300 (398)\ttotal: 22.2s\tremaining: 5.47s\n",
            "499:\tlearn: 0.7909929\ttest: 0.6320319\tbest: 0.6319556 (498)\ttotal: 27.9s\tremaining: 0us\n",
            "\n",
            "bestTest = 0.6319555989\n",
            "bestIteration = 498\n",
            "\n",
            "Shrink model to first 499 iterations.\n"
          ],
          "name": "stdout"
        }
      ]
    },
    {
      "cell_type": "markdown",
      "metadata": {
        "id": "Uz3VDXY7dYwe"
      },
      "source": [
        "# 4. Submission"
      ]
    },
    {
      "cell_type": "markdown",
      "metadata": {
        "id": "10Mtu_fqdasn"
      },
      "source": [
        "## TARGET 1 앙상블"
      ]
    },
    {
      "cell_type": "code",
      "metadata": {
        "id": "cmAubbCv4ABC"
      },
      "source": [
        "test_files_1  = sorted(glob.glob('/content/drive/MyDrive/DACON/태양광/quantiles/catboost/year1/*csv'))\r\n",
        "test_files_2  = sorted(glob.glob('/content/drive/MyDrive/DACON/태양광/quantiles/catboost/year2/*csv'))\r\n",
        "test_files_3  = sorted(glob.glob('/content/drive/MyDrive/DACON/태양광/quantiles/catboost/year3/*csv'))"
      ],
      "execution_count": null,
      "outputs": []
    },
    {
      "cell_type": "code",
      "metadata": {
        "id": "Bj4U15fwPkhr",
        "colab": {
          "base_uri": "https://localhost:8080/"
        },
        "outputId": "02f9a00b-44fa-4387-f412-96c37236ce6b"
      },
      "source": [
        "result_1 = []\r\n",
        "result_1 = pd.DataFrame()\r\n",
        "\r\n",
        "for i in range(0,len(test_files_1)):\r\n",
        "  result_1 = pd.concat([result_1, pd.read_csv(test_files_1[i])], axis=1)\r\n",
        "\r\n",
        "result_2 = []\r\n",
        "result_2 = pd.DataFrame()\r\n",
        "\r\n",
        "for i in range(0,len(test_files_2)):\r\n",
        "  result_2 = pd.concat([result_2, pd.read_csv(test_files_2[i])], axis=1)\r\n",
        "\r\n",
        "result_3 = []\r\n",
        "result_3 = pd.DataFrame()\r\n",
        "\r\n",
        "for i in range(0,len(test_files_3)):\r\n",
        "  result_3 = pd.concat([result_3, pd.read_csv(test_files_3[i])], axis=1)\r\n",
        "\r\n",
        "result_1.columns = ['0.1', '0.2', '0.3', '0.4', '0.5', '0.6', '0.7', '0.8', '0.9']\r\n",
        "result_2.columns = ['0.1', '0.2', '0.3', '0.4', '0.5', '0.6', '0.7', '0.8', '0.9']\r\n",
        "result_3.columns = ['0.1', '0.2', '0.3', '0.4', '0.5', '0.6', '0.7', '0.8', '0.9']\r\n",
        "\r\n",
        "print(result_1.shape, result_2.shape, result_3.shape)"
      ],
      "execution_count": null,
      "outputs": [
        {
          "output_type": "stream",
          "text": [
            "(3888, 9) (3888, 9) (3888, 9)\n"
          ],
          "name": "stdout"
        }
      ]
    },
    {
      "cell_type": "code",
      "metadata": {
        "id": "12wd5I3ePw1M",
        "colab": {
          "base_uri": "https://localhost:8080/",
          "height": 402
        },
        "outputId": "70da39e9-3bfd-4707-d51b-d300f1c80692"
      },
      "source": [
        "day_1_res = []\r\n",
        "day_1_res = pd.DataFrame(columns=['0.1', '0.2', '0.3', '0.4', '0.5', '0.6', '0.7', '0.8', '0.9'])\r\n",
        "\r\n",
        "for i in result_1.columns:\r\n",
        "  day_1_res[i] = (result_1[i] + result_2[i] + result_3[i]) / 3\r\n",
        "\r\n",
        "def to_zero(x):\r\n",
        "  if x < 0:\r\n",
        "    return 0\r\n",
        "  else:\r\n",
        "    return x\r\n",
        "\r\n",
        "for i in result_1.columns:\r\n",
        "  day_1_res[i] = day_1_res[i].apply(to_zero)\r\n",
        "  \r\n",
        "display(day_1_res)"
      ],
      "execution_count": null,
      "outputs": [
        {
          "output_type": "display_data",
          "data": {
            "text/html": [
              "<div>\n",
              "<style scoped>\n",
              "    .dataframe tbody tr th:only-of-type {\n",
              "        vertical-align: middle;\n",
              "    }\n",
              "\n",
              "    .dataframe tbody tr th {\n",
              "        vertical-align: top;\n",
              "    }\n",
              "\n",
              "    .dataframe thead th {\n",
              "        text-align: right;\n",
              "    }\n",
              "</style>\n",
              "<table border=\"1\" class=\"dataframe\">\n",
              "  <thead>\n",
              "    <tr style=\"text-align: right;\">\n",
              "      <th></th>\n",
              "      <th>0.1</th>\n",
              "      <th>0.2</th>\n",
              "      <th>0.3</th>\n",
              "      <th>0.4</th>\n",
              "      <th>0.5</th>\n",
              "      <th>0.6</th>\n",
              "      <th>0.7</th>\n",
              "      <th>0.8</th>\n",
              "      <th>0.9</th>\n",
              "    </tr>\n",
              "  </thead>\n",
              "  <tbody>\n",
              "    <tr>\n",
              "      <th>0</th>\n",
              "      <td>2.688103e-07</td>\n",
              "      <td>3.619210e-01</td>\n",
              "      <td>0.000000e+00</td>\n",
              "      <td>0.000000e+00</td>\n",
              "      <td>5.423489e-02</td>\n",
              "      <td>0.017449</td>\n",
              "      <td>6.904331e-02</td>\n",
              "      <td>4.604972e-07</td>\n",
              "      <td>0.045872</td>\n",
              "    </tr>\n",
              "    <tr>\n",
              "      <th>1</th>\n",
              "      <td>2.688103e-07</td>\n",
              "      <td>3.619208e-01</td>\n",
              "      <td>0.000000e+00</td>\n",
              "      <td>0.000000e+00</td>\n",
              "      <td>5.423489e-02</td>\n",
              "      <td>0.017449</td>\n",
              "      <td>6.904331e-02</td>\n",
              "      <td>4.604972e-07</td>\n",
              "      <td>0.045872</td>\n",
              "    </tr>\n",
              "    <tr>\n",
              "      <th>2</th>\n",
              "      <td>2.688103e-07</td>\n",
              "      <td>3.619208e-01</td>\n",
              "      <td>0.000000e+00</td>\n",
              "      <td>0.000000e+00</td>\n",
              "      <td>5.423489e-02</td>\n",
              "      <td>0.017449</td>\n",
              "      <td>6.904331e-02</td>\n",
              "      <td>4.604972e-07</td>\n",
              "      <td>0.045872</td>\n",
              "    </tr>\n",
              "    <tr>\n",
              "      <th>3</th>\n",
              "      <td>2.688103e-07</td>\n",
              "      <td>3.619208e-01</td>\n",
              "      <td>0.000000e+00</td>\n",
              "      <td>0.000000e+00</td>\n",
              "      <td>5.423489e-02</td>\n",
              "      <td>0.017449</td>\n",
              "      <td>6.904317e-02</td>\n",
              "      <td>4.604972e-07</td>\n",
              "      <td>0.045872</td>\n",
              "    </tr>\n",
              "    <tr>\n",
              "      <th>4</th>\n",
              "      <td>2.688103e-07</td>\n",
              "      <td>3.619208e-01</td>\n",
              "      <td>0.000000e+00</td>\n",
              "      <td>0.000000e+00</td>\n",
              "      <td>5.423489e-02</td>\n",
              "      <td>0.017449</td>\n",
              "      <td>6.904320e-02</td>\n",
              "      <td>4.604972e-07</td>\n",
              "      <td>0.045872</td>\n",
              "    </tr>\n",
              "    <tr>\n",
              "      <th>...</th>\n",
              "      <td>...</td>\n",
              "      <td>...</td>\n",
              "      <td>...</td>\n",
              "      <td>...</td>\n",
              "      <td>...</td>\n",
              "      <td>...</td>\n",
              "      <td>...</td>\n",
              "      <td>...</td>\n",
              "      <td>...</td>\n",
              "    </tr>\n",
              "    <tr>\n",
              "      <th>3883</th>\n",
              "      <td>9.839564e-07</td>\n",
              "      <td>2.037288e-07</td>\n",
              "      <td>3.122214e-07</td>\n",
              "      <td>3.919125e-07</td>\n",
              "      <td>3.637034e-08</td>\n",
              "      <td>0.019523</td>\n",
              "      <td>5.731814e-07</td>\n",
              "      <td>0.000000e+00</td>\n",
              "      <td>0.214571</td>\n",
              "    </tr>\n",
              "    <tr>\n",
              "      <th>3884</th>\n",
              "      <td>9.839564e-07</td>\n",
              "      <td>2.240480e-07</td>\n",
              "      <td>1.691648e-07</td>\n",
              "      <td>3.919125e-07</td>\n",
              "      <td>3.637034e-08</td>\n",
              "      <td>0.019523</td>\n",
              "      <td>5.731814e-07</td>\n",
              "      <td>0.000000e+00</td>\n",
              "      <td>0.214571</td>\n",
              "    </tr>\n",
              "    <tr>\n",
              "      <th>3885</th>\n",
              "      <td>9.839564e-07</td>\n",
              "      <td>0.000000e+00</td>\n",
              "      <td>3.133572e-07</td>\n",
              "      <td>3.911902e-07</td>\n",
              "      <td>3.637034e-08</td>\n",
              "      <td>0.019523</td>\n",
              "      <td>5.731814e-07</td>\n",
              "      <td>0.000000e+00</td>\n",
              "      <td>0.214571</td>\n",
              "    </tr>\n",
              "    <tr>\n",
              "      <th>3886</th>\n",
              "      <td>9.839564e-07</td>\n",
              "      <td>0.000000e+00</td>\n",
              "      <td>3.486931e-07</td>\n",
              "      <td>5.212565e-07</td>\n",
              "      <td>3.637034e-08</td>\n",
              "      <td>0.019523</td>\n",
              "      <td>5.599050e-07</td>\n",
              "      <td>0.000000e+00</td>\n",
              "      <td>0.214571</td>\n",
              "    </tr>\n",
              "    <tr>\n",
              "      <th>3887</th>\n",
              "      <td>9.839564e-07</td>\n",
              "      <td>0.000000e+00</td>\n",
              "      <td>4.256570e-07</td>\n",
              "      <td>5.212565e-07</td>\n",
              "      <td>3.637034e-08</td>\n",
              "      <td>0.019523</td>\n",
              "      <td>7.155486e-07</td>\n",
              "      <td>0.000000e+00</td>\n",
              "      <td>0.214571</td>\n",
              "    </tr>\n",
              "  </tbody>\n",
              "</table>\n",
              "<p>3888 rows × 9 columns</p>\n",
              "</div>"
            ],
            "text/plain": [
              "               0.1           0.2  ...           0.8       0.9\n",
              "0     2.688103e-07  3.619210e-01  ...  4.604972e-07  0.045872\n",
              "1     2.688103e-07  3.619208e-01  ...  4.604972e-07  0.045872\n",
              "2     2.688103e-07  3.619208e-01  ...  4.604972e-07  0.045872\n",
              "3     2.688103e-07  3.619208e-01  ...  4.604972e-07  0.045872\n",
              "4     2.688103e-07  3.619208e-01  ...  4.604972e-07  0.045872\n",
              "...            ...           ...  ...           ...       ...\n",
              "3883  9.839564e-07  2.037288e-07  ...  0.000000e+00  0.214571\n",
              "3884  9.839564e-07  2.240480e-07  ...  0.000000e+00  0.214571\n",
              "3885  9.839564e-07  0.000000e+00  ...  0.000000e+00  0.214571\n",
              "3886  9.839564e-07  0.000000e+00  ...  0.000000e+00  0.214571\n",
              "3887  9.839564e-07  0.000000e+00  ...  0.000000e+00  0.214571\n",
              "\n",
              "[3888 rows x 9 columns]"
            ]
          },
          "metadata": {
            "tags": []
          }
        }
      ]
    },
    {
      "cell_type": "markdown",
      "metadata": {
        "id": "6pJdj4prfB24"
      },
      "source": [
        "# 4. Permutation Importance"
      ]
    },
    {
      "cell_type": "code",
      "metadata": {
        "colab": {
          "base_uri": "https://localhost:8080/",
          "height": 1000
        },
        "id": "uF2rqklLQnnW",
        "outputId": "3507c76e-f126-4a28-a2be-e059f6d1127e"
      },
      "source": [
        "!pip install eli5\r\n",
        "import eli5\r\n",
        "from eli5.sklearn import PermutationImportance\r\n",
        "\r\n",
        "perm = PermutationImportance(cb_model,n_iter=5, random_state=42).fit(X_valid_1, Y_valid_1)\r\n",
        "eli5.show_weights(perm, top=100, feature_names = X_valid_1.columns.tolist())"
      ],
      "execution_count": null,
      "outputs": [
        {
          "output_type": "stream",
          "text": [
            "Collecting eli5\n",
            "\u001b[?25l  Downloading https://files.pythonhosted.org/packages/d1/54/04cab6e1c0ae535bec93f795d8403fdf6caf66fa5a6512263202dbb14ea6/eli5-0.11.0-py2.py3-none-any.whl (106kB)\n",
            "\r\u001b[K     |███                             | 10kB 13.2MB/s eta 0:00:01\r\u001b[K     |██████▏                         | 20kB 12.5MB/s eta 0:00:01\r\u001b[K     |█████████▎                      | 30kB 8.3MB/s eta 0:00:01\r\u001b[K     |████████████▍                   | 40kB 8.3MB/s eta 0:00:01\r\u001b[K     |███████████████▌                | 51kB 5.5MB/s eta 0:00:01\r\u001b[K     |██████████████████▌             | 61kB 6.0MB/s eta 0:00:01\r\u001b[K     |█████████████████████▋          | 71kB 6.0MB/s eta 0:00:01\r\u001b[K     |████████████████████████▊       | 81kB 6.4MB/s eta 0:00:01\r\u001b[K     |███████████████████████████▉    | 92kB 6.1MB/s eta 0:00:01\r\u001b[K     |███████████████████████████████ | 102kB 6.4MB/s eta 0:00:01\r\u001b[K     |████████████████████████████████| 112kB 6.4MB/s \n",
            "\u001b[?25hRequirement already satisfied: scipy in /usr/local/lib/python3.7/dist-packages (from eli5) (1.4.1)\n",
            "Requirement already satisfied: tabulate>=0.7.7 in /usr/local/lib/python3.7/dist-packages (from eli5) (0.8.9)\n",
            "Requirement already satisfied: six in /usr/local/lib/python3.7/dist-packages (from eli5) (1.15.0)\n",
            "Requirement already satisfied: graphviz in /usr/local/lib/python3.7/dist-packages (from eli5) (0.10.1)\n",
            "Requirement already satisfied: scikit-learn>=0.20 in /usr/local/lib/python3.7/dist-packages (from eli5) (0.22.2.post1)\n",
            "Requirement already satisfied: numpy>=1.9.0 in /usr/local/lib/python3.7/dist-packages (from eli5) (1.19.5)\n",
            "Requirement already satisfied: attrs>16.0.0 in /usr/local/lib/python3.7/dist-packages (from eli5) (20.3.0)\n",
            "Requirement already satisfied: jinja2 in /usr/local/lib/python3.7/dist-packages (from eli5) (2.11.3)\n",
            "Requirement already satisfied: joblib>=0.11 in /usr/local/lib/python3.7/dist-packages (from scikit-learn>=0.20->eli5) (1.0.1)\n",
            "Requirement already satisfied: MarkupSafe>=0.23 in /usr/local/lib/python3.7/dist-packages (from jinja2->eli5) (1.1.1)\n",
            "Installing collected packages: eli5\n",
            "Successfully installed eli5-0.11.0\n"
          ],
          "name": "stdout"
        },
        {
          "output_type": "execute_result",
          "data": {
            "text/html": [
              "\n",
              "    <style>\n",
              "    table.eli5-weights tr:hover {\n",
              "        filter: brightness(85%);\n",
              "    }\n",
              "</style>\n",
              "\n",
              "\n",
              "\n",
              "    \n",
              "\n",
              "    \n",
              "\n",
              "    \n",
              "\n",
              "    \n",
              "\n",
              "    \n",
              "\n",
              "    \n",
              "\n",
              "\n",
              "    \n",
              "\n",
              "    \n",
              "\n",
              "    \n",
              "\n",
              "    \n",
              "\n",
              "    \n",
              "\n",
              "    \n",
              "\n",
              "\n",
              "    \n",
              "\n",
              "    \n",
              "\n",
              "    \n",
              "\n",
              "    \n",
              "\n",
              "    \n",
              "        <table class=\"eli5-weights eli5-feature-importances\" style=\"border-collapse: collapse; border: none; margin-top: 0em; table-layout: auto;\">\n",
              "    <thead>\n",
              "    <tr style=\"border: none;\">\n",
              "        <th style=\"padding: 0 1em 0 0.5em; text-align: right; border: none;\">Weight</th>\n",
              "        <th style=\"padding: 0 0.5em 0 0.5em; text-align: left; border: none;\">Feature</th>\n",
              "    </tr>\n",
              "    </thead>\n",
              "    <tbody>\n",
              "    \n",
              "        <tr style=\"background-color: hsl(120, 100.00%, 80.00%); border: none;\">\n",
              "            <td style=\"padding: 0 1em 0 0.5em; text-align: right; border: none;\">\n",
              "                0.1475\n",
              "                \n",
              "                    &plusmn; 0.0066\n",
              "                \n",
              "            </td>\n",
              "            <td style=\"padding: 0 0.5em 0 0.5em; text-align: left; border: none;\">\n",
              "                TARGET_day6\n",
              "            </td>\n",
              "        </tr>\n",
              "    \n",
              "        <tr style=\"background-color: hsl(120, 100.00%, 95.46%); border: none;\">\n",
              "            <td style=\"padding: 0 1em 0 0.5em; text-align: right; border: none;\">\n",
              "                0.0178\n",
              "                \n",
              "                    &plusmn; 0.0012\n",
              "                \n",
              "            </td>\n",
              "            <td style=\"padding: 0 0.5em 0 0.5em; text-align: left; border: none;\">\n",
              "                TARGET_day3\n",
              "            </td>\n",
              "        </tr>\n",
              "    \n",
              "        <tr style=\"background-color: hsl(120, 100.00%, 96.25%); border: none;\">\n",
              "            <td style=\"padding: 0 1em 0 0.5em; text-align: right; border: none;\">\n",
              "                0.0135\n",
              "                \n",
              "                    &plusmn; 0.0012\n",
              "                \n",
              "            </td>\n",
              "            <td style=\"padding: 0 0.5em 0 0.5em; text-align: left; border: none;\">\n",
              "                TARGET_day4\n",
              "            </td>\n",
              "        </tr>\n",
              "    \n",
              "        <tr style=\"background-color: hsl(120, 100.00%, 97.56%); border: none;\">\n",
              "            <td style=\"padding: 0 1em 0 0.5em; text-align: right; border: none;\">\n",
              "                0.0073\n",
              "                \n",
              "                    &plusmn; 0.0012\n",
              "                \n",
              "            </td>\n",
              "            <td style=\"padding: 0 0.5em 0 0.5em; text-align: left; border: none;\">\n",
              "                TARGET_day2\n",
              "            </td>\n",
              "        </tr>\n",
              "    \n",
              "        <tr style=\"background-color: hsl(120, 100.00%, 97.69%); border: none;\">\n",
              "            <td style=\"padding: 0 1em 0 0.5em; text-align: right; border: none;\">\n",
              "                0.0067\n",
              "                \n",
              "                    &plusmn; 0.0008\n",
              "                \n",
              "            </td>\n",
              "            <td style=\"padding: 0 0.5em 0 0.5em; text-align: left; border: none;\">\n",
              "                DHI_day6\n",
              "            </td>\n",
              "        </tr>\n",
              "    \n",
              "        <tr style=\"background-color: hsl(120, 100.00%, 98.16%); border: none;\">\n",
              "            <td style=\"padding: 0 1em 0 0.5em; text-align: right; border: none;\">\n",
              "                0.0049\n",
              "                \n",
              "                    &plusmn; 0.0005\n",
              "                \n",
              "            </td>\n",
              "            <td style=\"padding: 0 0.5em 0 0.5em; text-align: left; border: none;\">\n",
              "                TARGET_day5\n",
              "            </td>\n",
              "        </tr>\n",
              "    \n",
              "        <tr style=\"background-color: hsl(120, 100.00%, 98.21%); border: none;\">\n",
              "            <td style=\"padding: 0 1em 0 0.5em; text-align: right; border: none;\">\n",
              "                0.0047\n",
              "                \n",
              "                    &plusmn; 0.0005\n",
              "                \n",
              "            </td>\n",
              "            <td style=\"padding: 0 0.5em 0 0.5em; text-align: left; border: none;\">\n",
              "                TARGET_day0\n",
              "            </td>\n",
              "        </tr>\n",
              "    \n",
              "        <tr style=\"background-color: hsl(120, 100.00%, 98.25%); border: none;\">\n",
              "            <td style=\"padding: 0 1em 0 0.5em; text-align: right; border: none;\">\n",
              "                0.0045\n",
              "                \n",
              "                    &plusmn; 0.0004\n",
              "                \n",
              "            </td>\n",
              "            <td style=\"padding: 0 0.5em 0 0.5em; text-align: left; border: none;\">\n",
              "                TARGET_day1\n",
              "            </td>\n",
              "        </tr>\n",
              "    \n",
              "        <tr style=\"background-color: hsl(120, 100.00%, 98.38%); border: none;\">\n",
              "            <td style=\"padding: 0 1em 0 0.5em; text-align: right; border: none;\">\n",
              "                0.0041\n",
              "                \n",
              "                    &plusmn; 0.0004\n",
              "                \n",
              "            </td>\n",
              "            <td style=\"padding: 0 0.5em 0 0.5em; text-align: left; border: none;\">\n",
              "                Sun_DHI_per_day0\n",
              "            </td>\n",
              "        </tr>\n",
              "    \n",
              "        <tr style=\"background-color: hsl(120, 100.00%, 98.63%); border: none;\">\n",
              "            <td style=\"padding: 0 1em 0 0.5em; text-align: right; border: none;\">\n",
              "                0.0032\n",
              "                \n",
              "                    &plusmn; 0.0010\n",
              "                \n",
              "            </td>\n",
              "            <td style=\"padding: 0 0.5em 0 0.5em; text-align: left; border: none;\">\n",
              "                DHI_day0\n",
              "            </td>\n",
              "        </tr>\n",
              "    \n",
              "        <tr style=\"background-color: hsl(120, 100.00%, 98.78%); border: none;\">\n",
              "            <td style=\"padding: 0 1em 0 0.5em; text-align: right; border: none;\">\n",
              "                0.0027\n",
              "                \n",
              "                    &plusmn; 0.0002\n",
              "                \n",
              "            </td>\n",
              "            <td style=\"padding: 0 0.5em 0 0.5em; text-align: left; border: none;\">\n",
              "                Sun_TARGET_per_day5\n",
              "            </td>\n",
              "        </tr>\n",
              "    \n",
              "        <tr style=\"background-color: hsl(120, 100.00%, 98.78%); border: none;\">\n",
              "            <td style=\"padding: 0 1em 0 0.5em; text-align: right; border: none;\">\n",
              "                0.0027\n",
              "                \n",
              "                    &plusmn; 0.0008\n",
              "                \n",
              "            </td>\n",
              "            <td style=\"padding: 0 0.5em 0 0.5em; text-align: left; border: none;\">\n",
              "                DHI_day3\n",
              "            </td>\n",
              "        </tr>\n",
              "    \n",
              "        <tr style=\"background-color: hsl(120, 100.00%, 98.79%); border: none;\">\n",
              "            <td style=\"padding: 0 1em 0 0.5em; text-align: right; border: none;\">\n",
              "                0.0027\n",
              "                \n",
              "                    &plusmn; 0.0005\n",
              "                \n",
              "            </td>\n",
              "            <td style=\"padding: 0 0.5em 0 0.5em; text-align: left; border: none;\">\n",
              "                Sun_DHI_DNI_plus_per_day3\n",
              "            </td>\n",
              "        </tr>\n",
              "    \n",
              "        <tr style=\"background-color: hsl(120, 100.00%, 98.86%); border: none;\">\n",
              "            <td style=\"padding: 0 1em 0 0.5em; text-align: right; border: none;\">\n",
              "                0.0025\n",
              "                \n",
              "                    &plusmn; 0.0003\n",
              "                \n",
              "            </td>\n",
              "            <td style=\"padding: 0 0.5em 0 0.5em; text-align: left; border: none;\">\n",
              "                Sun_DHI_DNI_per_day2\n",
              "            </td>\n",
              "        </tr>\n",
              "    \n",
              "        <tr style=\"background-color: hsl(120, 100.00%, 99.06%); border: none;\">\n",
              "            <td style=\"padding: 0 1em 0 0.5em; text-align: right; border: none;\">\n",
              "                0.0019\n",
              "                \n",
              "                    &plusmn; 0.0002\n",
              "                \n",
              "            </td>\n",
              "            <td style=\"padding: 0 0.5em 0 0.5em; text-align: left; border: none;\">\n",
              "                Sun_DNI_per_day0\n",
              "            </td>\n",
              "        </tr>\n",
              "    \n",
              "        <tr style=\"background-color: hsl(120, 100.00%, 99.07%); border: none;\">\n",
              "            <td style=\"padding: 0 1em 0 0.5em; text-align: right; border: none;\">\n",
              "                0.0019\n",
              "                \n",
              "                    &plusmn; 0.0004\n",
              "                \n",
              "            </td>\n",
              "            <td style=\"padding: 0 0.5em 0 0.5em; text-align: left; border: none;\">\n",
              "                Sun_TARGET_per_day1\n",
              "            </td>\n",
              "        </tr>\n",
              "    \n",
              "        <tr style=\"background-color: hsl(120, 100.00%, 99.14%); border: none;\">\n",
              "            <td style=\"padding: 0 1em 0 0.5em; text-align: right; border: none;\">\n",
              "                0.0017\n",
              "                \n",
              "                    &plusmn; 0.0004\n",
              "                \n",
              "            </td>\n",
              "            <td style=\"padding: 0 0.5em 0 0.5em; text-align: left; border: none;\">\n",
              "                DNI_day6\n",
              "            </td>\n",
              "        </tr>\n",
              "    \n",
              "        <tr style=\"background-color: hsl(120, 100.00%, 99.14%); border: none;\">\n",
              "            <td style=\"padding: 0 1em 0 0.5em; text-align: right; border: none;\">\n",
              "                0.0017\n",
              "                \n",
              "                    &plusmn; 0.0003\n",
              "                \n",
              "            </td>\n",
              "            <td style=\"padding: 0 0.5em 0 0.5em; text-align: left; border: none;\">\n",
              "                Sun_DHI_per_day1\n",
              "            </td>\n",
              "        </tr>\n",
              "    \n",
              "        <tr style=\"background-color: hsl(120, 100.00%, 99.15%); border: none;\">\n",
              "            <td style=\"padding: 0 1em 0 0.5em; text-align: right; border: none;\">\n",
              "                0.0016\n",
              "                \n",
              "                    &plusmn; 0.0002\n",
              "                \n",
              "            </td>\n",
              "            <td style=\"padding: 0 0.5em 0 0.5em; text-align: left; border: none;\">\n",
              "                Sun_DHI_per_day6\n",
              "            </td>\n",
              "        </tr>\n",
              "    \n",
              "        <tr style=\"background-color: hsl(120, 100.00%, 99.20%); border: none;\">\n",
              "            <td style=\"padding: 0 1em 0 0.5em; text-align: right; border: none;\">\n",
              "                0.0015\n",
              "                \n",
              "                    &plusmn; 0.0002\n",
              "                \n",
              "            </td>\n",
              "            <td style=\"padding: 0 0.5em 0 0.5em; text-align: left; border: none;\">\n",
              "                Sun_DHI_DNI_plus_per_day4\n",
              "            </td>\n",
              "        </tr>\n",
              "    \n",
              "        <tr style=\"background-color: hsl(120, 100.00%, 99.20%); border: none;\">\n",
              "            <td style=\"padding: 0 1em 0 0.5em; text-align: right; border: none;\">\n",
              "                0.0015\n",
              "                \n",
              "                    &plusmn; 0.0004\n",
              "                \n",
              "            </td>\n",
              "            <td style=\"padding: 0 0.5em 0 0.5em; text-align: left; border: none;\">\n",
              "                Sun_TARGET_per_day2\n",
              "            </td>\n",
              "        </tr>\n",
              "    \n",
              "        <tr style=\"background-color: hsl(120, 100.00%, 99.21%); border: none;\">\n",
              "            <td style=\"padding: 0 1em 0 0.5em; text-align: right; border: none;\">\n",
              "                0.0015\n",
              "                \n",
              "                    &plusmn; 0.0001\n",
              "                \n",
              "            </td>\n",
              "            <td style=\"padding: 0 0.5em 0 0.5em; text-align: left; border: none;\">\n",
              "                Sun_DHI_DNI_plus_per_day2\n",
              "            </td>\n",
              "        </tr>\n",
              "    \n",
              "        <tr style=\"background-color: hsl(120, 100.00%, 99.22%); border: none;\">\n",
              "            <td style=\"padding: 0 1em 0 0.5em; text-align: right; border: none;\">\n",
              "                0.0014\n",
              "                \n",
              "                    &plusmn; 0.0004\n",
              "                \n",
              "            </td>\n",
              "            <td style=\"padding: 0 0.5em 0 0.5em; text-align: left; border: none;\">\n",
              "                Sun_TARGET_per_day3\n",
              "            </td>\n",
              "        </tr>\n",
              "    \n",
              "        <tr style=\"background-color: hsl(120, 100.00%, 99.24%); border: none;\">\n",
              "            <td style=\"padding: 0 1em 0 0.5em; text-align: right; border: none;\">\n",
              "                0.0014\n",
              "                \n",
              "                    &plusmn; 0.0004\n",
              "                \n",
              "            </td>\n",
              "            <td style=\"padding: 0 0.5em 0 0.5em; text-align: left; border: none;\">\n",
              "                RH_day3\n",
              "            </td>\n",
              "        </tr>\n",
              "    \n",
              "        <tr style=\"background-color: hsl(120, 100.00%, 99.25%); border: none;\">\n",
              "            <td style=\"padding: 0 1em 0 0.5em; text-align: right; border: none;\">\n",
              "                0.0013\n",
              "                \n",
              "                    &plusmn; 0.0005\n",
              "                \n",
              "            </td>\n",
              "            <td style=\"padding: 0 0.5em 0 0.5em; text-align: left; border: none;\">\n",
              "                Sun_TARGET_per_day6\n",
              "            </td>\n",
              "        </tr>\n",
              "    \n",
              "        <tr style=\"background-color: hsl(120, 100.00%, 99.39%); border: none;\">\n",
              "            <td style=\"padding: 0 1em 0 0.5em; text-align: right; border: none;\">\n",
              "                0.0010\n",
              "                \n",
              "                    &plusmn; 0.0001\n",
              "                \n",
              "            </td>\n",
              "            <td style=\"padding: 0 0.5em 0 0.5em; text-align: left; border: none;\">\n",
              "                Sun_DNI_accumulate_day1\n",
              "            </td>\n",
              "        </tr>\n",
              "    \n",
              "        <tr style=\"background-color: hsl(120, 100.00%, 99.46%); border: none;\">\n",
              "            <td style=\"padding: 0 1em 0 0.5em; text-align: right; border: none;\">\n",
              "                0.0008\n",
              "                \n",
              "                    &plusmn; 0.0002\n",
              "                \n",
              "            </td>\n",
              "            <td style=\"padding: 0 0.5em 0 0.5em; text-align: left; border: none;\">\n",
              "                Sun_TARGET_hour_day6\n",
              "            </td>\n",
              "        </tr>\n",
              "    \n",
              "        <tr style=\"background-color: hsl(120, 100.00%, 99.48%); border: none;\">\n",
              "            <td style=\"padding: 0 1em 0 0.5em; text-align: right; border: none;\">\n",
              "                0.0008\n",
              "                \n",
              "                    &plusmn; 0.0002\n",
              "                \n",
              "            </td>\n",
              "            <td style=\"padding: 0 0.5em 0 0.5em; text-align: left; border: none;\">\n",
              "                Sun_DHI_hour_day6\n",
              "            </td>\n",
              "        </tr>\n",
              "    \n",
              "        <tr style=\"background-color: hsl(120, 100.00%, 99.48%); border: none;\">\n",
              "            <td style=\"padding: 0 1em 0 0.5em; text-align: right; border: none;\">\n",
              "                0.0008\n",
              "                \n",
              "                    &plusmn; 0.0002\n",
              "                \n",
              "            </td>\n",
              "            <td style=\"padding: 0 0.5em 0 0.5em; text-align: left; border: none;\">\n",
              "                Sun_DHI_hour_day5\n",
              "            </td>\n",
              "        </tr>\n",
              "    \n",
              "        <tr style=\"background-color: hsl(120, 100.00%, 99.48%); border: none;\">\n",
              "            <td style=\"padding: 0 1em 0 0.5em; text-align: right; border: none;\">\n",
              "                0.0008\n",
              "                \n",
              "                    &plusmn; 0.0003\n",
              "                \n",
              "            </td>\n",
              "            <td style=\"padding: 0 0.5em 0 0.5em; text-align: left; border: none;\">\n",
              "                Sun_DHI_DNI_plus_hour_day6\n",
              "            </td>\n",
              "        </tr>\n",
              "    \n",
              "        <tr style=\"background-color: hsl(120, 100.00%, 99.50%); border: none;\">\n",
              "            <td style=\"padding: 0 1em 0 0.5em; text-align: right; border: none;\">\n",
              "                0.0008\n",
              "                \n",
              "                    &plusmn; 0.0002\n",
              "                \n",
              "            </td>\n",
              "            <td style=\"padding: 0 0.5em 0 0.5em; text-align: left; border: none;\">\n",
              "                Sun_DHI_DNI_hour_day6\n",
              "            </td>\n",
              "        </tr>\n",
              "    \n",
              "        <tr style=\"background-color: hsl(120, 100.00%, 99.52%); border: none;\">\n",
              "            <td style=\"padding: 0 1em 0 0.5em; text-align: right; border: none;\">\n",
              "                0.0007\n",
              "                \n",
              "                    &plusmn; 0.0000\n",
              "                \n",
              "            </td>\n",
              "            <td style=\"padding: 0 0.5em 0 0.5em; text-align: left; border: none;\">\n",
              "                Sun_DNI_day1\n",
              "            </td>\n",
              "        </tr>\n",
              "    \n",
              "        <tr style=\"background-color: hsl(120, 100.00%, 99.56%); border: none;\">\n",
              "            <td style=\"padding: 0 1em 0 0.5em; text-align: right; border: none;\">\n",
              "                0.0006\n",
              "                \n",
              "                    &plusmn; 0.0000\n",
              "                \n",
              "            </td>\n",
              "            <td style=\"padding: 0 0.5em 0 0.5em; text-align: left; border: none;\">\n",
              "                Sun_TARGET_accumulate_day6\n",
              "            </td>\n",
              "        </tr>\n",
              "    \n",
              "        <tr style=\"background-color: hsl(120, 100.00%, 99.57%); border: none;\">\n",
              "            <td style=\"padding: 0 1em 0 0.5em; text-align: right; border: none;\">\n",
              "                0.0006\n",
              "                \n",
              "                    &plusmn; 0.0001\n",
              "                \n",
              "            </td>\n",
              "            <td style=\"padding: 0 0.5em 0 0.5em; text-align: left; border: none;\">\n",
              "                Sun_DHI_DNI_hour_day0\n",
              "            </td>\n",
              "        </tr>\n",
              "    \n",
              "        <tr style=\"background-color: hsl(120, 100.00%, 99.58%); border: none;\">\n",
              "            <td style=\"padding: 0 1em 0 0.5em; text-align: right; border: none;\">\n",
              "                0.0006\n",
              "                \n",
              "                    &plusmn; 0.0000\n",
              "                \n",
              "            </td>\n",
              "            <td style=\"padding: 0 0.5em 0 0.5em; text-align: left; border: none;\">\n",
              "                Sun_DHI_DNI_plus_day6\n",
              "            </td>\n",
              "        </tr>\n",
              "    \n",
              "        <tr style=\"background-color: hsl(120, 100.00%, 99.58%); border: none;\">\n",
              "            <td style=\"padding: 0 1em 0 0.5em; text-align: right; border: none;\">\n",
              "                0.0006\n",
              "                \n",
              "                    &plusmn; 0.0002\n",
              "                \n",
              "            </td>\n",
              "            <td style=\"padding: 0 0.5em 0 0.5em; text-align: left; border: none;\">\n",
              "                WS_day1\n",
              "            </td>\n",
              "        </tr>\n",
              "    \n",
              "        <tr style=\"background-color: hsl(120, 100.00%, 99.59%); border: none;\">\n",
              "            <td style=\"padding: 0 1em 0 0.5em; text-align: right; border: none;\">\n",
              "                0.0006\n",
              "                \n",
              "                    &plusmn; 0.0002\n",
              "                \n",
              "            </td>\n",
              "            <td style=\"padding: 0 0.5em 0 0.5em; text-align: left; border: none;\">\n",
              "                DHI_DNI_day2\n",
              "            </td>\n",
              "        </tr>\n",
              "    \n",
              "        <tr style=\"background-color: hsl(120, 100.00%, 99.59%); border: none;\">\n",
              "            <td style=\"padding: 0 1em 0 0.5em; text-align: right; border: none;\">\n",
              "                0.0006\n",
              "                \n",
              "                    &plusmn; 0.0002\n",
              "                \n",
              "            </td>\n",
              "            <td style=\"padding: 0 0.5em 0 0.5em; text-align: left; border: none;\">\n",
              "                Sun_DNI_hour_day6\n",
              "            </td>\n",
              "        </tr>\n",
              "    \n",
              "        <tr style=\"background-color: hsl(120, 100.00%, 99.60%); border: none;\">\n",
              "            <td style=\"padding: 0 1em 0 0.5em; text-align: right; border: none;\">\n",
              "                0.0006\n",
              "                \n",
              "                    &plusmn; 0.0001\n",
              "                \n",
              "            </td>\n",
              "            <td style=\"padding: 0 0.5em 0 0.5em; text-align: left; border: none;\">\n",
              "                Sun_DHI_DNI_plus_per_day0\n",
              "            </td>\n",
              "        </tr>\n",
              "    \n",
              "        <tr style=\"background-color: hsl(120, 100.00%, 99.61%); border: none;\">\n",
              "            <td style=\"padding: 0 1em 0 0.5em; text-align: right; border: none;\">\n",
              "                0.0005\n",
              "                \n",
              "                    &plusmn; 0.0001\n",
              "                \n",
              "            </td>\n",
              "            <td style=\"padding: 0 0.5em 0 0.5em; text-align: left; border: none;\">\n",
              "                T_day5\n",
              "            </td>\n",
              "        </tr>\n",
              "    \n",
              "        <tr style=\"background-color: hsl(120, 100.00%, 99.63%); border: none;\">\n",
              "            <td style=\"padding: 0 1em 0 0.5em; text-align: right; border: none;\">\n",
              "                0.0005\n",
              "                \n",
              "                    &plusmn; 0.0003\n",
              "                \n",
              "            </td>\n",
              "            <td style=\"padding: 0 0.5em 0 0.5em; text-align: left; border: none;\">\n",
              "                DNI_day5\n",
              "            </td>\n",
              "        </tr>\n",
              "    \n",
              "        <tr style=\"background-color: hsl(120, 100.00%, 99.64%); border: none;\">\n",
              "            <td style=\"padding: 0 1em 0 0.5em; text-align: right; border: none;\">\n",
              "                0.0005\n",
              "                \n",
              "                    &plusmn; 0.0002\n",
              "                \n",
              "            </td>\n",
              "            <td style=\"padding: 0 0.5em 0 0.5em; text-align: left; border: none;\">\n",
              "                DNI_day1\n",
              "            </td>\n",
              "        </tr>\n",
              "    \n",
              "        <tr style=\"background-color: hsl(120, 100.00%, 99.64%); border: none;\">\n",
              "            <td style=\"padding: 0 1em 0 0.5em; text-align: right; border: none;\">\n",
              "                0.0005\n",
              "                \n",
              "                    &plusmn; 0.0007\n",
              "                \n",
              "            </td>\n",
              "            <td style=\"padding: 0 0.5em 0 0.5em; text-align: left; border: none;\">\n",
              "                Sun_DHI_DNI_per_day0\n",
              "            </td>\n",
              "        </tr>\n",
              "    \n",
              "        <tr style=\"background-color: hsl(120, 100.00%, 99.64%); border: none;\">\n",
              "            <td style=\"padding: 0 1em 0 0.5em; text-align: right; border: none;\">\n",
              "                0.0005\n",
              "                \n",
              "                    &plusmn; 0.0001\n",
              "                \n",
              "            </td>\n",
              "            <td style=\"padding: 0 0.5em 0 0.5em; text-align: left; border: none;\">\n",
              "                Sun_TARGET_hour_day3\n",
              "            </td>\n",
              "        </tr>\n",
              "    \n",
              "        <tr style=\"background-color: hsl(120, 100.00%, 99.64%); border: none;\">\n",
              "            <td style=\"padding: 0 1em 0 0.5em; text-align: right; border: none;\">\n",
              "                0.0005\n",
              "                \n",
              "                    &plusmn; 0.0000\n",
              "                \n",
              "            </td>\n",
              "            <td style=\"padding: 0 0.5em 0 0.5em; text-align: left; border: none;\">\n",
              "                Sun_DHI_DNI_plus_day4\n",
              "            </td>\n",
              "        </tr>\n",
              "    \n",
              "        <tr style=\"background-color: hsl(120, 100.00%, 99.65%); border: none;\">\n",
              "            <td style=\"padding: 0 1em 0 0.5em; text-align: right; border: none;\">\n",
              "                0.0004\n",
              "                \n",
              "                    &plusmn; 0.0001\n",
              "                \n",
              "            </td>\n",
              "            <td style=\"padding: 0 0.5em 0 0.5em; text-align: left; border: none;\">\n",
              "                Sun_DNI_accumulate_day5\n",
              "            </td>\n",
              "        </tr>\n",
              "    \n",
              "        <tr style=\"background-color: hsl(120, 100.00%, 99.68%); border: none;\">\n",
              "            <td style=\"padding: 0 1em 0 0.5em; text-align: right; border: none;\">\n",
              "                0.0004\n",
              "                \n",
              "                    &plusmn; 0.0001\n",
              "                \n",
              "            </td>\n",
              "            <td style=\"padding: 0 0.5em 0 0.5em; text-align: left; border: none;\">\n",
              "                Sun_DHI_DNI_hour_day2\n",
              "            </td>\n",
              "        </tr>\n",
              "    \n",
              "        <tr style=\"background-color: hsl(120, 100.00%, 99.69%); border: none;\">\n",
              "            <td style=\"padding: 0 1em 0 0.5em; text-align: right; border: none;\">\n",
              "                0.0004\n",
              "                \n",
              "                    &plusmn; 0.0003\n",
              "                \n",
              "            </td>\n",
              "            <td style=\"padding: 0 0.5em 0 0.5em; text-align: left; border: none;\">\n",
              "                RH_day5\n",
              "            </td>\n",
              "        </tr>\n",
              "    \n",
              "        <tr style=\"background-color: hsl(120, 100.00%, 99.72%); border: none;\">\n",
              "            <td style=\"padding: 0 1em 0 0.5em; text-align: right; border: none;\">\n",
              "                0.0003\n",
              "                \n",
              "                    &plusmn; 0.0000\n",
              "                \n",
              "            </td>\n",
              "            <td style=\"padding: 0 0.5em 0 0.5em; text-align: left; border: none;\">\n",
              "                DNI_day2\n",
              "            </td>\n",
              "        </tr>\n",
              "    \n",
              "        <tr style=\"background-color: hsl(120, 100.00%, 99.73%); border: none;\">\n",
              "            <td style=\"padding: 0 1em 0 0.5em; text-align: right; border: none;\">\n",
              "                0.0003\n",
              "                \n",
              "                    &plusmn; 0.0000\n",
              "                \n",
              "            </td>\n",
              "            <td style=\"padding: 0 0.5em 0 0.5em; text-align: left; border: none;\">\n",
              "                Sun_DNI_day4\n",
              "            </td>\n",
              "        </tr>\n",
              "    \n",
              "        <tr style=\"background-color: hsl(120, 100.00%, 99.73%); border: none;\">\n",
              "            <td style=\"padding: 0 1em 0 0.5em; text-align: right; border: none;\">\n",
              "                0.0003\n",
              "                \n",
              "                    &plusmn; 0.0004\n",
              "                \n",
              "            </td>\n",
              "            <td style=\"padding: 0 0.5em 0 0.5em; text-align: left; border: none;\">\n",
              "                T_day0\n",
              "            </td>\n",
              "        </tr>\n",
              "    \n",
              "        <tr style=\"background-color: hsl(120, 100.00%, 99.74%); border: none;\">\n",
              "            <td style=\"padding: 0 1em 0 0.5em; text-align: right; border: none;\">\n",
              "                0.0003\n",
              "                \n",
              "                    &plusmn; 0.0001\n",
              "                \n",
              "            </td>\n",
              "            <td style=\"padding: 0 0.5em 0 0.5em; text-align: left; border: none;\">\n",
              "                DNI_day3\n",
              "            </td>\n",
              "        </tr>\n",
              "    \n",
              "        <tr style=\"background-color: hsl(120, 100.00%, 99.75%); border: none;\">\n",
              "            <td style=\"padding: 0 1em 0 0.5em; text-align: right; border: none;\">\n",
              "                0.0003\n",
              "                \n",
              "                    &plusmn; 0.0003\n",
              "                \n",
              "            </td>\n",
              "            <td style=\"padding: 0 0.5em 0 0.5em; text-align: left; border: none;\">\n",
              "                Sun_DHI_DNI_per_day3\n",
              "            </td>\n",
              "        </tr>\n",
              "    \n",
              "        <tr style=\"background-color: hsl(120, 100.00%, 99.75%); border: none;\">\n",
              "            <td style=\"padding: 0 1em 0 0.5em; text-align: right; border: none;\">\n",
              "                0.0003\n",
              "                \n",
              "                    &plusmn; 0.0001\n",
              "                \n",
              "            </td>\n",
              "            <td style=\"padding: 0 0.5em 0 0.5em; text-align: left; border: none;\">\n",
              "                WS_day0\n",
              "            </td>\n",
              "        </tr>\n",
              "    \n",
              "        <tr style=\"background-color: hsl(120, 100.00%, 99.76%); border: none;\">\n",
              "            <td style=\"padding: 0 1em 0 0.5em; text-align: right; border: none;\">\n",
              "                0.0003\n",
              "                \n",
              "                    &plusmn; 0.0001\n",
              "                \n",
              "            </td>\n",
              "            <td style=\"padding: 0 0.5em 0 0.5em; text-align: left; border: none;\">\n",
              "                Sun_DHI_hour_day1\n",
              "            </td>\n",
              "        </tr>\n",
              "    \n",
              "        <tr style=\"background-color: hsl(120, 100.00%, 99.76%); border: none;\">\n",
              "            <td style=\"padding: 0 1em 0 0.5em; text-align: right; border: none;\">\n",
              "                0.0003\n",
              "                \n",
              "                    &plusmn; 0.0001\n",
              "                \n",
              "            </td>\n",
              "            <td style=\"padding: 0 0.5em 0 0.5em; text-align: left; border: none;\">\n",
              "                DHI_DNI_day1\n",
              "            </td>\n",
              "        </tr>\n",
              "    \n",
              "        <tr style=\"background-color: hsl(120, 100.00%, 99.76%); border: none;\">\n",
              "            <td style=\"padding: 0 1em 0 0.5em; text-align: right; border: none;\">\n",
              "                0.0003\n",
              "                \n",
              "                    &plusmn; 0.0001\n",
              "                \n",
              "            </td>\n",
              "            <td style=\"padding: 0 0.5em 0 0.5em; text-align: left; border: none;\">\n",
              "                Sun_DHI_DNI_hour_day3\n",
              "            </td>\n",
              "        </tr>\n",
              "    \n",
              "        <tr style=\"background-color: hsl(120, 100.00%, 99.77%); border: none;\">\n",
              "            <td style=\"padding: 0 1em 0 0.5em; text-align: right; border: none;\">\n",
              "                0.0003\n",
              "                \n",
              "                    &plusmn; 0.0000\n",
              "                \n",
              "            </td>\n",
              "            <td style=\"padding: 0 0.5em 0 0.5em; text-align: left; border: none;\">\n",
              "                Sun_DNI_accumulate_day0\n",
              "            </td>\n",
              "        </tr>\n",
              "    \n",
              "        <tr style=\"background-color: hsl(120, 100.00%, 99.77%); border: none;\">\n",
              "            <td style=\"padding: 0 1em 0 0.5em; text-align: right; border: none;\">\n",
              "                0.0002\n",
              "                \n",
              "                    &plusmn; 0.0000\n",
              "                \n",
              "            </td>\n",
              "            <td style=\"padding: 0 0.5em 0 0.5em; text-align: left; border: none;\">\n",
              "                Sun_DNI_day0\n",
              "            </td>\n",
              "        </tr>\n",
              "    \n",
              "        <tr style=\"background-color: hsl(120, 100.00%, 99.78%); border: none;\">\n",
              "            <td style=\"padding: 0 1em 0 0.5em; text-align: right; border: none;\">\n",
              "                0.0002\n",
              "                \n",
              "                    &plusmn; 0.0002\n",
              "                \n",
              "            </td>\n",
              "            <td style=\"padding: 0 0.5em 0 0.5em; text-align: left; border: none;\">\n",
              "                Sun_DNI_per_day3\n",
              "            </td>\n",
              "        </tr>\n",
              "    \n",
              "        <tr style=\"background-color: hsl(120, 100.00%, 99.78%); border: none;\">\n",
              "            <td style=\"padding: 0 1em 0 0.5em; text-align: right; border: none;\">\n",
              "                0.0002\n",
              "                \n",
              "                    &plusmn; 0.0001\n",
              "                \n",
              "            </td>\n",
              "            <td style=\"padding: 0 0.5em 0 0.5em; text-align: left; border: none;\">\n",
              "                time\n",
              "            </td>\n",
              "        </tr>\n",
              "    \n",
              "        <tr style=\"background-color: hsl(120, 100.00%, 99.79%); border: none;\">\n",
              "            <td style=\"padding: 0 1em 0 0.5em; text-align: right; border: none;\">\n",
              "                0.0002\n",
              "                \n",
              "                    &plusmn; 0.0001\n",
              "                \n",
              "            </td>\n",
              "            <td style=\"padding: 0 0.5em 0 0.5em; text-align: left; border: none;\">\n",
              "                Sun_TARGET_hour_day1\n",
              "            </td>\n",
              "        </tr>\n",
              "    \n",
              "        <tr style=\"background-color: hsl(120, 100.00%, 99.79%); border: none;\">\n",
              "            <td style=\"padding: 0 1em 0 0.5em; text-align: right; border: none;\">\n",
              "                0.0002\n",
              "                \n",
              "                    &plusmn; 0.0001\n",
              "                \n",
              "            </td>\n",
              "            <td style=\"padding: 0 0.5em 0 0.5em; text-align: left; border: none;\">\n",
              "                Sun_DHI_DNI_plus_accumulate_day4\n",
              "            </td>\n",
              "        </tr>\n",
              "    \n",
              "        <tr style=\"background-color: hsl(120, 100.00%, 99.79%); border: none;\">\n",
              "            <td style=\"padding: 0 1em 0 0.5em; text-align: right; border: none;\">\n",
              "                0.0002\n",
              "                \n",
              "                    &plusmn; 0.0000\n",
              "                \n",
              "            </td>\n",
              "            <td style=\"padding: 0 0.5em 0 0.5em; text-align: left; border: none;\">\n",
              "                Sun_DNI_day3\n",
              "            </td>\n",
              "        </tr>\n",
              "    \n",
              "        <tr style=\"background-color: hsl(120, 100.00%, 99.80%); border: none;\">\n",
              "            <td style=\"padding: 0 1em 0 0.5em; text-align: right; border: none;\">\n",
              "                0.0002\n",
              "                \n",
              "                    &plusmn; 0.0000\n",
              "                \n",
              "            </td>\n",
              "            <td style=\"padding: 0 0.5em 0 0.5em; text-align: left; border: none;\">\n",
              "                Sun_DNI_accumulate_day4\n",
              "            </td>\n",
              "        </tr>\n",
              "    \n",
              "        <tr style=\"background-color: hsl(120, 100.00%, 99.81%); border: none;\">\n",
              "            <td style=\"padding: 0 1em 0 0.5em; text-align: right; border: none;\">\n",
              "                0.0002\n",
              "                \n",
              "                    &plusmn; 0.0001\n",
              "                \n",
              "            </td>\n",
              "            <td style=\"padding: 0 0.5em 0 0.5em; text-align: left; border: none;\">\n",
              "                Sun_TARGET_hour_day2\n",
              "            </td>\n",
              "        </tr>\n",
              "    \n",
              "        <tr style=\"background-color: hsl(120, 100.00%, 99.81%); border: none;\">\n",
              "            <td style=\"padding: 0 1em 0 0.5em; text-align: right; border: none;\">\n",
              "                0.0002\n",
              "                \n",
              "                    &plusmn; 0.0000\n",
              "                \n",
              "            </td>\n",
              "            <td style=\"padding: 0 0.5em 0 0.5em; text-align: left; border: none;\">\n",
              "                Sun_DNI_per_day1\n",
              "            </td>\n",
              "        </tr>\n",
              "    \n",
              "        <tr style=\"background-color: hsl(120, 100.00%, 99.81%); border: none;\">\n",
              "            <td style=\"padding: 0 1em 0 0.5em; text-align: right; border: none;\">\n",
              "                0.0002\n",
              "                \n",
              "                    &plusmn; 0.0000\n",
              "                \n",
              "            </td>\n",
              "            <td style=\"padding: 0 0.5em 0 0.5em; text-align: left; border: none;\">\n",
              "                Sun_TARGET_accumulate_day0\n",
              "            </td>\n",
              "        </tr>\n",
              "    \n",
              "        <tr style=\"background-color: hsl(120, 100.00%, 99.82%); border: none;\">\n",
              "            <td style=\"padding: 0 1em 0 0.5em; text-align: right; border: none;\">\n",
              "                0.0002\n",
              "                \n",
              "                    &plusmn; 0.0000\n",
              "                \n",
              "            </td>\n",
              "            <td style=\"padding: 0 0.5em 0 0.5em; text-align: left; border: none;\">\n",
              "                Sun_DHI_DNI_hour_day5\n",
              "            </td>\n",
              "        </tr>\n",
              "    \n",
              "        <tr style=\"background-color: hsl(120, 100.00%, 99.82%); border: none;\">\n",
              "            <td style=\"padding: 0 1em 0 0.5em; text-align: right; border: none;\">\n",
              "                0.0002\n",
              "                \n",
              "                    &plusmn; 0.0001\n",
              "                \n",
              "            </td>\n",
              "            <td style=\"padding: 0 0.5em 0 0.5em; text-align: left; border: none;\">\n",
              "                Sun_DHI_hour_day0\n",
              "            </td>\n",
              "        </tr>\n",
              "    \n",
              "        <tr style=\"background-color: hsl(120, 100.00%, 99.82%); border: none;\">\n",
              "            <td style=\"padding: 0 1em 0 0.5em; text-align: right; border: none;\">\n",
              "                0.0002\n",
              "                \n",
              "                    &plusmn; 0.0003\n",
              "                \n",
              "            </td>\n",
              "            <td style=\"padding: 0 0.5em 0 0.5em; text-align: left; border: none;\">\n",
              "                DNI_day4\n",
              "            </td>\n",
              "        </tr>\n",
              "    \n",
              "        <tr style=\"background-color: hsl(120, 100.00%, 99.82%); border: none;\">\n",
              "            <td style=\"padding: 0 1em 0 0.5em; text-align: right; border: none;\">\n",
              "                0.0002\n",
              "                \n",
              "                    &plusmn; 0.0002\n",
              "                \n",
              "            </td>\n",
              "            <td style=\"padding: 0 0.5em 0 0.5em; text-align: left; border: none;\">\n",
              "                Sun_DHI_DNI_plus_hour_day3\n",
              "            </td>\n",
              "        </tr>\n",
              "    \n",
              "        <tr style=\"background-color: hsl(120, 100.00%, 99.84%); border: none;\">\n",
              "            <td style=\"padding: 0 1em 0 0.5em; text-align: right; border: none;\">\n",
              "                0.0001\n",
              "                \n",
              "                    &plusmn; 0.0000\n",
              "                \n",
              "            </td>\n",
              "            <td style=\"padding: 0 0.5em 0 0.5em; text-align: left; border: none;\">\n",
              "                Sun_DHI_hour_day4\n",
              "            </td>\n",
              "        </tr>\n",
              "    \n",
              "        <tr style=\"background-color: hsl(120, 100.00%, 99.84%); border: none;\">\n",
              "            <td style=\"padding: 0 1em 0 0.5em; text-align: right; border: none;\">\n",
              "                0.0001\n",
              "                \n",
              "                    &plusmn; 0.0003\n",
              "                \n",
              "            </td>\n",
              "            <td style=\"padding: 0 0.5em 0 0.5em; text-align: left; border: none;\">\n",
              "                Sun_DHI_per_day5\n",
              "            </td>\n",
              "        </tr>\n",
              "    \n",
              "        <tr style=\"background-color: hsl(120, 100.00%, 99.84%); border: none;\">\n",
              "            <td style=\"padding: 0 1em 0 0.5em; text-align: right; border: none;\">\n",
              "                0.0001\n",
              "                \n",
              "                    &plusmn; 0.0000\n",
              "                \n",
              "            </td>\n",
              "            <td style=\"padding: 0 0.5em 0 0.5em; text-align: left; border: none;\">\n",
              "                Sun_DHI_day6\n",
              "            </td>\n",
              "        </tr>\n",
              "    \n",
              "        <tr style=\"background-color: hsl(120, 100.00%, 99.85%); border: none;\">\n",
              "            <td style=\"padding: 0 1em 0 0.5em; text-align: right; border: none;\">\n",
              "                0.0001\n",
              "                \n",
              "                    &plusmn; 0.0000\n",
              "                \n",
              "            </td>\n",
              "            <td style=\"padding: 0 0.5em 0 0.5em; text-align: left; border: none;\">\n",
              "                Sun_DNI_day6\n",
              "            </td>\n",
              "        </tr>\n",
              "    \n",
              "        <tr style=\"background-color: hsl(120, 100.00%, 99.85%); border: none;\">\n",
              "            <td style=\"padding: 0 1em 0 0.5em; text-align: right; border: none;\">\n",
              "                0.0001\n",
              "                \n",
              "                    &plusmn; 0.0000\n",
              "                \n",
              "            </td>\n",
              "            <td style=\"padding: 0 0.5em 0 0.5em; text-align: left; border: none;\">\n",
              "                Sun_DHI_DNI_plus_hour_day2\n",
              "            </td>\n",
              "        </tr>\n",
              "    \n",
              "        <tr style=\"background-color: hsl(120, 100.00%, 99.86%); border: none;\">\n",
              "            <td style=\"padding: 0 1em 0 0.5em; text-align: right; border: none;\">\n",
              "                0.0001\n",
              "                \n",
              "                    &plusmn; 0.0002\n",
              "                \n",
              "            </td>\n",
              "            <td style=\"padding: 0 0.5em 0 0.5em; text-align: left; border: none;\">\n",
              "                Sun_DHI_per_day2\n",
              "            </td>\n",
              "        </tr>\n",
              "    \n",
              "        <tr style=\"background-color: hsl(120, 100.00%, 99.87%); border: none;\">\n",
              "            <td style=\"padding: 0 1em 0 0.5em; text-align: right; border: none;\">\n",
              "                0.0001\n",
              "                \n",
              "                    &plusmn; 0.0000\n",
              "                \n",
              "            </td>\n",
              "            <td style=\"padding: 0 0.5em 0 0.5em; text-align: left; border: none;\">\n",
              "                Sun_DHI_DNI_day2\n",
              "            </td>\n",
              "        </tr>\n",
              "    \n",
              "        <tr style=\"background-color: hsl(120, 100.00%, 99.89%); border: none;\">\n",
              "            <td style=\"padding: 0 1em 0 0.5em; text-align: right; border: none;\">\n",
              "                0.0001\n",
              "                \n",
              "                    &plusmn; 0.0001\n",
              "                \n",
              "            </td>\n",
              "            <td style=\"padding: 0 0.5em 0 0.5em; text-align: left; border: none;\">\n",
              "                Sun_DNI_accumulate_day3\n",
              "            </td>\n",
              "        </tr>\n",
              "    \n",
              "        <tr style=\"background-color: hsl(120, 100.00%, 99.90%); border: none;\">\n",
              "            <td style=\"padding: 0 1em 0 0.5em; text-align: right; border: none;\">\n",
              "                0.0001\n",
              "                \n",
              "                    &plusmn; 0.0000\n",
              "                \n",
              "            </td>\n",
              "            <td style=\"padding: 0 0.5em 0 0.5em; text-align: left; border: none;\">\n",
              "                Sun_DHI_day2\n",
              "            </td>\n",
              "        </tr>\n",
              "    \n",
              "        <tr style=\"background-color: hsl(120, 100.00%, 99.90%); border: none;\">\n",
              "            <td style=\"padding: 0 1em 0 0.5em; text-align: right; border: none;\">\n",
              "                0.0001\n",
              "                \n",
              "                    &plusmn; 0.0004\n",
              "                \n",
              "            </td>\n",
              "            <td style=\"padding: 0 0.5em 0 0.5em; text-align: left; border: none;\">\n",
              "                DHI_day2\n",
              "            </td>\n",
              "        </tr>\n",
              "    \n",
              "        <tr style=\"background-color: hsl(120, 100.00%, 99.90%); border: none;\">\n",
              "            <td style=\"padding: 0 1em 0 0.5em; text-align: right; border: none;\">\n",
              "                0.0001\n",
              "                \n",
              "                    &plusmn; 0.0002\n",
              "                \n",
              "            </td>\n",
              "            <td style=\"padding: 0 0.5em 0 0.5em; text-align: left; border: none;\">\n",
              "                Sun_TARGET_accumulate_day4\n",
              "            </td>\n",
              "        </tr>\n",
              "    \n",
              "        <tr style=\"background-color: hsl(120, 100.00%, 99.92%); border: none;\">\n",
              "            <td style=\"padding: 0 1em 0 0.5em; text-align: right; border: none;\">\n",
              "                0.0001\n",
              "                \n",
              "                    &plusmn; 0.0000\n",
              "                \n",
              "            </td>\n",
              "            <td style=\"padding: 0 0.5em 0 0.5em; text-align: left; border: none;\">\n",
              "                Sun_DHI_DNI_plus_day1\n",
              "            </td>\n",
              "        </tr>\n",
              "    \n",
              "        <tr style=\"background-color: hsl(120, 100.00%, 99.93%); border: none;\">\n",
              "            <td style=\"padding: 0 1em 0 0.5em; text-align: right; border: none;\">\n",
              "                0.0000\n",
              "                \n",
              "                    &plusmn; 0.0000\n",
              "                \n",
              "            </td>\n",
              "            <td style=\"padding: 0 0.5em 0 0.5em; text-align: left; border: none;\">\n",
              "                Sun_DHI_DNI_plus_day0\n",
              "            </td>\n",
              "        </tr>\n",
              "    \n",
              "        <tr style=\"background-color: hsl(120, 100.00%, 99.93%); border: none;\">\n",
              "            <td style=\"padding: 0 1em 0 0.5em; text-align: right; border: none;\">\n",
              "                0.0000\n",
              "                \n",
              "                    &plusmn; 0.0001\n",
              "                \n",
              "            </td>\n",
              "            <td style=\"padding: 0 0.5em 0 0.5em; text-align: left; border: none;\">\n",
              "                Sun_TARGET_hour_day0\n",
              "            </td>\n",
              "        </tr>\n",
              "    \n",
              "        <tr style=\"background-color: hsl(120, 100.00%, 99.94%); border: none;\">\n",
              "            <td style=\"padding: 0 1em 0 0.5em; text-align: right; border: none;\">\n",
              "                0.0000\n",
              "                \n",
              "                    &plusmn; 0.0000\n",
              "                \n",
              "            </td>\n",
              "            <td style=\"padding: 0 0.5em 0 0.5em; text-align: left; border: none;\">\n",
              "                WS_day4\n",
              "            </td>\n",
              "        </tr>\n",
              "    \n",
              "        <tr style=\"background-color: hsl(120, 100.00%, 99.95%); border: none;\">\n",
              "            <td style=\"padding: 0 1em 0 0.5em; text-align: right; border: none;\">\n",
              "                0.0000\n",
              "                \n",
              "                    &plusmn; 0.0002\n",
              "                \n",
              "            </td>\n",
              "            <td style=\"padding: 0 0.5em 0 0.5em; text-align: left; border: none;\">\n",
              "                Sun_DHI_accumulate_day0\n",
              "            </td>\n",
              "        </tr>\n",
              "    \n",
              "        <tr style=\"background-color: hsl(120, 100.00%, 99.95%); border: none;\">\n",
              "            <td style=\"padding: 0 1em 0 0.5em; text-align: right; border: none;\">\n",
              "                0.0000\n",
              "                \n",
              "                    &plusmn; 0.0001\n",
              "                \n",
              "            </td>\n",
              "            <td style=\"padding: 0 0.5em 0 0.5em; text-align: left; border: none;\">\n",
              "                Sun_TARGET_accumulate_day2\n",
              "            </td>\n",
              "        </tr>\n",
              "    \n",
              "        <tr style=\"background-color: hsl(120, 100.00%, 99.96%); border: none;\">\n",
              "            <td style=\"padding: 0 1em 0 0.5em; text-align: right; border: none;\">\n",
              "                0.0000\n",
              "                \n",
              "                    &plusmn; 0.0001\n",
              "                \n",
              "            </td>\n",
              "            <td style=\"padding: 0 0.5em 0 0.5em; text-align: left; border: none;\">\n",
              "                Sun_DNI_hour_day2\n",
              "            </td>\n",
              "        </tr>\n",
              "    \n",
              "        <tr style=\"background-color: hsl(120, 100.00%, 99.96%); border: none;\">\n",
              "            <td style=\"padding: 0 1em 0 0.5em; text-align: right; border: none;\">\n",
              "                0.0000\n",
              "                \n",
              "                    &plusmn; 0.0000\n",
              "                \n",
              "            </td>\n",
              "            <td style=\"padding: 0 0.5em 0 0.5em; text-align: left; border: none;\">\n",
              "                Sun_DHI_DNI_day5\n",
              "            </td>\n",
              "        </tr>\n",
              "    \n",
              "        <tr style=\"background-color: hsl(120, 100.00%, 99.96%); border: none;\">\n",
              "            <td style=\"padding: 0 1em 0 0.5em; text-align: right; border: none;\">\n",
              "                0.0000\n",
              "                \n",
              "                    &plusmn; 0.0000\n",
              "                \n",
              "            </td>\n",
              "            <td style=\"padding: 0 0.5em 0 0.5em; text-align: left; border: none;\">\n",
              "                Sun_DHI_DNI_day1\n",
              "            </td>\n",
              "        </tr>\n",
              "    \n",
              "        <tr style=\"background-color: hsl(120, 100.00%, 99.96%); border: none;\">\n",
              "            <td style=\"padding: 0 1em 0 0.5em; text-align: right; border: none;\">\n",
              "                0.0000\n",
              "                \n",
              "                    &plusmn; 0.0000\n",
              "                \n",
              "            </td>\n",
              "            <td style=\"padding: 0 0.5em 0 0.5em; text-align: left; border: none;\">\n",
              "                Sun_DHI_day0\n",
              "            </td>\n",
              "        </tr>\n",
              "    \n",
              "        <tr style=\"background-color: hsl(120, 100.00%, 99.96%); border: none;\">\n",
              "            <td style=\"padding: 0 1em 0 0.5em; text-align: right; border: none;\">\n",
              "                0.0000\n",
              "                \n",
              "                    &plusmn; 0.0000\n",
              "                \n",
              "            </td>\n",
              "            <td style=\"padding: 0 0.5em 0 0.5em; text-align: left; border: none;\">\n",
              "                Sun_TARGET_day6\n",
              "            </td>\n",
              "        </tr>\n",
              "    \n",
              "        <tr style=\"background-color: hsl(120, 100.00%, 99.97%); border: none;\">\n",
              "            <td style=\"padding: 0 1em 0 0.5em; text-align: right; border: none;\">\n",
              "                0.0000\n",
              "                \n",
              "                    &plusmn; 0.0001\n",
              "                \n",
              "            </td>\n",
              "            <td style=\"padding: 0 0.5em 0 0.5em; text-align: left; border: none;\">\n",
              "                Sun_DHI_DNI_hour_day1\n",
              "            </td>\n",
              "        </tr>\n",
              "    \n",
              "        <tr style=\"background-color: hsl(120, 100.00%, 99.97%); border: none;\">\n",
              "            <td style=\"padding: 0 1em 0 0.5em; text-align: right; border: none;\">\n",
              "                0.0000\n",
              "                \n",
              "                    &plusmn; 0.0000\n",
              "                \n",
              "            </td>\n",
              "            <td style=\"padding: 0 0.5em 0 0.5em; text-align: left; border: none;\">\n",
              "                RH_day1\n",
              "            </td>\n",
              "        </tr>\n",
              "    \n",
              "        <tr style=\"background-color: hsl(0, 100.00%, 100.00%); border: none;\">\n",
              "            <td style=\"padding: 0 1em 0 0.5em; text-align: right; border: none;\">\n",
              "                0\n",
              "                \n",
              "                    &plusmn; 0.0000\n",
              "                \n",
              "            </td>\n",
              "            <td style=\"padding: 0 0.5em 0 0.5em; text-align: left; border: none;\">\n",
              "                Sun_DHI_DNI_day6\n",
              "            </td>\n",
              "        </tr>\n",
              "    \n",
              "        <tr style=\"background-color: hsl(0, 100.00%, 100.00%); border: none;\">\n",
              "            <td style=\"padding: 0 1em 0 0.5em; text-align: right; border: none;\">\n",
              "                0\n",
              "                \n",
              "                    &plusmn; 0.0000\n",
              "                \n",
              "            </td>\n",
              "            <td style=\"padding: 0 0.5em 0 0.5em; text-align: left; border: none;\">\n",
              "                Sun_DNI_day5\n",
              "            </td>\n",
              "        </tr>\n",
              "    \n",
              "        <tr style=\"background-color: hsl(0, 100.00%, 100.00%); border: none;\">\n",
              "            <td style=\"padding: 0 1em 0 0.5em; text-align: right; border: none;\">\n",
              "                0\n",
              "                \n",
              "                    &plusmn; 0.0000\n",
              "                \n",
              "            </td>\n",
              "            <td style=\"padding: 0 0.5em 0 0.5em; text-align: left; border: none;\">\n",
              "                Sun_DNI_day2\n",
              "            </td>\n",
              "        </tr>\n",
              "    \n",
              "        <tr style=\"background-color: hsl(0, 100.00%, 100.00%); border: none;\">\n",
              "            <td style=\"padding: 0 1em 0 0.5em; text-align: right; border: none;\">\n",
              "                0\n",
              "                \n",
              "                    &plusmn; 0.0000\n",
              "                \n",
              "            </td>\n",
              "            <td style=\"padding: 0 0.5em 0 0.5em; text-align: left; border: none;\">\n",
              "                Sun_DHI_day4\n",
              "            </td>\n",
              "        </tr>\n",
              "    \n",
              "    \n",
              "        \n",
              "            <tr style=\"background-color: hsl(0, 100.00%, 100.00%); border: none;\">\n",
              "                <td colspan=\"2\" style=\"padding: 0 0.5em 0 0.5em; text-align: center; border: none; white-space: nowrap;\">\n",
              "                    <i>&hellip; 90 more &hellip;</i>\n",
              "                </td>\n",
              "            </tr>\n",
              "        \n",
              "    \n",
              "    </tbody>\n",
              "</table>\n",
              "    \n",
              "\n",
              "    \n",
              "\n",
              "\n",
              "    \n",
              "\n",
              "    \n",
              "\n",
              "    \n",
              "\n",
              "    \n",
              "\n",
              "    \n",
              "\n",
              "    \n",
              "\n",
              "\n",
              "\n"
            ],
            "text/plain": [
              "<IPython.core.display.HTML object>"
            ]
          },
          "metadata": {
            "tags": []
          },
          "execution_count": 9
        }
      ]
    },
    {
      "cell_type": "code",
      "metadata": {
        "id": "hcKLDATcVyT9"
      },
      "source": [
        ""
      ],
      "execution_count": null,
      "outputs": []
    }
  ]
}