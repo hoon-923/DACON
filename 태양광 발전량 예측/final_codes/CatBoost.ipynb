{
  "nbformat": 4,
  "nbformat_minor": 0,
  "metadata": {
    "colab": {
      "name": "catboost_bayesian_factory_1.ipynb",
      "provenance": []
    },
    "kernelspec": {
      "display_name": "Python 3",
      "name": "python3"
    }
  },
  "cells": [
    {
      "cell_type": "code",
      "metadata": {
        "id": "yMN0qM2Gibio"
      },
      "source": [
        "# Library\r\n",
        "import sys\r\n",
        "import numpy as np\r\n",
        "import pandas as pd\r\n",
        "import random\r\n",
        "import os\r\n",
        "import glob\r\n",
        "import warnings\r\n",
        "warnings.filterwarnings(\"ignore\")\r\n",
        "\r\n",
        "from bayes_opt import BayesianOptimization\r\n",
        "from catboost import CatBoostRegressor"
      ],
      "execution_count": 1,
      "outputs": []
    },
    {
      "cell_type": "code",
      "metadata": {
        "colab": {
          "base_uri": "https://localhost:8080/"
        },
        "id": "dei6X5gP4SGT",
        "outputId": "806e60f7-c1cf-4aa3-cf02-9727dd581986"
      },
      "source": [
        "print(f'python : {sys.version}')\r\n",
        "print(f'numpy : {np.__version__}')\r\n",
        "print(f'pandas : {pd.__version__}')"
      ],
      "execution_count": 2,
      "outputs": [
        {
          "output_type": "stream",
          "text": [
            "python : 3.6.9 (default, Oct  8 2020, 12:12:24) \n",
            "[GCC 8.4.0]\n",
            "numpy : 1.19.5\n",
            "pandas : 1.1.5\n"
          ],
          "name": "stdout"
        }
      ]
    },
    {
      "cell_type": "code",
      "metadata": {
        "colab": {
          "base_uri": "https://localhost:8080/"
        },
        "id": "eMnEh0HnUSLQ",
        "outputId": "ee3cc0b3-529e-4b8a-b8d0-e6aee633ac1e"
      },
      "source": [
        "train_df = pd.read_csv('/content/drive/MyDrive/DACON/태양광/train_reshape.csv')\r\n",
        "test_df = pd.read_csv('/content/drive/MyDrive/DACON/태양광/test_reshape.csv')\r\n",
        "\r\n",
        "\r\n",
        "def target_scaler(x):\r\n",
        "  for i in range(200):\r\n",
        "    if (x>i) & (x<=i+1):\r\n",
        "      return i\r\n",
        "    elif x==0:\r\n",
        "      return 0\r\n",
        "\r\n",
        "train_df['TARGET_day7_cata']=train_df['TARGET_day7'].apply(target_scaler)\r\n",
        "\r\n",
        "\r\n",
        "from sklearn.preprocessing import LabelEncoder\r\n",
        "label_encoder = LabelEncoder()\r\n",
        "train_df.TARGET_day7_cata = label_encoder.fit_transform(train_df.TARGET_day7_cata)\r\n",
        "\r\n",
        "from sklearn.utils.multiclass import type_of_target\r\n",
        "print(type_of_target(train_df.TARGET_day7_cata))\r\n",
        "\r\n",
        "train_df1=train_df.iloc[:48*365,:]\r\n",
        "train_df2=train_df.iloc[48*365:365*48*2,:]\r\n",
        "train_df3=train_df.iloc[365*48*2:,:]\r\n",
        "\r\n",
        "from sklearn.model_selection import StratifiedKFold\r\n",
        "stf=StratifiedKFold(n_splits=5, shuffle=False, random_state=100)\r\n",
        "\r\n",
        "#마지막 세트를 사용\r\n",
        "for train_index1,valid_index1 in stf.split(train_df1, train_df1.TARGET_day7_cata):\r\n",
        "  print(train_index1, valid_index1)\r\n",
        "\r\n",
        "for train_index2,valid_index2 in stf.split(train_df2, train_df2.TARGET_day7_cata):\r\n",
        "  print(train_index2, valid_index2)\r\n",
        "\r\n",
        "for train_index3,valid_index3 in stf.split(train_df3, train_df3.TARGET_day7_cata):\r\n",
        "  print(train_index3, valid_index3)"
      ],
      "execution_count": null,
      "outputs": [
        {
          "output_type": "stream",
          "text": [
            "multiclass\n",
            "[ 1997  2084  2089 ... 17517 17518 17519] [   0    1    2 ... 7077 7514 7558]\n",
            "[    0     1     2 ... 17517 17518 17519] [1997 2084 2089 ... 8707 8769 9055]\n",
            "[    0     1     2 ... 17517 17518 17519] [ 5402  5403  5680 ... 12353 12366 12416]\n",
            "[    0     1     2 ... 17517 17518 17519] [ 7272  7752  7798 ... 15719 15766 15910]\n",
            "[    0     1     2 ... 15719 15766 15910] [ 7800  7801  7945 ... 17517 17518 17519]\n",
            "[ 2235  2322  2465 ... 17517 17518 17519] [   0    1    2 ... 6887 6933 6981]\n",
            "[    0     1     2 ... 17517 17518 17519] [2235 2322 2465 ... 8844 8892 8940]\n",
            "[    0     1     2 ... 17517 17518 17519] [ 4493  4877  5068 ... 12687 12943 12983]\n",
            "[    0     1     2 ... 17517 17518 17519] [ 7422  7607  7656 ... 15957 16006 16153]\n",
            "[    0     1     2 ... 15957 16006 16153] [ 7608  7609  7657 ... 17517 17518 17519]\n",
            "[ 1611  1612  1702 ... 17133 17134 17135] [   0    1    2 ... 6411 6552 7367]\n",
            "[    0     1     2 ... 17133 17134 17135] [1611 1612 1702 ... 8817 8867 9036]\n",
            "[    0     1     2 ... 17133 17134 17135] [ 4825  4969  5156 ... 12065 12271 12319]\n",
            "[    0     1     2 ... 17133 17134 17135] [ 6213  6408  6744 ... 15426 15484 15522]\n",
            "[    0     1     2 ... 15426 15484 15522] [ 7512  7800  7896 ... 17133 17134 17135]\n"
          ],
          "name": "stdout"
        }
      ]
    },
    {
      "cell_type": "code",
      "metadata": {
        "colab": {
          "base_uri": "https://localhost:8080/"
        },
        "id": "JvHRdPgmc7xh",
        "outputId": "e3951733-1bf8-4a8d-c765-1d146f0c4a7d"
      },
      "source": [
        "train_df2 = train_df2.reset_index(drop=True)\r\n",
        "train_df3 = train_df3.reset_index(drop=True)\r\n",
        "\r\n",
        "del train_df1['TARGET_day7_cata']\r\n",
        "del train_df2['TARGET_day7_cata']\r\n",
        "del train_df3['TARGET_day7_cata']\r\n",
        "\r\n",
        "X_train_1 = train_df1[train_df1.index.isin(train_index1)].drop(columns=['TARGET_day7','TARGET_day8'])\r\n",
        "Y_train_1 = train_df1[train_df1.index.isin(train_index1)]['TARGET_day7']\r\n",
        "X_valid_1 = train_df1[train_df1.index.isin(valid_index1)].drop(columns=['TARGET_day7','TARGET_day8'])\r\n",
        "Y_valid_1 = train_df1[train_df1.index.isin(valid_index1)]['TARGET_day7']\r\n",
        "\r\n",
        "X_train_2 = train_df2[train_df2.index.isin(train_index2)].drop(columns=['TARGET_day7','TARGET_day8'])\r\n",
        "Y_train_2 = train_df2[train_df2.index.isin(train_index2)]['TARGET_day7']\r\n",
        "X_valid_2 = train_df2[train_df2.index.isin(valid_index2)].drop(columns=['TARGET_day7','TARGET_day8'])\r\n",
        "Y_valid_2 = train_df2[train_df2.index.isin(valid_index2)]['TARGET_day7']\r\n",
        "\r\n",
        "X_train_3 = train_df3[train_df3.index.isin(train_index3)].drop(columns=['TARGET_day7','TARGET_day8'])\r\n",
        "Y_train_3 = train_df3[train_df3.index.isin(train_index3)]['TARGET_day7']\r\n",
        "X_valid_3 = train_df3[train_df3.index.isin(valid_index3)].drop(columns=['TARGET_day7','TARGET_day8'])\r\n",
        "Y_valid_3 = train_df3[train_df3.index.isin(valid_index3)]['TARGET_day7']\r\n",
        "\r\n",
        "print(X_train_1.shape, Y_train_1.shape, X_valid_1.shape, Y_valid_1.shape)\r\n",
        "print(X_train_2.shape, Y_train_2.shape, X_valid_2.shape, Y_valid_2.shape)\r\n",
        "print(X_train_3.shape, Y_train_3.shape, X_valid_3.shape, Y_valid_3.shape)"
      ],
      "execution_count": null,
      "outputs": [
        {
          "output_type": "stream",
          "text": [
            "(14016, 190) (14016,) (3504, 190) (3504,)\n",
            "(14016, 190) (14016,) (3504, 190) (3504,)\n",
            "(13709, 190) (13709,) (3427, 190) (3427,)\n"
          ],
          "name": "stdout"
        }
      ]
    },
    {
      "cell_type": "code",
      "metadata": {
        "colab": {
          "base_uri": "https://localhost:8080/"
        },
        "id": "hjYnTqrwgANK",
        "outputId": "802f14f4-ea40-4682-c52f-a4c99fb4a69c"
      },
      "source": [
        "quantiles = [0.1, 0.2, 0.3, 0.4, 0.5 ,0.6, 0.7, 0.8, 0.9]\r\n",
        "\r\n",
        "for q in quantiles:\r\n",
        "  def catboost_quantile_loss(X_train, y_train, X_valid, y_valid, loss_function='Quantile:alpha={}'.format(q),\r\n",
        "                  iterations=500, learning_rate=0.05, depth=10, random_seed = 100,bagging_temperature = 0.2,\r\n",
        "                  od_type='Iter', metric_period = 50, od_wait=20,min_data_in_leaf=32\r\n",
        "                  ):\r\n",
        "    \r\n",
        "    \r\n",
        "    catmodel = CatBoostRegressor( \r\n",
        "    loss_function= loss_function,\r\n",
        "    iterations=iterations,\r\n",
        "    learning_rate=learning_rate,\r\n",
        "    depth=depth,\r\n",
        "    random_seed=random_seed,\r\n",
        "    bagging_temperature= bagging_temperature,\r\n",
        "    od_type=od_type,\r\n",
        "    metric_period=metric_period,\r\n",
        "    min_data_in_leaf = min_data_in_leaf,        \r\n",
        "    od_wait= 20,\r\n",
        "    verbose = 100\r\n",
        "    )\r\n",
        "\r\n",
        "    catmodel.fit(X_train,\r\n",
        "                 y_train,\r\n",
        "                 eval_set=(X_valid,y_valid),\r\n",
        "                 plot=False\r\n",
        "            )\r\n",
        "\r\n",
        "    predict = catmodel.predict(X_valid)\r\n",
        "    \r\n",
        "    best_quantile_loss_train = catmodel.best_score_['learn']['Quantile:alpha={}'.format(q)]\r\n",
        "    best_quantile_loss_valid = catmodel.best_score_['validation']['Quantile:alpha={}'.format(q)]\r\n",
        "        \r\n",
        "        \r\n",
        "    print('train_quantile_loss : {:.4f}, test_quantile_loss : {:.4f}'.format(best_quantile_loss_train, best_quantile_loss_valid))\r\n",
        "    \r\n",
        "    return - best_quantile_loss_valid\r\n",
        "\r\n",
        "  def optimize_catboost(X_train,y_train,X_valid,y_valid, param_probe=None) :\r\n",
        "    '''\r\n",
        "    return the optimizer  and output the best hyperparameters found\r\n",
        "    param_probe : dict of hyperparameters in order to guide the optimization\r\n",
        "    '''\r\n",
        "    def catboost_wrapper(learning_rate, depth, \r\n",
        "                         min_data_in_leaf, bagging_temperature,\r\n",
        "                         loss_function = 'Quantile:alpha={}'.format(q), \r\n",
        "                         random_seed = 100,  iterations = 500) :\r\n",
        "        '''\r\n",
        "        wrapper for the function to optimize\r\n",
        "        '''\r\n",
        "        \r\n",
        "        return catboost_quantile_loss(X_train=X_train, y_train=y_train ,\r\n",
        "                             X_valid=X_valid ,y_valid=y_valid, \r\n",
        "                             iterations = int(iterations),\r\n",
        "                             random_seed = random_seed, \r\n",
        "                             learning_rate=learning_rate, \r\n",
        "                             depth=int(depth),\r\n",
        "                             min_data_in_leaf= int(min_data_in_leaf),\r\n",
        "                             bagging_temperature = bagging_temperature\r\n",
        "              )\r\n",
        "    \r\n",
        "    optimizer = BayesianOptimization(\r\n",
        "        f = catboost_wrapper,\r\n",
        "        pbounds= {\r\n",
        "            \"learning_rate\" : (0.01,0.50),\r\n",
        "            \"depth\" : (2,10),\r\n",
        "            \"min_data_in_leaf\" : (1,10),\r\n",
        "            \"bagging_temperature\" : (0,100),       \r\n",
        "        },\r\n",
        "        random_state = 100,\r\n",
        "        verbose = 50,\r\n",
        "    )\r\n",
        "    if param_probe != None :\r\n",
        "        optimizer.probe(\r\n",
        "        params= param_probe,\r\n",
        "        lazy=True,\r\n",
        "        )\r\n",
        "    \r\n",
        "    optimizer.maximize(n_iter=5,\r\n",
        "                      init_points=5)\r\n",
        "    \r\n",
        "    print(\"Final result:\", optimizer.max)\r\n",
        "    return optimizer\r\n",
        "\r\n",
        "  print('-- Optimizing Quantile_{} Parameters --'.format(q))\r\n",
        "  optimizer_cat = optimize_catboost(X_train=X_train_1, y_train=Y_train_1, \r\n",
        "                                  X_valid=X_valid_1, y_valid=Y_valid_1)\r\n",
        "  \r\n",
        "  params = optimizer_cat.max['params']\r\n",
        "  params['depth'] = int(params['depth'])\r\n",
        "  params['min_data_in_leaf'] = int(params['min_data_in_leaf'])\r\n",
        "  \r\n",
        "  cb_model = CatBoostRegressor(iterations=500,\r\n",
        "                               random_seed = 100,\r\n",
        "                             od_type='Iter',\r\n",
        "                             metric_period = 50,\r\n",
        "                             od_wait=20,\r\n",
        "                             loss_function='Quantile:alpha={0}'.format(q),\r\n",
        "                             **params\r\n",
        "                             )\r\n",
        "  \r\n",
        "  print('---- Predict',q,'----')\r\n",
        "  cb_model.fit(X_train_1, Y_train_1,\r\n",
        "             eval_set=(X_valid_1, Y_valid_1),\r\n",
        "             use_best_model=True,\r\n",
        "             verbose=100)\r\n",
        "  \r\n",
        "  pred_test_cat = cb_model.predict(test_df)\r\n",
        "  pred_test_cat = pd.DataFrame(pred_test_cat)\r\n",
        "  pred_test_cat.to_csv('/content/drive/MyDrive/DACON/태양광/quantiles/catboost/year1/1_cat_quantile_{}.csv'.format(q), index=False)"
      ],
      "execution_count": null,
      "outputs": [
        {
          "output_type": "stream",
          "text": [
            "-- Optimizing Quantile_0.1 Parameters --\n",
            "|   iter    |  target   | baggin... |   depth   | learni... | min_da... |\n",
            "-------------------------------------------------------------------------\n"
          ],
          "name": "stdout"
        },
        {
          "output_type": "stream",
          "text": [
            "Warning: Overfitting detector is active, thus evaluation metric is calculated on every iteration. 'metric_period' is ignored for evaluation metric.\n"
          ],
          "name": "stderr"
        },
        {
          "output_type": "stream",
          "text": [
            "0:\tlearn: 1.6743395\ttest: 1.6771366\tbest: 1.6771366 (0)\ttotal: 71.9ms\tremaining: 35.9s\n",
            "Stopped by overfitting detector  (20 iterations wait)\n",
            "\n",
            "bestTest = 1.29755559\n",
            "bestIteration = 47\n",
            "\n",
            "Shrink model to first 48 iterations.\n",
            "train_quantile_loss : 1.2894, test_quantile_loss : 1.2976\n",
            "| \u001b[0m 1       \u001b[0m | \u001b[0m-1.298   \u001b[0m | \u001b[0m 54.34   \u001b[0m | \u001b[0m 4.227   \u001b[0m | \u001b[0m 0.218   \u001b[0m | \u001b[0m 8.603   \u001b[0m |\n"
          ],
          "name": "stdout"
        },
        {
          "output_type": "stream",
          "text": [
            "Warning: Overfitting detector is active, thus evaluation metric is calculated on every iteration. 'metric_period' is ignored for evaluation metric.\n"
          ],
          "name": "stderr"
        },
        {
          "output_type": "stream",
          "text": [
            "0:\tlearn: 1.6809065\ttest: 1.6775206\tbest: 1.6775206 (0)\ttotal: 15.6ms\tremaining: 7.79s\n",
            "Stopped by overfitting detector  (20 iterations wait)\n",
            "\n",
            "bestTest = 1.31873269\n",
            "bestIteration = 15\n",
            "\n",
            "Shrink model to first 16 iterations.\n",
            "train_quantile_loss : 1.6809, test_quantile_loss : 1.3187\n",
            "| \u001b[0m 2       \u001b[0m | \u001b[0m-1.319   \u001b[0m | \u001b[0m 0.4719  \u001b[0m | \u001b[0m 2.973   \u001b[0m | \u001b[0m 0.3387  \u001b[0m | \u001b[0m 8.433   \u001b[0m |\n"
          ],
          "name": "stdout"
        },
        {
          "output_type": "stream",
          "text": [
            "Warning: Overfitting detector is active, thus evaluation metric is calculated on every iteration. 'metric_period' is ignored for evaluation metric.\n"
          ],
          "name": "stderr"
        },
        {
          "output_type": "stream",
          "text": [
            "0:\tlearn: 1.6111260\ttest: 1.6134266\tbest: 1.6134266 (0)\ttotal: 46.8ms\tremaining: 23.3s\n",
            "Stopped by overfitting detector  (20 iterations wait)\n",
            "\n",
            "bestTest = 1.272255198\n",
            "bestIteration = 22\n",
            "\n",
            "Shrink model to first 23 iterations.\n",
            "train_quantile_loss : 1.6111, test_quantile_loss : 1.2723\n",
            "| \u001b[95m 3       \u001b[0m | \u001b[95m-1.272   \u001b[0m | \u001b[95m 13.67   \u001b[0m | \u001b[95m 6.601   \u001b[0m | \u001b[95m 0.4467  \u001b[0m | \u001b[95m 2.883   \u001b[0m |\n"
          ],
          "name": "stdout"
        },
        {
          "output_type": "stream",
          "text": [
            "Warning: Overfitting detector is active, thus evaluation metric is calculated on every iteration. 'metric_period' is ignored for evaluation metric.\n"
          ],
          "name": "stderr"
        },
        {
          "output_type": "stream",
          "text": [
            "0:\tlearn: 1.7090774\ttest: 1.7095730\tbest: 1.7095730 (0)\ttotal: 13.9ms\tremaining: 6.95s\n",
            "100:\tlearn: 1.3325453\ttest: 1.3154464\tbest: 1.3118795 (95)\ttotal: 1.18s\tremaining: 4.66s\n",
            "Stopped by overfitting detector  (20 iterations wait)\n",
            "\n",
            "bestTest = 1.311879527\n",
            "bestIteration = 95\n",
            "\n",
            "Shrink model to first 96 iterations.\n",
            "train_quantile_loss : 1.3325, test_quantile_loss : 1.3119\n",
            "| \u001b[0m 4       \u001b[0m | \u001b[0m-1.312   \u001b[0m | \u001b[0m 18.53   \u001b[0m | \u001b[0m 2.867   \u001b[0m | \u001b[0m 0.1177  \u001b[0m | \u001b[0m 9.808   \u001b[0m |\n",
            "0:\tlearn: 1.6456791\ttest: 1.6470275\tbest: 1.6470275 (0)\ttotal: 18.1ms\tremaining: 9.02s\n"
          ],
          "name": "stdout"
        },
        {
          "output_type": "stream",
          "text": [
            "Warning: Overfitting detector is active, thus evaluation metric is calculated on every iteration. 'metric_period' is ignored for evaluation metric.\n"
          ],
          "name": "stderr"
        },
        {
          "output_type": "stream",
          "text": [
            "Stopped by overfitting detector  (20 iterations wait)\n",
            "\n",
            "bestTest = 1.312142418\n",
            "bestIteration = 24\n",
            "\n",
            "Shrink model to first 25 iterations.\n",
            "train_quantile_loss : 1.6457, test_quantile_loss : 1.3121\n",
            "| \u001b[0m 5       \u001b[0m | \u001b[0m-1.312   \u001b[0m | \u001b[0m 81.17   \u001b[0m | \u001b[0m 3.376   \u001b[0m | \u001b[0m 0.41    \u001b[0m | \u001b[0m 3.467   \u001b[0m |\n"
          ],
          "name": "stdout"
        },
        {
          "output_type": "stream",
          "text": [
            "Warning: Overfitting detector is active, thus evaluation metric is calculated on every iteration. 'metric_period' is ignored for evaluation metric.\n"
          ],
          "name": "stderr"
        },
        {
          "output_type": "stream",
          "text": [
            "0:\tlearn: 1.5831817\ttest: 1.5875284\tbest: 1.5875284 (0)\ttotal: 177ms\tremaining: 1m 28s\n",
            "Stopped by overfitting detector  (20 iterations wait)\n",
            "\n",
            "bestTest = 1.439019662\n",
            "bestIteration = 4\n",
            "\n",
            "Shrink model to first 5 iterations.\n",
            "train_quantile_loss : 1.5832, test_quantile_loss : 1.4390\n",
            "| \u001b[0m 6       \u001b[0m | \u001b[0m-1.439   \u001b[0m | \u001b[0m 48.54   \u001b[0m | \u001b[0m 9.971   \u001b[0m | \u001b[0m 0.4205  \u001b[0m | \u001b[0m 1.578   \u001b[0m |\n"
          ],
          "name": "stdout"
        },
        {
          "output_type": "stream",
          "text": [
            "Warning: Overfitting detector is active, thus evaluation metric is calculated on every iteration. 'metric_period' is ignored for evaluation metric.\n"
          ],
          "name": "stderr"
        },
        {
          "output_type": "stream",
          "text": [
            "0:\tlearn: 1.7236771\ttest: 1.7242867\tbest: 1.7242867 (0)\ttotal: 304ms\tremaining: 2m 31s\n",
            "100:\tlearn: 1.4201766\ttest: 1.4500974\tbest: 1.4500974 (100)\ttotal: 27.1s\tremaining: 1m 47s\n",
            "200:\tlearn: 1.2657895\ttest: 1.3551525\tbest: 1.3551525 (200)\ttotal: 54s\tremaining: 1m 20s\n",
            "Stopped by overfitting detector  (20 iterations wait)\n",
            "\n",
            "bestTest = 1.324639503\n",
            "bestIteration = 275\n",
            "\n",
            "Shrink model to first 276 iterations.\n",
            "train_quantile_loss : 1.1964, test_quantile_loss : 1.3246\n",
            "| \u001b[0m 7       \u001b[0m | \u001b[0m-1.325   \u001b[0m | \u001b[0m 100.0   \u001b[0m | \u001b[0m 10.0    \u001b[0m | \u001b[0m 0.01    \u001b[0m | \u001b[0m 10.0    \u001b[0m |\n"
          ],
          "name": "stdout"
        },
        {
          "output_type": "stream",
          "text": [
            "Warning: Overfitting detector is active, thus evaluation metric is calculated on every iteration. 'metric_period' is ignored for evaluation metric.\n"
          ],
          "name": "stderr"
        },
        {
          "output_type": "stream",
          "text": [
            "0:\tlearn: 1.6354274\ttest: 1.6401980\tbest: 1.6401980 (0)\ttotal: 50.7ms\tremaining: 25.3s\n",
            "Stopped by overfitting detector  (20 iterations wait)\n",
            "\n",
            "bestTest = 1.374701025\n",
            "bestIteration = 8\n",
            "\n",
            "Shrink model to first 9 iterations.\n",
            "train_quantile_loss : 1.6354, test_quantile_loss : 1.3747\n",
            "| \u001b[0m 8       \u001b[0m | \u001b[0m-1.375   \u001b[0m | \u001b[0m 10.73   \u001b[0m | \u001b[0m 7.137   \u001b[0m | \u001b[0m 0.3231  \u001b[0m | \u001b[0m 1.814   \u001b[0m |\n"
          ],
          "name": "stdout"
        },
        {
          "output_type": "stream",
          "text": [
            "Warning: Overfitting detector is active, thus evaluation metric is calculated on every iteration. 'metric_period' is ignored for evaluation metric.\n"
          ],
          "name": "stderr"
        },
        {
          "output_type": "stream",
          "text": [
            "0:\tlearn: 1.7111299\ttest: 1.7117581\tbest: 1.7117581 (0)\ttotal: 14ms\tremaining: 7.01s\n",
            "100:\tlearn: 1.3272472\ttest: 1.3042834\tbest: 1.3028404 (93)\ttotal: 1.15s\tremaining: 4.54s\n",
            "Stopped by overfitting detector  (20 iterations wait)\n",
            "\n",
            "bestTest = 1.293613919\n",
            "bestIteration = 147\n",
            "\n",
            "Shrink model to first 148 iterations.\n",
            "train_quantile_loss : 1.3056, test_quantile_loss : 1.2936\n",
            "| \u001b[0m 9       \u001b[0m | \u001b[0m-1.294   \u001b[0m | \u001b[0m 98.77   \u001b[0m | \u001b[0m 2.094   \u001b[0m | \u001b[0m 0.1037  \u001b[0m | \u001b[0m 1.119   \u001b[0m |\n"
          ],
          "name": "stdout"
        },
        {
          "output_type": "stream",
          "text": [
            "Warning: Overfitting detector is active, thus evaluation metric is calculated on every iteration. 'metric_period' is ignored for evaluation metric.\n"
          ],
          "name": "stderr"
        },
        {
          "output_type": "stream",
          "text": [
            "0:\tlearn: 1.6654052\ttest: 1.6586778\tbest: 1.6586778 (0)\ttotal: 13.6ms\tremaining: 6.8s\n",
            "Stopped by overfitting detector  (20 iterations wait)\n",
            "\n",
            "bestTest = 1.304108938\n",
            "bestIteration = 22\n",
            "\n",
            "Shrink model to first 23 iterations.\n",
            "train_quantile_loss : 1.6654, test_quantile_loss : 1.3041\n",
            "| \u001b[0m 10      \u001b[0m | \u001b[0m-1.304   \u001b[0m | \u001b[0m 31.97   \u001b[0m | \u001b[0m 2.0     \u001b[0m | \u001b[0m 0.5     \u001b[0m | \u001b[0m 1.0     \u001b[0m |\n",
            "=========================================================================\n",
            "Final result: {'target': -1.2722551981621908, 'params': {'bagging_temperature': 13.670658968495298, 'depth': 6.600746635418, 'learning_rate': 0.4467477576130094, 'min_data_in_leaf': 2.8828190990547062}}\n",
            "---- Predict 0.1 ----\n"
          ],
          "name": "stdout"
        },
        {
          "output_type": "stream",
          "text": [
            "Warning: Overfitting detector is active, thus evaluation metric is calculated on every iteration. 'metric_period' is ignored for evaluation metric.\n"
          ],
          "name": "stderr"
        },
        {
          "output_type": "stream",
          "text": [
            "0:\tlearn: 1.6111260\ttest: 1.6134266\tbest: 1.6134266 (0)\ttotal: 41.7ms\tremaining: 20.8s\n",
            "Stopped by overfitting detector  (20 iterations wait)\n",
            "\n",
            "bestTest = 1.272255198\n",
            "bestIteration = 22\n",
            "\n",
            "Shrink model to first 23 iterations.\n",
            "-- Optimizing Quantile_0.2 Parameters --\n",
            "|   iter    |  target   | baggin... |   depth   | learni... | min_da... |\n",
            "-------------------------------------------------------------------------\n",
            "0:\tlearn: 3.2317228\ttest: 3.2422300\tbest: 3.2422300 (0)\ttotal: 21.2ms\tremaining: 10.6s\n"
          ],
          "name": "stdout"
        },
        {
          "output_type": "stream",
          "text": [
            "Warning: Overfitting detector is active, thus evaluation metric is calculated on every iteration. 'metric_period' is ignored for evaluation metric.\n"
          ],
          "name": "stderr"
        },
        {
          "output_type": "stream",
          "text": [
            "Stopped by overfitting detector  (20 iterations wait)\n",
            "\n",
            "bestTest = 1.983407942\n",
            "bestIteration = 37\n",
            "\n",
            "Shrink model to first 38 iterations.\n",
            "train_quantile_loss : 2.0767, test_quantile_loss : 1.9834\n",
            "| \u001b[0m 1       \u001b[0m | \u001b[0m-1.983   \u001b[0m | \u001b[0m 54.34   \u001b[0m | \u001b[0m 4.227   \u001b[0m | \u001b[0m 0.218   \u001b[0m | \u001b[0m 8.603   \u001b[0m |\n"
          ],
          "name": "stdout"
        },
        {
          "output_type": "stream",
          "text": [
            "Warning: Overfitting detector is active, thus evaluation metric is calculated on every iteration. 'metric_period' is ignored for evaluation metric.\n"
          ],
          "name": "stderr"
        },
        {
          "output_type": "stream",
          "text": [
            "0:\tlearn: 3.2255849\ttest: 3.2190945\tbest: 3.2190945 (0)\ttotal: 17.6ms\tremaining: 8.76s\n",
            "100:\tlearn: 2.1917441\ttest: 2.0545748\tbest: 2.0541130 (97)\ttotal: 1.2s\tremaining: 4.75s\n",
            "Stopped by overfitting detector  (20 iterations wait)\n",
            "\n",
            "bestTest = 2.046639049\n",
            "bestIteration = 111\n",
            "\n",
            "Shrink model to first 112 iterations.\n",
            "train_quantile_loss : 2.1917, test_quantile_loss : 2.0466\n",
            "| \u001b[0m 2       \u001b[0m | \u001b[0m-2.047   \u001b[0m | \u001b[0m 0.4719  \u001b[0m | \u001b[0m 2.973   \u001b[0m | \u001b[0m 0.3387  \u001b[0m | \u001b[0m 8.433   \u001b[0m |\n"
          ],
          "name": "stdout"
        },
        {
          "output_type": "stream",
          "text": [
            "Warning: Overfitting detector is active, thus evaluation metric is calculated on every iteration. 'metric_period' is ignored for evaluation metric.\n"
          ],
          "name": "stderr"
        },
        {
          "output_type": "stream",
          "text": [
            "0:\tlearn: 3.0094702\ttest: 3.0154771\tbest: 3.0154771 (0)\ttotal: 39.6ms\tremaining: 19.7s\n",
            "Stopped by overfitting detector  (20 iterations wait)\n",
            "\n",
            "bestTest = 2.095208827\n",
            "bestIteration = 8\n",
            "\n",
            "Shrink model to first 9 iterations.\n",
            "train_quantile_loss : 3.0095, test_quantile_loss : 2.0952\n",
            "| \u001b[0m 3       \u001b[0m | \u001b[0m-2.095   \u001b[0m | \u001b[0m 13.67   \u001b[0m | \u001b[0m 6.601   \u001b[0m | \u001b[0m 0.4467  \u001b[0m | \u001b[0m 2.883   \u001b[0m |\n"
          ],
          "name": "stdout"
        },
        {
          "output_type": "stream",
          "text": [
            "Warning: Overfitting detector is active, thus evaluation metric is calculated on every iteration. 'metric_period' is ignored for evaluation metric.\n"
          ],
          "name": "stderr"
        },
        {
          "output_type": "stream",
          "text": [
            "0:\tlearn: 3.3618216\ttest: 3.3623927\tbest: 3.3623927 (0)\ttotal: 18.3ms\tremaining: 9.13s\n",
            "Stopped by overfitting detector  (20 iterations wait)\n",
            "\n",
            "bestTest = 2.041739005\n",
            "bestIteration = 60\n",
            "\n",
            "Shrink model to first 61 iterations.\n",
            "train_quantile_loss : 2.2602, test_quantile_loss : 2.0417\n",
            "| \u001b[0m 4       \u001b[0m | \u001b[0m-2.042   \u001b[0m | \u001b[0m 18.53   \u001b[0m | \u001b[0m 2.867   \u001b[0m | \u001b[0m 0.1177  \u001b[0m | \u001b[0m 9.808   \u001b[0m |\n"
          ],
          "name": "stdout"
        },
        {
          "output_type": "stream",
          "text": [
            "Warning: Overfitting detector is active, thus evaluation metric is calculated on every iteration. 'metric_period' is ignored for evaluation metric.\n"
          ],
          "name": "stderr"
        },
        {
          "output_type": "stream",
          "text": [
            "0:\tlearn: 3.1061820\ttest: 3.1123098\tbest: 3.1123098 (0)\ttotal: 24.9ms\tremaining: 12.4s\n",
            "Stopped by overfitting detector  (20 iterations wait)\n",
            "\n",
            "bestTest = 2.030488644\n",
            "bestIteration = 27\n",
            "\n",
            "Shrink model to first 28 iterations.\n",
            "train_quantile_loss : 3.1062, test_quantile_loss : 2.0305\n",
            "| \u001b[0m 5       \u001b[0m | \u001b[0m-2.03    \u001b[0m | \u001b[0m 81.17   \u001b[0m | \u001b[0m 3.376   \u001b[0m | \u001b[0m 0.41    \u001b[0m | \u001b[0m 3.467   \u001b[0m |\n"
          ],
          "name": "stdout"
        },
        {
          "output_type": "stream",
          "text": [
            "Warning: Overfitting detector is active, thus evaluation metric is calculated on every iteration. 'metric_period' is ignored for evaluation metric.\n"
          ],
          "name": "stderr"
        },
        {
          "output_type": "stream",
          "text": [
            "0:\tlearn: 3.4409986\ttest: 3.4425781\tbest: 3.4425781 (0)\ttotal: 268ms\tremaining: 2m 13s\n",
            "100:\tlearn: 2.4973833\ttest: 2.5266619\tbest: 2.5266619 (100)\ttotal: 30.2s\tremaining: 1m 59s\n",
            "200:\tlearn: 2.1048993\ttest: 2.2246454\tbest: 2.2246454 (200)\ttotal: 1m\tremaining: 1m 29s\n",
            "300:\tlearn: 1.8565766\ttest: 2.0966311\tbest: 2.0966311 (300)\ttotal: 1m 26s\tremaining: 57.1s\n",
            "400:\tlearn: 1.6649555\ttest: 2.0437368\tbest: 2.0435144 (395)\ttotal: 1m 52s\tremaining: 27.7s\n",
            "499:\tlearn: 1.5221691\ttest: 2.0189947\tbest: 2.0189947 (499)\ttotal: 2m 18s\tremaining: 0us\n",
            "\n",
            "bestTest = 2.018994664\n",
            "bestIteration = 499\n",
            "\n",
            "train_quantile_loss : 1.5222, test_quantile_loss : 2.0190\n",
            "| \u001b[0m 6       \u001b[0m | \u001b[0m-2.019   \u001b[0m | \u001b[0m 100.0   \u001b[0m | \u001b[0m 10.0    \u001b[0m | \u001b[0m 0.01    \u001b[0m | \u001b[0m 10.0    \u001b[0m |\n"
          ],
          "name": "stdout"
        },
        {
          "output_type": "stream",
          "text": [
            "Warning: Overfitting detector is active, thus evaluation metric is calculated on every iteration. 'metric_period' is ignored for evaluation metric.\n"
          ],
          "name": "stderr"
        },
        {
          "output_type": "stream",
          "text": [
            "0:\tlearn: 3.4409985\ttest: 3.4425780\tbest: 3.4425780 (0)\ttotal: 270ms\tremaining: 2m 14s\n",
            "100:\tlearn: 2.4973829\ttest: 2.5266615\tbest: 2.5266615 (100)\ttotal: 26.2s\tremaining: 1m 43s\n",
            "200:\tlearn: 2.1048989\ttest: 2.2246451\tbest: 2.2246451 (200)\ttotal: 52.7s\tremaining: 1m 18s\n",
            "300:\tlearn: 1.8565762\ttest: 2.0966310\tbest: 2.0966310 (300)\ttotal: 1m 19s\tremaining: 52.5s\n",
            "400:\tlearn: 1.6670945\ttest: 2.0413128\tbest: 2.0413128 (400)\ttotal: 1m 45s\tremaining: 26.1s\n",
            "499:\tlearn: 1.5232499\ttest: 2.0189633\tbest: 2.0188691 (498)\ttotal: 2m 12s\tremaining: 0us\n",
            "\n",
            "bestTest = 2.01886914\n",
            "bestIteration = 498\n",
            "\n",
            "Shrink model to first 499 iterations.\n",
            "train_quantile_loss : 1.5232, test_quantile_loss : 2.0189\n",
            "| \u001b[0m 7       \u001b[0m | \u001b[0m-2.019   \u001b[0m | \u001b[0m 69.1    \u001b[0m | \u001b[0m 10.0    \u001b[0m | \u001b[0m 0.01    \u001b[0m | \u001b[0m 10.0    \u001b[0m |\n"
          ],
          "name": "stdout"
        },
        {
          "output_type": "stream",
          "text": [
            "Warning: Overfitting detector is active, thus evaluation metric is calculated on every iteration. 'metric_period' is ignored for evaluation metric.\n"
          ],
          "name": "stderr"
        },
        {
          "output_type": "stream",
          "text": [
            "0:\tlearn: 3.2729003\ttest: 3.2827794\tbest: 3.2827794 (0)\ttotal: 21.8ms\tremaining: 10.9s\n",
            "100:\tlearn: 2.0231291\ttest: 2.0363092\tbest: 2.0363092 (100)\ttotal: 1.95s\tremaining: 7.71s\n",
            "Stopped by overfitting detector  (20 iterations wait)\n",
            "\n",
            "bestTest = 2.009905564\n",
            "bestIteration = 135\n",
            "\n",
            "Shrink model to first 136 iterations.\n",
            "train_quantile_loss : 1.9140, test_quantile_loss : 2.0099\n",
            "| \u001b[0m 8       \u001b[0m | \u001b[0m-2.01    \u001b[0m | \u001b[0m 53.81   \u001b[0m | \u001b[0m 4.688   \u001b[0m | \u001b[0m 0.1731  \u001b[0m | \u001b[0m 5.475   \u001b[0m |\n"
          ],
          "name": "stdout"
        },
        {
          "output_type": "stream",
          "text": [
            "Warning: Overfitting detector is active, thus evaluation metric is calculated on every iteration. 'metric_period' is ignored for evaluation metric.\n"
          ],
          "name": "stderr"
        },
        {
          "output_type": "stream",
          "text": [
            "0:\tlearn: 3.3361787\ttest: 3.3356039\tbest: 3.3356039 (0)\ttotal: 12.7ms\tremaining: 6.33s\n",
            "Stopped by overfitting detector  (20 iterations wait)\n",
            "\n",
            "bestTest = 2.027810508\n",
            "bestIteration = 69\n",
            "\n",
            "Shrink model to first 70 iterations.\n",
            "train_quantile_loss : 2.2421, test_quantile_loss : 2.0278\n",
            "| \u001b[0m 9       \u001b[0m | \u001b[0m-2.028   \u001b[0m | \u001b[0m 99.02   \u001b[0m | \u001b[0m 2.653   \u001b[0m | \u001b[0m 0.1535  \u001b[0m | \u001b[0m 9.929   \u001b[0m |\n"
          ],
          "name": "stdout"
        },
        {
          "output_type": "stream",
          "text": [
            "Warning: Overfitting detector is active, thus evaluation metric is calculated on every iteration. 'metric_period' is ignored for evaluation metric.\n"
          ],
          "name": "stderr"
        },
        {
          "output_type": "stream",
          "text": [
            "0:\tlearn: 3.2473167\ttest: 3.2421626\tbest: 3.2421626 (0)\ttotal: 13.3ms\tremaining: 6.63s\n",
            "Stopped by overfitting detector  (20 iterations wait)\n",
            "\n",
            "bestTest = 2.02665529\n",
            "bestIteration = 52\n",
            "\n",
            "Shrink model to first 53 iterations.\n",
            "train_quantile_loss : 2.2009, test_quantile_loss : 2.0267\n",
            "| \u001b[0m 10      \u001b[0m | \u001b[0m-2.027   \u001b[0m | \u001b[0m 64.54   \u001b[0m | \u001b[0m 2.02    \u001b[0m | \u001b[0m 0.297   \u001b[0m | \u001b[0m 9.853   \u001b[0m |\n",
            "=========================================================================\n",
            "Final result: {'target': -1.98340794218285, 'params': {'bagging_temperature': 54.340494179096545, 'depth': 4.226955080750369, 'learning_rate': 0.21801361946707523, 'min_data_in_leaf': 8.602985190879133}}\n",
            "---- Predict 0.2 ----\n"
          ],
          "name": "stdout"
        },
        {
          "output_type": "stream",
          "text": [
            "Warning: Overfitting detector is active, thus evaluation metric is calculated on every iteration. 'metric_period' is ignored for evaluation metric.\n"
          ],
          "name": "stderr"
        },
        {
          "output_type": "stream",
          "text": [
            "0:\tlearn: 3.2317228\ttest: 3.2422300\tbest: 3.2422300 (0)\ttotal: 20.6ms\tremaining: 10.3s\n",
            "Stopped by overfitting detector  (20 iterations wait)\n",
            "\n",
            "bestTest = 1.983407942\n",
            "bestIteration = 37\n",
            "\n",
            "Shrink model to first 38 iterations.\n",
            "-- Optimizing Quantile_0.3 Parameters --\n",
            "|   iter    |  target   | baggin... |   depth   | learni... | min_da... |\n",
            "-------------------------------------------------------------------------\n",
            "0:\tlearn: 4.6641889\ttest: 4.6910040\tbest: 4.6910040 (0)\ttotal: 20.5ms\tremaining: 10.2s\n"
          ],
          "name": "stdout"
        },
        {
          "output_type": "stream",
          "text": [
            "Warning: Overfitting detector is active, thus evaluation metric is calculated on every iteration. 'metric_period' is ignored for evaluation metric.\n"
          ],
          "name": "stderr"
        },
        {
          "output_type": "stream",
          "text": [
            "Stopped by overfitting detector  (20 iterations wait)\n",
            "\n",
            "bestTest = 2.337067761\n",
            "bestIteration = 40\n",
            "\n",
            "Shrink model to first 41 iterations.\n",
            "train_quantile_loss : 2.5185, test_quantile_loss : 2.3371\n",
            "| \u001b[0m 1       \u001b[0m | \u001b[0m-2.337   \u001b[0m | \u001b[0m 54.34   \u001b[0m | \u001b[0m 4.227   \u001b[0m | \u001b[0m 0.218   \u001b[0m | \u001b[0m 8.603   \u001b[0m |\n"
          ],
          "name": "stdout"
        },
        {
          "output_type": "stream",
          "text": [
            "Warning: Overfitting detector is active, thus evaluation metric is calculated on every iteration. 'metric_period' is ignored for evaluation metric.\n"
          ],
          "name": "stderr"
        },
        {
          "output_type": "stream",
          "text": [
            "0:\tlearn: 4.6026534\ttest: 4.6073931\tbest: 4.6073931 (0)\ttotal: 18.7ms\tremaining: 9.31s\n",
            "Stopped by overfitting detector  (20 iterations wait)\n",
            "\n",
            "bestTest = 2.33473388\n",
            "bestIteration = 35\n",
            "\n",
            "Shrink model to first 36 iterations.\n",
            "train_quantile_loss : 2.7156, test_quantile_loss : 2.3347\n",
            "| \u001b[95m 2       \u001b[0m | \u001b[95m-2.335   \u001b[0m | \u001b[95m 0.4719  \u001b[0m | \u001b[95m 2.973   \u001b[0m | \u001b[95m 0.3387  \u001b[0m | \u001b[95m 8.433   \u001b[0m |\n"
          ],
          "name": "stdout"
        },
        {
          "output_type": "stream",
          "text": [
            "Warning: Overfitting detector is active, thus evaluation metric is calculated on every iteration. 'metric_period' is ignored for evaluation metric.\n"
          ],
          "name": "stderr"
        },
        {
          "output_type": "stream",
          "text": [
            "0:\tlearn: 4.1855890\ttest: 4.2048218\tbest: 4.2048218 (0)\ttotal: 44.2ms\tremaining: 22s\n",
            "Stopped by overfitting detector  (20 iterations wait)\n",
            "\n",
            "bestTest = 2.509790039\n",
            "bestIteration = 10\n",
            "\n",
            "Shrink model to first 11 iterations.\n",
            "train_quantile_loss : 4.1856, test_quantile_loss : 2.5098\n",
            "| \u001b[0m 3       \u001b[0m | \u001b[0m-2.51    \u001b[0m | \u001b[0m 13.67   \u001b[0m | \u001b[0m 6.601   \u001b[0m | \u001b[0m 0.4467  \u001b[0m | \u001b[0m 2.883   \u001b[0m |\n"
          ],
          "name": "stdout"
        },
        {
          "output_type": "stream",
          "text": [
            "Warning: Overfitting detector is active, thus evaluation metric is calculated on every iteration. 'metric_period' is ignored for evaluation metric.\n"
          ],
          "name": "stderr"
        },
        {
          "output_type": "stream",
          "text": [
            "0:\tlearn: 4.9424196\ttest: 4.9495221\tbest: 4.9495221 (0)\ttotal: 13.3ms\tremaining: 6.65s\n",
            "100:\tlearn: 2.6977213\ttest: 2.3569537\tbest: 2.3408875 (89)\ttotal: 1.23s\tremaining: 4.86s\n",
            "Stopped by overfitting detector  (20 iterations wait)\n",
            "\n",
            "bestTest = 2.340887525\n",
            "bestIteration = 89\n",
            "\n",
            "Shrink model to first 90 iterations.\n",
            "train_quantile_loss : 2.6977, test_quantile_loss : 2.3409\n",
            "| \u001b[0m 4       \u001b[0m | \u001b[0m-2.341   \u001b[0m | \u001b[0m 18.53   \u001b[0m | \u001b[0m 2.867   \u001b[0m | \u001b[0m 0.1177  \u001b[0m | \u001b[0m 9.808   \u001b[0m |\n"
          ],
          "name": "stdout"
        },
        {
          "output_type": "stream",
          "text": [
            "Warning: Overfitting detector is active, thus evaluation metric is calculated on every iteration. 'metric_period' is ignored for evaluation metric.\n"
          ],
          "name": "stderr"
        },
        {
          "output_type": "stream",
          "text": [
            "0:\tlearn: 4.3710969\ttest: 4.3842650\tbest: 4.3842650 (0)\ttotal: 19.3ms\tremaining: 9.63s\n",
            "Stopped by overfitting detector  (20 iterations wait)\n",
            "\n",
            "bestTest = 2.440505191\n",
            "bestIteration = 13\n",
            "\n",
            "Shrink model to first 14 iterations.\n",
            "train_quantile_loss : 4.3711, test_quantile_loss : 2.4405\n",
            "| \u001b[0m 5       \u001b[0m | \u001b[0m-2.441   \u001b[0m | \u001b[0m 81.17   \u001b[0m | \u001b[0m 3.376   \u001b[0m | \u001b[0m 0.41    \u001b[0m | \u001b[0m 3.467   \u001b[0m |\n"
          ],
          "name": "stdout"
        },
        {
          "output_type": "stream",
          "text": [
            "Warning: Overfitting detector is active, thus evaluation metric is calculated on every iteration. 'metric_period' is ignored for evaluation metric.\n"
          ],
          "name": "stderr"
        },
        {
          "output_type": "stream",
          "text": [
            "0:\tlearn: 5.1520453\ttest: 5.1552280\tbest: 5.1552280 (0)\ttotal: 283ms\tremaining: 2m 21s\n",
            "100:\tlearn: 3.2818160\ttest: 3.2957821\tbest: 3.2957821 (100)\ttotal: 27.4s\tremaining: 1m 48s\n",
            "200:\tlearn: 2.6177027\ttest: 2.7308682\tbest: 2.7308682 (200)\ttotal: 56.3s\tremaining: 1m 23s\n",
            "300:\tlearn: 2.2296577\ttest: 2.4787213\tbest: 2.4787213 (300)\ttotal: 1m 24s\tremaining: 55.8s\n",
            "400:\tlearn: 1.9735495\ttest: 2.3714581\tbest: 2.3714581 (400)\ttotal: 1m 51s\tremaining: 27.6s\n",
            "499:\tlearn: 1.8004879\ttest: 2.3247262\tbest: 2.3247262 (499)\ttotal: 2m 18s\tremaining: 0us\n",
            "\n",
            "bestTest = 2.324726152\n",
            "bestIteration = 499\n",
            "\n",
            "train_quantile_loss : 1.8005, test_quantile_loss : 2.3247\n",
            "| \u001b[95m 6       \u001b[0m | \u001b[95m-2.325   \u001b[0m | \u001b[95m 100.0   \u001b[0m | \u001b[95m 10.0    \u001b[0m | \u001b[95m 0.01    \u001b[0m | \u001b[95m 10.0    \u001b[0m |\n"
          ],
          "name": "stdout"
        },
        {
          "output_type": "stream",
          "text": [
            "Warning: Overfitting detector is active, thus evaluation metric is calculated on every iteration. 'metric_period' is ignored for evaluation metric.\n"
          ],
          "name": "stderr"
        },
        {
          "output_type": "stream",
          "text": [
            "0:\tlearn: 5.1608013\ttest: 5.1645680\tbest: 5.1645680 (0)\ttotal: 16.5ms\tremaining: 8.21s\n",
            "100:\tlearn: 3.5920881\ttest: 3.5311644\tbest: 3.5311644 (100)\ttotal: 1.48s\tremaining: 5.83s\n",
            "200:\tlearn: 3.0859179\ttest: 2.9105107\tbest: 2.9105107 (200)\ttotal: 2.81s\tremaining: 4.19s\n",
            "300:\tlearn: 2.9098808\ttest: 2.6230922\tbest: 2.6230922 (300)\ttotal: 4.13s\tremaining: 2.73s\n",
            "400:\tlearn: 2.8329318\ttest: 2.4662084\tbest: 2.4662084 (400)\ttotal: 5.23s\tremaining: 1.29s\n",
            "499:\tlearn: 2.7968444\ttest: 2.4004113\tbest: 2.4004113 (499)\ttotal: 6.34s\tremaining: 0us\n",
            "\n",
            "bestTest = 2.400411287\n",
            "bestIteration = 499\n",
            "\n",
            "train_quantile_loss : 2.7968, test_quantile_loss : 2.4004\n",
            "| \u001b[0m 7       \u001b[0m | \u001b[0m-2.4     \u001b[0m | \u001b[0m 100.0   \u001b[0m | \u001b[0m 2.0     \u001b[0m | \u001b[0m 0.01    \u001b[0m | \u001b[0m 10.0    \u001b[0m |\n"
          ],
          "name": "stdout"
        },
        {
          "output_type": "stream",
          "text": [
            "Warning: Overfitting detector is active, thus evaluation metric is calculated on every iteration. 'metric_period' is ignored for evaluation metric.\n"
          ],
          "name": "stderr"
        },
        {
          "output_type": "stream",
          "text": [
            "0:\tlearn: 4.3718873\ttest: 4.4204077\tbest: 4.4204077 (0)\ttotal: 58.9ms\tremaining: 29.4s\n",
            "Stopped by overfitting detector  (20 iterations wait)\n",
            "\n",
            "bestTest = 2.449504192\n",
            "bestIteration = 20\n",
            "\n",
            "Shrink model to first 21 iterations.\n",
            "train_quantile_loss : 4.3719, test_quantile_loss : 2.4495\n",
            "| \u001b[0m 8       \u001b[0m | \u001b[0m-2.45    \u001b[0m | \u001b[0m 11.08   \u001b[0m | \u001b[0m 7.073   \u001b[0m | \u001b[0m 0.3376  \u001b[0m | \u001b[0m 1.941   \u001b[0m |\n"
          ],
          "name": "stdout"
        },
        {
          "output_type": "stream",
          "text": [
            "Warning: Overfitting detector is active, thus evaluation metric is calculated on every iteration. 'metric_period' is ignored for evaluation metric.\n"
          ],
          "name": "stderr"
        },
        {
          "output_type": "stream",
          "text": [
            "0:\tlearn: 5.1520453\ttest: 5.1552280\tbest: 5.1552280 (0)\ttotal: 265ms\tremaining: 2m 12s\n",
            "100:\tlearn: 3.2818160\ttest: 3.2957821\tbest: 3.2957821 (100)\ttotal: 27.5s\tremaining: 1m 48s\n",
            "200:\tlearn: 2.6177027\ttest: 2.7308682\tbest: 2.7308682 (200)\ttotal: 55s\tremaining: 1m 21s\n",
            "300:\tlearn: 2.2296577\ttest: 2.4787213\tbest: 2.4787213 (300)\ttotal: 1m 22s\tremaining: 54.3s\n",
            "400:\tlearn: 1.9735495\ttest: 2.3714581\tbest: 2.3714581 (400)\ttotal: 1m 48s\tremaining: 26.9s\n",
            "499:\tlearn: 1.8004879\ttest: 2.3247262\tbest: 2.3247262 (499)\ttotal: 2m 15s\tremaining: 0us\n",
            "\n",
            "bestTest = 2.324726152\n",
            "bestIteration = 499\n",
            "\n",
            "train_quantile_loss : 1.8005, test_quantile_loss : 2.3247\n",
            "| \u001b[0m 9       \u001b[0m | \u001b[0m-2.325   \u001b[0m | \u001b[0m 37.55   \u001b[0m | \u001b[0m 10.0    \u001b[0m | \u001b[0m 0.01    \u001b[0m | \u001b[0m 10.0    \u001b[0m |\n"
          ],
          "name": "stdout"
        },
        {
          "output_type": "stream",
          "text": [
            "Warning: Overfitting detector is active, thus evaluation metric is calculated on every iteration. 'metric_period' is ignored for evaluation metric.\n"
          ],
          "name": "stderr"
        },
        {
          "output_type": "stream",
          "text": [
            "0:\tlearn: 5.1520453\ttest: 5.1552280\tbest: 5.1552280 (0)\ttotal: 272ms\tremaining: 2m 15s\n",
            "100:\tlearn: 3.2818160\ttest: 3.2957821\tbest: 3.2957821 (100)\ttotal: 27.1s\tremaining: 1m 47s\n",
            "200:\tlearn: 2.6177027\ttest: 2.7308682\tbest: 2.7308682 (200)\ttotal: 54.3s\tremaining: 1m 20s\n",
            "300:\tlearn: 2.2296577\ttest: 2.4787213\tbest: 2.4787213 (300)\ttotal: 1m 20s\tremaining: 53.1s\n",
            "400:\tlearn: 1.9735495\ttest: 2.3714581\tbest: 2.3714581 (400)\ttotal: 1m 46s\tremaining: 26.4s\n",
            "499:\tlearn: 1.8004879\ttest: 2.3247262\tbest: 2.3247262 (499)\ttotal: 2m 13s\tremaining: 0us\n",
            "\n",
            "bestTest = 2.324726152\n",
            "bestIteration = 499\n",
            "\n",
            "train_quantile_loss : 1.8005, test_quantile_loss : 2.3247\n",
            "| \u001b[0m 10      \u001b[0m | \u001b[0m-2.325   \u001b[0m | \u001b[0m 70.94   \u001b[0m | \u001b[0m 10.0    \u001b[0m | \u001b[0m 0.01    \u001b[0m | \u001b[0m 10.0    \u001b[0m |\n",
            "=========================================================================\n",
            "Final result: {'target': -2.324726151705553, 'params': {'bagging_temperature': 100.0, 'depth': 10.0, 'learning_rate': 0.01, 'min_data_in_leaf': 10.0}}\n",
            "---- Predict 0.3 ----\n"
          ],
          "name": "stdout"
        },
        {
          "output_type": "stream",
          "text": [
            "Warning: Overfitting detector is active, thus evaluation metric is calculated on every iteration. 'metric_period' is ignored for evaluation metric.\n"
          ],
          "name": "stderr"
        },
        {
          "output_type": "stream",
          "text": [
            "0:\tlearn: 5.1520453\ttest: 5.1552280\tbest: 5.1552280 (0)\ttotal: 276ms\tremaining: 2m 17s\n",
            "100:\tlearn: 3.2818160\ttest: 3.2957821\tbest: 3.2957821 (100)\ttotal: 27.3s\tremaining: 1m 47s\n",
            "200:\tlearn: 2.6177027\ttest: 2.7308682\tbest: 2.7308682 (200)\ttotal: 53.9s\tremaining: 1m 20s\n",
            "300:\tlearn: 2.2296577\ttest: 2.4787213\tbest: 2.4787213 (300)\ttotal: 1m 20s\tremaining: 53.2s\n",
            "400:\tlearn: 1.9735495\ttest: 2.3714581\tbest: 2.3714581 (400)\ttotal: 1m 47s\tremaining: 26.6s\n",
            "499:\tlearn: 1.8004879\ttest: 2.3247262\tbest: 2.3247262 (499)\ttotal: 2m 14s\tremaining: 0us\n",
            "\n",
            "bestTest = 2.324726152\n",
            "bestIteration = 499\n",
            "\n",
            "-- Optimizing Quantile_0.4 Parameters --\n",
            "|   iter    |  target   | baggin... |   depth   | learni... | min_da... |\n",
            "-------------------------------------------------------------------------\n",
            "0:\tlearn: 5.9721013\ttest: 6.0138614\tbest: 6.0138614 (0)\ttotal: 21.6ms\tremaining: 10.8s\n"
          ],
          "name": "stdout"
        },
        {
          "output_type": "stream",
          "text": [
            "Warning: Overfitting detector is active, thus evaluation metric is calculated on every iteration. 'metric_period' is ignored for evaluation metric.\n"
          ],
          "name": "stderr"
        },
        {
          "output_type": "stream",
          "text": [
            "Stopped by overfitting detector  (20 iterations wait)\n",
            "\n",
            "bestTest = 2.436198101\n",
            "bestIteration = 39\n",
            "\n",
            "Shrink model to first 40 iterations.\n",
            "train_quantile_loss : 2.7368, test_quantile_loss : 2.4362\n",
            "| \u001b[0m 1       \u001b[0m | \u001b[0m-2.436   \u001b[0m | \u001b[0m 54.34   \u001b[0m | \u001b[0m 4.227   \u001b[0m | \u001b[0m 0.218   \u001b[0m | \u001b[0m 8.603   \u001b[0m |\n"
          ],
          "name": "stdout"
        },
        {
          "output_type": "stream",
          "text": [
            "Warning: Overfitting detector is active, thus evaluation metric is calculated on every iteration. 'metric_period' is ignored for evaluation metric.\n"
          ],
          "name": "stderr"
        },
        {
          "output_type": "stream",
          "text": [
            "0:\tlearn: 5.7695599\ttest: 5.7893278\tbest: 5.7893278 (0)\ttotal: 16.2ms\tremaining: 8.08s\n",
            "Stopped by overfitting detector  (20 iterations wait)\n",
            "\n",
            "bestTest = 2.328413499\n",
            "bestIteration = 19\n",
            "\n",
            "Shrink model to first 20 iterations.\n",
            "train_quantile_loss : 5.7696, test_quantile_loss : 2.3284\n",
            "| \u001b[95m 2       \u001b[0m | \u001b[95m-2.328   \u001b[0m | \u001b[95m 0.4719  \u001b[0m | \u001b[95m 2.973   \u001b[0m | \u001b[95m 0.3387  \u001b[0m | \u001b[95m 8.433   \u001b[0m |\n"
          ],
          "name": "stdout"
        },
        {
          "output_type": "stream",
          "text": [
            "Warning: Overfitting detector is active, thus evaluation metric is calculated on every iteration. 'metric_period' is ignored for evaluation metric.\n"
          ],
          "name": "stderr"
        },
        {
          "output_type": "stream",
          "text": [
            "0:\tlearn: 5.1365629\ttest: 5.1934258\tbest: 5.1934258 (0)\ttotal: 42.5ms\tremaining: 21.2s\n",
            "Stopped by overfitting detector  (20 iterations wait)\n",
            "\n",
            "bestTest = 2.529316545\n",
            "bestIteration = 38\n",
            "\n",
            "Shrink model to first 39 iterations.\n",
            "train_quantile_loss : 2.3383, test_quantile_loss : 2.5293\n",
            "| \u001b[0m 3       \u001b[0m | \u001b[0m-2.529   \u001b[0m | \u001b[0m 13.67   \u001b[0m | \u001b[0m 6.601   \u001b[0m | \u001b[0m 0.4467  \u001b[0m | \u001b[0m 2.883   \u001b[0m |\n"
          ],
          "name": "stdout"
        },
        {
          "output_type": "stream",
          "text": [
            "Warning: Overfitting detector is active, thus evaluation metric is calculated on every iteration. 'metric_period' is ignored for evaluation metric.\n"
          ],
          "name": "stderr"
        },
        {
          "output_type": "stream",
          "text": [
            "0:\tlearn: 6.4353040\ttest: 6.4510517\tbest: 6.4510517 (0)\ttotal: 14.3ms\tremaining: 7.12s\n",
            "100:\tlearn: 2.9157643\ttest: 2.3534316\tbest: 2.3510453 (94)\ttotal: 1.26s\tremaining: 4.98s\n",
            "Stopped by overfitting detector  (20 iterations wait)\n",
            "\n",
            "bestTest = 2.351045264\n",
            "bestIteration = 94\n",
            "\n",
            "Shrink model to first 95 iterations.\n",
            "train_quantile_loss : 2.9158, test_quantile_loss : 2.3510\n",
            "| \u001b[0m 4       \u001b[0m | \u001b[0m-2.351   \u001b[0m | \u001b[0m 18.53   \u001b[0m | \u001b[0m 2.867   \u001b[0m | \u001b[0m 0.1177  \u001b[0m | \u001b[0m 9.808   \u001b[0m |\n",
            "0:\tlearn: 5.3894800\ttest: 5.4308369\tbest: 5.4308369 (0)\ttotal: 17.9ms\tremaining: 8.91s\n"
          ],
          "name": "stdout"
        },
        {
          "output_type": "stream",
          "text": [
            "Warning: Overfitting detector is active, thus evaluation metric is calculated on every iteration. 'metric_period' is ignored for evaluation metric.\n"
          ],
          "name": "stderr"
        },
        {
          "output_type": "stream",
          "text": [
            "Stopped by overfitting detector  (20 iterations wait)\n",
            "\n",
            "bestTest = 2.453262836\n",
            "bestIteration = 25\n",
            "\n",
            "Shrink model to first 26 iterations.\n",
            "train_quantile_loss : 5.3895, test_quantile_loss : 2.4533\n",
            "| \u001b[0m 5       \u001b[0m | \u001b[0m-2.453   \u001b[0m | \u001b[0m 81.17   \u001b[0m | \u001b[0m 3.376   \u001b[0m | \u001b[0m 0.41    \u001b[0m | \u001b[0m 3.467   \u001b[0m |\n"
          ],
          "name": "stdout"
        },
        {
          "output_type": "stream",
          "text": [
            "Warning: Overfitting detector is active, thus evaluation metric is calculated on every iteration. 'metric_period' is ignored for evaluation metric.\n"
          ],
          "name": "stderr"
        },
        {
          "output_type": "stream",
          "text": [
            "0:\tlearn: 6.8577685\ttest: 6.8636262\tbest: 6.8636262 (0)\ttotal: 231ms\tremaining: 1m 55s\n",
            "100:\tlearn: 3.8623803\ttest: 3.8542626\tbest: 3.8542626 (100)\ttotal: 26.5s\tremaining: 1m 44s\n",
            "200:\tlearn: 2.9274540\ttest: 2.9618365\tbest: 2.9618365 (200)\ttotal: 52.7s\tremaining: 1m 18s\n",
            "300:\tlearn: 2.4670119\ttest: 2.6186969\tbest: 2.6186969 (300)\ttotal: 1m 18s\tremaining: 52.2s\n",
            "400:\tlearn: 2.1650266\ttest: 2.4735949\tbest: 2.4735949 (400)\ttotal: 1m 45s\tremaining: 26s\n",
            "499:\tlearn: 1.9406138\ttest: 2.4108930\tbest: 2.4108930 (499)\ttotal: 2m 11s\tremaining: 0us\n",
            "\n",
            "bestTest = 2.410893032\n",
            "bestIteration = 499\n",
            "\n",
            "train_quantile_loss : 1.9406, test_quantile_loss : 2.4109\n",
            "| \u001b[0m 6       \u001b[0m | \u001b[0m-2.411   \u001b[0m | \u001b[0m 100.0   \u001b[0m | \u001b[0m 10.0    \u001b[0m | \u001b[0m 0.01    \u001b[0m | \u001b[0m 10.0    \u001b[0m |\n"
          ],
          "name": "stdout"
        },
        {
          "output_type": "stream",
          "text": [
            "Warning: Overfitting detector is active, thus evaluation metric is calculated on every iteration. 'metric_period' is ignored for evaluation metric.\n"
          ],
          "name": "stderr"
        },
        {
          "output_type": "stream",
          "text": [
            "0:\tlearn: 5.4287352\ttest: 5.4404891\tbest: 5.4404891 (0)\ttotal: 14.2ms\tremaining: 7.08s\n",
            "Stopped by overfitting detector  (20 iterations wait)\n",
            "\n",
            "bestTest = 2.396912106\n",
            "bestIteration = 25\n",
            "\n",
            "Shrink model to first 26 iterations.\n",
            "train_quantile_loss : 5.4287, test_quantile_loss : 2.3969\n",
            "| \u001b[0m 7       \u001b[0m | \u001b[0m-2.397   \u001b[0m | \u001b[0m 100.0   \u001b[0m | \u001b[0m 2.0     \u001b[0m | \u001b[0m 0.5     \u001b[0m | \u001b[0m 10.0    \u001b[0m |\n"
          ],
          "name": "stdout"
        },
        {
          "output_type": "stream",
          "text": [
            "Warning: Overfitting detector is active, thus evaluation metric is calculated on every iteration. 'metric_period' is ignored for evaluation metric.\n"
          ],
          "name": "stderr"
        },
        {
          "output_type": "stream",
          "text": [
            "0:\tlearn: 5.4687965\ttest: 5.5601309\tbest: 5.5601309 (0)\ttotal: 56.1ms\tremaining: 28s\n",
            "Stopped by overfitting detector  (20 iterations wait)\n",
            "\n",
            "bestTest = 2.640922184\n",
            "bestIteration = 28\n",
            "\n",
            "Shrink model to first 29 iterations.\n",
            "train_quantile_loss : 5.4688, test_quantile_loss : 2.6409\n",
            "| \u001b[0m 8       \u001b[0m | \u001b[0m-2.641   \u001b[0m | \u001b[0m 11.08   \u001b[0m | \u001b[0m 7.073   \u001b[0m | \u001b[0m 0.3376  \u001b[0m | \u001b[0m 1.941   \u001b[0m |\n"
          ],
          "name": "stdout"
        },
        {
          "output_type": "stream",
          "text": [
            "Warning: Overfitting detector is active, thus evaluation metric is calculated on every iteration. 'metric_period' is ignored for evaluation metric.\n"
          ],
          "name": "stderr"
        },
        {
          "output_type": "stream",
          "text": [
            "0:\tlearn: 4.8334464\ttest: 4.8683869\tbest: 4.8683869 (0)\ttotal: 272ms\tremaining: 2m 15s\n",
            "Stopped by overfitting detector  (20 iterations wait)\n",
            "\n",
            "bestTest = 2.722470893\n",
            "bestIteration = 6\n",
            "\n",
            "Shrink model to first 7 iterations.\n",
            "train_quantile_loss : 4.8334, test_quantile_loss : 2.7225\n",
            "| \u001b[0m 9       \u001b[0m | \u001b[0m-2.722   \u001b[0m | \u001b[0m 37.78   \u001b[0m | \u001b[0m 10.0    \u001b[0m | \u001b[0m 0.5     \u001b[0m | \u001b[0m 1.0     \u001b[0m |\n"
          ],
          "name": "stdout"
        },
        {
          "output_type": "stream",
          "text": [
            "Warning: Overfitting detector is active, thus evaluation metric is calculated on every iteration. 'metric_period' is ignored for evaluation metric.\n"
          ],
          "name": "stderr"
        },
        {
          "output_type": "stream",
          "text": [
            "0:\tlearn: 6.8577685\ttest: 6.8636262\tbest: 6.8636262 (0)\ttotal: 273ms\tremaining: 2m 16s\n",
            "100:\tlearn: 3.8623803\ttest: 3.8542626\tbest: 3.8542626 (100)\ttotal: 26.9s\tremaining: 1m 46s\n",
            "200:\tlearn: 2.9274540\ttest: 2.9618365\tbest: 2.9618365 (200)\ttotal: 53.2s\tremaining: 1m 19s\n",
            "300:\tlearn: 2.4670119\ttest: 2.6186969\tbest: 2.6186969 (300)\ttotal: 1m 18s\tremaining: 52.2s\n",
            "400:\tlearn: 2.1650266\ttest: 2.4735949\tbest: 2.4735949 (400)\ttotal: 1m 44s\tremaining: 25.9s\n",
            "499:\tlearn: 1.9406138\ttest: 2.4108930\tbest: 2.4108930 (499)\ttotal: 2m 11s\tremaining: 0us\n",
            "\n",
            "bestTest = 2.410893032\n",
            "bestIteration = 499\n",
            "\n",
            "train_quantile_loss : 1.9406, test_quantile_loss : 2.4109\n",
            "| \u001b[0m 10      \u001b[0m | \u001b[0m-2.411   \u001b[0m | \u001b[0m 70.38   \u001b[0m | \u001b[0m 10.0    \u001b[0m | \u001b[0m 0.01    \u001b[0m | \u001b[0m 10.0    \u001b[0m |\n",
            "=========================================================================\n",
            "Final result: {'target': -2.3284134987913414, 'params': {'bagging_temperature': 0.47188561909725646, 'depth': 2.9725529662649137, 'learning_rate': 0.33866705151612153, 'min_data_in_leaf': 8.43267479594543}}\n",
            "---- Predict 0.4 ----\n"
          ],
          "name": "stdout"
        },
        {
          "output_type": "stream",
          "text": [
            "Warning: Overfitting detector is active, thus evaluation metric is calculated on every iteration. 'metric_period' is ignored for evaluation metric.\n"
          ],
          "name": "stderr"
        },
        {
          "output_type": "stream",
          "text": [
            "0:\tlearn: 5.7695599\ttest: 5.7893278\tbest: 5.7893278 (0)\ttotal: 9.6ms\tremaining: 4.79s\n",
            "Stopped by overfitting detector  (20 iterations wait)\n",
            "\n",
            "bestTest = 2.328413499\n",
            "bestIteration = 19\n",
            "\n",
            "Shrink model to first 20 iterations.\n",
            "-- Optimizing Quantile_0.5 Parameters --\n",
            "|   iter    |  target   | baggin... |   depth   | learni... | min_da... |\n",
            "-------------------------------------------------------------------------\n",
            "0:\tlearn: 7.1134321\ttest: 7.1789621\tbest: 7.1789621 (0)\ttotal: 20.9ms\tremaining: 10.4s\n"
          ],
          "name": "stdout"
        },
        {
          "output_type": "stream",
          "text": [
            "Warning: Overfitting detector is active, thus evaluation metric is calculated on every iteration. 'metric_period' is ignored for evaluation metric.\n"
          ],
          "name": "stderr"
        },
        {
          "output_type": "stream",
          "text": [
            "Stopped by overfitting detector  (20 iterations wait)\n",
            "\n",
            "bestTest = 2.366908801\n",
            "bestIteration = 32\n",
            "\n",
            "Shrink model to first 33 iterations.\n",
            "train_quantile_loss : 2.6876, test_quantile_loss : 2.3669\n",
            "| \u001b[0m 1       \u001b[0m | \u001b[0m-2.367   \u001b[0m | \u001b[0m 54.34   \u001b[0m | \u001b[0m 4.227   \u001b[0m | \u001b[0m 0.218   \u001b[0m | \u001b[0m 8.603   \u001b[0m |\n"
          ],
          "name": "stdout"
        },
        {
          "output_type": "stream",
          "text": [
            "Warning: Overfitting detector is active, thus evaluation metric is calculated on every iteration. 'metric_period' is ignored for evaluation metric.\n"
          ],
          "name": "stderr"
        },
        {
          "output_type": "stream",
          "text": [
            "0:\tlearn: 6.6903904\ttest: 6.7440594\tbest: 6.7440594 (0)\ttotal: 19.6ms\tremaining: 9.78s\n",
            "Stopped by overfitting detector  (20 iterations wait)\n",
            "\n",
            "bestTest = 2.320755178\n",
            "bestIteration = 18\n",
            "\n",
            "Shrink model to first 19 iterations.\n",
            "train_quantile_loss : 6.6904, test_quantile_loss : 2.3208\n",
            "| \u001b[95m 2       \u001b[0m | \u001b[95m-2.321   \u001b[0m | \u001b[95m 0.4719  \u001b[0m | \u001b[95m 2.973   \u001b[0m | \u001b[95m 0.3387  \u001b[0m | \u001b[95m 8.433   \u001b[0m |\n"
          ],
          "name": "stdout"
        },
        {
          "output_type": "stream",
          "text": [
            "Warning: Overfitting detector is active, thus evaluation metric is calculated on every iteration. 'metric_period' is ignored for evaluation metric.\n"
          ],
          "name": "stderr"
        },
        {
          "output_type": "stream",
          "text": [
            "0:\tlearn: 5.8198102\ttest: 5.9300622\tbest: 5.9300622 (0)\ttotal: 41.1ms\tremaining: 20.5s\n",
            "Stopped by overfitting detector  (20 iterations wait)\n",
            "\n",
            "bestTest = 2.568857202\n",
            "bestIteration = 30\n",
            "\n",
            "Shrink model to first 31 iterations.\n",
            "train_quantile_loss : 2.2931, test_quantile_loss : 2.5689\n",
            "| \u001b[0m 3       \u001b[0m | \u001b[0m-2.569   \u001b[0m | \u001b[0m 13.67   \u001b[0m | \u001b[0m 6.601   \u001b[0m | \u001b[0m 0.4467  \u001b[0m | \u001b[0m 2.883   \u001b[0m |\n"
          ],
          "name": "stdout"
        },
        {
          "output_type": "stream",
          "text": [
            "Warning: Overfitting detector is active, thus evaluation metric is calculated on every iteration. 'metric_period' is ignored for evaluation metric.\n"
          ],
          "name": "stderr"
        },
        {
          "output_type": "stream",
          "text": [
            "0:\tlearn: 7.8252506\ttest: 7.8591426\tbest: 7.8591426 (0)\ttotal: 14.7ms\tremaining: 7.33s\n",
            "Stopped by overfitting detector  (20 iterations wait)\n",
            "\n",
            "bestTest = 2.173212877\n",
            "bestIteration = 73\n",
            "\n",
            "Shrink model to first 74 iterations.\n",
            "train_quantile_loss : 3.0127, test_quantile_loss : 2.1732\n",
            "| \u001b[95m 4       \u001b[0m | \u001b[95m-2.173   \u001b[0m | \u001b[95m 18.53   \u001b[0m | \u001b[95m 2.867   \u001b[0m | \u001b[95m 0.1177  \u001b[0m | \u001b[95m 9.808   \u001b[0m |\n"
          ],
          "name": "stdout"
        },
        {
          "output_type": "stream",
          "text": [
            "Warning: Overfitting detector is active, thus evaluation metric is calculated on every iteration. 'metric_period' is ignored for evaluation metric.\n"
          ],
          "name": "stderr"
        },
        {
          "output_type": "stream",
          "text": [
            "0:\tlearn: 6.1822586\ttest: 6.2591713\tbest: 6.2591713 (0)\ttotal: 18.4ms\tremaining: 9.18s\n",
            "Stopped by overfitting detector  (20 iterations wait)\n",
            "\n",
            "bestTest = 2.441295852\n",
            "bestIteration = 18\n",
            "\n",
            "Shrink model to first 19 iterations.\n",
            "train_quantile_loss : 6.1823, test_quantile_loss : 2.4413\n",
            "| \u001b[0m 5       \u001b[0m | \u001b[0m-2.441   \u001b[0m | \u001b[0m 81.17   \u001b[0m | \u001b[0m 3.376   \u001b[0m | \u001b[0m 0.41    \u001b[0m | \u001b[0m 3.467   \u001b[0m |\n"
          ],
          "name": "stdout"
        },
        {
          "output_type": "stream",
          "text": [
            "Warning: Overfitting detector is active, thus evaluation metric is calculated on every iteration. 'metric_period' is ignored for evaluation metric.\n"
          ],
          "name": "stderr"
        },
        {
          "output_type": "stream",
          "text": [
            "0:\tlearn: 5.7166538\ttest: 5.8158739\tbest: 5.8158739 (0)\ttotal: 146ms\tremaining: 1m 12s\n",
            "Stopped by overfitting detector  (20 iterations wait)\n",
            "\n",
            "bestTest = 2.707028278\n",
            "bestIteration = 10\n",
            "\n",
            "Shrink model to first 11 iterations.\n",
            "train_quantile_loss : 5.7167, test_quantile_loss : 2.7070\n",
            "| \u001b[0m 6       \u001b[0m | \u001b[0m-2.707   \u001b[0m | \u001b[0m 93.95   \u001b[0m | \u001b[0m 9.352   \u001b[0m | \u001b[0m 0.445   \u001b[0m | \u001b[0m 1.257   \u001b[0m |\n"
          ],
          "name": "stdout"
        },
        {
          "output_type": "stream",
          "text": [
            "Warning: Overfitting detector is active, thus evaluation metric is calculated on every iteration. 'metric_period' is ignored for evaluation metric.\n"
          ],
          "name": "stderr"
        },
        {
          "output_type": "stream",
          "text": [
            "0:\tlearn: 8.5619108\ttest: 8.5707876\tbest: 8.5707876 (0)\ttotal: 14.2ms\tremaining: 7.09s\n",
            "100:\tlearn: 4.5853955\ttest: 4.4761990\tbest: 4.4761990 (100)\ttotal: 1.33s\tremaining: 5.28s\n",
            "200:\tlearn: 3.5405061\ttest: 3.1923541\tbest: 3.1923541 (200)\ttotal: 2.64s\tremaining: 3.92s\n",
            "300:\tlearn: 3.1843591\ttest: 2.6258866\tbest: 2.6258866 (300)\ttotal: 3.9s\tremaining: 2.58s\n",
            "400:\tlearn: 3.0558399\ttest: 2.3561084\tbest: 2.3561084 (400)\ttotal: 5.06s\tremaining: 1.25s\n",
            "499:\tlearn: 2.9964981\ttest: 2.2198436\tbest: 2.2198436 (499)\ttotal: 6.15s\tremaining: 0us\n",
            "\n",
            "bestTest = 2.219843579\n",
            "bestIteration = 499\n",
            "\n",
            "train_quantile_loss : 2.9965, test_quantile_loss : 2.2198\n",
            "| \u001b[0m 7       \u001b[0m | \u001b[0m-2.22    \u001b[0m | \u001b[0m 100.0   \u001b[0m | \u001b[0m 2.0     \u001b[0m | \u001b[0m 0.01    \u001b[0m | \u001b[0m 10.0    \u001b[0m |\n"
          ],
          "name": "stdout"
        },
        {
          "output_type": "stream",
          "text": [
            "Warning: Overfitting detector is active, thus evaluation metric is calculated on every iteration. 'metric_period' is ignored for evaluation metric.\n"
          ],
          "name": "stderr"
        },
        {
          "output_type": "stream",
          "text": [
            "0:\tlearn: 6.3376516\ttest: 6.5062987\tbest: 6.5062987 (0)\ttotal: 55.5ms\tremaining: 27.7s\n",
            "Stopped by overfitting detector  (20 iterations wait)\n",
            "\n",
            "bestTest = 2.457705111\n",
            "bestIteration = 12\n",
            "\n",
            "Shrink model to first 13 iterations.\n",
            "train_quantile_loss : 6.3377, test_quantile_loss : 2.4577\n",
            "| \u001b[0m 8       \u001b[0m | \u001b[0m-2.458   \u001b[0m | \u001b[0m 11.08   \u001b[0m | \u001b[0m 7.073   \u001b[0m | \u001b[0m 0.3376  \u001b[0m | \u001b[0m 1.941   \u001b[0m |\n"
          ],
          "name": "stdout"
        },
        {
          "output_type": "stream",
          "text": [
            "Warning: Overfitting detector is active, thus evaluation metric is calculated on every iteration. 'metric_period' is ignored for evaluation metric.\n"
          ],
          "name": "stderr"
        },
        {
          "output_type": "stream",
          "text": [
            "0:\tlearn: 8.5565197\ttest: 8.5654021\tbest: 8.5654021 (0)\ttotal: 272ms\tremaining: 2m 15s\n",
            "100:\tlearn: 4.2072272\ttest: 4.2001256\tbest: 4.2001256 (100)\ttotal: 26.5s\tremaining: 1m 44s\n",
            "200:\tlearn: 3.0203999\ttest: 2.9607750\tbest: 2.9607750 (200)\ttotal: 52.6s\tremaining: 1m 18s\n",
            "300:\tlearn: 2.5226098\ttest: 2.5635854\tbest: 2.5635854 (300)\ttotal: 1m 18s\tremaining: 52.1s\n",
            "400:\tlearn: 2.2241091\ttest: 2.4160585\tbest: 2.4159446 (399)\ttotal: 1m 45s\tremaining: 26s\n",
            "499:\tlearn: 2.0043183\ttest: 2.3585277\tbest: 2.3585277 (499)\ttotal: 2m 11s\tremaining: 0us\n",
            "\n",
            "bestTest = 2.3585277\n",
            "bestIteration = 499\n",
            "\n",
            "train_quantile_loss : 2.0043, test_quantile_loss : 2.3585\n",
            "| \u001b[0m 9       \u001b[0m | \u001b[0m-2.359   \u001b[0m | \u001b[0m 36.13   \u001b[0m | \u001b[0m 10.0    \u001b[0m | \u001b[0m 0.01    \u001b[0m | \u001b[0m 10.0    \u001b[0m |\n"
          ],
          "name": "stdout"
        },
        {
          "output_type": "stream",
          "text": [
            "Warning: Overfitting detector is active, thus evaluation metric is calculated on every iteration. 'metric_period' is ignored for evaluation metric.\n"
          ],
          "name": "stderr"
        },
        {
          "output_type": "stream",
          "text": [
            "0:\tlearn: 8.5565197\ttest: 8.5654021\tbest: 8.5654021 (0)\ttotal: 272ms\tremaining: 2m 15s\n",
            "100:\tlearn: 4.2072272\ttest: 4.2001256\tbest: 4.2001256 (100)\ttotal: 27.2s\tremaining: 1m 47s\n",
            "200:\tlearn: 3.0203999\ttest: 2.9607750\tbest: 2.9607750 (200)\ttotal: 53.2s\tremaining: 1m 19s\n",
            "300:\tlearn: 2.5226098\ttest: 2.5635854\tbest: 2.5635854 (300)\ttotal: 1m 19s\tremaining: 52.5s\n",
            "400:\tlearn: 2.2241091\ttest: 2.4160585\tbest: 2.4159446 (399)\ttotal: 1m 45s\tremaining: 26s\n",
            "499:\tlearn: 2.0043183\ttest: 2.3585277\tbest: 2.3585277 (499)\ttotal: 2m 11s\tremaining: 0us\n",
            "\n",
            "bestTest = 2.3585277\n",
            "bestIteration = 499\n",
            "\n",
            "train_quantile_loss : 2.0043, test_quantile_loss : 2.3585\n",
            "| \u001b[0m 10      \u001b[0m | \u001b[0m-2.359   \u001b[0m | \u001b[0m 70.08   \u001b[0m | \u001b[0m 10.0    \u001b[0m | \u001b[0m 0.01    \u001b[0m | \u001b[0m 10.0    \u001b[0m |\n",
            "=========================================================================\n",
            "Final result: {'target': -2.1732128774270385, 'params': {'bagging_temperature': 18.532821955007506, 'depth': 2.867015123714041, 'learning_rate': 0.11765177138624615, 'min_data_in_leaf': 9.807614062366326}}\n",
            "---- Predict 0.5 ----\n"
          ],
          "name": "stdout"
        },
        {
          "output_type": "stream",
          "text": [
            "Warning: Overfitting detector is active, thus evaluation metric is calculated on every iteration. 'metric_period' is ignored for evaluation metric.\n"
          ],
          "name": "stderr"
        },
        {
          "output_type": "stream",
          "text": [
            "0:\tlearn: 7.8252506\ttest: 7.8591426\tbest: 7.8591426 (0)\ttotal: 14.9ms\tremaining: 7.44s\n",
            "Stopped by overfitting detector  (20 iterations wait)\n",
            "\n",
            "bestTest = 2.173212877\n",
            "bestIteration = 73\n",
            "\n",
            "Shrink model to first 74 iterations.\n",
            "-- Optimizing Quantile_0.6 Parameters --\n",
            "|   iter    |  target   | baggin... |   depth   | learni... | min_da... |\n",
            "-------------------------------------------------------------------------\n",
            "0:\tlearn: 8.0439984\ttest: 8.0839147\tbest: 8.0839147 (0)\ttotal: 22.8ms\tremaining: 11.4s\n"
          ],
          "name": "stdout"
        },
        {
          "output_type": "stream",
          "text": [
            "Warning: Overfitting detector is active, thus evaluation metric is calculated on every iteration. 'metric_period' is ignored for evaluation metric.\n"
          ],
          "name": "stderr"
        },
        {
          "output_type": "stream",
          "text": [
            "100:\tlearn: 2.4563532\ttest: 1.9788748\tbest: 1.9514285 (87)\ttotal: 2.1s\tremaining: 8.29s\n",
            "Stopped by overfitting detector  (20 iterations wait)\n",
            "\n",
            "bestTest = 1.951428464\n",
            "bestIteration = 87\n",
            "\n",
            "Shrink model to first 88 iterations.\n",
            "train_quantile_loss : 2.4564, test_quantile_loss : 1.9514\n",
            "| \u001b[0m 1       \u001b[0m | \u001b[0m-1.951   \u001b[0m | \u001b[0m 54.34   \u001b[0m | \u001b[0m 4.227   \u001b[0m | \u001b[0m 0.218   \u001b[0m | \u001b[0m 8.603   \u001b[0m |\n"
          ],
          "name": "stdout"
        },
        {
          "output_type": "stream",
          "text": [
            "Warning: Overfitting detector is active, thus evaluation metric is calculated on every iteration. 'metric_period' is ignored for evaluation metric.\n"
          ],
          "name": "stderr"
        },
        {
          "output_type": "stream",
          "text": [
            "0:\tlearn: 7.3132860\ttest: 7.3328054\tbest: 7.3328054 (0)\ttotal: 14.3ms\tremaining: 7.13s\n",
            "Stopped by overfitting detector  (20 iterations wait)\n",
            "\n",
            "bestTest = 2.076957146\n",
            "bestIteration = 47\n",
            "\n",
            "Shrink model to first 48 iterations.\n",
            "train_quantile_loss : 2.7685, test_quantile_loss : 2.0770\n",
            "| \u001b[0m 2       \u001b[0m | \u001b[0m-2.077   \u001b[0m | \u001b[0m 0.4719  \u001b[0m | \u001b[0m 2.973   \u001b[0m | \u001b[0m 0.3387  \u001b[0m | \u001b[0m 8.433   \u001b[0m |\n"
          ],
          "name": "stdout"
        },
        {
          "output_type": "stream",
          "text": [
            "Warning: Overfitting detector is active, thus evaluation metric is calculated on every iteration. 'metric_period' is ignored for evaluation metric.\n"
          ],
          "name": "stderr"
        },
        {
          "output_type": "stream",
          "text": [
            "0:\tlearn: 6.2324767\ttest: 6.2200943\tbest: 6.2200943 (0)\ttotal: 41.6ms\tremaining: 20.7s\n",
            "Stopped by overfitting detector  (20 iterations wait)\n",
            "\n",
            "bestTest = 2.082009437\n",
            "bestIteration = 40\n",
            "\n",
            "Shrink model to first 41 iterations.\n",
            "train_quantile_loss : 2.3149, test_quantile_loss : 2.0820\n",
            "| \u001b[0m 3       \u001b[0m | \u001b[0m-2.082   \u001b[0m | \u001b[0m 13.67   \u001b[0m | \u001b[0m 6.601   \u001b[0m | \u001b[0m 0.4467  \u001b[0m | \u001b[0m 2.883   \u001b[0m |\n"
          ],
          "name": "stdout"
        },
        {
          "output_type": "stream",
          "text": [
            "Warning: Overfitting detector is active, thus evaluation metric is calculated on every iteration. 'metric_period' is ignored for evaluation metric.\n"
          ],
          "name": "stderr"
        },
        {
          "output_type": "stream",
          "text": [
            "0:\tlearn: 8.9652830\ttest: 8.9676164\tbest: 8.9676164 (0)\ttotal: 17.4ms\tremaining: 8.69s\n",
            "100:\tlearn: 2.7930944\ttest: 2.0545447\tbest: 2.0545447 (100)\ttotal: 1.43s\tremaining: 5.65s\n",
            "200:\tlearn: 2.6652416\ttest: 1.9643059\tbest: 1.9626910 (188)\ttotal: 2.62s\tremaining: 3.89s\n",
            "Stopped by overfitting detector  (20 iterations wait)\n",
            "\n",
            "bestTest = 1.962359212\n",
            "bestIteration = 208\n",
            "\n",
            "Shrink model to first 209 iterations.\n",
            "train_quantile_loss : 2.6652, test_quantile_loss : 1.9624\n",
            "| \u001b[0m 4       \u001b[0m | \u001b[0m-1.962   \u001b[0m | \u001b[0m 18.53   \u001b[0m | \u001b[0m 2.867   \u001b[0m | \u001b[0m 0.1177  \u001b[0m | \u001b[0m 9.808   \u001b[0m |\n"
          ],
          "name": "stdout"
        },
        {
          "output_type": "stream",
          "text": [
            "Warning: Overfitting detector is active, thus evaluation metric is calculated on every iteration. 'metric_period' is ignored for evaluation metric.\n"
          ],
          "name": "stderr"
        },
        {
          "output_type": "stream",
          "text": [
            "0:\tlearn: 6.8136082\ttest: 6.8156988\tbest: 6.8156988 (0)\ttotal: 19.6ms\tremaining: 9.77s\n",
            "Stopped by overfitting detector  (20 iterations wait)\n",
            "\n",
            "bestTest = 2.197628641\n",
            "bestIteration = 31\n",
            "\n",
            "Shrink model to first 32 iterations.\n",
            "train_quantile_loss : 2.8363, test_quantile_loss : 2.1976\n",
            "| \u001b[0m 5       \u001b[0m | \u001b[0m-2.198   \u001b[0m | \u001b[0m 81.17   \u001b[0m | \u001b[0m 3.376   \u001b[0m | \u001b[0m 0.41    \u001b[0m | \u001b[0m 3.467   \u001b[0m |\n"
          ],
          "name": "stdout"
        },
        {
          "output_type": "stream",
          "text": [
            "Warning: Overfitting detector is active, thus evaluation metric is calculated on every iteration. 'metric_period' is ignored for evaluation metric.\n"
          ],
          "name": "stderr"
        },
        {
          "output_type": "stream",
          "text": [
            "0:\tlearn: 9.9180370\ttest: 9.9330945\tbest: 9.9330945 (0)\ttotal: 296ms\tremaining: 2m 27s\n",
            "100:\tlearn: 4.5660055\ttest: 4.5270465\tbest: 4.5270465 (100)\ttotal: 26.8s\tremaining: 1m 45s\n",
            "200:\tlearn: 3.1285242\ttest: 2.8537458\tbest: 2.8537458 (200)\ttotal: 52.6s\tremaining: 1m 18s\n",
            "300:\tlearn: 2.6622762\ttest: 2.2886187\tbest: 2.2886187 (300)\ttotal: 1m 18s\tremaining: 51.9s\n",
            "400:\tlearn: 2.4491773\ttest: 2.0666472\tbest: 2.0666472 (400)\ttotal: 1m 44s\tremaining: 25.8s\n",
            "499:\tlearn: 2.3328602\ttest: 1.9873787\tbest: 1.9873787 (499)\ttotal: 2m 9s\tremaining: 0us\n",
            "\n",
            "bestTest = 1.987378652\n",
            "bestIteration = 499\n",
            "\n",
            "train_quantile_loss : 2.3329, test_quantile_loss : 1.9874\n",
            "| \u001b[0m 6       \u001b[0m | \u001b[0m-1.987   \u001b[0m | \u001b[0m 38.82   \u001b[0m | \u001b[0m 10.0    \u001b[0m | \u001b[0m 0.01    \u001b[0m | \u001b[0m 10.0    \u001b[0m |\n"
          ],
          "name": "stdout"
        },
        {
          "output_type": "stream",
          "text": [
            "Warning: Overfitting detector is active, thus evaluation metric is calculated on every iteration. 'metric_period' is ignored for evaluation metric.\n"
          ],
          "name": "stderr"
        },
        {
          "output_type": "stream",
          "text": [
            "0:\tlearn: 6.3670414\ttest: 6.4033588\tbest: 6.4033588 (0)\ttotal: 14.2ms\tremaining: 7.09s\n",
            "Stopped by overfitting detector  (20 iterations wait)\n",
            "\n",
            "bestTest = 2.02867044\n",
            "bestIteration = 40\n",
            "\n",
            "Shrink model to first 41 iterations.\n",
            "train_quantile_loss : 2.7215, test_quantile_loss : 2.0287\n",
            "| \u001b[0m 7       \u001b[0m | \u001b[0m-2.029   \u001b[0m | \u001b[0m 39.79   \u001b[0m | \u001b[0m 2.0     \u001b[0m | \u001b[0m 0.5     \u001b[0m | \u001b[0m 10.0    \u001b[0m |\n"
          ],
          "name": "stdout"
        },
        {
          "output_type": "stream",
          "text": [
            "Warning: Overfitting detector is active, thus evaluation metric is calculated on every iteration. 'metric_period' is ignored for evaluation metric.\n"
          ],
          "name": "stderr"
        },
        {
          "output_type": "stream",
          "text": [
            "0:\tlearn: 7.1337173\ttest: 7.1336725\tbest: 7.1336725 (0)\ttotal: 16.9ms\tremaining: 8.45s\n",
            "Stopped by overfitting detector  (20 iterations wait)\n",
            "\n",
            "bestTest = 2.000198634\n",
            "bestIteration = 40\n",
            "\n",
            "Shrink model to first 41 iterations.\n",
            "train_quantile_loss : 2.7638, test_quantile_loss : 2.0002\n",
            "| \u001b[0m 8       \u001b[0m | \u001b[0m-2.0     \u001b[0m | \u001b[0m 57.07   \u001b[0m | \u001b[0m 3.437   \u001b[0m | \u001b[0m 0.3588  \u001b[0m | \u001b[0m 8.273   \u001b[0m |\n"
          ],
          "name": "stdout"
        },
        {
          "output_type": "stream",
          "text": [
            "Warning: Overfitting detector is active, thus evaluation metric is calculated on every iteration. 'metric_period' is ignored for evaluation metric.\n"
          ],
          "name": "stderr"
        },
        {
          "output_type": "stream",
          "text": [
            "0:\tlearn: 9.9180370\ttest: 9.9330945\tbest: 9.9330945 (0)\ttotal: 288ms\tremaining: 2m 23s\n",
            "100:\tlearn: 4.5660055\ttest: 4.5270465\tbest: 4.5270465 (100)\ttotal: 26.3s\tremaining: 1m 43s\n",
            "200:\tlearn: 3.1285242\ttest: 2.8537458\tbest: 2.8537458 (200)\ttotal: 52.1s\tremaining: 1m 17s\n",
            "300:\tlearn: 2.6622762\ttest: 2.2886187\tbest: 2.2886187 (300)\ttotal: 1m 18s\tremaining: 51.9s\n",
            "400:\tlearn: 2.4491773\ttest: 2.0666472\tbest: 2.0666472 (400)\ttotal: 1m 44s\tremaining: 25.7s\n",
            "499:\tlearn: 2.3328602\ttest: 1.9873787\tbest: 1.9873787 (499)\ttotal: 2m 8s\tremaining: 0us\n",
            "\n",
            "bestTest = 1.987378652\n",
            "bestIteration = 499\n",
            "\n",
            "train_quantile_loss : 2.3329, test_quantile_loss : 1.9874\n",
            "| \u001b[0m 9       \u001b[0m | \u001b[0m-1.987   \u001b[0m | \u001b[0m 100.0   \u001b[0m | \u001b[0m 10.0    \u001b[0m | \u001b[0m 0.01    \u001b[0m | \u001b[0m 10.0    \u001b[0m |\n"
          ],
          "name": "stdout"
        },
        {
          "output_type": "stream",
          "text": [
            "Warning: Overfitting detector is active, thus evaluation metric is calculated on every iteration. 'metric_period' is ignored for evaluation metric.\n"
          ],
          "name": "stderr"
        },
        {
          "output_type": "stream",
          "text": [
            "0:\tlearn: 9.9180370\ttest: 9.9330945\tbest: 9.9330945 (0)\ttotal: 275ms\tremaining: 2m 17s\n",
            "100:\tlearn: 4.5660055\ttest: 4.5270465\tbest: 4.5270465 (100)\ttotal: 26.7s\tremaining: 1m 45s\n",
            "200:\tlearn: 3.1285242\ttest: 2.8537458\tbest: 2.8537458 (200)\ttotal: 53.5s\tremaining: 1m 19s\n",
            "300:\tlearn: 2.6622762\ttest: 2.2886187\tbest: 2.2886187 (300)\ttotal: 1m 19s\tremaining: 52.8s\n",
            "400:\tlearn: 2.4491773\ttest: 2.0666472\tbest: 2.0666472 (400)\ttotal: 1m 45s\tremaining: 26.1s\n",
            "499:\tlearn: 2.3328602\ttest: 1.9873787\tbest: 1.9873787 (499)\ttotal: 2m 10s\tremaining: 0us\n",
            "\n",
            "bestTest = 1.987378652\n",
            "bestIteration = 499\n",
            "\n",
            "train_quantile_loss : 2.3329, test_quantile_loss : 1.9874\n",
            "| \u001b[0m 10      \u001b[0m | \u001b[0m-1.987   \u001b[0m | \u001b[0m 53.38   \u001b[0m | \u001b[0m 10.0    \u001b[0m | \u001b[0m 0.01    \u001b[0m | \u001b[0m 1.0     \u001b[0m |\n",
            "=========================================================================\n",
            "Final result: {'target': -1.951428463975613, 'params': {'bagging_temperature': 54.340494179096545, 'depth': 4.226955080750369, 'learning_rate': 0.21801361946707523, 'min_data_in_leaf': 8.602985190879133}}\n",
            "---- Predict 0.6 ----\n"
          ],
          "name": "stdout"
        },
        {
          "output_type": "stream",
          "text": [
            "Warning: Overfitting detector is active, thus evaluation metric is calculated on every iteration. 'metric_period' is ignored for evaluation metric.\n"
          ],
          "name": "stderr"
        },
        {
          "output_type": "stream",
          "text": [
            "0:\tlearn: 8.0439984\ttest: 8.0839147\tbest: 8.0839147 (0)\ttotal: 22.3ms\tremaining: 11.1s\n",
            "100:\tlearn: 2.4563532\ttest: 1.9788748\tbest: 1.9514285 (87)\ttotal: 2.07s\tremaining: 8.19s\n",
            "Stopped by overfitting detector  (20 iterations wait)\n",
            "\n",
            "bestTest = 1.951428464\n",
            "bestIteration = 87\n",
            "\n",
            "Shrink model to first 88 iterations.\n",
            "-- Optimizing Quantile_0.7 Parameters --\n",
            "|   iter    |  target   | baggin... |   depth   | learni... | min_da... |\n",
            "-------------------------------------------------------------------------\n",
            "0:\tlearn: 8.1373652\ttest: 8.0983694\tbest: 8.0983694 (0)\ttotal: 20.8ms\tremaining: 10.4s\n"
          ],
          "name": "stdout"
        },
        {
          "output_type": "stream",
          "text": [
            "Warning: Overfitting detector is active, thus evaluation metric is calculated on every iteration. 'metric_period' is ignored for evaluation metric.\n"
          ],
          "name": "stderr"
        },
        {
          "output_type": "stream",
          "text": [
            "100:\tlearn: 2.0709071\ttest: 1.5868093\tbest: 1.5859084 (96)\ttotal: 2.04s\tremaining: 8.07s\n",
            "Stopped by overfitting detector  (20 iterations wait)\n",
            "\n",
            "bestTest = 1.585908351\n",
            "bestIteration = 96\n",
            "\n",
            "Shrink model to first 97 iterations.\n",
            "train_quantile_loss : 2.0709, test_quantile_loss : 1.5859\n",
            "| \u001b[0m 1       \u001b[0m | \u001b[0m-1.586   \u001b[0m | \u001b[0m 54.34   \u001b[0m | \u001b[0m 4.227   \u001b[0m | \u001b[0m 0.218   \u001b[0m | \u001b[0m 8.603   \u001b[0m |\n"
          ],
          "name": "stdout"
        },
        {
          "output_type": "stream",
          "text": [
            "Warning: Overfitting detector is active, thus evaluation metric is calculated on every iteration. 'metric_period' is ignored for evaluation metric.\n"
          ],
          "name": "stderr"
        },
        {
          "output_type": "stream",
          "text": [
            "0:\tlearn: 7.2059942\ttest: 7.1133915\tbest: 7.1133915 (0)\ttotal: 19.3ms\tremaining: 9.64s\n",
            "100:\tlearn: 2.2264679\ttest: 1.7684131\tbest: 1.7570332 (93)\ttotal: 1.3s\tremaining: 5.14s\n",
            "Stopped by overfitting detector  (20 iterations wait)\n",
            "\n",
            "bestTest = 1.757033221\n",
            "bestIteration = 93\n",
            "\n",
            "Shrink model to first 94 iterations.\n",
            "train_quantile_loss : 2.2265, test_quantile_loss : 1.7570\n",
            "| \u001b[0m 2       \u001b[0m | \u001b[0m-1.757   \u001b[0m | \u001b[0m 0.4719  \u001b[0m | \u001b[0m 2.973   \u001b[0m | \u001b[0m 0.3387  \u001b[0m | \u001b[0m 8.433   \u001b[0m |\n",
            "0:\tlearn: 6.2011667\ttest: 6.0878002\tbest: 6.0878002 (0)\ttotal: 37.8ms\tremaining: 18.8s\n"
          ],
          "name": "stdout"
        },
        {
          "output_type": "stream",
          "text": [
            "Warning: Overfitting detector is active, thus evaluation metric is calculated on every iteration. 'metric_period' is ignored for evaluation metric.\n"
          ],
          "name": "stderr"
        },
        {
          "output_type": "stream",
          "text": [
            "Stopped by overfitting detector  (20 iterations wait)\n",
            "\n",
            "bestTest = 1.754849518\n",
            "bestIteration = 30\n",
            "\n",
            "Shrink model to first 31 iterations.\n",
            "train_quantile_loss : 2.0166, test_quantile_loss : 1.7548\n",
            "| \u001b[0m 3       \u001b[0m | \u001b[0m-1.755   \u001b[0m | \u001b[0m 13.67   \u001b[0m | \u001b[0m 6.601   \u001b[0m | \u001b[0m 0.4467  \u001b[0m | \u001b[0m 2.883   \u001b[0m |\n"
          ],
          "name": "stdout"
        },
        {
          "output_type": "stream",
          "text": [
            "Warning: Overfitting detector is active, thus evaluation metric is calculated on every iteration. 'metric_period' is ignored for evaluation metric.\n"
          ],
          "name": "stderr"
        },
        {
          "output_type": "stream",
          "text": [
            "0:\tlearn: 9.1275451\ttest: 9.1095885\tbest: 9.1095885 (0)\ttotal: 16.9ms\tremaining: 8.45s\n",
            "100:\tlearn: 2.4044707\ttest: 1.7777987\tbest: 1.7777987 (100)\ttotal: 1.4s\tremaining: 5.55s\n",
            "200:\tlearn: 2.3171310\ttest: 1.7102553\tbest: 1.7085554 (181)\ttotal: 2.58s\tremaining: 3.83s\n",
            "Stopped by overfitting detector  (20 iterations wait)\n",
            "\n",
            "bestTest = 1.708555399\n",
            "bestIteration = 181\n",
            "\n",
            "Shrink model to first 182 iterations.\n",
            "train_quantile_loss : 2.3171, test_quantile_loss : 1.7086\n",
            "| \u001b[0m 4       \u001b[0m | \u001b[0m-1.709   \u001b[0m | \u001b[0m 18.53   \u001b[0m | \u001b[0m 2.867   \u001b[0m | \u001b[0m 0.1177  \u001b[0m | \u001b[0m 9.808   \u001b[0m |\n"
          ],
          "name": "stdout"
        },
        {
          "output_type": "stream",
          "text": [
            "Warning: Overfitting detector is active, thus evaluation metric is calculated on every iteration. 'metric_period' is ignored for evaluation metric.\n"
          ],
          "name": "stderr"
        },
        {
          "output_type": "stream",
          "text": [
            "0:\tlearn: 6.5842303\ttest: 6.4626691\tbest: 6.4626691 (0)\ttotal: 17.9ms\tremaining: 8.93s\n",
            "Stopped by overfitting detector  (20 iterations wait)\n",
            "\n",
            "bestTest = 1.830324223\n",
            "bestIteration = 34\n",
            "\n",
            "Shrink model to first 35 iterations.\n",
            "train_quantile_loss : 2.3836, test_quantile_loss : 1.8303\n",
            "| \u001b[0m 5       \u001b[0m | \u001b[0m-1.83    \u001b[0m | \u001b[0m 81.17   \u001b[0m | \u001b[0m 3.376   \u001b[0m | \u001b[0m 0.41    \u001b[0m | \u001b[0m 3.467   \u001b[0m |\n"
          ],
          "name": "stdout"
        },
        {
          "output_type": "stream",
          "text": [
            "Warning: Overfitting detector is active, thus evaluation metric is calculated on every iteration. 'metric_period' is ignored for evaluation metric.\n"
          ],
          "name": "stderr"
        },
        {
          "output_type": "stream",
          "text": [
            "0:\tlearn: 5.6184500\ttest: 5.8144028\tbest: 5.8144028 (0)\ttotal: 281ms\tremaining: 2m 20s\n",
            "Stopped by overfitting detector  (20 iterations wait)\n",
            "\n",
            "bestTest = 2.055641777\n",
            "bestIteration = 6\n",
            "\n",
            "Shrink model to first 7 iterations.\n",
            "train_quantile_loss : 5.6184, test_quantile_loss : 2.0556\n",
            "| \u001b[0m 6       \u001b[0m | \u001b[0m-2.056   \u001b[0m | \u001b[0m 49.93   \u001b[0m | \u001b[0m 10.0    \u001b[0m | \u001b[0m 0.5     \u001b[0m | \u001b[0m 10.0    \u001b[0m |\n"
          ],
          "name": "stdout"
        },
        {
          "output_type": "stream",
          "text": [
            "Warning: Overfitting detector is active, thus evaluation metric is calculated on every iteration. 'metric_period' is ignored for evaluation metric.\n"
          ],
          "name": "stderr"
        },
        {
          "output_type": "stream",
          "text": [
            "0:\tlearn: 10.1771687\ttest: 10.1852115\tbest: 10.1852115 (0)\ttotal: 13.4ms\tremaining: 6.67s\n",
            "100:\tlearn: 4.7855357\ttest: 4.5210714\tbest: 4.5210714 (100)\ttotal: 1.38s\tremaining: 5.45s\n",
            "200:\tlearn: 3.2556001\ttest: 2.7443875\tbest: 2.7443875 (200)\ttotal: 2.77s\tremaining: 4.12s\n",
            "300:\tlearn: 2.7534118\ttest: 2.1647863\tbest: 2.1647863 (300)\ttotal: 4.14s\tremaining: 2.74s\n",
            "400:\tlearn: 2.5639907\ttest: 1.9462582\tbest: 1.9462582 (400)\ttotal: 5.54s\tremaining: 1.37s\n",
            "499:\tlearn: 2.4810037\ttest: 1.8477192\tbest: 1.8477192 (499)\ttotal: 6.84s\tremaining: 0us\n",
            "\n",
            "bestTest = 1.8477192\n",
            "bestIteration = 499\n",
            "\n",
            "train_quantile_loss : 2.4810, test_quantile_loss : 1.8477\n",
            "| \u001b[0m 7       \u001b[0m | \u001b[0m-1.848   \u001b[0m | \u001b[0m 100.0   \u001b[0m | \u001b[0m 2.0     \u001b[0m | \u001b[0m 0.01    \u001b[0m | \u001b[0m 10.0    \u001b[0m |\n"
          ],
          "name": "stdout"
        },
        {
          "output_type": "stream",
          "text": [
            "Warning: Overfitting detector is active, thus evaluation metric is calculated on every iteration. 'metric_period' is ignored for evaluation metric.\n"
          ],
          "name": "stderr"
        },
        {
          "output_type": "stream",
          "text": [
            "0:\tlearn: 7.0670802\ttest: 7.2219341\tbest: 7.2219341 (0)\ttotal: 43.1ms\tremaining: 21.5s\n",
            "Stopped by overfitting detector  (20 iterations wait)\n",
            "\n",
            "bestTest = 1.647612132\n",
            "bestIteration = 36\n",
            "\n",
            "Shrink model to first 37 iterations.\n",
            "train_quantile_loss : 1.8923, test_quantile_loss : 1.6476\n",
            "| \u001b[0m 8       \u001b[0m | \u001b[0m-1.648   \u001b[0m | \u001b[0m 11.08   \u001b[0m | \u001b[0m 7.073   \u001b[0m | \u001b[0m 0.3376  \u001b[0m | \u001b[0m 1.941   \u001b[0m |\n"
          ],
          "name": "stdout"
        },
        {
          "output_type": "stream",
          "text": [
            "Warning: Overfitting detector is active, thus evaluation metric is calculated on every iteration. 'metric_period' is ignored for evaluation metric.\n"
          ],
          "name": "stderr"
        },
        {
          "output_type": "stream",
          "text": [
            "0:\tlearn: 10.1771687\ttest: 10.1852115\tbest: 10.1852115 (0)\ttotal: 13.4ms\tremaining: 6.71s\n",
            "100:\tlearn: 4.7855357\ttest: 4.5210714\tbest: 4.5210714 (100)\ttotal: 1.35s\tremaining: 5.32s\n",
            "200:\tlearn: 3.2556001\ttest: 2.7443875\tbest: 2.7443875 (200)\ttotal: 2.72s\tremaining: 4.05s\n",
            "300:\tlearn: 2.7534118\ttest: 2.1647863\tbest: 2.1647863 (300)\ttotal: 4.09s\tremaining: 2.7s\n",
            "400:\tlearn: 2.5639907\ttest: 1.9462582\tbest: 1.9462582 (400)\ttotal: 5.44s\tremaining: 1.34s\n",
            "499:\tlearn: 2.4810037\ttest: 1.8477192\tbest: 1.8477192 (499)\ttotal: 6.76s\tremaining: 0us\n",
            "\n",
            "bestTest = 1.8477192\n",
            "bestIteration = 499\n",
            "\n",
            "train_quantile_loss : 2.4810, test_quantile_loss : 1.8477\n",
            "| \u001b[0m 9       \u001b[0m | \u001b[0m-1.848   \u001b[0m | \u001b[0m 40.38   \u001b[0m | \u001b[0m 2.0     \u001b[0m | \u001b[0m 0.01    \u001b[0m | \u001b[0m 1.0     \u001b[0m |\n"
          ],
          "name": "stdout"
        },
        {
          "output_type": "stream",
          "text": [
            "Warning: Overfitting detector is active, thus evaluation metric is calculated on every iteration. 'metric_period' is ignored for evaluation metric.\n"
          ],
          "name": "stderr"
        },
        {
          "output_type": "stream",
          "text": [
            "0:\tlearn: 10.1771687\ttest: 10.1852115\tbest: 10.1852115 (0)\ttotal: 15.5ms\tremaining: 7.72s\n",
            "100:\tlearn: 4.7855357\ttest: 4.5210714\tbest: 4.5210714 (100)\ttotal: 1.36s\tremaining: 5.38s\n",
            "200:\tlearn: 3.2556001\ttest: 2.7443875\tbest: 2.7443875 (200)\ttotal: 2.75s\tremaining: 4.08s\n",
            "300:\tlearn: 2.7534118\ttest: 2.1647863\tbest: 2.1647863 (300)\ttotal: 4.1s\tremaining: 2.71s\n",
            "400:\tlearn: 2.5639907\ttest: 1.9462582\tbest: 1.9462582 (400)\ttotal: 5.47s\tremaining: 1.35s\n",
            "499:\tlearn: 2.4810037\ttest: 1.8477192\tbest: 1.8477192 (499)\ttotal: 6.79s\tremaining: 0us\n",
            "\n",
            "bestTest = 1.8477192\n",
            "bestIteration = 499\n",
            "\n",
            "train_quantile_loss : 2.4810, test_quantile_loss : 1.8477\n",
            "| \u001b[0m 10      \u001b[0m | \u001b[0m-1.848   \u001b[0m | \u001b[0m 63.3    \u001b[0m | \u001b[0m 2.0     \u001b[0m | \u001b[0m 0.01    \u001b[0m | \u001b[0m 1.0     \u001b[0m |\n",
            "=========================================================================\n",
            "Final result: {'target': -1.5859083511478447, 'params': {'bagging_temperature': 54.340494179096545, 'depth': 4.226955080750369, 'learning_rate': 0.21801361946707523, 'min_data_in_leaf': 8.602985190879133}}\n",
            "---- Predict 0.7 ----\n"
          ],
          "name": "stdout"
        },
        {
          "output_type": "stream",
          "text": [
            "Warning: Overfitting detector is active, thus evaluation metric is calculated on every iteration. 'metric_period' is ignored for evaluation metric.\n"
          ],
          "name": "stderr"
        },
        {
          "output_type": "stream",
          "text": [
            "0:\tlearn: 8.1373652\ttest: 8.0983694\tbest: 8.0983694 (0)\ttotal: 20.8ms\tremaining: 10.4s\n",
            "100:\tlearn: 2.0709071\ttest: 1.5868093\tbest: 1.5859084 (96)\ttotal: 2.06s\tremaining: 8.16s\n",
            "Stopped by overfitting detector  (20 iterations wait)\n",
            "\n",
            "bestTest = 1.585908351\n",
            "bestIteration = 96\n",
            "\n",
            "Shrink model to first 97 iterations.\n",
            "-- Optimizing Quantile_0.8 Parameters --\n",
            "|   iter    |  target   | baggin... |   depth   | learni... | min_da... |\n",
            "-------------------------------------------------------------------------\n",
            "0:\tlearn: 7.1101770\ttest: 7.0082806\tbest: 7.0082806 (0)\ttotal: 18.9ms\tremaining: 9.45s\n"
          ],
          "name": "stdout"
        },
        {
          "output_type": "stream",
          "text": [
            "Warning: Overfitting detector is active, thus evaluation metric is calculated on every iteration. 'metric_period' is ignored for evaluation metric.\n"
          ],
          "name": "stderr"
        },
        {
          "output_type": "stream",
          "text": [
            "Stopped by overfitting detector  (20 iterations wait)\n",
            "\n",
            "bestTest = 1.153962035\n",
            "bestIteration = 77\n",
            "\n",
            "Shrink model to first 78 iterations.\n",
            "train_quantile_loss : 1.7026, test_quantile_loss : 1.1540\n",
            "| \u001b[0m 1       \u001b[0m | \u001b[0m-1.154   \u001b[0m | \u001b[0m 54.34   \u001b[0m | \u001b[0m 4.227   \u001b[0m | \u001b[0m 0.218   \u001b[0m | \u001b[0m 8.603   \u001b[0m |\n"
          ],
          "name": "stdout"
        },
        {
          "output_type": "stream",
          "text": [
            "Warning: Overfitting detector is active, thus evaluation metric is calculated on every iteration. 'metric_period' is ignored for evaluation metric.\n"
          ],
          "name": "stderr"
        },
        {
          "output_type": "stream",
          "text": [
            "0:\tlearn: 6.4005479\ttest: 6.2733087\tbest: 6.2733087 (0)\ttotal: 10.8ms\tremaining: 5.4s\n",
            "100:\tlearn: 1.6911115\ttest: 1.3096166\tbest: 1.3096166 (100)\ttotal: 1.45s\tremaining: 5.73s\n",
            "Stopped by overfitting detector  (20 iterations wait)\n",
            "\n",
            "bestTest = 1.286455497\n",
            "bestIteration = 117\n",
            "\n",
            "Shrink model to first 118 iterations.\n",
            "train_quantile_loss : 1.6911, test_quantile_loss : 1.2865\n",
            "| \u001b[0m 2       \u001b[0m | \u001b[0m-1.286   \u001b[0m | \u001b[0m 0.4719  \u001b[0m | \u001b[0m 2.973   \u001b[0m | \u001b[0m 0.3387  \u001b[0m | \u001b[0m 8.433   \u001b[0m |\n"
          ],
          "name": "stdout"
        },
        {
          "output_type": "stream",
          "text": [
            "Warning: Overfitting detector is active, thus evaluation metric is calculated on every iteration. 'metric_period' is ignored for evaluation metric.\n"
          ],
          "name": "stderr"
        },
        {
          "output_type": "stream",
          "text": [
            "0:\tlearn: 5.4197575\ttest: 5.4144694\tbest: 5.4144694 (0)\ttotal: 41.2ms\tremaining: 20.5s\n",
            "Stopped by overfitting detector  (20 iterations wait)\n",
            "\n",
            "bestTest = 1.355172106\n",
            "bestIteration = 27\n",
            "\n",
            "Shrink model to first 28 iterations.\n",
            "train_quantile_loss : 5.4198, test_quantile_loss : 1.3552\n",
            "| \u001b[0m 3       \u001b[0m | \u001b[0m-1.355   \u001b[0m | \u001b[0m 13.67   \u001b[0m | \u001b[0m 6.601   \u001b[0m | \u001b[0m 0.4467  \u001b[0m | \u001b[0m 2.883   \u001b[0m |\n"
          ],
          "name": "stdout"
        },
        {
          "output_type": "stream",
          "text": [
            "Warning: Overfitting detector is active, thus evaluation metric is calculated on every iteration. 'metric_period' is ignored for evaluation metric.\n"
          ],
          "name": "stderr"
        },
        {
          "output_type": "stream",
          "text": [
            "0:\tlearn: 7.9829345\ttest: 7.9356801\tbest: 7.9356801 (0)\ttotal: 14.1ms\tremaining: 7.03s\n",
            "100:\tlearn: 1.8531922\ttest: 1.4197156\tbest: 1.4197156 (100)\ttotal: 1.35s\tremaining: 5.34s\n",
            "200:\tlearn: 1.7354147\ttest: 1.3103478\tbest: 1.3103478 (200)\ttotal: 2.49s\tremaining: 3.7s\n",
            "Stopped by overfitting detector  (20 iterations wait)\n",
            "\n",
            "bestTest = 1.272954843\n",
            "bestIteration = 246\n",
            "\n",
            "Shrink model to first 247 iterations.\n",
            "train_quantile_loss : 1.6968, test_quantile_loss : 1.2730\n",
            "| \u001b[0m 4       \u001b[0m | \u001b[0m-1.273   \u001b[0m | \u001b[0m 18.53   \u001b[0m | \u001b[0m 2.867   \u001b[0m | \u001b[0m 0.1177  \u001b[0m | \u001b[0m 9.808   \u001b[0m |\n"
          ],
          "name": "stdout"
        },
        {
          "output_type": "stream",
          "text": [
            "Warning: Overfitting detector is active, thus evaluation metric is calculated on every iteration. 'metric_period' is ignored for evaluation metric.\n"
          ],
          "name": "stderr"
        },
        {
          "output_type": "stream",
          "text": [
            "0:\tlearn: 5.8136717\ttest: 5.6329580\tbest: 5.6329580 (0)\ttotal: 19.8ms\tremaining: 9.89s\n",
            "Stopped by overfitting detector  (20 iterations wait)\n",
            "\n",
            "bestTest = 1.353457245\n",
            "bestIteration = 33\n",
            "\n",
            "Shrink model to first 34 iterations.\n",
            "train_quantile_loss : 1.8523, test_quantile_loss : 1.3535\n",
            "| \u001b[0m 5       \u001b[0m | \u001b[0m-1.353   \u001b[0m | \u001b[0m 81.17   \u001b[0m | \u001b[0m 3.376   \u001b[0m | \u001b[0m 0.41    \u001b[0m | \u001b[0m 3.467   \u001b[0m |\n"
          ],
          "name": "stdout"
        },
        {
          "output_type": "stream",
          "text": [
            "Warning: Overfitting detector is active, thus evaluation metric is calculated on every iteration. 'metric_period' is ignored for evaluation metric.\n"
          ],
          "name": "stderr"
        },
        {
          "output_type": "stream",
          "text": [
            "0:\tlearn: 8.8624261\ttest: 8.8789904\tbest: 8.8789904 (0)\ttotal: 262ms\tremaining: 2m 10s\n",
            "100:\tlearn: 3.7313772\ttest: 3.7594803\tbest: 3.7594803 (100)\ttotal: 26.3s\tremaining: 1m 43s\n",
            "200:\tlearn: 2.1690928\ttest: 2.0927994\tbest: 2.0927994 (200)\ttotal: 52s\tremaining: 1m 17s\n",
            "300:\tlearn: 1.6447382\ttest: 1.5068853\tbest: 1.5068853 (300)\ttotal: 1m 18s\tremaining: 51.7s\n",
            "400:\tlearn: 1.4353023\ttest: 1.3175528\tbest: 1.3175528 (400)\ttotal: 1m 43s\tremaining: 25.6s\n",
            "499:\tlearn: 1.3420235\ttest: 1.2408275\tbest: 1.2408275 (499)\ttotal: 2m 9s\tremaining: 0us\n",
            "\n",
            "bestTest = 1.240827493\n",
            "bestIteration = 499\n",
            "\n",
            "train_quantile_loss : 1.3420, test_quantile_loss : 1.2408\n",
            "| \u001b[0m 6       \u001b[0m | \u001b[0m-1.241   \u001b[0m | \u001b[0m 60.62   \u001b[0m | \u001b[0m 10.0    \u001b[0m | \u001b[0m 0.01    \u001b[0m | \u001b[0m 10.0    \u001b[0m |\n"
          ],
          "name": "stdout"
        },
        {
          "output_type": "stream",
          "text": [
            "Warning: Overfitting detector is active, thus evaluation metric is calculated on every iteration. 'metric_period' is ignored for evaluation metric.\n"
          ],
          "name": "stderr"
        },
        {
          "output_type": "stream",
          "text": [
            "0:\tlearn: 8.8674078\ttest: 8.8711459\tbest: 8.8711459 (0)\ttotal: 11.5ms\tremaining: 5.76s\n",
            "100:\tlearn: 4.0439530\ttest: 3.6974131\tbest: 3.6974131 (100)\ttotal: 1.25s\tremaining: 4.92s\n",
            "200:\tlearn: 2.6196762\ttest: 2.1260566\tbest: 2.1260566 (200)\ttotal: 2.58s\tremaining: 3.83s\n",
            "300:\tlearn: 2.1338959\ttest: 1.6152892\tbest: 1.6152892 (300)\ttotal: 3.95s\tremaining: 2.61s\n",
            "400:\tlearn: 1.9423169\ttest: 1.4127072\tbest: 1.4127072 (400)\ttotal: 5.34s\tremaining: 1.32s\n",
            "499:\tlearn: 1.8673292\ttest: 1.3355837\tbest: 1.3355837 (499)\ttotal: 6.66s\tremaining: 0us\n",
            "\n",
            "bestTest = 1.335583686\n",
            "bestIteration = 499\n",
            "\n",
            "train_quantile_loss : 1.8673, test_quantile_loss : 1.3356\n",
            "| \u001b[0m 7       \u001b[0m | \u001b[0m-1.336   \u001b[0m | \u001b[0m 50.82   \u001b[0m | \u001b[0m 2.0     \u001b[0m | \u001b[0m 0.01    \u001b[0m | \u001b[0m 1.0     \u001b[0m |\n"
          ],
          "name": "stdout"
        },
        {
          "output_type": "stream",
          "text": [
            "Warning: Overfitting detector is active, thus evaluation metric is calculated on every iteration. 'metric_period' is ignored for evaluation metric.\n"
          ],
          "name": "stderr"
        },
        {
          "output_type": "stream",
          "text": [
            "0:\tlearn: 6.1543428\ttest: 6.1555688\tbest: 6.1555688 (0)\ttotal: 51.2ms\tremaining: 25.6s\n",
            "Stopped by overfitting detector  (20 iterations wait)\n",
            "\n",
            "bestTest = 1.34993128\n",
            "bestIteration = 27\n",
            "\n",
            "Shrink model to first 28 iterations.\n",
            "train_quantile_loss : 6.1543, test_quantile_loss : 1.3499\n",
            "| \u001b[0m 8       \u001b[0m | \u001b[0m-1.35    \u001b[0m | \u001b[0m 11.08   \u001b[0m | \u001b[0m 7.073   \u001b[0m | \u001b[0m 0.3376  \u001b[0m | \u001b[0m 1.941   \u001b[0m |\n"
          ],
          "name": "stdout"
        },
        {
          "output_type": "stream",
          "text": [
            "Warning: Overfitting detector is active, thus evaluation metric is calculated on every iteration. 'metric_period' is ignored for evaluation metric.\n"
          ],
          "name": "stderr"
        },
        {
          "output_type": "stream",
          "text": [
            "0:\tlearn: 8.8674078\ttest: 8.8711459\tbest: 8.8711459 (0)\ttotal: 9.85ms\tremaining: 4.92s\n",
            "100:\tlearn: 4.0439530\ttest: 3.6974131\tbest: 3.6974131 (100)\ttotal: 1.25s\tremaining: 4.94s\n",
            "200:\tlearn: 2.6196762\ttest: 2.1260566\tbest: 2.1260566 (200)\ttotal: 2.57s\tremaining: 3.82s\n",
            "300:\tlearn: 2.1338959\ttest: 1.6152892\tbest: 1.6152892 (300)\ttotal: 3.91s\tremaining: 2.59s\n",
            "400:\tlearn: 1.9423169\ttest: 1.4127072\tbest: 1.4127072 (400)\ttotal: 5.19s\tremaining: 1.28s\n",
            "499:\tlearn: 1.8673292\ttest: 1.3355837\tbest: 1.3355837 (499)\ttotal: 6.51s\tremaining: 0us\n",
            "\n",
            "bestTest = 1.335583686\n",
            "bestIteration = 499\n",
            "\n",
            "train_quantile_loss : 1.8673, test_quantile_loss : 1.3356\n",
            "| \u001b[0m 9       \u001b[0m | \u001b[0m-1.336   \u001b[0m | \u001b[0m 100.0   \u001b[0m | \u001b[0m 2.0     \u001b[0m | \u001b[0m 0.01    \u001b[0m | \u001b[0m 10.0    \u001b[0m |\n"
          ],
          "name": "stdout"
        },
        {
          "output_type": "stream",
          "text": [
            "Warning: Overfitting detector is active, thus evaluation metric is calculated on every iteration. 'metric_period' is ignored for evaluation metric.\n"
          ],
          "name": "stderr"
        },
        {
          "output_type": "stream",
          "text": [
            "0:\tlearn: 8.8674078\ttest: 8.8711459\tbest: 8.8711459 (0)\ttotal: 10.7ms\tremaining: 5.34s\n",
            "100:\tlearn: 4.0439530\ttest: 3.6974131\tbest: 3.6974131 (100)\ttotal: 1.25s\tremaining: 4.94s\n",
            "200:\tlearn: 2.6196762\ttest: 2.1260566\tbest: 2.1260566 (200)\ttotal: 2.54s\tremaining: 3.79s\n",
            "300:\tlearn: 2.1338959\ttest: 1.6152892\tbest: 1.6152892 (300)\ttotal: 3.93s\tremaining: 2.6s\n",
            "400:\tlearn: 1.9423169\ttest: 1.4127072\tbest: 1.4127072 (400)\ttotal: 5.31s\tremaining: 1.31s\n",
            "499:\tlearn: 1.8673292\ttest: 1.3355837\tbest: 1.3355837 (499)\ttotal: 6.64s\tremaining: 0us\n",
            "\n",
            "bestTest = 1.335583686\n",
            "bestIteration = 499\n",
            "\n",
            "train_quantile_loss : 1.8673, test_quantile_loss : 1.3356\n",
            "| \u001b[0m 10      \u001b[0m | \u001b[0m-1.336   \u001b[0m | \u001b[0m 67.54   \u001b[0m | \u001b[0m 2.0     \u001b[0m | \u001b[0m 0.01    \u001b[0m | \u001b[0m 10.0    \u001b[0m |\n",
            "=========================================================================\n",
            "Final result: {'target': -1.1539620348604256, 'params': {'bagging_temperature': 54.340494179096545, 'depth': 4.226955080750369, 'learning_rate': 0.21801361946707523, 'min_data_in_leaf': 8.602985190879133}}\n",
            "---- Predict 0.8 ----\n"
          ],
          "name": "stdout"
        },
        {
          "output_type": "stream",
          "text": [
            "Warning: Overfitting detector is active, thus evaluation metric is calculated on every iteration. 'metric_period' is ignored for evaluation metric.\n"
          ],
          "name": "stderr"
        },
        {
          "output_type": "stream",
          "text": [
            "0:\tlearn: 7.1101770\ttest: 7.0082806\tbest: 7.0082806 (0)\ttotal: 27.9ms\tremaining: 13.9s\n",
            "Stopped by overfitting detector  (20 iterations wait)\n",
            "\n",
            "bestTest = 1.153962035\n",
            "bestIteration = 77\n",
            "\n",
            "Shrink model to first 78 iterations.\n",
            "-- Optimizing Quantile_0.9 Parameters --\n",
            "|   iter    |  target   | baggin... |   depth   | learni... | min_da... |\n",
            "-------------------------------------------------------------------------\n",
            "0:\tlearn: 5.0080454\ttest: 4.8830973\tbest: 4.8830973 (0)\ttotal: 15.8ms\tremaining: 7.87s\n"
          ],
          "name": "stdout"
        },
        {
          "output_type": "stream",
          "text": [
            "Warning: Overfitting detector is active, thus evaluation metric is calculated on every iteration. 'metric_period' is ignored for evaluation metric.\n"
          ],
          "name": "stderr"
        },
        {
          "output_type": "stream",
          "text": [
            "100:\tlearn: 0.9037611\ttest: 0.6753257\tbest: 0.6753257 (100)\ttotal: 1.95s\tremaining: 7.68s\n",
            "200:\tlearn: 0.8299646\ttest: 0.6558025\tbest: 0.6520701 (190)\ttotal: 3.77s\tremaining: 5.62s\n",
            "Stopped by overfitting detector  (20 iterations wait)\n",
            "\n",
            "bestTest = 0.6520701417\n",
            "bestIteration = 190\n",
            "\n",
            "Shrink model to first 191 iterations.\n",
            "train_quantile_loss : 0.8300, test_quantile_loss : 0.6521\n",
            "| \u001b[0m 1       \u001b[0m | \u001b[0m-0.6521  \u001b[0m | \u001b[0m 54.34   \u001b[0m | \u001b[0m 4.227   \u001b[0m | \u001b[0m 0.218   \u001b[0m | \u001b[0m 8.603   \u001b[0m |\n",
            "0:\tlearn: 4.8350091\ttest: 4.6836217\tbest: 4.6836217 (0)\ttotal: 10.4ms\tremaining: 5.17s\n"
          ],
          "name": "stdout"
        },
        {
          "output_type": "stream",
          "text": [
            "Warning: Overfitting detector is active, thus evaluation metric is calculated on every iteration. 'metric_period' is ignored for evaluation metric.\n"
          ],
          "name": "stderr"
        },
        {
          "output_type": "stream",
          "text": [
            "100:\tlearn: 1.0749964\ttest: 0.8521008\tbest: 0.8521008 (100)\ttotal: 1.34s\tremaining: 5.28s\n",
            "Stopped by overfitting detector  (20 iterations wait)\n",
            "\n",
            "bestTest = 0.8395883775\n",
            "bestIteration = 111\n",
            "\n",
            "Shrink model to first 112 iterations.\n",
            "train_quantile_loss : 1.0750, test_quantile_loss : 0.8396\n",
            "| \u001b[0m 2       \u001b[0m | \u001b[0m-0.8396  \u001b[0m | \u001b[0m 0.4719  \u001b[0m | \u001b[0m 2.973   \u001b[0m | \u001b[0m 0.3387  \u001b[0m | \u001b[0m 8.433   \u001b[0m |\n"
          ],
          "name": "stdout"
        },
        {
          "output_type": "stream",
          "text": [
            "Warning: Overfitting detector is active, thus evaluation metric is calculated on every iteration. 'metric_period' is ignored for evaluation metric.\n"
          ],
          "name": "stderr"
        },
        {
          "output_type": "stream",
          "text": [
            "0:\tlearn: 4.3087707\ttest: 4.1850204\tbest: 4.1850204 (0)\ttotal: 26.7ms\tremaining: 13.3s\n",
            "Stopped by overfitting detector  (20 iterations wait)\n",
            "\n",
            "bestTest = 0.7587715903\n",
            "bestIteration = 36\n",
            "\n",
            "Shrink model to first 37 iterations.\n",
            "train_quantile_loss : 0.9099, test_quantile_loss : 0.7588\n",
            "| \u001b[0m 3       \u001b[0m | \u001b[0m-0.7588  \u001b[0m | \u001b[0m 13.67   \u001b[0m | \u001b[0m 6.601   \u001b[0m | \u001b[0m 0.4467  \u001b[0m | \u001b[0m 2.883   \u001b[0m |\n"
          ],
          "name": "stdout"
        },
        {
          "output_type": "stream",
          "text": [
            "Warning: Overfitting detector is active, thus evaluation metric is calculated on every iteration. 'metric_period' is ignored for evaluation metric.\n"
          ],
          "name": "stderr"
        },
        {
          "output_type": "stream",
          "text": [
            "0:\tlearn: 5.4107237\ttest: 5.3546197\tbest: 5.3546197 (0)\ttotal: 10.7ms\tremaining: 5.34s\n",
            "100:\tlearn: 1.0634697\ttest: 0.7947996\tbest: 0.7947996 (100)\ttotal: 1.29s\tremaining: 5.12s\n",
            "200:\tlearn: 0.9944148\ttest: 0.7327870\tbest: 0.7326794 (183)\ttotal: 2.65s\tremaining: 3.94s\n",
            "Stopped by overfitting detector  (20 iterations wait)\n",
            "\n",
            "bestTest = 0.7326793521\n",
            "bestIteration = 183\n",
            "\n",
            "Shrink model to first 184 iterations.\n",
            "train_quantile_loss : 0.9944, test_quantile_loss : 0.7327\n",
            "| \u001b[0m 4       \u001b[0m | \u001b[0m-0.7327  \u001b[0m | \u001b[0m 18.53   \u001b[0m | \u001b[0m 2.867   \u001b[0m | \u001b[0m 0.1177  \u001b[0m | \u001b[0m 9.808   \u001b[0m |\n"
          ],
          "name": "stdout"
        },
        {
          "output_type": "stream",
          "text": [
            "Warning: Overfitting detector is active, thus evaluation metric is calculated on every iteration. 'metric_period' is ignored for evaluation metric.\n"
          ],
          "name": "stderr"
        },
        {
          "output_type": "stream",
          "text": [
            "0:\tlearn: 4.6015682\ttest: 4.4177485\tbest: 4.4177485 (0)\ttotal: 14ms\tremaining: 7s\n",
            "Stopped by overfitting detector  (20 iterations wait)\n",
            "\n",
            "bestTest = 0.7558539222\n",
            "bestIteration = 36\n",
            "\n",
            "Shrink model to first 37 iterations.\n",
            "train_quantile_loss : 1.0537, test_quantile_loss : 0.7559\n",
            "| \u001b[0m 5       \u001b[0m | \u001b[0m-0.7559  \u001b[0m | \u001b[0m 81.17   \u001b[0m | \u001b[0m 3.376   \u001b[0m | \u001b[0m 0.41    \u001b[0m | \u001b[0m 3.467   \u001b[0m |\n"
          ],
          "name": "stdout"
        },
        {
          "output_type": "stream",
          "text": [
            "Warning: Overfitting detector is active, thus evaluation metric is calculated on every iteration. 'metric_period' is ignored for evaluation metric.\n"
          ],
          "name": "stderr"
        },
        {
          "output_type": "stream",
          "text": [
            "0:\tlearn: 5.7253696\ttest: 5.7300130\tbest: 5.7300130 (0)\ttotal: 279ms\tremaining: 2m 19s\n",
            "100:\tlearn: 2.5875497\ttest: 2.6887306\tbest: 2.6887306 (100)\ttotal: 26.3s\tremaining: 1m 43s\n",
            "200:\tlearn: 1.4505796\ttest: 1.5729892\tbest: 1.5729892 (200)\ttotal: 52.3s\tremaining: 1m 17s\n",
            "300:\tlearn: 1.0286020\ttest: 1.1450035\tbest: 1.1450035 (300)\ttotal: 1m 17s\tremaining: 51.5s\n",
            "400:\tlearn: 0.8565476\ttest: 0.9923561\tbest: 0.9923561 (400)\ttotal: 1m 43s\tremaining: 25.7s\n",
            "499:\tlearn: 0.7815005\ttest: 0.9411110\tbest: 0.9411110 (499)\ttotal: 2m 9s\tremaining: 0us\n",
            "\n",
            "bestTest = 0.9411109725\n",
            "bestIteration = 499\n",
            "\n",
            "train_quantile_loss : 0.7815, test_quantile_loss : 0.9411\n",
            "| \u001b[0m 6       \u001b[0m | \u001b[0m-0.9411  \u001b[0m | \u001b[0m 49.49   \u001b[0m | \u001b[0m 10.0    \u001b[0m | \u001b[0m 0.01    \u001b[0m | \u001b[0m 10.0    \u001b[0m |\n"
          ],
          "name": "stdout"
        },
        {
          "output_type": "stream",
          "text": [
            "Warning: Overfitting detector is active, thus evaluation metric is calculated on every iteration. 'metric_period' is ignored for evaluation metric.\n"
          ],
          "name": "stderr"
        },
        {
          "output_type": "stream",
          "text": [
            "0:\tlearn: 4.5149147\ttest: 4.3169634\tbest: 4.3169634 (0)\ttotal: 9.59ms\tremaining: 4.78s\n",
            "100:\tlearn: 0.9769221\ttest: 0.7881528\tbest: 0.7855251 (84)\ttotal: 1.2s\tremaining: 4.73s\n",
            "Stopped by overfitting detector  (20 iterations wait)\n",
            "\n",
            "bestTest = 0.7855251324\n",
            "bestIteration = 84\n",
            "\n",
            "Shrink model to first 85 iterations.\n",
            "train_quantile_loss : 0.9769, test_quantile_loss : 0.7855\n",
            "| \u001b[0m 7       \u001b[0m | \u001b[0m-0.7855  \u001b[0m | \u001b[0m 100.0   \u001b[0m | \u001b[0m 2.0     \u001b[0m | \u001b[0m 0.5     \u001b[0m | \u001b[0m 10.0    \u001b[0m |\n"
          ],
          "name": "stdout"
        },
        {
          "output_type": "stream",
          "text": [
            "Warning: Overfitting detector is active, thus evaluation metric is calculated on every iteration. 'metric_period' is ignored for evaluation metric.\n"
          ],
          "name": "stderr"
        },
        {
          "output_type": "stream",
          "text": [
            "0:\tlearn: 4.5837101\ttest: 4.5130269\tbest: 4.5130269 (0)\ttotal: 46ms\tremaining: 22.9s\n",
            "Stopped by overfitting detector  (20 iterations wait)\n",
            "\n",
            "bestTest = 0.7785505587\n",
            "bestIteration = 50\n",
            "\n",
            "Shrink model to first 51 iterations.\n",
            "train_quantile_loss : 0.8557, test_quantile_loss : 0.7786\n",
            "| \u001b[0m 8       \u001b[0m | \u001b[0m-0.7786  \u001b[0m | \u001b[0m 11.08   \u001b[0m | \u001b[0m 7.073   \u001b[0m | \u001b[0m 0.3376  \u001b[0m | \u001b[0m 1.941   \u001b[0m |\n"
          ],
          "name": "stdout"
        },
        {
          "output_type": "stream",
          "text": [
            "Warning: Overfitting detector is active, thus evaluation metric is calculated on every iteration. 'metric_period' is ignored for evaluation metric.\n"
          ],
          "name": "stderr"
        },
        {
          "output_type": "stream",
          "text": [
            "0:\tlearn: 5.7412896\ttest: 5.7395397\tbest: 5.7395397 (0)\ttotal: 10.2ms\tremaining: 5.1s\n",
            "100:\tlearn: 3.5148937\ttest: 3.2571252\tbest: 3.2571252 (100)\ttotal: 1.01s\tremaining: 3.99s\n",
            "200:\tlearn: 2.0501675\ttest: 1.7491159\tbest: 1.7491159 (200)\ttotal: 2.11s\tremaining: 3.13s\n",
            "300:\tlearn: 1.3990725\ttest: 1.0970844\tbest: 1.0970844 (300)\ttotal: 3.45s\tremaining: 2.28s\n",
            "400:\tlearn: 1.1550451\ttest: 0.8594685\tbest: 0.8594685 (400)\ttotal: 4.81s\tremaining: 1.19s\n",
            "499:\tlearn: 1.0613086\ttest: 0.7657459\tbest: 0.7657459 (499)\ttotal: 6.17s\tremaining: 0us\n",
            "\n",
            "bestTest = 0.7657458736\n",
            "bestIteration = 499\n",
            "\n",
            "train_quantile_loss : 1.0613, test_quantile_loss : 0.7657\n",
            "| \u001b[0m 9       \u001b[0m | \u001b[0m-0.7657  \u001b[0m | \u001b[0m 41.5    \u001b[0m | \u001b[0m 2.0     \u001b[0m | \u001b[0m 0.01    \u001b[0m | \u001b[0m 1.0     \u001b[0m |\n"
          ],
          "name": "stdout"
        },
        {
          "output_type": "stream",
          "text": [
            "Warning: Overfitting detector is active, thus evaluation metric is calculated on every iteration. 'metric_period' is ignored for evaluation metric.\n"
          ],
          "name": "stderr"
        },
        {
          "output_type": "stream",
          "text": [
            "0:\tlearn: 5.7412896\ttest: 5.7395397\tbest: 5.7395397 (0)\ttotal: 10.4ms\tremaining: 5.2s\n",
            "100:\tlearn: 3.5148937\ttest: 3.2571252\tbest: 3.2571252 (100)\ttotal: 1.06s\tremaining: 4.19s\n",
            "200:\tlearn: 2.0501675\ttest: 1.7491159\tbest: 1.7491159 (200)\ttotal: 2.12s\tremaining: 3.16s\n",
            "300:\tlearn: 1.3990725\ttest: 1.0970844\tbest: 1.0970844 (300)\ttotal: 3.45s\tremaining: 2.28s\n",
            "400:\tlearn: 1.1550451\ttest: 0.8594685\tbest: 0.8594685 (400)\ttotal: 4.82s\tremaining: 1.19s\n",
            "499:\tlearn: 1.0613086\ttest: 0.7657459\tbest: 0.7657459 (499)\ttotal: 6.14s\tremaining: 0us\n",
            "\n",
            "bestTest = 0.7657458736\n",
            "bestIteration = 499\n",
            "\n",
            "train_quantile_loss : 1.0613, test_quantile_loss : 0.7657\n",
            "| \u001b[0m 10      \u001b[0m | \u001b[0m-0.7657  \u001b[0m | \u001b[0m 70.66   \u001b[0m | \u001b[0m 2.0     \u001b[0m | \u001b[0m 0.01    \u001b[0m | \u001b[0m 10.0    \u001b[0m |\n",
            "=========================================================================\n",
            "Final result: {'target': -0.6520701416659377, 'params': {'bagging_temperature': 54.340494179096545, 'depth': 4.226955080750369, 'learning_rate': 0.21801361946707523, 'min_data_in_leaf': 8.602985190879133}}\n",
            "---- Predict 0.9 ----\n"
          ],
          "name": "stdout"
        },
        {
          "output_type": "stream",
          "text": [
            "Warning: Overfitting detector is active, thus evaluation metric is calculated on every iteration. 'metric_period' is ignored for evaluation metric.\n"
          ],
          "name": "stderr"
        },
        {
          "output_type": "stream",
          "text": [
            "0:\tlearn: 5.0080454\ttest: 4.8830973\tbest: 4.8830973 (0)\ttotal: 15.9ms\tremaining: 7.91s\n",
            "100:\tlearn: 0.9037611\ttest: 0.6753257\tbest: 0.6753257 (100)\ttotal: 1.98s\tremaining: 7.81s\n",
            "200:\tlearn: 0.8299646\ttest: 0.6558025\tbest: 0.6520701 (190)\ttotal: 3.92s\tremaining: 5.83s\n",
            "Stopped by overfitting detector  (20 iterations wait)\n",
            "\n",
            "bestTest = 0.6520701417\n",
            "bestIteration = 190\n",
            "\n",
            "Shrink model to first 191 iterations.\n"
          ],
          "name": "stdout"
        }
      ]
    },
    {
      "cell_type": "code",
      "metadata": {
        "colab": {
          "base_uri": "https://localhost:8080/"
        },
        "id": "cmAubbCv4ABC",
        "outputId": "592094d4-6081-4a7b-8fc9-585c4ccf336f"
      },
      "source": [
        "test_files  = sorted(glob.glob('/content/drive/MyDrive/DACON/태양광/quantiles/lgbm_cv/3year/*csv'))\r\n",
        "test_files"
      ],
      "execution_count": null,
      "outputs": [
        {
          "output_type": "execute_result",
          "data": {
            "text/plain": [
              "['/content/drive/MyDrive/DACON/태양광/quantiles/lgbm_cv/3year/year3_results_0.09.csv',\n",
              " '/content/drive/MyDrive/DACON/태양광/quantiles/lgbm_cv/3year/year3_results_0.19.csv',\n",
              " '/content/drive/MyDrive/DACON/태양광/quantiles/lgbm_cv/3year/year3_results_0.29.csv',\n",
              " '/content/drive/MyDrive/DACON/태양광/quantiles/lgbm_cv/3year/year3_results_0.39.csv',\n",
              " '/content/drive/MyDrive/DACON/태양광/quantiles/lgbm_cv/3year/year3_results_0.5.csv',\n",
              " '/content/drive/MyDrive/DACON/태양광/quantiles/lgbm_cv/3year/year3_results_0.61.csv',\n",
              " '/content/drive/MyDrive/DACON/태양광/quantiles/lgbm_cv/3year/year3_results_0.71.csv',\n",
              " '/content/drive/MyDrive/DACON/태양광/quantiles/lgbm_cv/3year/year3_results_0.81.csv',\n",
              " '/content/drive/MyDrive/DACON/태양광/quantiles/lgbm_cv/3year/year3_results_0.91.csv']"
            ]
          },
          "metadata": {
            "tags": []
          },
          "execution_count": 42
        }
      ]
    },
    {
      "cell_type": "code",
      "metadata": {
        "id": "Bj4U15fwPkhr"
      },
      "source": [
        "result_1 = []\r\n",
        "result_1 = pd.DataFrame()\r\n",
        "\r\n",
        "for i in range(0,len(test_files)):\r\n",
        "  result_1 = pd.concat([result_1, pd.read_csv(test_files[i])], axis=1)"
      ],
      "execution_count": null,
      "outputs": []
    },
    {
      "cell_type": "code",
      "metadata": {
        "colab": {
          "base_uri": "https://localhost:8080/",
          "height": 402
        },
        "id": "5obX7p_XsIgw",
        "outputId": "e1e65f84-3b8d-4bc2-c127-cc3a22838d18"
      },
      "source": [
        "result_1"
      ],
      "execution_count": null,
      "outputs": [
        {
          "output_type": "execute_result",
          "data": {
            "text/html": [
              "<div>\n",
              "<style scoped>\n",
              "    .dataframe tbody tr th:only-of-type {\n",
              "        vertical-align: middle;\n",
              "    }\n",
              "\n",
              "    .dataframe tbody tr th {\n",
              "        vertical-align: top;\n",
              "    }\n",
              "\n",
              "    .dataframe thead th {\n",
              "        text-align: right;\n",
              "    }\n",
              "</style>\n",
              "<table border=\"1\" class=\"dataframe\">\n",
              "  <thead>\n",
              "    <tr style=\"text-align: right;\">\n",
              "      <th></th>\n",
              "      <th>0.09</th>\n",
              "      <th>0.19</th>\n",
              "      <th>0.29</th>\n",
              "      <th>0.39</th>\n",
              "      <th>0.5</th>\n",
              "      <th>0.61</th>\n",
              "      <th>0.71</th>\n",
              "      <th>0.81</th>\n",
              "      <th>0.91</th>\n",
              "    </tr>\n",
              "  </thead>\n",
              "  <tbody>\n",
              "    <tr>\n",
              "      <th>0</th>\n",
              "      <td>0.0</td>\n",
              "      <td>0.0</td>\n",
              "      <td>0.0</td>\n",
              "      <td>0.0</td>\n",
              "      <td>0.0</td>\n",
              "      <td>-0.0</td>\n",
              "      <td>-0.0</td>\n",
              "      <td>-0.0</td>\n",
              "      <td>0.03</td>\n",
              "    </tr>\n",
              "    <tr>\n",
              "      <th>1</th>\n",
              "      <td>0.0</td>\n",
              "      <td>0.0</td>\n",
              "      <td>0.0</td>\n",
              "      <td>0.0</td>\n",
              "      <td>0.0</td>\n",
              "      <td>-0.0</td>\n",
              "      <td>-0.0</td>\n",
              "      <td>-0.0</td>\n",
              "      <td>0.01</td>\n",
              "    </tr>\n",
              "    <tr>\n",
              "      <th>2</th>\n",
              "      <td>0.0</td>\n",
              "      <td>0.0</td>\n",
              "      <td>0.0</td>\n",
              "      <td>0.0</td>\n",
              "      <td>0.0</td>\n",
              "      <td>-0.0</td>\n",
              "      <td>-0.0</td>\n",
              "      <td>-0.0</td>\n",
              "      <td>0.01</td>\n",
              "    </tr>\n",
              "    <tr>\n",
              "      <th>3</th>\n",
              "      <td>0.0</td>\n",
              "      <td>0.0</td>\n",
              "      <td>0.0</td>\n",
              "      <td>0.0</td>\n",
              "      <td>0.0</td>\n",
              "      <td>-0.0</td>\n",
              "      <td>-0.0</td>\n",
              "      <td>-0.0</td>\n",
              "      <td>0.01</td>\n",
              "    </tr>\n",
              "    <tr>\n",
              "      <th>4</th>\n",
              "      <td>0.0</td>\n",
              "      <td>0.0</td>\n",
              "      <td>0.0</td>\n",
              "      <td>0.0</td>\n",
              "      <td>0.0</td>\n",
              "      <td>-0.0</td>\n",
              "      <td>-0.0</td>\n",
              "      <td>-0.0</td>\n",
              "      <td>0.01</td>\n",
              "    </tr>\n",
              "    <tr>\n",
              "      <th>...</th>\n",
              "      <td>...</td>\n",
              "      <td>...</td>\n",
              "      <td>...</td>\n",
              "      <td>...</td>\n",
              "      <td>...</td>\n",
              "      <td>...</td>\n",
              "      <td>...</td>\n",
              "      <td>...</td>\n",
              "      <td>...</td>\n",
              "    </tr>\n",
              "    <tr>\n",
              "      <th>3883</th>\n",
              "      <td>0.0</td>\n",
              "      <td>0.0</td>\n",
              "      <td>0.0</td>\n",
              "      <td>0.0</td>\n",
              "      <td>0.0</td>\n",
              "      <td>-0.0</td>\n",
              "      <td>-0.0</td>\n",
              "      <td>-0.0</td>\n",
              "      <td>0.01</td>\n",
              "    </tr>\n",
              "    <tr>\n",
              "      <th>3884</th>\n",
              "      <td>0.0</td>\n",
              "      <td>0.0</td>\n",
              "      <td>0.0</td>\n",
              "      <td>0.0</td>\n",
              "      <td>0.0</td>\n",
              "      <td>-0.0</td>\n",
              "      <td>-0.0</td>\n",
              "      <td>-0.0</td>\n",
              "      <td>0.01</td>\n",
              "    </tr>\n",
              "    <tr>\n",
              "      <th>3885</th>\n",
              "      <td>0.0</td>\n",
              "      <td>0.0</td>\n",
              "      <td>0.0</td>\n",
              "      <td>0.0</td>\n",
              "      <td>0.0</td>\n",
              "      <td>-0.0</td>\n",
              "      <td>-0.0</td>\n",
              "      <td>-0.0</td>\n",
              "      <td>0.01</td>\n",
              "    </tr>\n",
              "    <tr>\n",
              "      <th>3886</th>\n",
              "      <td>0.0</td>\n",
              "      <td>0.0</td>\n",
              "      <td>0.0</td>\n",
              "      <td>0.0</td>\n",
              "      <td>0.0</td>\n",
              "      <td>-0.0</td>\n",
              "      <td>-0.0</td>\n",
              "      <td>-0.0</td>\n",
              "      <td>0.01</td>\n",
              "    </tr>\n",
              "    <tr>\n",
              "      <th>3887</th>\n",
              "      <td>0.0</td>\n",
              "      <td>0.0</td>\n",
              "      <td>0.0</td>\n",
              "      <td>0.0</td>\n",
              "      <td>0.0</td>\n",
              "      <td>-0.0</td>\n",
              "      <td>-0.0</td>\n",
              "      <td>-0.0</td>\n",
              "      <td>0.01</td>\n",
              "    </tr>\n",
              "  </tbody>\n",
              "</table>\n",
              "<p>3888 rows × 9 columns</p>\n",
              "</div>"
            ],
            "text/plain": [
              "      0.09  0.19  0.29  0.39  0.5  0.61  0.71  0.81  0.91\n",
              "0      0.0   0.0   0.0   0.0  0.0  -0.0  -0.0  -0.0  0.03\n",
              "1      0.0   0.0   0.0   0.0  0.0  -0.0  -0.0  -0.0  0.01\n",
              "2      0.0   0.0   0.0   0.0  0.0  -0.0  -0.0  -0.0  0.01\n",
              "3      0.0   0.0   0.0   0.0  0.0  -0.0  -0.0  -0.0  0.01\n",
              "4      0.0   0.0   0.0   0.0  0.0  -0.0  -0.0  -0.0  0.01\n",
              "...    ...   ...   ...   ...  ...   ...   ...   ...   ...\n",
              "3883   0.0   0.0   0.0   0.0  0.0  -0.0  -0.0  -0.0  0.01\n",
              "3884   0.0   0.0   0.0   0.0  0.0  -0.0  -0.0  -0.0  0.01\n",
              "3885   0.0   0.0   0.0   0.0  0.0  -0.0  -0.0  -0.0  0.01\n",
              "3886   0.0   0.0   0.0   0.0  0.0  -0.0  -0.0  -0.0  0.01\n",
              "3887   0.0   0.0   0.0   0.0  0.0  -0.0  -0.0  -0.0  0.01\n",
              "\n",
              "[3888 rows x 9 columns]"
            ]
          },
          "metadata": {
            "tags": []
          },
          "execution_count": 44
        }
      ]
    },
    {
      "cell_type": "code",
      "metadata": {
        "id": "dTtySH7BPsDB"
      },
      "source": [
        "result_1.columns = ['0.1', '0.2', '0.3', '0.4', '0.5', '0.6', '0.7', '0.8', '0.9']"
      ],
      "execution_count": null,
      "outputs": []
    },
    {
      "cell_type": "code",
      "metadata": {
        "id": "12wd5I3ePw1M"
      },
      "source": [
        "def to_zero(x):\r\n",
        "  if x < 0:\r\n",
        "    return 0\r\n",
        "  else:\r\n",
        "    return x\r\n",
        "    \r\n",
        "result_1['0.1'] = result_1['0.1'].apply(to_zero)\r\n",
        "result_1['0.2'] = result_1['0.2'].apply(to_zero)\r\n",
        "result_1['0.3'] = result_1['0.3'].apply(to_zero)\r\n",
        "result_1['0.4'] = result_1['0.4'].apply(to_zero)\r\n",
        "result_1['0.5'] = result_1['0.5'].apply(to_zero)\r\n",
        "result_1['0.6'] = result_1['0.6'].apply(to_zero)\r\n",
        "result_1['0.7'] = result_1['0.7'].apply(to_zero)\r\n",
        "result_1['0.8'] = result_1['0.8'].apply(to_zero)\r\n",
        "result_1['0.9'] = result_1['0.9'].apply(to_zero)"
      ],
      "execution_count": null,
      "outputs": []
    },
    {
      "cell_type": "code",
      "metadata": {
        "colab": {
          "base_uri": "https://localhost:8080/",
          "height": 1000
        },
        "id": "uF2rqklLQnnW",
        "outputId": "a51c0fce-b27b-466f-8b38-fdddf38a2c06"
      },
      "source": [
        "!pip install eli5\r\n",
        "import eli5\r\n",
        "from eli5.sklearn import PermutationImportance\r\n",
        "\r\n",
        "perm = PermutationImportance(cb_model,n_iter=5, random_state=17).fit(X_valid_1, Y_valid_1)\r\n",
        "eli5.show_weights(perm, top=100, feature_names = X_valid_1.columns.tolist())"
      ],
      "execution_count": null,
      "outputs": [
        {
          "output_type": "stream",
          "text": [
            "Requirement already satisfied: eli5 in /usr/local/lib/python3.6/dist-packages (0.10.1)\n",
            "Requirement already satisfied: graphviz in /usr/local/lib/python3.6/dist-packages (from eli5) (0.10.1)\n",
            "Requirement already satisfied: numpy>=1.9.0 in /usr/local/lib/python3.6/dist-packages (from eli5) (1.19.4)\n",
            "Requirement already satisfied: jinja2 in /usr/local/lib/python3.6/dist-packages (from eli5) (2.11.2)\n",
            "Requirement already satisfied: tabulate>=0.7.7 in /usr/local/lib/python3.6/dist-packages (from eli5) (0.8.7)\n",
            "Requirement already satisfied: scipy in /usr/local/lib/python3.6/dist-packages (from eli5) (1.4.1)\n",
            "Requirement already satisfied: attrs>16.0.0 in /usr/local/lib/python3.6/dist-packages (from eli5) (20.3.0)\n",
            "Requirement already satisfied: scikit-learn>=0.18 in /usr/local/lib/python3.6/dist-packages (from eli5) (0.22.2.post1)\n",
            "Requirement already satisfied: six in /usr/local/lib/python3.6/dist-packages (from eli5) (1.15.0)\n",
            "Requirement already satisfied: MarkupSafe>=0.23 in /usr/local/lib/python3.6/dist-packages (from jinja2->eli5) (1.1.1)\n",
            "Requirement already satisfied: joblib>=0.11 in /usr/local/lib/python3.6/dist-packages (from scikit-learn>=0.18->eli5) (1.0.0)\n"
          ],
          "name": "stdout"
        },
        {
          "output_type": "execute_result",
          "data": {
            "text/html": [
              "\n",
              "    <style>\n",
              "    table.eli5-weights tr:hover {\n",
              "        filter: brightness(85%);\n",
              "    }\n",
              "</style>\n",
              "\n",
              "\n",
              "\n",
              "    \n",
              "\n",
              "    \n",
              "\n",
              "    \n",
              "\n",
              "    \n",
              "\n",
              "    \n",
              "\n",
              "    \n",
              "\n",
              "\n",
              "    \n",
              "\n",
              "    \n",
              "\n",
              "    \n",
              "\n",
              "    \n",
              "\n",
              "    \n",
              "\n",
              "    \n",
              "\n",
              "\n",
              "    \n",
              "\n",
              "    \n",
              "\n",
              "    \n",
              "\n",
              "    \n",
              "\n",
              "    \n",
              "        <table class=\"eli5-weights eli5-feature-importances\" style=\"border-collapse: collapse; border: none; margin-top: 0em; table-layout: auto;\">\n",
              "    <thead>\n",
              "    <tr style=\"border: none;\">\n",
              "        <th style=\"padding: 0 1em 0 0.5em; text-align: right; border: none;\">Weight</th>\n",
              "        <th style=\"padding: 0 0.5em 0 0.5em; text-align: left; border: none;\">Feature</th>\n",
              "    </tr>\n",
              "    </thead>\n",
              "    <tbody>\n",
              "    \n",
              "        <tr style=\"background-color: hsl(120, 100.00%, 80.00%); border: none;\">\n",
              "            <td style=\"padding: 0 1em 0 0.5em; text-align: right; border: none;\">\n",
              "                0.0422\n",
              "                \n",
              "                    &plusmn; 0.0020\n",
              "                \n",
              "            </td>\n",
              "            <td style=\"padding: 0 0.5em 0 0.5em; text-align: left; border: none;\">\n",
              "                TARGET_day6\n",
              "            </td>\n",
              "        </tr>\n",
              "    \n",
              "        <tr style=\"background-color: hsl(120, 100.00%, 85.96%); border: none;\">\n",
              "            <td style=\"padding: 0 1em 0 0.5em; text-align: right; border: none;\">\n",
              "                0.0255\n",
              "                \n",
              "                    &plusmn; 0.0007\n",
              "                \n",
              "            </td>\n",
              "            <td style=\"padding: 0 0.5em 0 0.5em; text-align: left; border: none;\">\n",
              "                Sun_DNI_hour_day6\n",
              "            </td>\n",
              "        </tr>\n",
              "    \n",
              "        <tr style=\"background-color: hsl(120, 100.00%, 88.87%); border: none;\">\n",
              "            <td style=\"padding: 0 1em 0 0.5em; text-align: right; border: none;\">\n",
              "                0.0183\n",
              "                \n",
              "                    &plusmn; 0.0012\n",
              "                \n",
              "            </td>\n",
              "            <td style=\"padding: 0 0.5em 0 0.5em; text-align: left; border: none;\">\n",
              "                Sun_DHI_day1\n",
              "            </td>\n",
              "        </tr>\n",
              "    \n",
              "        <tr style=\"background-color: hsl(120, 100.00%, 88.87%); border: none;\">\n",
              "            <td style=\"padding: 0 1em 0 0.5em; text-align: right; border: none;\">\n",
              "                0.0183\n",
              "                \n",
              "                    &plusmn; 0.0012\n",
              "                \n",
              "            </td>\n",
              "            <td style=\"padding: 0 0.5em 0 0.5em; text-align: left; border: none;\">\n",
              "                DHI_day6\n",
              "            </td>\n",
              "        </tr>\n",
              "    \n",
              "        <tr style=\"background-color: hsl(120, 100.00%, 89.32%); border: none;\">\n",
              "            <td style=\"padding: 0 1em 0 0.5em; text-align: right; border: none;\">\n",
              "                0.0172\n",
              "                \n",
              "                    &plusmn; 0.0011\n",
              "                \n",
              "            </td>\n",
              "            <td style=\"padding: 0 0.5em 0 0.5em; text-align: left; border: none;\">\n",
              "                Sun_DHI_DNI_plus_day5\n",
              "            </td>\n",
              "        </tr>\n",
              "    \n",
              "        <tr style=\"background-color: hsl(120, 100.00%, 89.61%); border: none;\">\n",
              "            <td style=\"padding: 0 1em 0 0.5em; text-align: right; border: none;\">\n",
              "                0.0166\n",
              "                \n",
              "                    &plusmn; 0.0012\n",
              "                \n",
              "            </td>\n",
              "            <td style=\"padding: 0 0.5em 0 0.5em; text-align: left; border: none;\">\n",
              "                Sun_TARGET_per_day5\n",
              "            </td>\n",
              "        </tr>\n",
              "    \n",
              "        <tr style=\"background-color: hsl(120, 100.00%, 89.61%); border: none;\">\n",
              "            <td style=\"padding: 0 1em 0 0.5em; text-align: right; border: none;\">\n",
              "                0.0166\n",
              "                \n",
              "                    &plusmn; 0.0014\n",
              "                \n",
              "            </td>\n",
              "            <td style=\"padding: 0 0.5em 0 0.5em; text-align: left; border: none;\">\n",
              "                DHI_day1\n",
              "            </td>\n",
              "        </tr>\n",
              "    \n",
              "        <tr style=\"background-color: hsl(120, 100.00%, 89.98%); border: none;\">\n",
              "            <td style=\"padding: 0 1em 0 0.5em; text-align: right; border: none;\">\n",
              "                0.0157\n",
              "                \n",
              "                    &plusmn; 0.0013\n",
              "                \n",
              "            </td>\n",
              "            <td style=\"padding: 0 0.5em 0 0.5em; text-align: left; border: none;\">\n",
              "                DHI_DNI_day6\n",
              "            </td>\n",
              "        </tr>\n",
              "    \n",
              "        <tr style=\"background-color: hsl(120, 100.00%, 90.87%); border: none;\">\n",
              "            <td style=\"padding: 0 1em 0 0.5em; text-align: right; border: none;\">\n",
              "                0.0138\n",
              "                \n",
              "                    &plusmn; 0.0010\n",
              "                \n",
              "            </td>\n",
              "            <td style=\"padding: 0 0.5em 0 0.5em; text-align: left; border: none;\">\n",
              "                RH_day3\n",
              "            </td>\n",
              "        </tr>\n",
              "    \n",
              "        <tr style=\"background-color: hsl(120, 100.00%, 91.09%); border: none;\">\n",
              "            <td style=\"padding: 0 1em 0 0.5em; text-align: right; border: none;\">\n",
              "                0.0133\n",
              "                \n",
              "                    &plusmn; 0.0005\n",
              "                \n",
              "            </td>\n",
              "            <td style=\"padding: 0 0.5em 0 0.5em; text-align: left; border: none;\">\n",
              "                DHI_day4\n",
              "            </td>\n",
              "        </tr>\n",
              "    \n",
              "        <tr style=\"background-color: hsl(120, 100.00%, 91.35%); border: none;\">\n",
              "            <td style=\"padding: 0 1em 0 0.5em; text-align: right; border: none;\">\n",
              "                0.0128\n",
              "                \n",
              "                    &plusmn; 0.0008\n",
              "                \n",
              "            </td>\n",
              "            <td style=\"padding: 0 0.5em 0 0.5em; text-align: left; border: none;\">\n",
              "                DHI_day3\n",
              "            </td>\n",
              "        </tr>\n",
              "    \n",
              "        <tr style=\"background-color: hsl(120, 100.00%, 91.78%); border: none;\">\n",
              "            <td style=\"padding: 0 1em 0 0.5em; text-align: right; border: none;\">\n",
              "                0.0119\n",
              "                \n",
              "                    &plusmn; 0.0008\n",
              "                \n",
              "            </td>\n",
              "            <td style=\"padding: 0 0.5em 0 0.5em; text-align: left; border: none;\">\n",
              "                Sun_DHI_DNI_plus_day3\n",
              "            </td>\n",
              "        </tr>\n",
              "    \n",
              "        <tr style=\"background-color: hsl(120, 100.00%, 91.83%); border: none;\">\n",
              "            <td style=\"padding: 0 1em 0 0.5em; text-align: right; border: none;\">\n",
              "                0.0118\n",
              "                \n",
              "                    &plusmn; 0.0012\n",
              "                \n",
              "            </td>\n",
              "            <td style=\"padding: 0 0.5em 0 0.5em; text-align: left; border: none;\">\n",
              "                T_day0\n",
              "            </td>\n",
              "        </tr>\n",
              "    \n",
              "        <tr style=\"background-color: hsl(120, 100.00%, 91.97%); border: none;\">\n",
              "            <td style=\"padding: 0 1em 0 0.5em; text-align: right; border: none;\">\n",
              "                0.0115\n",
              "                \n",
              "                    &plusmn; 0.0006\n",
              "                \n",
              "            </td>\n",
              "            <td style=\"padding: 0 0.5em 0 0.5em; text-align: left; border: none;\">\n",
              "                Sun_DHI_DNI_plus_hour_day1\n",
              "            </td>\n",
              "        </tr>\n",
              "    \n",
              "        <tr style=\"background-color: hsl(120, 100.00%, 92.09%); border: none;\">\n",
              "            <td style=\"padding: 0 1em 0 0.5em; text-align: right; border: none;\">\n",
              "                0.0112\n",
              "                \n",
              "                    &plusmn; 0.0006\n",
              "                \n",
              "            </td>\n",
              "            <td style=\"padding: 0 0.5em 0 0.5em; text-align: left; border: none;\">\n",
              "                DHI_day0\n",
              "            </td>\n",
              "        </tr>\n",
              "    \n",
              "        <tr style=\"background-color: hsl(120, 100.00%, 92.53%); border: none;\">\n",
              "            <td style=\"padding: 0 1em 0 0.5em; text-align: right; border: none;\">\n",
              "                0.0103\n",
              "                \n",
              "                    &plusmn; 0.0006\n",
              "                \n",
              "            </td>\n",
              "            <td style=\"padding: 0 0.5em 0 0.5em; text-align: left; border: none;\">\n",
              "                Sun_DNI_hour_day1\n",
              "            </td>\n",
              "        </tr>\n",
              "    \n",
              "        <tr style=\"background-color: hsl(120, 100.00%, 92.96%); border: none;\">\n",
              "            <td style=\"padding: 0 1em 0 0.5em; text-align: right; border: none;\">\n",
              "                0.0095\n",
              "                \n",
              "                    &plusmn; 0.0006\n",
              "                \n",
              "            </td>\n",
              "            <td style=\"padding: 0 0.5em 0 0.5em; text-align: left; border: none;\">\n",
              "                RH_day0\n",
              "            </td>\n",
              "        </tr>\n",
              "    \n",
              "        <tr style=\"background-color: hsl(120, 100.00%, 93.33%); border: none;\">\n",
              "            <td style=\"padding: 0 1em 0 0.5em; text-align: right; border: none;\">\n",
              "                0.0088\n",
              "                \n",
              "                    &plusmn; 0.0008\n",
              "                \n",
              "            </td>\n",
              "            <td style=\"padding: 0 0.5em 0 0.5em; text-align: left; border: none;\">\n",
              "                RH_day2\n",
              "            </td>\n",
              "        </tr>\n",
              "    \n",
              "        <tr style=\"background-color: hsl(120, 100.00%, 93.58%); border: none;\">\n",
              "            <td style=\"padding: 0 1em 0 0.5em; text-align: right; border: none;\">\n",
              "                0.0083\n",
              "                \n",
              "                    &plusmn; 0.0009\n",
              "                \n",
              "            </td>\n",
              "            <td style=\"padding: 0 0.5em 0 0.5em; text-align: left; border: none;\">\n",
              "                Sun_DHI_DNI_plus_hour_day4\n",
              "            </td>\n",
              "        </tr>\n",
              "    \n",
              "        <tr style=\"background-color: hsl(120, 100.00%, 93.79%); border: none;\">\n",
              "            <td style=\"padding: 0 1em 0 0.5em; text-align: right; border: none;\">\n",
              "                0.0079\n",
              "                \n",
              "                    &plusmn; 0.0002\n",
              "                \n",
              "            </td>\n",
              "            <td style=\"padding: 0 0.5em 0 0.5em; text-align: left; border: none;\">\n",
              "                Sun_DHI_DNI_per_day0\n",
              "            </td>\n",
              "        </tr>\n",
              "    \n",
              "        <tr style=\"background-color: hsl(120, 100.00%, 94.04%); border: none;\">\n",
              "            <td style=\"padding: 0 1em 0 0.5em; text-align: right; border: none;\">\n",
              "                0.0075\n",
              "                \n",
              "                    &plusmn; 0.0005\n",
              "                \n",
              "            </td>\n",
              "            <td style=\"padding: 0 0.5em 0 0.5em; text-align: left; border: none;\">\n",
              "                RH_day1\n",
              "            </td>\n",
              "        </tr>\n",
              "    \n",
              "        <tr style=\"background-color: hsl(120, 100.00%, 94.11%); border: none;\">\n",
              "            <td style=\"padding: 0 1em 0 0.5em; text-align: right; border: none;\">\n",
              "                0.0074\n",
              "                \n",
              "                    &plusmn; 0.0006\n",
              "                \n",
              "            </td>\n",
              "            <td style=\"padding: 0 0.5em 0 0.5em; text-align: left; border: none;\">\n",
              "                WS_day6\n",
              "            </td>\n",
              "        </tr>\n",
              "    \n",
              "        <tr style=\"background-color: hsl(120, 100.00%, 94.32%); border: none;\">\n",
              "            <td style=\"padding: 0 1em 0 0.5em; text-align: right; border: none;\">\n",
              "                0.0070\n",
              "                \n",
              "                    &plusmn; 0.0009\n",
              "                \n",
              "            </td>\n",
              "            <td style=\"padding: 0 0.5em 0 0.5em; text-align: left; border: none;\">\n",
              "                Sun_DHI_DNI_day4\n",
              "            </td>\n",
              "        </tr>\n",
              "    \n",
              "        <tr style=\"background-color: hsl(120, 100.00%, 94.58%); border: none;\">\n",
              "            <td style=\"padding: 0 1em 0 0.5em; text-align: right; border: none;\">\n",
              "                0.0065\n",
              "                \n",
              "                    &plusmn; 0.0005\n",
              "                \n",
              "            </td>\n",
              "            <td style=\"padding: 0 0.5em 0 0.5em; text-align: left; border: none;\">\n",
              "                DHI_day5\n",
              "            </td>\n",
              "        </tr>\n",
              "    \n",
              "        <tr style=\"background-color: hsl(120, 100.00%, 94.64%); border: none;\">\n",
              "            <td style=\"padding: 0 1em 0 0.5em; text-align: right; border: none;\">\n",
              "                0.0064\n",
              "                \n",
              "                    &plusmn; 0.0008\n",
              "                \n",
              "            </td>\n",
              "            <td style=\"padding: 0 0.5em 0 0.5em; text-align: left; border: none;\">\n",
              "                Sun_DHI_DNI_plus_hour_day5\n",
              "            </td>\n",
              "        </tr>\n",
              "    \n",
              "        <tr style=\"background-color: hsl(120, 100.00%, 94.66%); border: none;\">\n",
              "            <td style=\"padding: 0 1em 0 0.5em; text-align: right; border: none;\">\n",
              "                0.0064\n",
              "                \n",
              "                    &plusmn; 0.0017\n",
              "                \n",
              "            </td>\n",
              "            <td style=\"padding: 0 0.5em 0 0.5em; text-align: left; border: none;\">\n",
              "                WS_day4\n",
              "            </td>\n",
              "        </tr>\n",
              "    \n",
              "        <tr style=\"background-color: hsl(120, 100.00%, 94.82%); border: none;\">\n",
              "            <td style=\"padding: 0 1em 0 0.5em; text-align: right; border: none;\">\n",
              "                0.0061\n",
              "                \n",
              "                    &plusmn; 0.0007\n",
              "                \n",
              "            </td>\n",
              "            <td style=\"padding: 0 0.5em 0 0.5em; text-align: left; border: none;\">\n",
              "                Sun_DNI_hour_day3\n",
              "            </td>\n",
              "        </tr>\n",
              "    \n",
              "        <tr style=\"background-color: hsl(120, 100.00%, 94.84%); border: none;\">\n",
              "            <td style=\"padding: 0 1em 0 0.5em; text-align: right; border: none;\">\n",
              "                0.0061\n",
              "                \n",
              "                    &plusmn; 0.0005\n",
              "                \n",
              "            </td>\n",
              "            <td style=\"padding: 0 0.5em 0 0.5em; text-align: left; border: none;\">\n",
              "                Sun_TARGET_per_day6\n",
              "            </td>\n",
              "        </tr>\n",
              "    \n",
              "        <tr style=\"background-color: hsl(120, 100.00%, 94.87%); border: none;\">\n",
              "            <td style=\"padding: 0 1em 0 0.5em; text-align: right; border: none;\">\n",
              "                0.0060\n",
              "                \n",
              "                    &plusmn; 0.0008\n",
              "                \n",
              "            </td>\n",
              "            <td style=\"padding: 0 0.5em 0 0.5em; text-align: left; border: none;\">\n",
              "                WS_day0\n",
              "            </td>\n",
              "        </tr>\n",
              "    \n",
              "        <tr style=\"background-color: hsl(120, 100.00%, 94.88%); border: none;\">\n",
              "            <td style=\"padding: 0 1em 0 0.5em; text-align: right; border: none;\">\n",
              "                0.0060\n",
              "                \n",
              "                    &plusmn; 0.0010\n",
              "                \n",
              "            </td>\n",
              "            <td style=\"padding: 0 0.5em 0 0.5em; text-align: left; border: none;\">\n",
              "                Sun_DHI_DNI_plus_hour_day6\n",
              "            </td>\n",
              "        </tr>\n",
              "    \n",
              "        <tr style=\"background-color: hsl(120, 100.00%, 94.96%); border: none;\">\n",
              "            <td style=\"padding: 0 1em 0 0.5em; text-align: right; border: none;\">\n",
              "                0.0059\n",
              "                \n",
              "                    &plusmn; 0.0008\n",
              "                \n",
              "            </td>\n",
              "            <td style=\"padding: 0 0.5em 0 0.5em; text-align: left; border: none;\">\n",
              "                TARGET_day5\n",
              "            </td>\n",
              "        </tr>\n",
              "    \n",
              "        <tr style=\"background-color: hsl(120, 100.00%, 95.00%); border: none;\">\n",
              "            <td style=\"padding: 0 1em 0 0.5em; text-align: right; border: none;\">\n",
              "                0.0058\n",
              "                \n",
              "                    &plusmn; 0.0008\n",
              "                \n",
              "            </td>\n",
              "            <td style=\"padding: 0 0.5em 0 0.5em; text-align: left; border: none;\">\n",
              "                WS_day5\n",
              "            </td>\n",
              "        </tr>\n",
              "    \n",
              "        <tr style=\"background-color: hsl(120, 100.00%, 95.00%); border: none;\">\n",
              "            <td style=\"padding: 0 1em 0 0.5em; text-align: right; border: none;\">\n",
              "                0.0058\n",
              "                \n",
              "                    &plusmn; 0.0005\n",
              "                \n",
              "            </td>\n",
              "            <td style=\"padding: 0 0.5em 0 0.5em; text-align: left; border: none;\">\n",
              "                RH_day6\n",
              "            </td>\n",
              "        </tr>\n",
              "    \n",
              "        <tr style=\"background-color: hsl(120, 100.00%, 95.03%); border: none;\">\n",
              "            <td style=\"padding: 0 1em 0 0.5em; text-align: right; border: none;\">\n",
              "                0.0058\n",
              "                \n",
              "                    &plusmn; 0.0005\n",
              "                \n",
              "            </td>\n",
              "            <td style=\"padding: 0 0.5em 0 0.5em; text-align: left; border: none;\">\n",
              "                Sun_DHI_DNI_plus_accumulate_day6\n",
              "            </td>\n",
              "        </tr>\n",
              "    \n",
              "        <tr style=\"background-color: hsl(120, 100.00%, 95.32%); border: none;\">\n",
              "            <td style=\"padding: 0 1em 0 0.5em; text-align: right; border: none;\">\n",
              "                0.0053\n",
              "                \n",
              "                    &plusmn; 0.0005\n",
              "                \n",
              "            </td>\n",
              "            <td style=\"padding: 0 0.5em 0 0.5em; text-align: left; border: none;\">\n",
              "                TARGET_day1\n",
              "            </td>\n",
              "        </tr>\n",
              "    \n",
              "        <tr style=\"background-color: hsl(120, 100.00%, 95.42%); border: none;\">\n",
              "            <td style=\"padding: 0 1em 0 0.5em; text-align: right; border: none;\">\n",
              "                0.0051\n",
              "                \n",
              "                    &plusmn; 0.0008\n",
              "                \n",
              "            </td>\n",
              "            <td style=\"padding: 0 0.5em 0 0.5em; text-align: left; border: none;\">\n",
              "                Sun_DNI_hour_day5\n",
              "            </td>\n",
              "        </tr>\n",
              "    \n",
              "        <tr style=\"background-color: hsl(120, 100.00%, 95.43%); border: none;\">\n",
              "            <td style=\"padding: 0 1em 0 0.5em; text-align: right; border: none;\">\n",
              "                0.0051\n",
              "                \n",
              "                    &plusmn; 0.0007\n",
              "                \n",
              "            </td>\n",
              "            <td style=\"padding: 0 0.5em 0 0.5em; text-align: left; border: none;\">\n",
              "                RH_day4\n",
              "            </td>\n",
              "        </tr>\n",
              "    \n",
              "        <tr style=\"background-color: hsl(120, 100.00%, 95.49%); border: none;\">\n",
              "            <td style=\"padding: 0 1em 0 0.5em; text-align: right; border: none;\">\n",
              "                0.0050\n",
              "                \n",
              "                    &plusmn; 0.0006\n",
              "                \n",
              "            </td>\n",
              "            <td style=\"padding: 0 0.5em 0 0.5em; text-align: left; border: none;\">\n",
              "                WS_day2\n",
              "            </td>\n",
              "        </tr>\n",
              "    \n",
              "        <tr style=\"background-color: hsl(120, 100.00%, 95.70%); border: none;\">\n",
              "            <td style=\"padding: 0 1em 0 0.5em; text-align: right; border: none;\">\n",
              "                0.0047\n",
              "                \n",
              "                    &plusmn; 0.0005\n",
              "                \n",
              "            </td>\n",
              "            <td style=\"padding: 0 0.5em 0 0.5em; text-align: left; border: none;\">\n",
              "                Sun_DHI_per_day4\n",
              "            </td>\n",
              "        </tr>\n",
              "    \n",
              "        <tr style=\"background-color: hsl(120, 100.00%, 95.71%); border: none;\">\n",
              "            <td style=\"padding: 0 1em 0 0.5em; text-align: right; border: none;\">\n",
              "                0.0047\n",
              "                \n",
              "                    &plusmn; 0.0006\n",
              "                \n",
              "            </td>\n",
              "            <td style=\"padding: 0 0.5em 0 0.5em; text-align: left; border: none;\">\n",
              "                TARGET_day0\n",
              "            </td>\n",
              "        </tr>\n",
              "    \n",
              "        <tr style=\"background-color: hsl(120, 100.00%, 95.71%); border: none;\">\n",
              "            <td style=\"padding: 0 1em 0 0.5em; text-align: right; border: none;\">\n",
              "                0.0047\n",
              "                \n",
              "                    &plusmn; 0.0007\n",
              "                \n",
              "            </td>\n",
              "            <td style=\"padding: 0 0.5em 0 0.5em; text-align: left; border: none;\">\n",
              "                WS_day3\n",
              "            </td>\n",
              "        </tr>\n",
              "    \n",
              "        <tr style=\"background-color: hsl(120, 100.00%, 95.76%); border: none;\">\n",
              "            <td style=\"padding: 0 1em 0 0.5em; text-align: right; border: none;\">\n",
              "                0.0046\n",
              "                \n",
              "                    &plusmn; 0.0007\n",
              "                \n",
              "            </td>\n",
              "            <td style=\"padding: 0 0.5em 0 0.5em; text-align: left; border: none;\">\n",
              "                Sun_DNI_accumulate_day6\n",
              "            </td>\n",
              "        </tr>\n",
              "    \n",
              "        <tr style=\"background-color: hsl(120, 100.00%, 95.80%); border: none;\">\n",
              "            <td style=\"padding: 0 1em 0 0.5em; text-align: right; border: none;\">\n",
              "                0.0045\n",
              "                \n",
              "                    &plusmn; 0.0007\n",
              "                \n",
              "            </td>\n",
              "            <td style=\"padding: 0 0.5em 0 0.5em; text-align: left; border: none;\">\n",
              "                Sun_DNI_hour_day0\n",
              "            </td>\n",
              "        </tr>\n",
              "    \n",
              "        <tr style=\"background-color: hsl(120, 100.00%, 95.81%); border: none;\">\n",
              "            <td style=\"padding: 0 1em 0 0.5em; text-align: right; border: none;\">\n",
              "                0.0045\n",
              "                \n",
              "                    &plusmn; 0.0003\n",
              "                \n",
              "            </td>\n",
              "            <td style=\"padding: 0 0.5em 0 0.5em; text-align: left; border: none;\">\n",
              "                Sun_DHI_DNI_per_day1\n",
              "            </td>\n",
              "        </tr>\n",
              "    \n",
              "        <tr style=\"background-color: hsl(120, 100.00%, 95.89%); border: none;\">\n",
              "            <td style=\"padding: 0 1em 0 0.5em; text-align: right; border: none;\">\n",
              "                0.0044\n",
              "                \n",
              "                    &plusmn; 0.0004\n",
              "                \n",
              "            </td>\n",
              "            <td style=\"padding: 0 0.5em 0 0.5em; text-align: left; border: none;\">\n",
              "                Sun_DHI_DNI_plus_accumulate_day0\n",
              "            </td>\n",
              "        </tr>\n",
              "    \n",
              "        <tr style=\"background-color: hsl(120, 100.00%, 95.92%); border: none;\">\n",
              "            <td style=\"padding: 0 1em 0 0.5em; text-align: right; border: none;\">\n",
              "                0.0044\n",
              "                \n",
              "                    &plusmn; 0.0009\n",
              "                \n",
              "            </td>\n",
              "            <td style=\"padding: 0 0.5em 0 0.5em; text-align: left; border: none;\">\n",
              "                DNI_day6\n",
              "            </td>\n",
              "        </tr>\n",
              "    \n",
              "        <tr style=\"background-color: hsl(120, 100.00%, 95.98%); border: none;\">\n",
              "            <td style=\"padding: 0 1em 0 0.5em; text-align: right; border: none;\">\n",
              "                0.0043\n",
              "                \n",
              "                    &plusmn; 0.0003\n",
              "                \n",
              "            </td>\n",
              "            <td style=\"padding: 0 0.5em 0 0.5em; text-align: left; border: none;\">\n",
              "                Sun_TARGET_day0\n",
              "            </td>\n",
              "        </tr>\n",
              "    \n",
              "        <tr style=\"background-color: hsl(120, 100.00%, 95.99%); border: none;\">\n",
              "            <td style=\"padding: 0 1em 0 0.5em; text-align: right; border: none;\">\n",
              "                0.0043\n",
              "                \n",
              "                    &plusmn; 0.0006\n",
              "                \n",
              "            </td>\n",
              "            <td style=\"padding: 0 0.5em 0 0.5em; text-align: left; border: none;\">\n",
              "                RH_day5\n",
              "            </td>\n",
              "        </tr>\n",
              "    \n",
              "        <tr style=\"background-color: hsl(120, 100.00%, 96.15%); border: none;\">\n",
              "            <td style=\"padding: 0 1em 0 0.5em; text-align: right; border: none;\">\n",
              "                0.0040\n",
              "                \n",
              "                    &plusmn; 0.0003\n",
              "                \n",
              "            </td>\n",
              "            <td style=\"padding: 0 0.5em 0 0.5em; text-align: left; border: none;\">\n",
              "                T_day3\n",
              "            </td>\n",
              "        </tr>\n",
              "    \n",
              "        <tr style=\"background-color: hsl(120, 100.00%, 96.19%); border: none;\">\n",
              "            <td style=\"padding: 0 1em 0 0.5em; text-align: right; border: none;\">\n",
              "                0.0040\n",
              "                \n",
              "                    &plusmn; 0.0002\n",
              "                \n",
              "            </td>\n",
              "            <td style=\"padding: 0 0.5em 0 0.5em; text-align: left; border: none;\">\n",
              "                Sun_DHI_DNI_plus_hour_day3\n",
              "            </td>\n",
              "        </tr>\n",
              "    \n",
              "        <tr style=\"background-color: hsl(120, 100.00%, 96.40%); border: none;\">\n",
              "            <td style=\"padding: 0 1em 0 0.5em; text-align: right; border: none;\">\n",
              "                0.0037\n",
              "                \n",
              "                    &plusmn; 0.0006\n",
              "                \n",
              "            </td>\n",
              "            <td style=\"padding: 0 0.5em 0 0.5em; text-align: left; border: none;\">\n",
              "                Sun_DNI_hour_day4\n",
              "            </td>\n",
              "        </tr>\n",
              "    \n",
              "        <tr style=\"background-color: hsl(120, 100.00%, 96.45%); border: none;\">\n",
              "            <td style=\"padding: 0 1em 0 0.5em; text-align: right; border: none;\">\n",
              "                0.0036\n",
              "                \n",
              "                    &plusmn; 0.0003\n",
              "                \n",
              "            </td>\n",
              "            <td style=\"padding: 0 0.5em 0 0.5em; text-align: left; border: none;\">\n",
              "                DHI_DNI_day0\n",
              "            </td>\n",
              "        </tr>\n",
              "    \n",
              "        <tr style=\"background-color: hsl(120, 100.00%, 96.46%); border: none;\">\n",
              "            <td style=\"padding: 0 1em 0 0.5em; text-align: right; border: none;\">\n",
              "                0.0036\n",
              "                \n",
              "                    &plusmn; 0.0002\n",
              "                \n",
              "            </td>\n",
              "            <td style=\"padding: 0 0.5em 0 0.5em; text-align: left; border: none;\">\n",
              "                Sun_DHI_DNI_plus_per_day0\n",
              "            </td>\n",
              "        </tr>\n",
              "    \n",
              "        <tr style=\"background-color: hsl(120, 100.00%, 96.47%); border: none;\">\n",
              "            <td style=\"padding: 0 1em 0 0.5em; text-align: right; border: none;\">\n",
              "                0.0035\n",
              "                \n",
              "                    &plusmn; 0.0002\n",
              "                \n",
              "            </td>\n",
              "            <td style=\"padding: 0 0.5em 0 0.5em; text-align: left; border: none;\">\n",
              "                Sun_TARGET_accumulate_day6\n",
              "            </td>\n",
              "        </tr>\n",
              "    \n",
              "        <tr style=\"background-color: hsl(120, 100.00%, 96.49%); border: none;\">\n",
              "            <td style=\"padding: 0 1em 0 0.5em; text-align: right; border: none;\">\n",
              "                0.0035\n",
              "                \n",
              "                    &plusmn; 0.0004\n",
              "                \n",
              "            </td>\n",
              "            <td style=\"padding: 0 0.5em 0 0.5em; text-align: left; border: none;\">\n",
              "                Sun_DHI_DNI_hour_day0\n",
              "            </td>\n",
              "        </tr>\n",
              "    \n",
              "        <tr style=\"background-color: hsl(120, 100.00%, 96.49%); border: none;\">\n",
              "            <td style=\"padding: 0 1em 0 0.5em; text-align: right; border: none;\">\n",
              "                0.0035\n",
              "                \n",
              "                    &plusmn; 0.0003\n",
              "                \n",
              "            </td>\n",
              "            <td style=\"padding: 0 0.5em 0 0.5em; text-align: left; border: none;\">\n",
              "                WS_day1\n",
              "            </td>\n",
              "        </tr>\n",
              "    \n",
              "        <tr style=\"background-color: hsl(120, 100.00%, 96.64%); border: none;\">\n",
              "            <td style=\"padding: 0 1em 0 0.5em; text-align: right; border: none;\">\n",
              "                0.0033\n",
              "                \n",
              "                    &plusmn; 0.0005\n",
              "                \n",
              "            </td>\n",
              "            <td style=\"padding: 0 0.5em 0 0.5em; text-align: left; border: none;\">\n",
              "                Sun_TARGET_hour_day0\n",
              "            </td>\n",
              "        </tr>\n",
              "    \n",
              "        <tr style=\"background-color: hsl(120, 100.00%, 96.66%); border: none;\">\n",
              "            <td style=\"padding: 0 1em 0 0.5em; text-align: right; border: none;\">\n",
              "                0.0033\n",
              "                \n",
              "                    &plusmn; 0.0007\n",
              "                \n",
              "            </td>\n",
              "            <td style=\"padding: 0 0.5em 0 0.5em; text-align: left; border: none;\">\n",
              "                DHI_day2\n",
              "            </td>\n",
              "        </tr>\n",
              "    \n",
              "        <tr style=\"background-color: hsl(120, 100.00%, 96.68%); border: none;\">\n",
              "            <td style=\"padding: 0 1em 0 0.5em; text-align: right; border: none;\">\n",
              "                0.0032\n",
              "                \n",
              "                    &plusmn; 0.0002\n",
              "                \n",
              "            </td>\n",
              "            <td style=\"padding: 0 0.5em 0 0.5em; text-align: left; border: none;\">\n",
              "                Sun_DHI_DNI_plus_hour_day2\n",
              "            </td>\n",
              "        </tr>\n",
              "    \n",
              "        <tr style=\"background-color: hsl(120, 100.00%, 96.78%); border: none;\">\n",
              "            <td style=\"padding: 0 1em 0 0.5em; text-align: right; border: none;\">\n",
              "                0.0031\n",
              "                \n",
              "                    &plusmn; 0.0010\n",
              "                \n",
              "            </td>\n",
              "            <td style=\"padding: 0 0.5em 0 0.5em; text-align: left; border: none;\">\n",
              "                T_day6\n",
              "            </td>\n",
              "        </tr>\n",
              "    \n",
              "        <tr style=\"background-color: hsl(120, 100.00%, 96.79%); border: none;\">\n",
              "            <td style=\"padding: 0 1em 0 0.5em; text-align: right; border: none;\">\n",
              "                0.0031\n",
              "                \n",
              "                    &plusmn; 0.0002\n",
              "                \n",
              "            </td>\n",
              "            <td style=\"padding: 0 0.5em 0 0.5em; text-align: left; border: none;\">\n",
              "                T_day2\n",
              "            </td>\n",
              "        </tr>\n",
              "    \n",
              "        <tr style=\"background-color: hsl(120, 100.00%, 96.89%); border: none;\">\n",
              "            <td style=\"padding: 0 1em 0 0.5em; text-align: right; border: none;\">\n",
              "                0.0030\n",
              "                \n",
              "                    &plusmn; 0.0004\n",
              "                \n",
              "            </td>\n",
              "            <td style=\"padding: 0 0.5em 0 0.5em; text-align: left; border: none;\">\n",
              "                T_day4\n",
              "            </td>\n",
              "        </tr>\n",
              "    \n",
              "        <tr style=\"background-color: hsl(120, 100.00%, 96.92%); border: none;\">\n",
              "            <td style=\"padding: 0 1em 0 0.5em; text-align: right; border: none;\">\n",
              "                0.0029\n",
              "                \n",
              "                    &plusmn; 0.0006\n",
              "                \n",
              "            </td>\n",
              "            <td style=\"padding: 0 0.5em 0 0.5em; text-align: left; border: none;\">\n",
              "                Sun_DHI_DNI_accumulate_day4\n",
              "            </td>\n",
              "        </tr>\n",
              "    \n",
              "        <tr style=\"background-color: hsl(120, 100.00%, 96.93%); border: none;\">\n",
              "            <td style=\"padding: 0 1em 0 0.5em; text-align: right; border: none;\">\n",
              "                0.0029\n",
              "                \n",
              "                    &plusmn; 0.0006\n",
              "                \n",
              "            </td>\n",
              "            <td style=\"padding: 0 0.5em 0 0.5em; text-align: left; border: none;\">\n",
              "                Sun_DHI_DNI_hour_day5\n",
              "            </td>\n",
              "        </tr>\n",
              "    \n",
              "        <tr style=\"background-color: hsl(120, 100.00%, 96.98%); border: none;\">\n",
              "            <td style=\"padding: 0 1em 0 0.5em; text-align: right; border: none;\">\n",
              "                0.0028\n",
              "                \n",
              "                    &plusmn; 0.0003\n",
              "                \n",
              "            </td>\n",
              "            <td style=\"padding: 0 0.5em 0 0.5em; text-align: left; border: none;\">\n",
              "                Sun_DNI_per_day5\n",
              "            </td>\n",
              "        </tr>\n",
              "    \n",
              "        <tr style=\"background-color: hsl(120, 100.00%, 97.04%); border: none;\">\n",
              "            <td style=\"padding: 0 1em 0 0.5em; text-align: right; border: none;\">\n",
              "                0.0028\n",
              "                \n",
              "                    &plusmn; 0.0005\n",
              "                \n",
              "            </td>\n",
              "            <td style=\"padding: 0 0.5em 0 0.5em; text-align: left; border: none;\">\n",
              "                Sun_DNI_per_day2\n",
              "            </td>\n",
              "        </tr>\n",
              "    \n",
              "        <tr style=\"background-color: hsl(120, 100.00%, 97.08%); border: none;\">\n",
              "            <td style=\"padding: 0 1em 0 0.5em; text-align: right; border: none;\">\n",
              "                0.0027\n",
              "                \n",
              "                    &plusmn; 0.0001\n",
              "                \n",
              "            </td>\n",
              "            <td style=\"padding: 0 0.5em 0 0.5em; text-align: left; border: none;\">\n",
              "                TARGET_day4\n",
              "            </td>\n",
              "        </tr>\n",
              "    \n",
              "        <tr style=\"background-color: hsl(120, 100.00%, 97.16%); border: none;\">\n",
              "            <td style=\"padding: 0 1em 0 0.5em; text-align: right; border: none;\">\n",
              "                0.0026\n",
              "                \n",
              "                    &plusmn; 0.0005\n",
              "                \n",
              "            </td>\n",
              "            <td style=\"padding: 0 0.5em 0 0.5em; text-align: left; border: none;\">\n",
              "                Sun_DHI_DNI_plus_hour_day0\n",
              "            </td>\n",
              "        </tr>\n",
              "    \n",
              "        <tr style=\"background-color: hsl(120, 100.00%, 97.30%); border: none;\">\n",
              "            <td style=\"padding: 0 1em 0 0.5em; text-align: right; border: none;\">\n",
              "                0.0024\n",
              "                \n",
              "                    &plusmn; 0.0002\n",
              "                \n",
              "            </td>\n",
              "            <td style=\"padding: 0 0.5em 0 0.5em; text-align: left; border: none;\">\n",
              "                Sun_DHI_accumulate_day0\n",
              "            </td>\n",
              "        </tr>\n",
              "    \n",
              "        <tr style=\"background-color: hsl(120, 100.00%, 97.34%); border: none;\">\n",
              "            <td style=\"padding: 0 1em 0 0.5em; text-align: right; border: none;\">\n",
              "                0.0024\n",
              "                \n",
              "                    &plusmn; 0.0002\n",
              "                \n",
              "            </td>\n",
              "            <td style=\"padding: 0 0.5em 0 0.5em; text-align: left; border: none;\">\n",
              "                Sun_TARGET_per_day0\n",
              "            </td>\n",
              "        </tr>\n",
              "    \n",
              "        <tr style=\"background-color: hsl(120, 100.00%, 97.37%); border: none;\">\n",
              "            <td style=\"padding: 0 1em 0 0.5em; text-align: right; border: none;\">\n",
              "                0.0023\n",
              "                \n",
              "                    &plusmn; 0.0002\n",
              "                \n",
              "            </td>\n",
              "            <td style=\"padding: 0 0.5em 0 0.5em; text-align: left; border: none;\">\n",
              "                TARGET_day3\n",
              "            </td>\n",
              "        </tr>\n",
              "    \n",
              "        <tr style=\"background-color: hsl(120, 100.00%, 97.38%); border: none;\">\n",
              "            <td style=\"padding: 0 1em 0 0.5em; text-align: right; border: none;\">\n",
              "                0.0023\n",
              "                \n",
              "                    &plusmn; 0.0003\n",
              "                \n",
              "            </td>\n",
              "            <td style=\"padding: 0 0.5em 0 0.5em; text-align: left; border: none;\">\n",
              "                DNI_day5\n",
              "            </td>\n",
              "        </tr>\n",
              "    \n",
              "        <tr style=\"background-color: hsl(120, 100.00%, 97.44%); border: none;\">\n",
              "            <td style=\"padding: 0 1em 0 0.5em; text-align: right; border: none;\">\n",
              "                0.0022\n",
              "                \n",
              "                    &plusmn; 0.0004\n",
              "                \n",
              "            </td>\n",
              "            <td style=\"padding: 0 0.5em 0 0.5em; text-align: left; border: none;\">\n",
              "                Sun_TARGET_hour_day6\n",
              "            </td>\n",
              "        </tr>\n",
              "    \n",
              "        <tr style=\"background-color: hsl(120, 100.00%, 97.44%); border: none;\">\n",
              "            <td style=\"padding: 0 1em 0 0.5em; text-align: right; border: none;\">\n",
              "                0.0022\n",
              "                \n",
              "                    &plusmn; 0.0004\n",
              "                \n",
              "            </td>\n",
              "            <td style=\"padding: 0 0.5em 0 0.5em; text-align: left; border: none;\">\n",
              "                Sun_DHI_DNI_plus_accumulate_day4\n",
              "            </td>\n",
              "        </tr>\n",
              "    \n",
              "        <tr style=\"background-color: hsl(120, 100.00%, 97.47%); border: none;\">\n",
              "            <td style=\"padding: 0 1em 0 0.5em; text-align: right; border: none;\">\n",
              "                0.0022\n",
              "                \n",
              "                    &plusmn; 0.0002\n",
              "                \n",
              "            </td>\n",
              "            <td style=\"padding: 0 0.5em 0 0.5em; text-align: left; border: none;\">\n",
              "                DNI_day0\n",
              "            </td>\n",
              "        </tr>\n",
              "    \n",
              "        <tr style=\"background-color: hsl(120, 100.00%, 97.48%); border: none;\">\n",
              "            <td style=\"padding: 0 1em 0 0.5em; text-align: right; border: none;\">\n",
              "                0.0022\n",
              "                \n",
              "                    &plusmn; 0.0001\n",
              "                \n",
              "            </td>\n",
              "            <td style=\"padding: 0 0.5em 0 0.5em; text-align: left; border: none;\">\n",
              "                Sun_DHI_DNI_plus_per_day3\n",
              "            </td>\n",
              "        </tr>\n",
              "    \n",
              "        <tr style=\"background-color: hsl(120, 100.00%, 97.65%); border: none;\">\n",
              "            <td style=\"padding: 0 1em 0 0.5em; text-align: right; border: none;\">\n",
              "                0.0020\n",
              "                \n",
              "                    &plusmn; 0.0004\n",
              "                \n",
              "            </td>\n",
              "            <td style=\"padding: 0 0.5em 0 0.5em; text-align: left; border: none;\">\n",
              "                TARGET_day2\n",
              "            </td>\n",
              "        </tr>\n",
              "    \n",
              "        <tr style=\"background-color: hsl(120, 100.00%, 97.67%); border: none;\">\n",
              "            <td style=\"padding: 0 1em 0 0.5em; text-align: right; border: none;\">\n",
              "                0.0020\n",
              "                \n",
              "                    &plusmn; 0.0001\n",
              "                \n",
              "            </td>\n",
              "            <td style=\"padding: 0 0.5em 0 0.5em; text-align: left; border: none;\">\n",
              "                Sun_DHI_DNI_per_day2\n",
              "            </td>\n",
              "        </tr>\n",
              "    \n",
              "        <tr style=\"background-color: hsl(120, 100.00%, 97.68%); border: none;\">\n",
              "            <td style=\"padding: 0 1em 0 0.5em; text-align: right; border: none;\">\n",
              "                0.0019\n",
              "                \n",
              "                    &plusmn; 0.0003\n",
              "                \n",
              "            </td>\n",
              "            <td style=\"padding: 0 0.5em 0 0.5em; text-align: left; border: none;\">\n",
              "                DHI_DNI_day2\n",
              "            </td>\n",
              "        </tr>\n",
              "    \n",
              "        <tr style=\"background-color: hsl(120, 100.00%, 97.71%); border: none;\">\n",
              "            <td style=\"padding: 0 1em 0 0.5em; text-align: right; border: none;\">\n",
              "                0.0019\n",
              "                \n",
              "                    &plusmn; 0.0004\n",
              "                \n",
              "            </td>\n",
              "            <td style=\"padding: 0 0.5em 0 0.5em; text-align: left; border: none;\">\n",
              "                Sun_DHI_hour_day0\n",
              "            </td>\n",
              "        </tr>\n",
              "    \n",
              "        <tr style=\"background-color: hsl(120, 100.00%, 97.74%); border: none;\">\n",
              "            <td style=\"padding: 0 1em 0 0.5em; text-align: right; border: none;\">\n",
              "                0.0019\n",
              "                \n",
              "                    &plusmn; 0.0004\n",
              "                \n",
              "            </td>\n",
              "            <td style=\"padding: 0 0.5em 0 0.5em; text-align: left; border: none;\">\n",
              "                Sun_DNI_per_day3\n",
              "            </td>\n",
              "        </tr>\n",
              "    \n",
              "        <tr style=\"background-color: hsl(120, 100.00%, 97.75%); border: none;\">\n",
              "            <td style=\"padding: 0 1em 0 0.5em; text-align: right; border: none;\">\n",
              "                0.0019\n",
              "                \n",
              "                    &plusmn; 0.0002\n",
              "                \n",
              "            </td>\n",
              "            <td style=\"padding: 0 0.5em 0 0.5em; text-align: left; border: none;\">\n",
              "                Sun_DHI_DNI_accumulate_day6\n",
              "            </td>\n",
              "        </tr>\n",
              "    \n",
              "        <tr style=\"background-color: hsl(120, 100.00%, 97.85%); border: none;\">\n",
              "            <td style=\"padding: 0 1em 0 0.5em; text-align: right; border: none;\">\n",
              "                0.0018\n",
              "                \n",
              "                    &plusmn; 0.0003\n",
              "                \n",
              "            </td>\n",
              "            <td style=\"padding: 0 0.5em 0 0.5em; text-align: left; border: none;\">\n",
              "                T_day1\n",
              "            </td>\n",
              "        </tr>\n",
              "    \n",
              "        <tr style=\"background-color: hsl(120, 100.00%, 97.86%); border: none;\">\n",
              "            <td style=\"padding: 0 1em 0 0.5em; text-align: right; border: none;\">\n",
              "                0.0017\n",
              "                \n",
              "                    &plusmn; 0.0002\n",
              "                \n",
              "            </td>\n",
              "            <td style=\"padding: 0 0.5em 0 0.5em; text-align: left; border: none;\">\n",
              "                DHI_DNI_day3\n",
              "            </td>\n",
              "        </tr>\n",
              "    \n",
              "        <tr style=\"background-color: hsl(120, 100.00%, 97.86%); border: none;\">\n",
              "            <td style=\"padding: 0 1em 0 0.5em; text-align: right; border: none;\">\n",
              "                0.0017\n",
              "                \n",
              "                    &plusmn; 0.0004\n",
              "                \n",
              "            </td>\n",
              "            <td style=\"padding: 0 0.5em 0 0.5em; text-align: left; border: none;\">\n",
              "                Sun_DNI_hour_day2\n",
              "            </td>\n",
              "        </tr>\n",
              "    \n",
              "        <tr style=\"background-color: hsl(120, 100.00%, 97.87%); border: none;\">\n",
              "            <td style=\"padding: 0 1em 0 0.5em; text-align: right; border: none;\">\n",
              "                0.0017\n",
              "                \n",
              "                    &plusmn; 0.0002\n",
              "                \n",
              "            </td>\n",
              "            <td style=\"padding: 0 0.5em 0 0.5em; text-align: left; border: none;\">\n",
              "                DHI_DNI_day1\n",
              "            </td>\n",
              "        </tr>\n",
              "    \n",
              "        <tr style=\"background-color: hsl(120, 100.00%, 97.99%); border: none;\">\n",
              "            <td style=\"padding: 0 1em 0 0.5em; text-align: right; border: none;\">\n",
              "                0.0016\n",
              "                \n",
              "                    &plusmn; 0.0002\n",
              "                \n",
              "            </td>\n",
              "            <td style=\"padding: 0 0.5em 0 0.5em; text-align: left; border: none;\">\n",
              "                Sun_TARGET_hour_day5\n",
              "            </td>\n",
              "        </tr>\n",
              "    \n",
              "        <tr style=\"background-color: hsl(120, 100.00%, 98.03%); border: none;\">\n",
              "            <td style=\"padding: 0 1em 0 0.5em; text-align: right; border: none;\">\n",
              "                0.0015\n",
              "                \n",
              "                    &plusmn; 0.0004\n",
              "                \n",
              "            </td>\n",
              "            <td style=\"padding: 0 0.5em 0 0.5em; text-align: left; border: none;\">\n",
              "                DNI_day3\n",
              "            </td>\n",
              "        </tr>\n",
              "    \n",
              "        <tr style=\"background-color: hsl(120, 100.00%, 98.12%); border: none;\">\n",
              "            <td style=\"padding: 0 1em 0 0.5em; text-align: right; border: none;\">\n",
              "                0.0014\n",
              "                \n",
              "                    &plusmn; 0.0002\n",
              "                \n",
              "            </td>\n",
              "            <td style=\"padding: 0 0.5em 0 0.5em; text-align: left; border: none;\">\n",
              "                DHI_DNI_day5\n",
              "            </td>\n",
              "        </tr>\n",
              "    \n",
              "        <tr style=\"background-color: hsl(120, 100.00%, 98.13%); border: none;\">\n",
              "            <td style=\"padding: 0 1em 0 0.5em; text-align: right; border: none;\">\n",
              "                0.0014\n",
              "                \n",
              "                    &plusmn; 0.0002\n",
              "                \n",
              "            </td>\n",
              "            <td style=\"padding: 0 0.5em 0 0.5em; text-align: left; border: none;\">\n",
              "                Sun_DHI_DNI_plus_per_day5\n",
              "            </td>\n",
              "        </tr>\n",
              "    \n",
              "        <tr style=\"background-color: hsl(120, 100.00%, 98.23%); border: none;\">\n",
              "            <td style=\"padding: 0 1em 0 0.5em; text-align: right; border: none;\">\n",
              "                0.0013\n",
              "                \n",
              "                    &plusmn; 0.0002\n",
              "                \n",
              "            </td>\n",
              "            <td style=\"padding: 0 0.5em 0 0.5em; text-align: left; border: none;\">\n",
              "                Sun_DHI_DNI_hour_day1\n",
              "            </td>\n",
              "        </tr>\n",
              "    \n",
              "        <tr style=\"background-color: hsl(120, 100.00%, 98.32%); border: none;\">\n",
              "            <td style=\"padding: 0 1em 0 0.5em; text-align: right; border: none;\">\n",
              "                0.0012\n",
              "                \n",
              "                    &plusmn; 0.0001\n",
              "                \n",
              "            </td>\n",
              "            <td style=\"padding: 0 0.5em 0 0.5em; text-align: left; border: none;\">\n",
              "                Sun_DHI_DNI_per_day3\n",
              "            </td>\n",
              "        </tr>\n",
              "    \n",
              "        <tr style=\"background-color: hsl(120, 100.00%, 98.35%); border: none;\">\n",
              "            <td style=\"padding: 0 1em 0 0.5em; text-align: right; border: none;\">\n",
              "                0.0012\n",
              "                \n",
              "                    &plusmn; 0.0001\n",
              "                \n",
              "            </td>\n",
              "            <td style=\"padding: 0 0.5em 0 0.5em; text-align: left; border: none;\">\n",
              "                Sun_TARGET_hour_day4\n",
              "            </td>\n",
              "        </tr>\n",
              "    \n",
              "        <tr style=\"background-color: hsl(120, 100.00%, 98.37%); border: none;\">\n",
              "            <td style=\"padding: 0 1em 0 0.5em; text-align: right; border: none;\">\n",
              "                0.0012\n",
              "                \n",
              "                    &plusmn; 0.0003\n",
              "                \n",
              "            </td>\n",
              "            <td style=\"padding: 0 0.5em 0 0.5em; text-align: left; border: none;\">\n",
              "                Sun_DHI_hour_day6\n",
              "            </td>\n",
              "        </tr>\n",
              "    \n",
              "        <tr style=\"background-color: hsl(120, 100.00%, 98.42%); border: none;\">\n",
              "            <td style=\"padding: 0 1em 0 0.5em; text-align: right; border: none;\">\n",
              "                0.0011\n",
              "                \n",
              "                    &plusmn; 0.0003\n",
              "                \n",
              "            </td>\n",
              "            <td style=\"padding: 0 0.5em 0 0.5em; text-align: left; border: none;\">\n",
              "                DNI_day1\n",
              "            </td>\n",
              "        </tr>\n",
              "    \n",
              "        <tr style=\"background-color: hsl(120, 100.00%, 98.43%); border: none;\">\n",
              "            <td style=\"padding: 0 1em 0 0.5em; text-align: right; border: none;\">\n",
              "                0.0011\n",
              "                \n",
              "                    &plusmn; 0.0008\n",
              "                \n",
              "            </td>\n",
              "            <td style=\"padding: 0 0.5em 0 0.5em; text-align: left; border: none;\">\n",
              "                T_day5\n",
              "            </td>\n",
              "        </tr>\n",
              "    \n",
              "        <tr style=\"background-color: hsl(120, 100.00%, 98.45%); border: none;\">\n",
              "            <td style=\"padding: 0 1em 0 0.5em; text-align: right; border: none;\">\n",
              "                0.0011\n",
              "                \n",
              "                    &plusmn; 0.0008\n",
              "                \n",
              "            </td>\n",
              "            <td style=\"padding: 0 0.5em 0 0.5em; text-align: left; border: none;\">\n",
              "                Sun_DHI_DNI_plus_per_day6\n",
              "            </td>\n",
              "        </tr>\n",
              "    \n",
              "        <tr style=\"background-color: hsl(120, 100.00%, 98.47%); border: none;\">\n",
              "            <td style=\"padding: 0 1em 0 0.5em; text-align: right; border: none;\">\n",
              "                0.0011\n",
              "                \n",
              "                    &plusmn; 0.0003\n",
              "                \n",
              "            </td>\n",
              "            <td style=\"padding: 0 0.5em 0 0.5em; text-align: left; border: none;\">\n",
              "                Sun_TARGET_per_day3\n",
              "            </td>\n",
              "        </tr>\n",
              "    \n",
              "        <tr style=\"background-color: hsl(120, 100.00%, 98.47%); border: none;\">\n",
              "            <td style=\"padding: 0 1em 0 0.5em; text-align: right; border: none;\">\n",
              "                0.0011\n",
              "                \n",
              "                    &plusmn; 0.0003\n",
              "                \n",
              "            </td>\n",
              "            <td style=\"padding: 0 0.5em 0 0.5em; text-align: left; border: none;\">\n",
              "                Sun_DHI_accumulate_day5\n",
              "            </td>\n",
              "        </tr>\n",
              "    \n",
              "        <tr style=\"background-color: hsl(120, 100.00%, 98.49%); border: none;\">\n",
              "            <td style=\"padding: 0 1em 0 0.5em; text-align: right; border: none;\">\n",
              "                0.0011\n",
              "                \n",
              "                    &plusmn; 0.0003\n",
              "                \n",
              "            </td>\n",
              "            <td style=\"padding: 0 0.5em 0 0.5em; text-align: left; border: none;\">\n",
              "                DHI_DNI_day4\n",
              "            </td>\n",
              "        </tr>\n",
              "    \n",
              "    \n",
              "        \n",
              "            <tr style=\"background-color: hsl(120, 100.00%, 98.49%); border: none;\">\n",
              "                <td colspan=\"2\" style=\"padding: 0 0.5em 0 0.5em; text-align: center; border: none; white-space: nowrap;\">\n",
              "                    <i>&hellip; 90 more &hellip;</i>\n",
              "                </td>\n",
              "            </tr>\n",
              "        \n",
              "    \n",
              "    </tbody>\n",
              "</table>\n",
              "    \n",
              "\n",
              "    \n",
              "\n",
              "\n",
              "    \n",
              "\n",
              "    \n",
              "\n",
              "    \n",
              "\n",
              "    \n",
              "\n",
              "    \n",
              "\n",
              "    \n",
              "\n",
              "\n",
              "\n"
            ],
            "text/plain": [
              "<IPython.core.display.HTML object>"
            ]
          },
          "metadata": {
            "tags": []
          },
          "execution_count": 35
        }
      ]
    },
    {
      "cell_type": "code",
      "metadata": {
        "colab": {
          "base_uri": "https://localhost:8080/"
        },
        "id": "LO7yz85aUxbL",
        "outputId": "e2731cf5-1f2e-4a8f-c457-02d9bd3b1cc1"
      },
      "source": [
        "1/3 + 1/2 + 1/1"
      ],
      "execution_count": null,
      "outputs": [
        {
          "output_type": "execute_result",
          "data": {
            "text/plain": [
              "1.8333333333333333"
            ]
          },
          "metadata": {
            "tags": []
          },
          "execution_count": 49
        }
      ]
    },
    {
      "cell_type": "markdown",
      "metadata": {
        "id": "0qeGFFaMVn3P"
      },
      "source": [
        ""
      ]
    },
    {
      "cell_type": "code",
      "metadata": {
        "colab": {
          "base_uri": "https://localhost:8080/"
        },
        "id": "qoL_hhVTUxWy",
        "outputId": "963d25bc-8317-42fa-fa8d-c8875cd16b37"
      },
      "source": [
        "1/3/(1/3 + 1/2 + 1/1) + 1/2/(1/3 + 1/2 + 1/1) + 1/1/(1/3 + 1/2 + 1/1)"
      ],
      "execution_count": null,
      "outputs": [
        {
          "output_type": "execute_result",
          "data": {
            "text/plain": [
              "1.0"
            ]
          },
          "metadata": {
            "tags": []
          },
          "execution_count": 53
        }
      ]
    },
    {
      "cell_type": "code",
      "metadata": {
        "colab": {
          "base_uri": "https://localhost:8080/"
        },
        "id": "O8REpBVWU6HM",
        "outputId": "7544c6f3-c051-4a97-9d01-90831e7d21b9"
      },
      "source": [
        "1/2/(1/3 + 1/2 + 1/1)"
      ],
      "execution_count": null,
      "outputs": [
        {
          "output_type": "execute_result",
          "data": {
            "text/plain": [
              "0.27272727272727276"
            ]
          },
          "metadata": {
            "tags": []
          },
          "execution_count": 51
        }
      ]
    },
    {
      "cell_type": "code",
      "metadata": {
        "colab": {
          "base_uri": "https://localhost:8080/"
        },
        "id": "RBz-UvlvU7wx",
        "outputId": "0053dc06-1908-467f-e38c-5bc6d33bfcf1"
      },
      "source": [
        "1/1/(1/3 + 1/2 + 1/1)"
      ],
      "execution_count": null,
      "outputs": [
        {
          "output_type": "execute_result",
          "data": {
            "text/plain": [
              "0.5454545454545455"
            ]
          },
          "metadata": {
            "tags": []
          },
          "execution_count": 52
        }
      ]
    },
    {
      "cell_type": "code",
      "metadata": {
        "id": "fXzyH2QJU97L"
      },
      "source": [
        "loss1 = 1.182626\r\n",
        "loss2 = 1.12002\r\n",
        "loss3 = 1.20042"
      ],
      "execution_count": null,
      "outputs": []
    },
    {
      "cell_type": "code",
      "metadata": {
        "colab": {
          "base_uri": "https://localhost:8080/"
        },
        "id": "2morh5hjVY6w",
        "outputId": "74b22c4a-f224-41ed-ef77-e72cb30c193d"
      },
      "source": [
        "1/loss1/(1/loss1 + 1/loss2 + 1/loss3) + 1/loss2/(1/loss1 + 1/loss2 + 1/loss3) + 1/loss3/(1/loss1 + 1/loss2 + 1/loss3)"
      ],
      "execution_count": null,
      "outputs": [
        {
          "output_type": "execute_result",
          "data": {
            "text/plain": [
              "1.0"
            ]
          },
          "metadata": {
            "tags": []
          },
          "execution_count": 55
        }
      ]
    },
    {
      "cell_type": "code",
      "metadata": {
        "colab": {
          "base_uri": "https://localhost:8080/"
        },
        "id": "uCWxjeyhVjzA",
        "outputId": "a6bec1ce-9645-4541-c854-58aab6d31c7f"
      },
      "source": [
        "weight1 = 1/loss1/(1/loss1 + 1/loss2 + 1/loss3)\r\n",
        "weight2 = 1/loss2/(1/loss1 + 1/loss2 + 1/loss3)\r\n",
        "weight3 = 1/loss3/(1/loss1 + 1/loss2 + 1/loss3)\r\n",
        "\r\n",
        "print(weight1, weight2, weight3)\r\n",
        "print(weight1+weight2+weight3)"
      ],
      "execution_count": null,
      "outputs": [
        {
          "output_type": "stream",
          "text": [
            "0.32883118815576495 0.3472119361474792 0.32395687569675585\n",
            "1.0\n"
          ],
          "name": "stdout"
        }
      ]
    },
    {
      "cell_type": "code",
      "metadata": {
        "id": "hcKLDATcVyT9"
      },
      "source": [
        ""
      ],
      "execution_count": null,
      "outputs": []
    }
  ]
}